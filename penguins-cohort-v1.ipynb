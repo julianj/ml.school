{
 "cells": [
  {
   "cell_type": "markdown",
   "id": "00b7ba7b-433c-463c-8e5e-8b975a5be463",
   "metadata": {
    "tags": []
   },
   "source": [
    "# Penguins in Production\n",
    "\n",
    "This notebook aims to create a [SageMaker Pipeline](https://docs.aws.amazon.com/sagemaker/latest/dg/pipelines-sdk.html) to build an end-to-end Machine Learning system to solve the problem of classifying penguin species.\n",
    "\n",
    "This example uses the [Penguins dataset](https://www.kaggle.com/parulpandey/palmer-archipelago-antarctica-penguin-data).\n",
    "\n",
    "<img src='https://imgur.com/orZWHly.png' alt='Penguins dataset' width=\"900\">\n",
    "\n",
    "Amazon SageMaker is free to try. Your free tier starts from the first month you create your first SageMaker resource and lasts two months. Check out the  [Amazon SageMaker Pricing](https://aws.amazon.com/sagemaker/pricing/) for more information. Also, we'll be working extensively with [boto3](https://boto3.amazonaws.com/v1/documentation/api/latest/reference/services/sagemaker.html) and the [SageMaker Python SDK](https://sagemaker.readthedocs.io/en/stable/). Keep their documentation handy.\n",
    "\n",
    "This notebook was created by [Santiago L. Valdarrama](https://twitter.com/svpino) as part of the [Machine Learning School](https://www.ml.school) program."
   ]
  },
  {
   "cell_type": "markdown",
   "id": "db6203b0-5a40-4a14-b9bb-6e092f1bb2e7",
   "metadata": {},
   "source": [
    "Let's ensure we are running the latest version of the SakeMaker SDK. **Restart the Kernel** after you run the following cell."
   ]
  },
  {
   "cell_type": "code",
   "execution_count": 2,
   "id": "72eb4984-3c21-4033-be45-2de2cfc1257c",
   "metadata": {
    "tags": []
   },
   "outputs": [
    {
     "name": "stdout",
     "output_type": "stream",
     "text": [
      "\u001b[33mWARNING: Running pip as the 'root' user can result in broken permissions and conflicting behaviour with the system package manager. It is recommended to use a virtual environment instead: https://pip.pypa.io/warnings/venv\u001b[0m\u001b[33m\n",
      "\u001b[0m\u001b[31mERROR: pip's dependency resolver does not currently take into account all the packages that are installed. This behaviour is the source of the following dependency conflicts.\n",
      "sagemaker 2.165.0 requires PyYAML==6.0, but you have pyyaml 5.4.1 which is incompatible.\u001b[0m\u001b[31m\n",
      "\u001b[0m\u001b[33mWARNING: Running pip as the 'root' user can result in broken permissions and conflicting behaviour with the system package manager. It is recommended to use a virtual environment instead: https://pip.pypa.io/warnings/venv\u001b[0m\u001b[33m\n",
      "\u001b[0m\u001b[31mERROR: pip's dependency resolver does not currently take into account all the packages that are installed. This behaviour is the source of the following dependency conflicts.\n",
      "awscli 1.28.0 requires PyYAML<5.5,>=3.10, but you have pyyaml 6.0 which is incompatible.\u001b[0m\u001b[31m\n",
      "\u001b[0m\u001b[33mWARNING: Running pip as the 'root' user can result in broken permissions and conflicting behaviour with the system package manager. It is recommended to use a virtual environment instead: https://pip.pypa.io/warnings/venv\u001b[0m\u001b[33m\n",
      "\u001b[0m\u001b[33mWARNING: Running pip as the 'root' user can result in broken permissions and conflicting behaviour with the system package manager. It is recommended to use a virtual environment instead: https://pip.pypa.io/warnings/venv\u001b[0m\u001b[33m\n",
      "\u001b[0mName: sagemaker\n",
      "Version: 2.165.0\n",
      "Summary: Open source library for training and deploying models on Amazon SageMaker.\n",
      "Home-page: https://github.com/aws/sagemaker-python-sdk/\n",
      "Author: Amazon Web Services\n",
      "Author-email: \n",
      "License: Apache License 2.0\n",
      "Location: /usr/local/lib/python3.8/site-packages\n",
      "Requires: attrs, boto3, cloudpickle, google-pasta, importlib-metadata, jsonschema, numpy, packaging, pandas, pathos, platformdirs, protobuf, protobuf3-to-dict, PyYAML, schema, smdebug-rulesconfig, tblib\n",
      "Required-by: \n"
     ]
    }
   ],
   "source": [
    "!pip install -q --upgrade pip\n",
    "!pip install -q --upgrade awscli boto3\n",
    "!pip install -q --upgrade PyYAML==6.0\n",
    "!pip install -q --upgrade sagemaker==2.165.0\n",
    "!pip show sagemaker"
   ]
  },
  {
   "cell_type": "code",
   "execution_count": 3,
   "id": "212a0538-62b5-4875-a59c-1a4e1a833a07",
   "metadata": {
    "tags": []
   },
   "outputs": [],
   "source": [
    "%load_ext autoreload\n",
    "%autoreload 2"
   ]
  },
  {
   "cell_type": "markdown",
   "id": "86227bb7-0351-4d59-9576-c881130389f3",
   "metadata": {},
   "source": [
    "# Initial Setup\n",
    "\n",
    "Let's start by preparing the S3 bucket where we will organize every resource we are going to use during the program. Make sure you set `BUCKET` to the bucket name you want to use. This name has to be unique. The [command line interface](https://docs.aws.amazon.com/cli/latest/index.html) is a simple way to interact with the AWS services. You can combine Python code with bash commands in the same notebook cell, which makes notebooks a very flexible tool.\n",
    "\n",
    "If you want to create a bucket in a region other than `us-east-1`, use this command instead:\n",
    "\n",
    "```\n",
    "!aws s3api create-bucket --bucket $BUCKET --create-bucket-configuration LocationConstraint=$region\n",
    "```\n",
    "\n",
    "The `LocationConstraint` argument should specify the region where you want to create the bucket.\n",
    "\n",
    "After we have a bucket, we can download the [Penguins dataset](https://www.kaggle.com/parulpandey/palmer-archipelago-antarctica-penguin-data) and store it in a folder inside the bucket. Our SageMaker Pipeline will use this dataset."
   ]
  },
  {
   "cell_type": "code",
   "execution_count": 4,
   "id": "3ea8d2fd-7dd4-43c8-b9d9-5372448d72a6",
   "metadata": {
    "tags": []
   },
   "outputs": [
    {
     "name": "stdout",
     "output_type": "stream",
     "text": [
      "\n",
      "An error occurred (BucketAlreadyOwnedByYou) when calling the CreateBucket operation: Your previous request to create the named bucket succeeded and you already own it.\n"
     ]
    }
   ],
   "source": [
    "BUCKET = \"julianj-mlschool\"\n",
    "region = \"us-west-2\"\n",
    "!aws s3api create-bucket --bucket $BUCKET --create-bucket-configuration LocationConstraint=$region"
   ]
  },
  {
   "cell_type": "code",
   "execution_count": 5,
   "id": "882a8be9-dc31-4df1-9009-3b2d0284cb70",
   "metadata": {
    "tags": []
   },
   "outputs": [
    {
     "name": "stdout",
     "output_type": "stream",
     "text": [
      "Dataset S3 location: s3://julianj-mlschool/penguins/data.csv\n"
     ]
    }
   ],
   "source": [
    "import pandas as pd\n",
    "import sagemaker\n",
    "import urllib.request\n",
    "\n",
    "from pathlib import Path\n",
    "\n",
    "PENGUINS_FOLDER = Path(\"penguins\")\n",
    "S3_FILEPATH = f\"s3://{BUCKET}/{PENGUINS_FOLDER}\"\n",
    "LOCAL_FILEPATH = Path(PENGUINS_FOLDER)/\"data.csv\"\n",
    "\n",
    "# Create the local folder if it doesn't exist.\n",
    "PENGUINS_FOLDER.mkdir(parents=True, exist_ok=True)\n",
    "\n",
    "# Download the official Penguins dataset and store it locally.\n",
    "urllib.request.urlretrieve(\n",
    "    \"https://storage.googleapis.com/download.tensorflow.org/data/palmer_penguins/penguins_size.csv\", \n",
    "    LOCAL_FILEPATH\n",
    ")\n",
    "\n",
    "# Upload the dataset to S3. We need to do this to make it available to \n",
    "# the preprocessing step.\n",
    "INPUT_DATA_URI = sagemaker.s3.S3Uploader.upload(\n",
    "    local_path=str(LOCAL_FILEPATH), \n",
    "    desired_s3_uri=S3_FILEPATH,\n",
    ")\n",
    "\n",
    "print(f\"Dataset S3 location: {INPUT_DATA_URI}\")"
   ]
  },
  {
   "cell_type": "code",
   "execution_count": 6,
   "id": "33d3ee0a-8586-4873-8b79-503dbe7caf4c",
   "metadata": {
    "tags": []
   },
   "outputs": [],
   "source": [
    "# Run this cell to import or install the Data Wrangler widget to show automatic visualization and generate code to fix data quality issues\n",
    "\n",
    "try:\n",
    "    import sagemaker_datawrangler\n",
    "except ImportError:\n",
    "    !pip install --upgrade sagemaker-datawrangler\n",
    "    import sagemaker_datawrangler\n",
    "\n",
    "# Display Pandas DataFrame to view the widget: df, display(df), df.sample()... "
   ]
  },
  {
   "cell_type": "markdown",
   "id": "59e1efbc-5f66-4b44-9555-68a4731e8e7b",
   "metadata": {},
   "source": [
    "We can now load and display the dataset."
   ]
  },
  {
   "cell_type": "code",
   "execution_count": 7,
   "id": "a19b546a-6884-483b-8cda-0521e2656a99",
   "metadata": {
    "tags": []
   },
   "outputs": [
    {
     "data": {
      "application/vnd.jupyter.widget-view+json": {
       "model_id": "6fbf4ccef70d4650baa58f04c359ca18"
      },
      "text/plain": [
       "    species     island  culmen_length_mm  culmen_depth_mm  flipper_length_mm  \\\n",
       "0    Adelie  Torgersen              39.1             18.7              181.0   \n",
       "1    Adelie  Torgersen              39.5             17.4              186.0   \n",
       "2    Adelie  Torgersen              40.3             18.0              195.0   \n",
       "3    Adelie  Torgersen               NaN              NaN                NaN   \n",
       "4    Adelie  Torgersen              36.7             19.3              193.0   \n",
       "..      ...        ...               ...              ...                ...   \n",
       "339  Gentoo     Biscoe               NaN              NaN                NaN   \n",
       "340  Gentoo     Biscoe              46.8             14.3              215.0   \n",
       "341  Gentoo     Biscoe              50.4             15.7              222.0   \n",
       "342  Gentoo     Biscoe              45.2             14.8              212.0   \n",
       "343  Gentoo     Biscoe              49.9             16.1              213.0   \n",
       "\n",
       "     body_mass_g     sex  \n",
       "0         3750.0    MALE  \n",
       "1         3800.0  FEMALE  \n",
       "2         3250.0  FEMALE  \n",
       "3            NaN     NaN  \n",
       "4         3450.0  FEMALE  \n",
       "..           ...     ...  \n",
       "339          NaN     NaN  \n",
       "340       4850.0  FEMALE  \n",
       "341       5750.0    MALE  \n",
       "342       5200.0  FEMALE  \n",
       "343       5400.0    MALE  \n",
       "\n",
       "[344 rows x 7 columns]"
      ]
     },
     "metadata": {},
     "output_type": "display_data"
    }
   ],
   "source": [
    "df = pd.read_csv(LOCAL_FILEPATH)\n",
    "df"
   ]
  },
  {
   "cell_type": "markdown",
   "id": "9992fc69-4868-4e50-a50e-76da237f70ac",
   "metadata": {
    "tags": []
   },
   "source": [
    "# Session 1 - Data Preprocessing\n",
    "\n",
    "This session aims to build a simple [SageMaker Pipeline](https://docs.aws.amazon.com/sagemaker/latest/dg/pipelines-sdk.html) with one step to preprocess the [Penguins dataset](https://www.kaggle.com/parulpandey/palmer-archipelago-antarctica-penguin-data). We'll use a [Processing Step](https://docs.aws.amazon.com/sagemaker/latest/dg/build-and-manage-steps.html#step-type-processing) with a [SKLearnProcessor](https://sagemaker.readthedocs.io/en/stable/frameworks/sklearn/sagemaker.sklearn.html#scikit-learn-processor) to execute a preprocessing script. Check the [SageMaker Pipelines Overview](https://docs.aws.amazon.com/sagemaker/latest/dg/pipelines-sdk.html) for an introduction to the fundamental components of a SageMaker Pipeline.\n",
    "\n",
    "Here is what the Pipeline will look like at the end of this session:\n",
    "\n",
    "<img src='penguins/images/session1-pipeline.png' alt='Session 1 Pipeline' width=\"600\">\n"
   ]
  },
  {
   "cell_type": "code",
   "execution_count": 8,
   "id": "915b1d0b-d9da-4529-aca5-fd1c08a36f48",
   "metadata": {
    "tags": []
   },
   "outputs": [],
   "source": [
    "import os\n",
    "import numpy as np\n",
    "import boto3\n",
    "import json\n",
    "# import argparse\n",
    "import tempfile\n",
    "\n",
    "# from botocore.exceptions import ClientError\n",
    "# from sagemaker.inputs import FileSystemInput\n",
    "from sagemaker.processing import ProcessingInput, ProcessingOutput\n",
    "# from sagemaker.processing import ScriptProcessor\n",
    "from sagemaker.sklearn.processing import SKLearnProcessor\n",
    "from sagemaker.workflow.steps import ProcessingStep\n",
    "from sagemaker.workflow.model_step import ModelStep\n",
    "from sagemaker.workflow.pipeline_context import PipelineSession\n",
    "from sagemaker.workflow.parameters import ParameterInteger, ParameterString, ParameterFloat\n",
    "from sagemaker.workflow.pipeline import Pipeline\n",
    "from sagemaker.workflow.steps import CacheConfig"
   ]
  },
  {
   "cell_type": "markdown",
   "id": "ef66efe2-6a01-41b5-ba8a-9c82c480994c",
   "metadata": {},
   "source": [
    "Let's start by defining a few variables we'll use throughout this notebook:\n",
    "\n",
    "* `sagemaker_client`: We'll use a [boto3 SageMaker Client](https://boto3.amazonaws.com/v1/documentation/api/latest/reference/services/sagemaker.html) instance to access SageMaker.\n",
    "* `iam_client`: We'll use a [boto3 IAM Client](https://boto3.amazonaws.com/v1/documentation/api/latest/reference/services/iam.html) instance to access IAM.\n",
    "* `role`: This is the execution role attached to this notebook. We can use this role with any of the SageMaker services that need it to ensure they run with the appropriate permissions.\n",
    "* `region`: The current region attached to our session. \n",
    "* `sagemaker_session`: The current SageMaker session."
   ]
  },
  {
   "cell_type": "code",
   "execution_count": 9,
   "id": "7bb1e9bf-25d8-401b-a7d9-0455b1a7434d",
   "metadata": {
    "tags": []
   },
   "outputs": [],
   "source": [
    "sagemaker_client = boto3.client(\"sagemaker\")\n",
    "iam_client = boto3.client(\"iam\")\n",
    "role = sagemaker.get_execution_role()\n",
    "region = boto3.Session().region_name\n",
    "sagemaker_session = sagemaker.session.Session()"
   ]
  },
  {
   "cell_type": "markdown",
   "id": "587d06e0-b711-4e3d-b424-6fa611a51f94",
   "metadata": {
    "tags": []
   },
   "source": [
    "## Step 1 - Preprocessing the Dataset\n",
    "\n",
    "Let's create a script to do feature engineering on the original dataset. We will run this script using a SageMaker Processing Job later in this session.\n",
    "\n",
    "The script should split the data into train, validation, and test sets so we can later train and evaluate a model. We will also save the Scikit-Learn pipeline that we use to preprocess the data to use it during inference time and the list of target classes.\n",
    "\n",
    "The script uses the [np.split()](https://numpy.org/doc/stable/reference/generated/numpy.split.html) function to split the dataset into three sets in the following way:\n",
    "\n",
    "1. The train set will use the top 70% of the data.\n",
    "2. The validation set will use 15% of the data, starting with the sample after the 70% used for the train set.\n",
    "3. Finally, the test set will use the remaining 15% of the data.\n",
    "\n",
    "Pay special attention to the way the Scikit-Learn pipeline `preprocessor` is used to process the three sets:\n",
    "\n",
    "* First, we use the `fit_transform()` to fit the pipeline on the train set.\n",
    "* Then, we consecutively transform the validation and test sets using `transform()`.\n",
    "\n",
    "Always use `fit_transform()` on the training data to fit the scaling parameters we need to transform the data. For example, `fit_transform()` will learn the mean and variance of the features of the training set. It can then use these same parameters to scale the validation and test sets.\n",
    "\n",
    "That's why we want to save this Scikit-Learn pipeline to use later to scale production data using the same parameters we learned on the train set."
   ]
  },
  {
   "cell_type": "code",
   "execution_count": 10,
   "id": "fb6ba7c0-1bd6-4fe5-8b7f-f6cbdfd3846c",
   "metadata": {
    "tags": []
   },
   "outputs": [
    {
     "name": "stdout",
     "output_type": "stream",
     "text": [
      "Overwriting penguins/preprocessor.py\n"
     ]
    }
   ],
   "source": [
    "%%writefile {PENGUINS_FOLDER}/preprocessor.py\n",
    "\n",
    "import os\n",
    "import numpy as np\n",
    "import pandas as pd\n",
    "import tempfile\n",
    "\n",
    "from pathlib import Path\n",
    "from sklearn.compose import ColumnTransformer\n",
    "from sklearn.impute import SimpleImputer\n",
    "from sklearn.pipeline import Pipeline\n",
    "from sklearn.preprocessing import OneHotEncoder, LabelEncoder, StandardScaler\n",
    "from pickle import dump\n",
    "\n",
    "\n",
    "# This is the location where the SageMaker Processing job\n",
    "# will save the input dataset.\n",
    "BASE_DIRECTORY = \"/opt/ml/processing\"\n",
    "DATA_FILEPATH = Path(BASE_DIRECTORY) / \"input\" / \"data.csv\"\n",
    "\n",
    "\n",
    "def _save_splits(base_directory, train, validation, test):\n",
    "    \"\"\"\n",
    "    One of the goals of this script is to output the three\n",
    "    dataset splits. This function will save each of these\n",
    "    splits to disk.\n",
    "    \"\"\"\n",
    "    \n",
    "    train_path = Path(base_directory) / \"train\" \n",
    "    validation_path = Path(base_directory) / \"validation\" \n",
    "    test_path = Path(base_directory) / \"test\"\n",
    "    \n",
    "    train_path.mkdir(parents=True, exist_ok=True)\n",
    "    validation_path.mkdir(parents=True, exist_ok=True)\n",
    "    test_path.mkdir(parents=True, exist_ok=True)\n",
    "    \n",
    "    pd.DataFrame(train).to_csv(train_path / \"train.csv\", header=False, index=False)\n",
    "    pd.DataFrame(validation).to_csv(validation_path / \"validation.csv\", header=False, index=False)\n",
    "    pd.DataFrame(test).to_csv(test_path / \"test.csv\", header=False, index=False)\n",
    "    \n",
    "\n",
    "def _save_pipeline(base_directory, pipeline):\n",
    "    \"\"\"\n",
    "    Saves the Scikit-Learn pipeline that we used to\n",
    "    preprocess the data.\n",
    "    \"\"\"\n",
    "    pipeline_path = Path(base_directory) / \"pipeline\"\n",
    "    pipeline_path.mkdir(parents=True, exist_ok=True)\n",
    "    dump(pipeline, open(pipeline_path / \"pipeline.pkl\", 'wb'))\n",
    "    \n",
    "\n",
    "def _save_classes(base_directory, classes):\n",
    "    \"\"\"\n",
    "    Saves the list of classes from the dataset.\n",
    "    \"\"\"\n",
    "    path = Path(base_directory) / \"classes\"\n",
    "    path.mkdir(parents=True, exist_ok=True)\n",
    "    \n",
    "    print(\"CLASSES\", np.asarray(classes))\n",
    "\n",
    "    np.asarray(classes).tofile(path / \"classes.csv\", sep = \",\") \n",
    "    \n",
    "\n",
    "def _generate_baseline_dataset(split_name, base_directory, X, y):\n",
    "    \"\"\"\n",
    "    To monitor the data and the quality of our model we need to compare the \n",
    "    production quality and results against a baseline. To create those baselines, \n",
    "    we need to use a dataset to compute statistics and constraints. That dataset\n",
    "    should contain information in the same format as expected by the production\n",
    "    endpoint. This function will generate a baseline dataset and save it to \n",
    "    disk so we can later use it.\n",
    "    \n",
    "    \"\"\"\n",
    "    baseline_path = Path(base_directory) / f\"{split_name}-baseline\" \n",
    "    baseline_path.mkdir(parents=True, exist_ok=True)\n",
    "\n",
    "    df = X.copy()\n",
    "    \n",
    "    # The baseline dataset needs a column containing the groundtruth.\n",
    "    df[\"groundtruth\"] = y\n",
    "    df[\"groundtruth\"] = df[\"groundtruth\"].values.astype(str)\n",
    "    \n",
    "    # We will use the baseline dataset to generate baselines\n",
    "    # for monitoring data and model quality. To simplify the process, \n",
    "    # we don't want to include any NaN rows.\n",
    "    df = df.dropna()\n",
    "\n",
    "    df.to_json(baseline_path / f\"{split_name}-baseline.json\", orient='records', lines=True)\n",
    "    \n",
    "    \n",
    "def preprocess(base_directory, data_filepath):\n",
    "    \"\"\"\n",
    "    Preprocesses the supplied raw dataset and splits it into a train, validation,\n",
    "    and a test set.\n",
    "    \"\"\"\n",
    "    \n",
    "    df = pd.read_csv(data_filepath)\n",
    "    \n",
    "    numerical_columns = [column for column in df.columns if df[column].dtype in [\"int64\", \"float64\"]]\n",
    "    \n",
    "    numerical_preprocessor = Pipeline(steps=[\n",
    "        (\"imputer\", SimpleImputer(strategy=\"mean\")),\n",
    "        (\"scaler\", StandardScaler())\n",
    "    ])\n",
    "\n",
    "    categorical_preprocessor = Pipeline(steps=[\n",
    "        (\"imputer\", SimpleImputer(strategy=\"most_frequent\")),\n",
    "        (\"onehot\", OneHotEncoder(handle_unknown=\"ignore\"))\n",
    "    ])\n",
    "\n",
    "    preprocessor = ColumnTransformer(\n",
    "        transformers=[\n",
    "            (\"numerical\", numerical_preprocessor, numerical_columns),\n",
    "            (\"categorical\", categorical_preprocessor, [\"island\"]),\n",
    "        ]\n",
    "    )\n",
    "    \n",
    "\n",
    "    X = df.drop([\"sex\"], axis=1)\n",
    "    columns = list(X.columns)\n",
    "    \n",
    "    X = X.to_numpy()\n",
    "    \n",
    "    np.random.shuffle(X)\n",
    "    train, validation, test = np.split(X, [int(.7 * len(X)), int(.85 * len(X))])\n",
    "    \n",
    "    X_train = pd.DataFrame(train, columns=columns)\n",
    "    X_validation = pd.DataFrame(validation, columns=columns)\n",
    "    X_test = pd.DataFrame(test, columns=columns)\n",
    "    \n",
    "    y_train = X_train.species\n",
    "    y_validation = X_validation.species\n",
    "    y_test = X_test.species\n",
    "    \n",
    "    label_encoder = LabelEncoder()\n",
    "        \n",
    "    y_train = label_encoder.fit_transform(y_train)\n",
    "    y_validation = label_encoder.transform(y_validation)\n",
    "    y_test = label_encoder.transform(y_test)\n",
    "        \n",
    "    X_train.drop([\"species\"], axis=1, inplace=True)\n",
    "    X_validation.drop([\"species\"], axis=1, inplace=True)\n",
    "    X_test.drop([\"species\"], axis=1, inplace=True)\n",
    "\n",
    "    # Let's generate a dataset that we can later use to compute\n",
    "    # baseline statistics and constraints about the data that we\n",
    "    # used to train our model.\n",
    "    _generate_baseline_dataset(\"train\", base_directory, X_train, y_train)\n",
    "    \n",
    "    # To generate baseline constraints about the quality of the\n",
    "    # model's predictions, we will use the test set.\n",
    "    _generate_baseline_dataset(\"test\", base_directory, X_test, y_test)\n",
    "    \n",
    "    # Transform the data using the Scikit-Learn pipeline.\n",
    "    X_train = preprocessor.fit_transform(X_train)\n",
    "    X_validation = preprocessor.transform(X_validation)\n",
    "    X_test = preprocessor.transform(X_test)\n",
    "    \n",
    "    train = np.concatenate((X_train, np.expand_dims(y_train, axis=1)), axis=1)\n",
    "    validation = np.concatenate((X_validation, np.expand_dims(y_validation, axis=1)), axis=1)\n",
    "    test = np.concatenate((X_test, np.expand_dims(y_test, axis=1)), axis=1)\n",
    "    \n",
    "    _save_splits(base_directory, train, validation, test)\n",
    "    _save_pipeline(base_directory, pipeline=preprocessor)\n",
    "    _save_classes(base_directory, label_encoder.classes_)\n",
    "        \n",
    "\n",
    "if __name__ == \"__main__\":\n",
    "    preprocess(BASE_DIRECTORY, DATA_FILEPATH)\n"
   ]
  },
  {
   "cell_type": "markdown",
   "id": "214fbdcb-8ee8-4104-bcd3-d7329693299e",
   "metadata": {},
   "source": [
    "## Step 2 - Testing the Preprocessing Script\n",
    "\n",
    "We can now load the script we just created and run it locally to ensure it outputs every file we need.\n",
    "\n",
    "We will set up a SageMaker Processing Job to run this script, but we always want to test the code locally. In this case, we can call the `preprocess()` function with the local directory and the local copy of the dataset."
   ]
  },
  {
   "cell_type": "code",
   "execution_count": 11,
   "id": "d1f122a4-acff-4687-91b9-bfef13567d88",
   "metadata": {
    "tags": []
   },
   "outputs": [
    {
     "name": "stdout",
     "output_type": "stream",
     "text": [
      "CLASSES ['Adelie' 'Chinstrap' 'Gentoo']\n",
      "Folder:/tmp/tmpww392el2\n",
      "Folders: ['train-baseline', 'test-baseline', 'train', 'validation', 'test', 'pipeline', 'classes']\n"
     ]
    }
   ],
   "source": [
    "from penguins.preprocessor import preprocess\n",
    "\n",
    "\n",
    "def print_baseline(split_name):\n",
    "    print()\n",
    "    print(f\"Baseline {split_name}:\")\n",
    "    with open(Path(directory) / f\"{split_name}-baseline\" / f\"{split_name}-baseline.json\") as baseline:\n",
    "        lines = [next(baseline) for _ in range(5)]\n",
    "\n",
    "    for line in lines:\n",
    "        print(line[:-1])\n",
    "\n",
    "\n",
    "with tempfile.TemporaryDirectory() as directory:\n",
    "    preprocess(\n",
    "        base_directory=directory,\n",
    "        data_filepath=LOCAL_FILEPATH\n",
    "    )\n",
    "\n",
    "    print(f\"Folder:{directory}\")\n",
    "    print(f\"Folders: {os.listdir(directory)}\")"
   ]
  },
  {
   "cell_type": "markdown",
   "id": "b3938a1d-d5bd-4967-ad65-a945d5df1f61",
   "metadata": {},
   "source": [
    "## Step 3 - Pipeline Configuration\n",
    "\n",
    "When creating a SageMaker Pipeline, we can specify a list of parameters we can use on individual pipeline steps. To read more about these parameters, check [Pipeline Parameters](https://docs.aws.amazon.com/sagemaker/latest/dg/build-and-manage-parameters.html).\n",
    "\n",
    "These are the parameters that we need right now:\n",
    "\n",
    "* `dataset_location`: This parameter represents the dataset's location in S3. We will use this parameter to indicate the SageMaker Processing Job where to find the dataset. The Processing Job will download the dataset from S3 and make it available on the instance running the script.\n",
    "* `preprocessor_destination`: We need to define the location where the SageMaker Processing Job will store the output. When it finishes, the Processing Job will copy the script's output to the S3 location specified by this parameter. By default, SageMaker uploads the output of a job to a custom location in S3, but unfortunately, if we rely on that functionality, we can't cache the Processing Step in the Pipeline.\n",
    "* `train_dataset_baseline_destination`: This parameter represents the location where we will store the train dataset to compute constraints and statistic baselines in Session 6.\n",
    "* `test_dataset_baseline_destination`: This parameter represents the location where we will store the test dataset to compute constraints and statistic baselines in Session 6."
   ]
  },
  {
   "cell_type": "code",
   "execution_count": 12,
   "id": "86de7edd-18b0-40d1-ac8e-0f3ef4469be6",
   "metadata": {
    "tags": []
   },
   "outputs": [],
   "source": [
    "dataset_location = ParameterString(\n",
    "    name=\"dataset_location\",\n",
    "    default_value=INPUT_DATA_URI,\n",
    ")\n",
    "\n",
    "preprocessor_destination = ParameterString(\n",
    "    name=\"preprocessor_destination\",\n",
    "    default_value=f\"{S3_FILEPATH}/preprocessing\",\n",
    ")\n",
    "\n",
    "train_dataset_baseline_destination = ParameterString(\n",
    "    name=\"train_dataset_baseline_destination\",\n",
    "    default_value=f\"{S3_FILEPATH}/preprocessing/baselines/train\",\n",
    ")\n",
    "\n",
    "test_dataset_baseline_destination = ParameterString(\n",
    "    name=\"test_dataset_baseline_destination\",\n",
    "    default_value=f\"{S3_FILEPATH}/preprocessing/baselines/test\",\n",
    ")"
   ]
  },
  {
   "cell_type": "markdown",
   "id": "f0b42440-b3c0-4ded-b578-52e21f5fbfdd",
   "metadata": {},
   "source": [
    "## Step 4 - Caching Pipeline Steps\n",
    "\n",
    "While building a pipeline, you only want to rerun every step if you expect a different result. To accomplish this, you can instruct SageMaker to reuse the result of a previous successful run of a pipeline step. You can find more information about this topic in [Caching Pipeline Steps](https://docs.aws.amazon.com/sagemaker/latest/dg/pipelines-caching.html)."
   ]
  },
  {
   "cell_type": "code",
   "execution_count": 13,
   "id": "c7e0a332-e54e-4e57-97c7-9b54f4058738",
   "metadata": {
    "tags": []
   },
   "outputs": [],
   "source": [
    "cache_config = CacheConfig(\n",
    "    enable_caching=True,\n",
    "    expire_after=\"15d\"\n",
    ")"
   ]
  },
  {
   "cell_type": "markdown",
   "id": "b9771e08-5560-492a-845e-f06988b6ae1b",
   "metadata": {},
   "source": [
    "## Step 5 - Setting up a Processing Step\n",
    "\n",
    "The first step we need in the pipeline is a [Processing Step](https://docs.aws.amazon.com/sagemaker/latest/dg/build-and-manage-steps.html#step-type-processing) to run the preprocessing script. This Processing Step will create a SageMaker Processing Job in the background, run the script, and upload the output to S3. You can use Processing Jobs to perform data preprocessing, post-processing, feature engineering, data validation, and model evaluation. Check the [ProcessingStep](https://sagemaker.readthedocs.io/en/stable/workflows/pipelines/sagemaker.workflow.pipelines.html#sagemaker.workflow.steps.ProcessingStep) SageMaker's SDK documentation for more information.\n",
    "\n",
    "A processor gives the Processing Step information about the hardware and software that SageMaker should use to launch the Processing Job. To run the script, we need access to Scikit-Learn, so we can use the [SKLearnProcessor](https://sagemaker.readthedocs.io/en/stable/frameworks/sklearn/sagemaker.sklearn.html#scikit-learn-processor) processor that comes out-of-the-box with the SageMaker's Python SDK. The [Data Processing with Framework Processors](https://docs.aws.amazon.com/sagemaker/latest/dg/processing-job-frameworks.html) page discusses other built-in processors you can use. The [Docker Registry Paths and Example Code](https://docs.aws.amazon.com/sagemaker/latest/dg/sagemaker-algo-docker-registry-paths.html) page contains information about the available framework versions for each region.\n",
    "\n",
    "The [ProcessingStep](https://sagemaker.readthedocs.io/en/stable/workflows/pipelines/sagemaker.workflow.pipelines.html#sagemaker.workflow.steps.ProcessingStep) requires a list of inputs that we need on the preprocessing script. In this case, the input is the dataset we stored in S3. We also have a few outputs that we want SageMaker to capture when the Processing Job finishes. SageMaker will upload every one of these outputs to the location specified by the `preprocessor_destination` parameter except the baseline data, which we will upload to the location specified by the `baseline_destination` parameter."
   ]
  },
  {
   "cell_type": "code",
   "execution_count": 14,
   "id": "2187b65e-e504-40a5-ad05-82f54885805c",
   "metadata": {
    "tags": []
   },
   "outputs": [],
   "source": [
    "sklearn_processor = SKLearnProcessor(\n",
    "    base_job_name=\"penguins-preprocessing\",\n",
    "    framework_version=\"0.23-1\",\n",
    "    instance_type=\"ml.t3.medium\",\n",
    "    instance_count=1,\n",
    "    role=role,\n",
    ")\n",
    "\n",
    "preprocess_data_step = ProcessingStep(\n",
    "    name=\"preprocess-data\",\n",
    "    processor=sklearn_processor,\n",
    "    inputs=[\n",
    "        ProcessingInput(source=dataset_location, destination=\"/opt/ml/processing/input\"),  \n",
    "    ],\n",
    "    outputs=[\n",
    "        ProcessingOutput(output_name=\"train\", source=\"/opt/ml/processing/train\", destination=preprocessor_destination),\n",
    "        ProcessingOutput(output_name=\"validation\", source=\"/opt/ml/processing/validation\", destination=preprocessor_destination),\n",
    "        ProcessingOutput(output_name=\"test\", source=\"/opt/ml/processing/test\", destination=preprocessor_destination),\n",
    "        ProcessingOutput(output_name=\"pipeline\", source=\"/opt/ml/processing/pipeline\", destination=preprocessor_destination),\n",
    "        ProcessingOutput(output_name=\"classes\", source=\"/opt/ml/processing/classes\", destination=preprocessor_destination),\n",
    "        ProcessingOutput(output_name=\"train-baseline\", source=\"/opt/ml/processing/train-baseline\", destination=train_dataset_baseline_destination),\n",
    "        ProcessingOutput(output_name=\"test-baseline\", source=\"/opt/ml/processing/test-baseline\", destination=test_dataset_baseline_destination),\n",
    "    ],\n",
    "    code=f\"{PENGUINS_FOLDER}/preprocessor.py\",\n",
    "    cache_config=cache_config\n",
    ")"
   ]
  },
  {
   "cell_type": "markdown",
   "id": "1465690a-67b5-4d68-a026-dd874ee569e8",
   "metadata": {},
   "source": [
    "## Step 6 - Running the Pipeline\n",
    "\n",
    "Let's define and run the SageMaker Pipeline. Check [Pipeline Structure and Execution](https://docs.aws.amazon.com/sagemaker/latest/dg/build-and-manage-pipeline.html) for more information about how to define a pipeline and [Run a Pipeline](https://docs.aws.amazon.com/sagemaker/latest/dg/run-pipeline.html) for information about how to run it.\n",
    "\n",
    "The pipeline uses the parameters we defined before and the Preprocess Step."
   ]
  },
  {
   "cell_type": "code",
   "execution_count": 15,
   "id": "564fe6fb-00aa-480f-a58f-3144b2e33a9d",
   "metadata": {
    "tags": []
   },
   "outputs": [],
   "source": [
    "session1_pipeline = Pipeline(\n",
    "    name=\"penguins-session1-pipeline\",\n",
    "    parameters=[\n",
    "        dataset_location, \n",
    "        preprocessor_destination,\n",
    "        train_dataset_baseline_destination,\n",
    "        test_dataset_baseline_destination\n",
    "    ],\n",
    "    steps=[\n",
    "        preprocess_data_step,\n",
    "    ]\n",
    ")"
   ]
  },
  {
   "cell_type": "markdown",
   "id": "e16d0ac8-1439-4329-9a1c-c43eafacd0da",
   "metadata": {},
   "source": [
    "Submit the pipeline definition to the SageMaker Pipelines service to create a pipeline if it doesn't exist or update it if it does."
   ]
  },
  {
   "cell_type": "code",
   "execution_count": 306,
   "id": "f4410f2f-a17b-4272-abd2-e092e134174c",
   "metadata": {
    "tags": []
   },
   "outputs": [],
   "source": [
    "session1_pipeline.upsert(role_arn=role)\n",
    "execution = session1_pipeline.start()"
   ]
  },
  {
   "cell_type": "markdown",
   "id": "63c190c5-52b5-4ccc-8d42-847a694b8e66",
   "metadata": {},
   "source": [
    "# Session 2 - Model Training and Tuning\n",
    "\n",
    "This session extends the [SageMaker Pipeline](https://docs.aws.amazon.com/sagemaker/latest/dg/pipelines-sdk.html) we built in the previous session with a step to train a model. We'll explore the [Training](https://docs.aws.amazon.com/sagemaker/latest/dg/build-and-manage-steps.html#step-type-training) and the [Tuning](https://docs.aws.amazon.com/sagemaker/latest/dg/build-and-manage-steps.html#step-type-tuning) steps. \n",
    "\n",
    "Here is what the Pipeline will look like at the end of this session:\n",
    "\n",
    "<img src='penguins/images/session2-pipeline.png' alt='Session 2 Pipeline' width=\"600\">\n"
   ]
  },
  {
   "cell_type": "code",
   "execution_count": 16,
   "id": "4756a3d8-d47b-4a88-a7f2-65ed7d4c1175",
   "metadata": {
    "tags": []
   },
   "outputs": [],
   "source": [
    "from sagemaker.tuner import HyperparameterTuner, ContinuousParameter\n",
    "from sagemaker.inputs import TrainingInput\n",
    "from sagemaker.workflow.steps import TuningStep\n",
    "from sagemaker.parameter import IntegerParameter\n",
    "# from sagemaker.inputs import TrainingInput\n",
    "from sagemaker.tensorflow import TensorFlow\n",
    "from sagemaker.workflow.steps import TrainingStep\n",
    "# from sagemaker.workflow.pipeline_context import PipelineSession"
   ]
  },
  {
   "cell_type": "markdown",
   "id": "c8608092-7aab-4fd2-aa99-47c2db27bdb7",
   "metadata": {},
   "source": [
    "## Step 1 - Training the Model\n",
    "\n",
    "This script is responsible for training a simple neural network on the train data, validating the model, and saving it so we can later use it."
   ]
  },
  {
   "cell_type": "code",
   "execution_count": 17,
   "id": "d92b121d-dcb9-43e8-9ee3-3ececb583e7e",
   "metadata": {
    "tags": []
   },
   "outputs": [
    {
     "name": "stdout",
     "output_type": "stream",
     "text": [
      "Overwriting penguins/train.py\n"
     ]
    }
   ],
   "source": [
    "%%writefile {PENGUINS_FOLDER}/train.py\n",
    "\n",
    "import os\n",
    "import argparse\n",
    "\n",
    "import numpy as np\n",
    "import pandas as pd\n",
    "import tensorflow as tf\n",
    "\n",
    "from pathlib import Path\n",
    "from sklearn.metrics import accuracy_score\n",
    "\n",
    "from tensorflow.keras.models import Sequential\n",
    "from tensorflow.keras.layers import Dense\n",
    "from tensorflow.keras.optimizers import SGD\n",
    "\n",
    "\n",
    "def train(base_directory, train_path, validation_path, epochs=50, batch_size=32, learning_rate=0.01):\n",
    "    print(f\"learning_rate={learning_rate}\")\n",
    "    X_train = pd.read_csv(Path(train_path) / \"train.csv\")\n",
    "    y_train = X_train[X_train.columns[-1]]\n",
    "    X_train.drop(X_train.columns[-1], axis=1, inplace=True)\n",
    "    \n",
    "    X_validation = pd.read_csv(Path(validation_path) / \"validation.csv\")\n",
    "    y_validation = X_validation[X_validation.columns[-1]]\n",
    "    X_validation.drop(X_validation.columns[-1], axis=1, inplace=True)\n",
    "    \n",
    "    model = Sequential([\n",
    "        Dense(10, input_shape=(X_train.shape[1],), activation=\"relu\"),\n",
    "        Dense(8, activation=\"relu\"),\n",
    "        Dense(3, activation=\"softmax\"),\n",
    "    ])\n",
    "\n",
    "    model.compile(\n",
    "        optimizer=SGD(learning_rate=learning_rate),\n",
    "        loss=\"sparse_categorical_crossentropy\",\n",
    "        metrics=[\"accuracy\"]\n",
    "    )\n",
    "\n",
    "    model.fit(\n",
    "        X_train, \n",
    "        y_train, \n",
    "        validation_data=(X_validation, y_validation),\n",
    "        epochs=epochs, \n",
    "        batch_size=batch_size,\n",
    "        verbose=2,\n",
    "    )\n",
    "\n",
    "    predictions = np.argmax(model.predict(X_validation), axis=-1)\n",
    "    print(f\"Validation accuracy: {accuracy_score(y_validation, predictions)}\")\n",
    "    \n",
    "    model_filepath = Path(base_directory) / \"model\" / \"001\"\n",
    "    model.save(model_filepath)\n",
    "    \n",
    "if __name__ == \"__main__\":\n",
    "    # Any hyperparameters provided by the training job are passed to the entry point\n",
    "    # as script arguments. SageMaker will also provide a list of special parameters\n",
    "    # that you can capture here. Here is the full list: \n",
    "    # https://github.com/aws/sagemaker-training-toolkit/blob/master/src/sagemaker_training/params.py\n",
    "    parser = argparse.ArgumentParser()\n",
    "    parser.add_argument(\"--base_directory\", type=str, default=\"/opt/ml/\")\n",
    "    parser.add_argument(\"--train_path\", type=str, default=os.environ.get(\"SM_CHANNEL_TRAIN\", None))\n",
    "    parser.add_argument(\"--validation_path\", type=str, default=os.environ.get(\"SM_CHANNEL_VALIDATION\", None))\n",
    "    parser.add_argument(\"--epochs\", type=int, default=50)\n",
    "    parser.add_argument(\"--batch_size\", type=int, default=32)\n",
    "    parser.add_argument(\"--learning_rate\", type=float, default=0.01)\n",
    "    args, _ = parser.parse_known_args()\n",
    "    \n",
    "    train(\n",
    "        base_directory=args.base_directory,\n",
    "        train_path=args.train_path,\n",
    "        validation_path=args.validation_path,\n",
    "        epochs=args.epochs,\n",
    "        batch_size=args.batch_size,\n",
    "        learning_rate= args.learning_rate\n",
    "    )"
   ]
  },
  {
   "cell_type": "markdown",
   "id": "50f0a4fa-ce70-4882-b9f5-8253df03d890",
   "metadata": {},
   "source": [
    "## Step 2 - Testing the Training Script\n",
    "\n",
    "Let's test the script we just created by running it locally."
   ]
  },
  {
   "cell_type": "code",
   "execution_count": 18,
   "id": "14ea27ce-c453-4cb0-b309-dbecd732957e",
   "metadata": {
    "tags": []
   },
   "outputs": [
    {
     "name": "stdout",
     "output_type": "stream",
     "text": [
      "CLASSES ['Adelie' 'Chinstrap' 'Gentoo']\n",
      "learning_rate=0.014251188853615107\n",
      "Epoch 1/42\n",
      "Extension horovod.torch has not been built: /usr/local/lib/python3.8/site-packages/horovod/torch/mpi_lib/_mpi_lib.cpython-38-x86_64-linux-gnu.so not found\n",
      "If this is not expected, reinstall Horovod with HOROVOD_WITH_PYTORCH=1 to debug the build error.\n",
      "Warning! MPI libs are missing, but python applications are still avaiable.\n",
      "[2023-07-04 22:00:25.877 tensorflow-2-6-cpu-py-ml-t3-medium-06efdeedcce8c1a42a5d2c3a4513:113 INFO utils.py:27] RULE_JOB_STOP_SIGNAL_FILENAME: None\n",
      "[2023-07-04 22:00:25.998 tensorflow-2-6-cpu-py-ml-t3-medium-06efdeedcce8c1a42a5d2c3a4513:113 INFO profiler_config_parser.py:111] Unable to find config at /opt/ml/input/config/profilerconfig.json. Profiler is disabled.\n",
      "8/8 - 1s - loss: 0.9863 - accuracy: 0.4059 - val_loss: 0.9885 - val_accuracy: 0.3137\n",
      "Epoch 2/42\n",
      "8/8 - 0s - loss: 0.9372 - accuracy: 0.4310 - val_loss: 0.9476 - val_accuracy: 0.3529\n",
      "Epoch 3/42\n",
      "8/8 - 0s - loss: 0.8902 - accuracy: 0.4854 - val_loss: 0.9088 - val_accuracy: 0.5098\n",
      "Epoch 4/42\n",
      "8/8 - 0s - loss: 0.8458 - accuracy: 0.5983 - val_loss: 0.8722 - val_accuracy: 0.5882\n",
      "Epoch 5/42\n",
      "8/8 - 0s - loss: 0.8039 - accuracy: 0.6611 - val_loss: 0.8378 - val_accuracy: 0.6667\n",
      "Epoch 6/42\n",
      "8/8 - 0s - loss: 0.7652 - accuracy: 0.7155 - val_loss: 0.8069 - val_accuracy: 0.7255\n",
      "Epoch 7/42\n",
      "8/8 - 0s - loss: 0.7311 - accuracy: 0.7782 - val_loss: 0.7782 - val_accuracy: 0.7451\n",
      "Epoch 8/42\n",
      "8/8 - 0s - loss: 0.6996 - accuracy: 0.8033 - val_loss: 0.7520 - val_accuracy: 0.7647\n",
      "Epoch 9/42\n",
      "8/8 - 0s - loss: 0.6712 - accuracy: 0.8201 - val_loss: 0.7273 - val_accuracy: 0.7647\n",
      "Epoch 10/42\n",
      "8/8 - 0s - loss: 0.6446 - accuracy: 0.8285 - val_loss: 0.7041 - val_accuracy: 0.7647\n",
      "Epoch 11/42\n",
      "8/8 - 0s - loss: 0.6197 - accuracy: 0.8410 - val_loss: 0.6821 - val_accuracy: 0.7647\n",
      "Epoch 12/42\n",
      "8/8 - 0s - loss: 0.5966 - accuracy: 0.8368 - val_loss: 0.6614 - val_accuracy: 0.7647\n",
      "Epoch 13/42\n",
      "8/8 - 0s - loss: 0.5746 - accuracy: 0.8368 - val_loss: 0.6415 - val_accuracy: 0.7647\n",
      "Epoch 14/42\n",
      "8/8 - 0s - loss: 0.5537 - accuracy: 0.8410 - val_loss: 0.6221 - val_accuracy: 0.7647\n",
      "Epoch 15/42\n",
      "8/8 - 0s - loss: 0.5333 - accuracy: 0.8452 - val_loss: 0.6028 - val_accuracy: 0.7843\n",
      "Epoch 16/42\n",
      "8/8 - 0s - loss: 0.5135 - accuracy: 0.8452 - val_loss: 0.5840 - val_accuracy: 0.7843\n",
      "Epoch 17/42\n",
      "8/8 - 0s - loss: 0.4949 - accuracy: 0.8494 - val_loss: 0.5653 - val_accuracy: 0.7843\n",
      "Epoch 18/42\n",
      "8/8 - 0s - loss: 0.4763 - accuracy: 0.8494 - val_loss: 0.5469 - val_accuracy: 0.7843\n",
      "Epoch 19/42\n",
      "8/8 - 0s - loss: 0.4586 - accuracy: 0.8577 - val_loss: 0.5290 - val_accuracy: 0.7843\n",
      "Epoch 20/42\n",
      "8/8 - 0s - loss: 0.4414 - accuracy: 0.8661 - val_loss: 0.5113 - val_accuracy: 0.8039\n",
      "Epoch 21/42\n",
      "8/8 - 0s - loss: 0.4248 - accuracy: 0.8787 - val_loss: 0.4945 - val_accuracy: 0.8039\n",
      "Epoch 22/42\n",
      "8/8 - 0s - loss: 0.4088 - accuracy: 0.8828 - val_loss: 0.4778 - val_accuracy: 0.8039\n",
      "Epoch 23/42\n",
      "8/8 - 0s - loss: 0.3931 - accuracy: 0.8870 - val_loss: 0.4616 - val_accuracy: 0.8039\n",
      "Epoch 24/42\n",
      "8/8 - 0s - loss: 0.3781 - accuracy: 0.8912 - val_loss: 0.4461 - val_accuracy: 0.8431\n",
      "Epoch 25/42\n",
      "8/8 - 0s - loss: 0.3639 - accuracy: 0.9079 - val_loss: 0.4307 - val_accuracy: 0.8627\n",
      "Epoch 26/42\n",
      "8/8 - 0s - loss: 0.3497 - accuracy: 0.9079 - val_loss: 0.4159 - val_accuracy: 0.8627\n",
      "Epoch 27/42\n",
      "8/8 - 0s - loss: 0.3364 - accuracy: 0.9247 - val_loss: 0.4017 - val_accuracy: 0.8627\n",
      "Epoch 28/42\n",
      "8/8 - 0s - loss: 0.3236 - accuracy: 0.9289 - val_loss: 0.3882 - val_accuracy: 0.8627\n",
      "Epoch 29/42\n",
      "8/8 - 0s - loss: 0.3114 - accuracy: 0.9289 - val_loss: 0.3756 - val_accuracy: 0.8627\n",
      "Epoch 30/42\n",
      "8/8 - 0s - loss: 0.2998 - accuracy: 0.9372 - val_loss: 0.3632 - val_accuracy: 0.8627\n",
      "Epoch 31/42\n",
      "8/8 - 0s - loss: 0.2889 - accuracy: 0.9414 - val_loss: 0.3511 - val_accuracy: 0.8627\n",
      "Epoch 32/42\n",
      "8/8 - 0s - loss: 0.2782 - accuracy: 0.9414 - val_loss: 0.3397 - val_accuracy: 0.8627\n",
      "Epoch 33/42\n",
      "8/8 - 0s - loss: 0.2683 - accuracy: 0.9414 - val_loss: 0.3287 - val_accuracy: 0.8824\n",
      "Epoch 34/42\n",
      "8/8 - 0s - loss: 0.2588 - accuracy: 0.9498 - val_loss: 0.3180 - val_accuracy: 0.8824\n",
      "Epoch 35/42\n",
      "8/8 - 0s - loss: 0.2496 - accuracy: 0.9540 - val_loss: 0.3075 - val_accuracy: 0.8824\n",
      "Epoch 36/42\n",
      "8/8 - 0s - loss: 0.2409 - accuracy: 0.9582 - val_loss: 0.2974 - val_accuracy: 0.8824\n",
      "Epoch 37/42\n",
      "8/8 - 0s - loss: 0.2323 - accuracy: 0.9623 - val_loss: 0.2880 - val_accuracy: 0.9020\n",
      "Epoch 38/42\n",
      "8/8 - 0s - loss: 0.2243 - accuracy: 0.9623 - val_loss: 0.2786 - val_accuracy: 0.9020\n",
      "Epoch 39/42\n",
      "8/8 - 0s - loss: 0.2167 - accuracy: 0.9623 - val_loss: 0.2699 - val_accuracy: 0.9412\n",
      "Epoch 40/42\n",
      "8/8 - 0s - loss: 0.2093 - accuracy: 0.9623 - val_loss: 0.2612 - val_accuracy: 0.9412\n",
      "Epoch 41/42\n",
      "8/8 - 0s - loss: 0.2022 - accuracy: 0.9665 - val_loss: 0.2526 - val_accuracy: 0.9608\n",
      "Epoch 42/42\n",
      "8/8 - 0s - loss: 0.1952 - accuracy: 0.9707 - val_loss: 0.2441 - val_accuracy: 0.9804\n",
      "Validation accuracy: 0.9803921568627451\n"
     ]
    }
   ],
   "source": [
    "from penguins.preprocessor import preprocess\n",
    "from penguins.train import train\n",
    "\n",
    "with tempfile.TemporaryDirectory() as directory:\n",
    "    # First, we preprocess the data and create the \n",
    "    # dataset splits.\n",
    "    preprocess(\n",
    "        base_directory=directory, \n",
    "        data_filepath=LOCAL_FILEPATH\n",
    "    )\n",
    "\n",
    "    # Then, we train a model using the train and \n",
    "    # validation splits.\n",
    "    train(\n",
    "        base_directory=directory, \n",
    "        train_path=Path(directory) / \"train\", \n",
    "        validation_path=Path(directory) / \"validation\",\n",
    "        epochs=42,\n",
    "        learning_rate=0.014251188853615107\n",
    "    )"
   ]
  },
  {
   "cell_type": "markdown",
   "id": "27cff4c1-6510-4d99-8ae1-cb14927b87c7",
   "metadata": {},
   "source": [
    "## Step 3 - Setting up a Training Step\n",
    "\n",
    "We can now create a [Training Step](https://docs.aws.amazon.com/sagemaker/latest/dg/build-and-manage-steps.html#step-type-training) that we can add to the pipeline. This Training Step will create a SageMaker Training Job in the background, run the training script, and upload the output to S3. Check the [TrainingStep](https://sagemaker.readthedocs.io/en/stable/workflows/pipelines/sagemaker.workflow.pipelines.html#sagemaker.workflow.steps.TrainingStep) SageMaker's SDK documentation for more information. \n",
    "\n",
    "SageMaker uses the concept of an [Estimator](https://sagemaker.readthedocs.io/en/stable/api/training/estimators.html) to handle end-to-end training and deployment tasks. For this example, we will use the built-in [TensorFlow Estimator](https://sagemaker.readthedocs.io/en/stable/frameworks/tensorflow/sagemaker.tensorflow.html#tensorflow-estimator) to run the training script we wrote before. The [Docker Registry Paths and Example Code](https://docs.aws.amazon.com/sagemaker/latest/dg/sagemaker-algo-docker-registry-paths.html) page contains information about the available framework versions for each region. Here, you can also check the available SageMaker [Deep Learning Container images](https://github.com/aws/deep-learning-containers/blob/master/available_images.md).\n",
    "\n",
    "Notice the list of hyperparameters defined below. SageMaker will pass these hyperparameters as arguments to the entry point of the training script."
   ]
  },
  {
   "cell_type": "code",
   "execution_count": 19,
   "id": "90fe82ae-6a2c-4461-bc83-bb52d8871e3b",
   "metadata": {
    "tags": []
   },
   "outputs": [],
   "source": [
    "estimator = TensorFlow(\n",
    "    entry_point=f\"{PENGUINS_FOLDER}/train.py\",\n",
    "\n",
    "    hyperparameters={\n",
    "        \"epochs\": 42,\n",
    "        \"batch_size\": 32,\n",
    "        \"learning_rate\": 0.014251188853615107\n",
    "    },\n",
    "\n",
    "    framework_version=\"2.6\",\n",
    "    py_version=\"py38\",\n",
    "    instance_type=\"ml.m5.large\",\n",
    "    instance_count=1,\n",
    "    script_mode=True,\n",
    "    disable_profiler=True,\n",
    "    role=role,\n",
    ")"
   ]
  },
  {
   "cell_type": "markdown",
   "id": "545d2b43-3bb5-4fe9-b3e4-cb8eb55c8a21",
   "metadata": {},
   "source": [
    "We can now create the [TrainingStep](https://sagemaker.readthedocs.io/en/stable/workflows/pipelines/sagemaker.workflow.pipelines.html#sagemaker.workflow.steps.TrainingStep) using the estimator we defined before.\n",
    "\n",
    "This step will receive the train and validation split from the preprocessing step as inputs. Notice how we reference both splits using the `preprocess_data_step` variable. This creates a dependency between the Training and Processing Step we defined in Session 1. When we build a new Pipeline, we'll see that the Training Step will run once the Processing Step finishes."
   ]
  },
  {
   "cell_type": "code",
   "execution_count": 20,
   "id": "99e4850c-83d6-4f4e-a813-d5a3f4bb7486",
   "metadata": {
    "tags": []
   },
   "outputs": [],
   "source": [
    "train_model_step = TrainingStep(\n",
    "    name=\"train-model\",\n",
    "    estimator=estimator,\n",
    "    inputs={\n",
    "        \"train\": TrainingInput(\n",
    "            s3_data=preprocess_data_step.properties.ProcessingOutputConfig.Outputs[\n",
    "                \"train\"\n",
    "            ].S3Output.S3Uri,\n",
    "            content_type=\"text/csv\"\n",
    "        ),\n",
    "        \"validation\": TrainingInput(\n",
    "            s3_data=preprocess_data_step.properties.ProcessingOutputConfig.Outputs[\n",
    "                \"validation\"\n",
    "            ].S3Output.S3Uri,\n",
    "            content_type=\"text/csv\"\n",
    "        )\n",
    "    },\n",
    "    cache_config=cache_config\n",
    ")"
   ]
  },
  {
   "cell_type": "markdown",
   "id": "5814e258-c633-4e9a-85c5-6ed0f168b503",
   "metadata": {},
   "source": [
    "## Step 4 - Setting up a Tuning Step\n",
    "\n",
    "Let's now create a [Tuning Step](https://docs.aws.amazon.com/sagemaker/latest/dg/build-and-manage-steps.html#step-type-tuning) to add it to our pipeline. This Tuning Step will create a SageMaker Hyperparameter Tuning Job in the background and use the training script to train different model variants and choose the best one. Check the [TuningStep](https://sagemaker.readthedocs.io/en/stable/workflows/pipelines/sagemaker.workflow.pipelines.html#sagemaker.workflow.steps.TuningStep) SageMaker's SDK documentation for more information.\n",
    "\n",
    "The Tuning Step requires a [HyperparameterTuner](https://sagemaker.readthedocs.io/en/stable/api/training/tuner.html) reference to configure the Hyperparameter Tuning Job. In this example, the tuner will use the same `Estimator` we defined to train the model.\n",
    "\n",
    "Here is the configuration that we'll use to find the best model:\n",
    "\n",
    "1. `objective_metric_name`: This is the name of the metric the tuner will use to determine the best model.\n",
    "2. `objective_type`: This is the objective of the tuner. Should it \"Minimize\" the metric or \"Maximize\" it? In this example, since we are using the validation accuracy of the model, we want the objective to be \"Maximize.\" If we were using the loss of the model, we would set the objective to \"Minimize.\"\n",
    "3. `metric_definitions`: Defines how the tuner will determine the metric's value by looking at the output logs of the training process.\n",
    "\n",
    "The tuner expects the list of the hyperparameters you want to explore. You can use subclasses of the [Parameter](https://sagemaker.readthedocs.io/en/stable/api/training/parameter.html#sagemaker.parameter.ParameterRange) class to specify different types of hyperparameters. This example explores different values for the `epochs` hyperparameter.\n",
    "\n",
    "Finally, you can control the number of jobs and how many of them will run in parallel using the following two arguments:\n",
    "\n",
    "* `max_jobs`: Defines the maximum total number of training jobs to start for the hyperparameter tuning job.\n",
    "* `max_parallel_jobs`: Defines the maximum number of parallel training jobs to start."
   ]
  },
  {
   "cell_type": "code",
   "execution_count": 21,
   "id": "038ff2e5-ed28-445b-bc03-4e996ec2286f",
   "metadata": {
    "tags": []
   },
   "outputs": [],
   "source": [
    "objective_metric_name = \"val_accuracy\"\n",
    "objective_type = \"Maximize\"\n",
    "metric_definitions = [{\"Name\": objective_metric_name, \"Regex\": \"val_accuracy: ([0-9\\\\.]+)\"}]\n",
    "\n",
    "hyperparameter_ranges = {\n",
    "    \"epochs\": IntegerParameter(10, 50),\n",
    "    \"learning_rate\": ContinuousParameter(0.01, 0.03)\n",
    "}\n",
    "\n",
    "tuner = HyperparameterTuner(\n",
    "    estimator,\n",
    "    objective_metric_name,\n",
    "    hyperparameter_ranges,\n",
    "    metric_definitions,\n",
    "    objective_type=objective_type,\n",
    "    max_jobs=3,\n",
    "    max_parallel_jobs=3,\n",
    ")"
   ]
  },
  {
   "cell_type": "markdown",
   "id": "59de0743-6c9e-4895-b060-f58a6d60c50d",
   "metadata": {},
   "source": [
    "We can now create the [TuningStep](https://sagemaker.readthedocs.io/en/stable/workflows/pipelines/sagemaker.workflow.pipelines.html#sagemaker.workflow.steps.TuningStep). \n",
    "\n",
    "This step will use the tuner we configured before and will receive the train and validation split from the preprocessing step as inputs. Notice how we reference both splits using the `preprocess_data_step` variable. This creates a dependency between the Tuning and Processing Steps we defined in Session 1. When we build a new Pipeline, we'll see that the Tuning Step will run once the Processing Step finishes."
   ]
  },
  {
   "cell_type": "code",
   "execution_count": 22,
   "id": "cf5dd9a7-8643-4fbb-8eb4-40f39011e27b",
   "metadata": {
    "tags": []
   },
   "outputs": [],
   "source": [
    "tune_model_step = TuningStep(\n",
    "    name=\"tune-model\",\n",
    "    tuner=tuner,\n",
    "    inputs={\n",
    "        \"train\": TrainingInput(\n",
    "            s3_data=preprocess_data_step.properties.ProcessingOutputConfig.Outputs[\n",
    "                \"train\"\n",
    "            ].S3Output.S3Uri,\n",
    "            content_type=\"text/csv\"\n",
    "        ),\n",
    "        \"validation\": TrainingInput(\n",
    "            s3_data=preprocess_data_step.properties.ProcessingOutputConfig.Outputs[\n",
    "                \"validation\"\n",
    "            ].S3Output.S3Uri,\n",
    "            content_type=\"text/csv\"\n",
    "        )\n",
    "    },\n",
    "    cache_config=cache_config\n",
    ")"
   ]
  },
  {
   "cell_type": "markdown",
   "id": "cf9c9362-ef17-4d68-b8c8-cefe21326ba2",
   "metadata": {},
   "source": [
    "## Step 5 - Switching Between Training and Tuning\n",
    "\n",
    "We could use a [Training Step](https://docs.aws.amazon.com/sagemaker/latest/dg/build-and-manage-steps.html#step-type-training) or use a [Tuning Step](https://docs.aws.amazon.com/sagemaker/latest/dg/build-and-manage-steps.html#step-type-tuning) to create the model.\n",
    "\n",
    "In this notebook, we will alternate between both methods and use the `USE_TUNING_STEP` flag to indicate which approach we want to run."
   ]
  },
  {
   "cell_type": "code",
   "execution_count": 23,
   "id": "c3df0f7a-e43a-4a7b-9809-0a639fa178d9",
   "metadata": {
    "tags": []
   },
   "outputs": [],
   "source": [
    "USE_TUNING_STEP = True"
   ]
  },
  {
   "cell_type": "markdown",
   "id": "4babe38c-1682-42d2-8442-101d17aa89b5",
   "metadata": {},
   "source": [
    "## Step 6 - Running the Pipeline\n",
    "\n",
    "We can now define and run the SageMaker Pipeline using the Training or Tuning Step."
   ]
  },
  {
   "cell_type": "code",
   "execution_count": 24,
   "id": "9799ab39-fcae-41f4-a68b-85ab71b3ba9a",
   "metadata": {
    "tags": []
   },
   "outputs": [],
   "source": [
    "session2_pipeline = Pipeline(\n",
    "    name=\"penguins-session2-pipeline\",\n",
    "    parameters=[\n",
    "        dataset_location,\n",
    "        preprocessor_destination,\n",
    "        train_dataset_baseline_destination,\n",
    "        test_dataset_baseline_destination,\n",
    "    ],\n",
    "    steps=[\n",
    "        preprocess_data_step,\n",
    "        tune_model_step\n",
    "    ]\n",
    ")"
   ]
  },
  {
   "cell_type": "markdown",
   "id": "f0e0708c-3692-4d09-a269-bbd14f7b0226",
   "metadata": {},
   "source": [
    "Submit the pipeline definition to the SageMaker Pipelines service to create a pipeline if it doesn't exist or update it if it does."
   ]
  },
  {
   "cell_type": "code",
   "execution_count": 25,
   "id": "77c6d523-6810-4bc7-8fc4-64ae978cf245",
   "metadata": {
    "tags": []
   },
   "outputs": [
    {
     "name": "stdout",
     "output_type": "stream",
     "text": [
      "Using provided s3_resource\n",
      "Using provided s3_resource\n"
     ]
    }
   ],
   "source": [
    "session2_pipeline.upsert(role_arn=role)\n",
    "execution = session2_pipeline.start()"
   ]
  },
  {
   "cell_type": "markdown",
   "id": "21d40fe8-ba74-4c12-9555-d8ea33d1c8b4",
   "metadata": {},
   "source": [
    "# Session 3 - Model Registration\n",
    "\n",
    "This session extends the [SageMaker Pipeline](https://docs.aws.amazon.com/sagemaker/latest/dg/pipelines-sdk.html) with a step to evaluate the model and a step to register a new model if it reaches a predefined accuracy threshold. We'll use a [Processing Step](https://docs.aws.amazon.com/sagemaker/latest/dg/build-and-manage-steps.html#step-type-processing) with a [ScriptProcessor](https://sagemaker.readthedocs.io/en/stable/api/training/processing.html#sagemaker.processing.ScriptProcessor) running TensorFlow to execute an evaluation script. We'll use a [Condition Step](https://docs.aws.amazon.com/sagemaker/latest/dg/build-and-manage-steps.html#step-type-condition) to determine whether the model's accuracy is above a threshold and a [Model Step](https://docs.aws.amazon.com/sagemaker/latest/dg/build-and-manage-steps.html#step-type-model) to register the model. After we register the model, we'll deploy it manually. To learn more about the Model Registry, check [Register and Deploy Models with Model Registry](https://docs.aws.amazon.com/sagemaker/latest/dg/model-registry.html).\n",
    "\n",
    "Here is what the Pipeline will look like at the end of this session:\n",
    "\n",
    "<img src='penguins/images/session3-pipeline.png' alt='Session 3 Pipeline' width=\"600\">"
   ]
  },
  {
   "cell_type": "code",
   "execution_count": 25,
   "id": "34fc262f-a1cf-4f94-9c60-e7c8e83cfdfb",
   "metadata": {
    "tags": []
   },
   "outputs": [],
   "source": [
    "import time\n",
    "import tarfile\n",
    "\n",
    "from sagemaker import ModelPackage\n",
    "from sagemaker.tensorflow import TensorFlowProcessor\n",
    "from sagemaker.model import Model\n",
    "from sagemaker.tensorflow.model import TensorFlowModel\n",
    "from sagemaker.model_metrics import MetricsSource, ModelMetrics\n",
    "from sagemaker.predictor import Predictor\n",
    "from sagemaker.workflow.conditions import ConditionGreaterThanOrEqualTo\n",
    "from sagemaker.workflow.condition_step import ConditionStep\n",
    "from sagemaker.workflow.fail_step import FailStep\n",
    "from sagemaker.workflow.functions import JsonGet\n",
    "from sagemaker.workflow.functions import Join\n",
    "from sagemaker.workflow.properties import PropertyFile"
   ]
  },
  {
   "cell_type": "markdown",
   "id": "9eaa9691-f49f-48af-b272-3d4d17563b01",
   "metadata": {
    "tags": []
   },
   "source": [
    "## Step 1 - Evaluating the Model\n",
    "\n",
    "This script is responsible for loading the model we created and evaluating it on the test set. Before finishing, this script will generate an evaluation report of the model."
   ]
  },
  {
   "cell_type": "code",
   "execution_count": 26,
   "id": "3ee3ab26-afa5-4ceb-9f7a-005d5fdea646",
   "metadata": {
    "tags": []
   },
   "outputs": [
    {
     "name": "stdout",
     "output_type": "stream",
     "text": [
      "Overwriting penguins/evaluation.py\n"
     ]
    }
   ],
   "source": [
    "%%writefile {PENGUINS_FOLDER}/evaluation.py\n",
    "\n",
    "import os\n",
    "import json\n",
    "import tarfile\n",
    "import numpy as np\n",
    "import pandas as pd\n",
    "import random\n",
    "\n",
    "\n",
    "from pathlib import Path\n",
    "from tensorflow import keras\n",
    "from sklearn.metrics import accuracy_score\n",
    "\n",
    "\n",
    "MODEL_PATH = \"/opt/ml/processing/model/\"\n",
    "TEST_PATH = \"/opt/ml/processing/test/\"\n",
    "OUTPUT_PATH = \"/opt/ml/processing/evaluation/\"\n",
    "\n",
    "\n",
    "def evaluate(model_path, test_path, output_path):\n",
    "    # The first step is to extract the model package provided\n",
    "    # by SageMaker.\n",
    "    with tarfile.open(Path(model_path) / \"model.tar.gz\") as tar:\n",
    "        tar.extractall(path=Path(model_path))\n",
    "        \n",
    "    # We can now load the model from disk.\n",
    "    model = keras.models.load_model(Path(model_path) / \"001\")\n",
    "    \n",
    "    X_test = pd.read_csv(Path(test_path) / \"test.csv\")\n",
    "    y_test = X_test[X_test.columns[-1]]\n",
    "    X_test.drop(X_test.columns[-1], axis=1, inplace=True)\n",
    "    \n",
    "    predictions = np.argmax(model.predict(X_test), axis=-1)\n",
    "    accuracy = accuracy_score(y_test, predictions)\n",
    "        \n",
    "    test_samples = len(X_test)\n",
    "    print(f\"JJJ- Test accuracy: {accuracy}\")\n",
    "    print(f\"JJJ- Number of test samples: {test_samples}\")\n",
    "\n",
    "    # Let's add the accuracy of the model to our evaluation report.\n",
    "    evaluation_report = {\n",
    "        \"metrics\": {\n",
    "            \"accuracy\": {\n",
    "                \"value\": accuracy\n",
    "            },\n",
    "            \"test_samples\": {\n",
    "                \"value\": test_samples\n",
    "            },\n",
    "            \n",
    "        },\n",
    "    }\n",
    "    \n",
    "    # We need to save the evaluation report to the output path.\n",
    "    Path(output_path).mkdir(parents=True, exist_ok=True)\n",
    "    with open(Path(output_path) / \"evaluation.json\", \"w\") as f:\n",
    "        f.write(json.dumps(evaluation_report))\n",
    "\n",
    "\n",
    "if __name__ == \"__main__\":\n",
    "    evaluate(\n",
    "        model_path=MODEL_PATH, \n",
    "        test_path=TEST_PATH,\n",
    "        output_path=OUTPUT_PATH\n",
    "    )"
   ]
  },
  {
   "cell_type": "markdown",
   "id": "9dcc79a0-adfd-4ce9-8580-5cd228c3c2d9",
   "metadata": {},
   "source": [
    "## Step 2 - Testing the Evaluation Script\n",
    "\n",
    "Let's test the script we just created by running it locally."
   ]
  },
  {
   "cell_type": "code",
   "execution_count": 27,
   "id": "9a2540d8-278a-4953-bc54-0469d154427d",
   "metadata": {
    "tags": []
   },
   "outputs": [
    {
     "name": "stdout",
     "output_type": "stream",
     "text": [
      "CLASSES ['Adelie' 'Chinstrap' 'Gentoo']\n",
      "learning_rate=0.01\n",
      "Epoch 1/10\n",
      "8/8 - 1s - loss: 1.1905 - accuracy: 0.3515 - val_loss: 1.1834 - val_accuracy: 0.2941\n",
      "Epoch 2/10\n",
      "8/8 - 0s - loss: 1.1350 - accuracy: 0.3556 - val_loss: 1.1390 - val_accuracy: 0.2941\n",
      "Epoch 3/10\n",
      "8/8 - 0s - loss: 1.0865 - accuracy: 0.3556 - val_loss: 1.0985 - val_accuracy: 0.2941\n",
      "Epoch 4/10\n",
      "8/8 - 0s - loss: 1.0408 - accuracy: 0.3640 - val_loss: 1.0600 - val_accuracy: 0.3137\n",
      "Epoch 5/10\n",
      "8/8 - 0s - loss: 0.9986 - accuracy: 0.3640 - val_loss: 1.0243 - val_accuracy: 0.3529\n",
      "Epoch 6/10\n",
      "8/8 - 0s - loss: 0.9601 - accuracy: 0.4142 - val_loss: 0.9918 - val_accuracy: 0.4118\n",
      "Epoch 7/10\n",
      "8/8 - 0s - loss: 0.9253 - accuracy: 0.4812 - val_loss: 0.9627 - val_accuracy: 0.4314\n",
      "Epoch 8/10\n",
      "8/8 - 0s - loss: 0.8947 - accuracy: 0.5439 - val_loss: 0.9365 - val_accuracy: 0.4706\n",
      "Epoch 9/10\n",
      "8/8 - 0s - loss: 0.8666 - accuracy: 0.6151 - val_loss: 0.9128 - val_accuracy: 0.5098\n",
      "Epoch 10/10\n",
      "8/8 - 0s - loss: 0.8407 - accuracy: 0.6695 - val_loss: 0.8904 - val_accuracy: 0.5490\n",
      "Validation accuracy: 0.5490196078431373\n",
      "JJJ- Test accuracy: 0.5490196078431373\n",
      "JJJ- Number of test samples: 51\n"
     ]
    }
   ],
   "source": [
    "from penguins.preprocessor import preprocess\n",
    "from penguins.train import train\n",
    "from penguins.evaluation import evaluate\n",
    "\n",
    "\n",
    "with tempfile.TemporaryDirectory() as directory:\n",
    "    # First, we preprocess the data and create the\n",
    "    # dataset splits.\n",
    "    preprocess(\n",
    "        base_directory=directory, \n",
    "        data_filepath=LOCAL_FILEPATH\n",
    "    )\n",
    "\n",
    "    # Then, we train a model using the train and\n",
    "    # validation splits.\n",
    "    train(\n",
    "        base_directory=directory, \n",
    "        train_path=Path(directory) / \"train\", \n",
    "        validation_path=Path(directory) / \"validation\",\n",
    "        epochs=10\n",
    "    )\n",
    "\n",
    "    # After training a model, we need to prepare a package just like\n",
    "    # SageMaker would. This package is what the evaluation script is\n",
    "    # expecting as an input.\n",
    "    with tarfile.open(Path(directory) / \"model.tar.gz\", \"w:gz\") as tar:\n",
    "        tar.add(Path(directory) / \"model\" / \"001\", arcname=\"001\")\n",
    "\n",
    "    # We can now call the evaluation script.\n",
    "    evaluate(\n",
    "        model_path=directory,\n",
    "        test_path=Path(directory) / \"test\",\n",
    "        output_path=Path(directory) / \"evaluation/0\",\n",
    "    )"
   ]
  },
  {
   "cell_type": "markdown",
   "id": "bec1109a-6c26-4464-8338-94960729d212",
   "metadata": {},
   "source": [
    "## Step 3 - Setting up a Processing Step\n",
    "\n",
    "To run the evaluation script, we can use a [Processing Step](https://docs.aws.amazon.com/sagemaker/latest/dg/build-and-manage-steps.html#step-type-processing). Check the [ProcessingStep](https://sagemaker.readthedocs.io/en/stable/workflows/pipelines/sagemaker.workflow.pipelines.html#sagemaker.workflow.steps.ProcessingStep) SageMaker's SDK documentation for more information.\n",
    "\n",
    "Whenever you want to run a Processing Job using a machine learning framework, you can use an instance of the [FrameworkProcessor](https://sagemaker.readthedocs.io/en/stable/api/training/processing.html#sagemaker.processing.FrameworkProcessor) class. For example, the [TensorFlowProcessor](https://docs.aws.amazon.com/sagemaker/latest/dg/processing-job-frameworks-tensorflow.html) subclass will give you access to TensorFlow. You can also configure a Processing Job from scratch using a [ScriptProcessor](https://sagemaker.readthedocs.io/en/stable/api/training/processing.html#sagemaker.processing.ScriptProcessor) instance combined with the [sagemaker.image_uris.retrieve()](https://sagemaker.readthedocs.io/en/stable/api/utility/image_uris.html) function for generating the URI of one of the SageMaker pre-built docker images. This time, we will use a [TensorFlowProcessor](https://docs.aws.amazon.com/sagemaker/latest/dg/processing-job-frameworks-tensorflow.html) because we need our script to have access to TensorFlow and Scikit-Learn.\n",
    "\n",
    "The inputs of this Processing Step will be the model we created and the test set we generated during the preprocessing phase. The output will be the evaluation report file.\n",
    "\n",
    "At this point, we create a model using either a Training Step or a Tuning Step, so we can use the `USE_TUNING_STEP` flag to configure the input to the Processing Step. In case we are using the Tuning Step, we can use the [TuningStep.get_top_model_s3_uri()](https://sagemaker.readthedocs.io/en/stable/workflows/pipelines/sagemaker.workflow.pipelines.html#sagemaker.workflow.steps.TuningStep.get_top_model_s3_uri) function to get the model artifacts from the top performing training job of the Hyperparameter Tuning Job.\n",
    "\n",
    "The [ProcessingStep](https://sagemaker.readthedocs.io/en/stable/workflows/pipelines/sagemaker.workflow.pipelines.html#sagemaker.workflow.steps.ProcessingStep) lets us specify a list of [PropertyFile](https://sagemaker.readthedocs.io/en/stable/workflows/pipelines/sagemaker.workflow.pipelines.html#sagemaker.workflow.properties.PropertyFile) instances from the output of the job. We can use this to map the evaluation report generated in the evaluation script. Check [How to Build and Manage Property Files](https://docs.aws.amazon.com/sagemaker/latest/dg/build-and-manage-propertyfile.html) for more information.\n",
    "\n",
    "We also need to define a new Pipeline parameter with the location where the Processing Step will store the report."
   ]
  },
  {
   "cell_type": "markdown",
   "id": "789a48e6-507d-42fb-8abc-ebde997e3d43",
   "metadata": {},
   "source": [
    "## Step 4 - Configuring the Model Metrics\n",
    "\n",
    "When we register a model, we can specify a set of [ModelMetrics](https://sagemaker.readthedocs.io/en/stable/api/inference/model_monitor.html#sagemaker.model_metrics.ModelMetrics). We can use the evaluation report we generated during the Evaluation step to populate these statistics."
   ]
  },
  {
   "cell_type": "code",
   "execution_count": 28,
   "id": "48139a07-5c8e-4bc6-b666-bf9531f7f520",
   "metadata": {
    "tags": []
   },
   "outputs": [
    {
     "name": "stdout",
     "output_type": "stream",
     "text": [
      "JJJ- In create_evaluate_model_step with model_idx=0 and name=evaluate-model\n",
      "JJJ- In create_evaluate_model_step with model_idx=1 and name=evaluate-model-2\n"
     ]
    }
   ],
   "source": [
    "tensorflow_processor = TensorFlowProcessor(\n",
    "    base_job_name=\"penguins-evaluation-processor\",\n",
    "    framework_version=\"2.6\",\n",
    "    py_version=\"py38\",\n",
    "    instance_type=\"ml.t3.medium\",\n",
    "    instance_count=1,\n",
    "    role=role\n",
    ")\n",
    "\n",
    "# By default, the TensorFlowProcessor runs the script using\n",
    "# /bin/bash as its entrypoint. We want to ensure we run it\n",
    "# using python3.\n",
    "tensorflow_processor.framework_entrypoint_command = [\"python3\"]\n",
    "\n",
    "\n",
    "# We want to map the evaluation report that we generate inside\n",
    "# the evaluation script so we can later reference it.\n",
    "evaluation_report = PropertyFile(\n",
    "    name=\"evaluation-report\",\n",
    "    output_name=\"evaluation\",\n",
    "    path=\"evaluation.json\"\n",
    ")\n",
    "\n",
    "evaluation_2_report = PropertyFile(\n",
    "    name=\"evaluation-2-report\",\n",
    "    output_name=\"evaluation\",\n",
    "    path=\"evaluation.json\"\n",
    ")\n",
    "\n",
    "\n",
    "# Notice how this step uses the model generated by the tuning or training\n",
    "# step, and the test set generated by the preprocessing step.\n",
    "def create_evaluate_model_step(model_idx, name, evaluation_report):\n",
    "    print(f\"JJJ- In create_evaluate_model_step with model_idx={model_idx} and name={name}\")\n",
    "    return ProcessingStep(\n",
    "        name=name,\n",
    "        processor=tensorflow_processor,\n",
    "        inputs=[\n",
    "            ProcessingInput(\n",
    "                source=preprocess_data_step.properties.ProcessingOutputConfig.Outputs[\n",
    "                    \"test\"\n",
    "                ].S3Output.S3Uri,\n",
    "                destination=\"/opt/ml/processing/test\"\n",
    "            ),\n",
    "            ProcessingInput(\n",
    "                source=(\n",
    "                    tune_model_step.get_top_model_s3_uri(top_k=model_idx, s3_bucket=sagemaker_session.default_bucket())\n",
    "                ),\n",
    "                destination=\"/opt/ml/processing/model\",\n",
    "            )\n",
    "        ],\n",
    "        outputs=[\n",
    "            ProcessingOutput(output_name=\"evaluation\", source=\"/opt/ml/processing/evaluation\", destination=f\"{S3_FILEPATH}/evaluation/{model_idx}\"),\n",
    "        ],\n",
    "        code=f\"{PENGUINS_FOLDER}/evaluation.py\",\n",
    "        property_files=[evaluation_report],\n",
    "        cache_config=cache_config\n",
    "    )\n",
    "\n",
    "\n",
    "evaluate_model_step = create_evaluate_model_step(\n",
    "    model_idx=0,\n",
    "    name=\"evaluate-model\",\n",
    "    evaluation_report=evaluation_report\n",
    ")\n",
    "\n",
    "\n",
    "evaluate_model_2_step = create_evaluate_model_step(\n",
    "    model_idx=1,\n",
    "    name=\"evaluate-model-2\",\n",
    "    evaluation_report=evaluation_2_report\n",
    ")"
   ]
  },
  {
   "cell_type": "code",
   "execution_count": 29,
   "id": "4982146f-0c0f-4938-b5d0-06db45a58531",
   "metadata": {
    "tags": []
   },
   "outputs": [],
   "source": [
    "model_metrics = ModelMetrics(\n",
    "    model_statistics=MetricsSource(\n",
    "        s3_uri=Join(on=\"/\", values=[\n",
    "            evaluate_model_step.arguments['ProcessingOutputConfig']['Outputs'][0]['S3Output']['S3Uri'],\n",
    "            \"evaluation.json\"]\n",
    "        ),\n",
    "        content_type=\"application/json\",\n",
    "    )\n",
    ")\n",
    "\n",
    "model_2_metrics = ModelMetrics(\n",
    "    model_statistics=MetricsSource(\n",
    "        s3_uri=Join(on=\"/\", values=[\n",
    "            evaluate_model_2_step.arguments['ProcessingOutputConfig']['Outputs'][0]['S3Output']['S3Uri'],\n",
    "            \"evaluation.json\"]\n",
    "        ),\n",
    "        content_type=\"application/json\",\n",
    "    )\n",
    ")"
   ]
  },
  {
   "cell_type": "markdown",
   "id": "441fac3a-5ecc-441f-84c3-717c4c7ba290",
   "metadata": {},
   "source": [
    "## Step 5 - Registering the Model\n",
    "\n",
    "We can now create a [Model Step](https://docs.aws.amazon.com/sagemaker/latest/dg/build-and-manage-steps.html#step-type-model) to register the model. Check the [ModelStep](https://sagemaker.readthedocs.io/en/stable/workflows/pipelines/sagemaker.workflow.pipelines.html#sagemaker.workflow.model_step.ModelStep) SageMaker's SDK documentation for more information. We aim to create a new version of the model and register it in the Model Registry. Check [Register a Model Version](https://docs.aws.amazon.com/sagemaker/latest/dg/model-registry-version.html) for more information about model registration.\n",
    "\n",
    "The model we trained uses TensorFlow, so we can use the built-in [TensorFlowModel](https://sagemaker.readthedocs.io/en/stable/frameworks/tensorflow/sagemaker.tensorflow.html#tensorflow-serving-model) class to create an instance of the model.\n",
    "\n",
    "Notice that we use an instance of the [PipelineSession](https://sagemaker.readthedocs.io/en/stable/workflows/pipelines/sagemaker.workflow.pipelines.html#sagemaker.workflow.pipeline_context.PipelineSession) class to create the model. This special session does not register the model immediately when you call `model.register()`, instead, it captures the arguments required to register a model, and delegate it to the `ModelStep` to register the model later during pipeline execution."
   ]
  },
  {
   "cell_type": "code",
   "execution_count": 30,
   "id": "52a48cef-fb78-412b-a5c6-977eafe98e27",
   "metadata": {
    "tags": []
   },
   "outputs": [
    {
     "name": "stdout",
     "output_type": "stream",
     "text": [
      "JJJ- create_register_model_step. name:register-model_approved_step\n",
      "JJJ- create_register_model_step. approval_status:Approved\n",
      "JJJ- create_register_model_step. model_metrics:<sagemaker.model_metrics.ModelMetrics object at 0x7f19184b70d0>\n",
      "JJJ- create_register_model_step. model_idx:0\n"
     ]
    },
    {
     "name": "stderr",
     "output_type": "stream",
     "text": [
      "/usr/local/lib/python3.8/site-packages/sagemaker/workflow/pipeline_context.py:286: UserWarning: Running within a PipelineSession, there will be No Wait, No Logs, and No Job being started.\n",
      "  warnings.warn(\n"
     ]
    },
    {
     "name": "stdout",
     "output_type": "stream",
     "text": [
      "JJJ- create_register_model_step. name:register-model_pending_approval_step\n",
      "JJJ- create_register_model_step. approval_status:PendingManualApproval\n",
      "JJJ- create_register_model_step. model_metrics:<sagemaker.model_metrics.ModelMetrics object at 0x7f19184b70d0>\n",
      "JJJ- create_register_model_step. model_idx:0\n",
      "JJJ- create_register_model_step. name:register-model_2_approved_step\n",
      "JJJ- create_register_model_step. approval_status:Approved\n",
      "JJJ- create_register_model_step. model_metrics:<sagemaker.model_metrics.ModelMetrics object at 0x7f19184b7730>\n",
      "JJJ- create_register_model_step. model_idx:1\n",
      "JJJ- create_register_model_step. name:register-model_2_pending_approval_step\n",
      "JJJ- create_register_model_step. approval_status:PendingManualApproval\n",
      "JJJ- create_register_model_step. model_metrics:<sagemaker.model_metrics.ModelMetrics object at 0x7f19184b7730>\n",
      "JJJ- create_register_model_step. model_idx:1\n"
     ]
    }
   ],
   "source": [
    "model_package_group_name = \"penguins\"\n",
    "\n",
    "\n",
    "def create_model(model_idx):\n",
    "    return TensorFlowModel(\n",
    "        model_data=(\n",
    "            tune_model_step.get_top_model_s3_uri(top_k=model_idx, s3_bucket=sagemaker_session.default_bucket())\n",
    "        ),\n",
    "        framework_version=\"2.6\",\n",
    "        sagemaker_session=PipelineSession(),\n",
    "        role=role,\n",
    "    )\n",
    "\n",
    "\n",
    "models = [\n",
    "    create_model(model_idx=0),\n",
    "    create_model(model_idx=1)\n",
    "]\n",
    "\n",
    "\n",
    "def create_register_model_step(name, approval_status, model_idx, model_metrics):\n",
    "    print(f\"JJJ- create_register_model_step. name:{name}\")\n",
    "    print(f\"JJJ- create_register_model_step. approval_status:{approval_status}\")\n",
    "    print(f\"JJJ- create_register_model_step. model_metrics:{model_metrics}\")\n",
    "    print(f\"JJJ- create_register_model_step. model_idx:{model_idx}\")\n",
    "\n",
    "    return ModelStep(\n",
    "        name=name,\n",
    "        step_args=models[model_idx].register(\n",
    "            model_package_group_name=model_package_group_name,\n",
    "            model_metrics=model_metrics,\n",
    "            approval_status=approval_status,\n",
    "\n",
    "            content_types=[\"text/csv\"],\n",
    "            response_types=[\"text/csv\"],\n",
    "            inference_instances=[\"ml.m5.large\"],\n",
    "            transform_instances=[\"ml.m5.large\"],\n",
    "            domain=\"MACHINE_LEARNING\",\n",
    "            task=\"CLASSIFICATION\",\n",
    "            framework=\"TENSORFLOW\",\n",
    "            framework_version=\"2.6\",\n",
    "        ),\n",
    "    )\n",
    "\n",
    "\n",
    "register_model_approved_step = create_register_model_step(\n",
    "    name=\"register-model_approved_step\",\n",
    "    approval_status=\"Approved\",\n",
    "    model_idx=0,\n",
    "    model_metrics=model_metrics\n",
    ")\n",
    "\n",
    "register_model_pending_approval_step = create_register_model_step(\n",
    "    name=\"register-model_pending_approval_step\",\n",
    "    approval_status=\"PendingManualApproval\",\n",
    "    model_idx=0,\n",
    "    model_metrics=model_metrics\n",
    ")\n",
    "\n",
    "register_model_2_approved_step = create_register_model_step(\n",
    "    name=\"register-model_2_approved_step\",\n",
    "    approval_status=\"Approved\",\n",
    "    model_idx=1,\n",
    "    model_metrics=model_2_metrics\n",
    ")\n",
    "\n",
    "register_model_2_pending_approval_step = create_register_model_step(\n",
    "    name=\"register-model_2_pending_approval_step\",\n",
    "    approval_status=\"PendingManualApproval\",\n",
    "    model_idx=1,\n",
    "    model_metrics=model_2_metrics\n",
    ")"
   ]
  },
  {
   "cell_type": "markdown",
   "id": "52c110f7-fe72-4db8-9d06-cfb9a0f2bfbd",
   "metadata": {},
   "source": [
    "## Step 6 - Setting up a Condition Step\n",
    "\n",
    "We only want to register a new model if its accuracy exceeds a predefined threshold. We can use a [Condition Step](https://docs.aws.amazon.com/sagemaker/latest/dg/build-and-manage-steps.html#step-type-condition) together with the evaluation report we generated in the Evaluation step to accomplish this. Check the [ConditionStep](https://sagemaker.readthedocs.io/en/stable/workflows/pipelines/sagemaker.workflow.pipelines.html#conditionstep) SageMaker's SDK documentation for more information.\n",
    "\n",
    "In this example, we will use a [ConditionGreaterThanOrEqualTo](https://sagemaker.readthedocs.io/en/stable/workflows/pipelines/sagemaker.workflow.pipelines.html#sagemaker.workflow.conditions.ConditionGreaterThanOrEqualTo) condition to compare the model's accuracy with the threshold. Look at the [Conditions](https://sagemaker.readthedocs.io/en/stable/amazon_sagemaker_model_building_pipeline.html#conditions) section in the documentation for more information about the types of supported conditions.\n",
    "\n",
    "If the model's accuracy is not greater than or equal our threshold, we will send the pipeline to a [Fail Step](https://docs.aws.amazon.com/sagemaker/latest/dg/build-and-manage-steps.html#step-type-fail) with the appropriate error message. Check the [FailStep](https://sagemaker.readthedocs.io/en/stable/workflows/pipelines/sagemaker.workflow.pipelines.html#sagemaker.workflow.fail_step.FailStep) SageMaker's SDK documentation for more information.\n",
    "\n",
    "We are going to use a new [Pipeline Parameter](https://docs.aws.amazon.com/sagemaker/latest/dg/build-and-manage-parameters.html) in our pipeline to specify the minimum accuracy that the model should reach for it to be registered."
   ]
  },
  {
   "cell_type": "code",
   "execution_count": 31,
   "id": "b59376a6-3565-4242-aedd-66eb5fede39c",
   "metadata": {
    "tags": []
   },
   "outputs": [],
   "source": [
    "accuracy_approval_threshold = ParameterFloat(\n",
    "    name=\"accuracy_approval_threshold\",\n",
    "    default_value=0.7\n",
    ")\n",
    "\n",
    "condition_approval_gte = ConditionGreaterThanOrEqualTo(\n",
    "    left=JsonGet(\n",
    "        step_name=evaluate_model_step.name,\n",
    "        property_file=evaluation_report,\n",
    "        json_path=\"metrics.accuracy.value\"\n",
    "    ),\n",
    "    right=accuracy_approval_threshold\n",
    ")\n",
    "\n",
    "condition_approval_step = ConditionStep(\n",
    "    name=\"check-model-approval-type\",\n",
    "    conditions=[condition_approval_gte],\n",
    "    if_steps=[register_model_approved_step],\n",
    "    else_steps=[register_model_pending_approval_step],\n",
    ")\n",
    "\n",
    "condition_approval_2_gte = ConditionGreaterThanOrEqualTo(\n",
    "    left=JsonGet(\n",
    "        step_name=evaluate_model_2_step.name,\n",
    "        property_file=evaluation_2_report,\n",
    "        json_path=\"metrics.accuracy.value\"\n",
    "    ),\n",
    "    right=accuracy_approval_threshold\n",
    ")\n",
    "\n",
    "condition_approval_2_step = ConditionStep(\n",
    "    name=\"check-model-2-approval-type\",\n",
    "    conditions=[condition_approval_2_gte],\n",
    "    if_steps=[register_model_2_approved_step],\n",
    "    else_steps=[register_model_2_pending_approval_step],\n",
    ")"
   ]
  },
  {
   "cell_type": "code",
   "execution_count": 32,
   "id": "36e2a2b1-6711-4266-95d8-d2aebd52e199",
   "metadata": {
    "tags": []
   },
   "outputs": [],
   "source": [
    "accuracy_threshold = ParameterFloat(\n",
    "    name=\"accuracy_threshold\",\n",
    "    default_value=0.5\n",
    ")\n",
    "\n",
    "fail_step = FailStep(\n",
    "    name=\"fail\",\n",
    "    error_message=Join(\n",
    "        on=\" \",\n",
    "        values=[\n",
    "            \"Execution failed because the first model's accuracy was lower than\", \n",
    "            accuracy_threshold\n",
    "        ]\n",
    "    ),\n",
    ")\n",
    "\n",
    "condition_gte = ConditionGreaterThanOrEqualTo(\n",
    "    left=JsonGet(\n",
    "        step_name=evaluate_model_step.name,\n",
    "        property_file=evaluation_report,\n",
    "        json_path=\"metrics.accuracy.value\"\n",
    "    ),\n",
    "    right=accuracy_threshold\n",
    ")\n",
    "\n",
    "condition_step = ConditionStep(\n",
    "    name=\"check-model-accuracy\",\n",
    "    conditions=[condition_gte],\n",
    "    if_steps=[condition_approval_step],\n",
    "    else_steps=[fail_step],\n",
    ")\n",
    "\n",
    "fail_2_step = FailStep(\n",
    "    name=\"fail_2\",\n",
    "    error_message=Join(\n",
    "        on=\" \",\n",
    "        values=[\n",
    "            \"Execution failed because the second model's accuracy was lower than\",\n",
    "            accuracy_threshold\n",
    "        ]\n",
    "    ),\n",
    ")\n",
    "\n",
    "condition_2_gte = ConditionGreaterThanOrEqualTo(\n",
    "    left=JsonGet(\n",
    "        step_name=evaluate_model_2_step.name,\n",
    "        property_file=evaluation_2_report,\n",
    "        json_path=\"metrics.accuracy.value\"\n",
    "    ),\n",
    "    right=accuracy_threshold\n",
    ")\n",
    "\n",
    "condition_2_step = ConditionStep(\n",
    "    name=\"check-model-2-accuracy\",\n",
    "    conditions=[condition_2_gte],\n",
    "    if_steps=[condition_approval_2_step],\n",
    "    else_steps=[fail_2_step],\n",
    ")"
   ]
  },
  {
   "cell_type": "code",
   "execution_count": 33,
   "id": "f70bcd33-b499-4e2b-953e-94d1ed96c10a",
   "metadata": {
    "tags": []
   },
   "outputs": [],
   "source": [
    "session3_pipeline = Pipeline(\n",
    "    name=\"penguins-session3-pipeline\",\n",
    "    parameters=[\n",
    "        dataset_location,\n",
    "        preprocessor_destination,\n",
    "        train_dataset_baseline_destination,\n",
    "        test_dataset_baseline_destination,\n",
    "        accuracy_threshold,\n",
    "        accuracy_approval_threshold\n",
    "    ],\n",
    "    steps=[\n",
    "        preprocess_data_step,\n",
    "        tune_model_step,\n",
    "        evaluate_model_step,\n",
    "        condition_step,\n",
    "        evaluate_model_2_step,\n",
    "        condition_2_step\n",
    "    ],\n",
    ")"
   ]
  },
  {
   "cell_type": "markdown",
   "id": "2309b8fa-f03e-4959-853f-dc2416f82bdd",
   "metadata": {},
   "source": [
    "## Step 7 - Running the Pipeline\n",
    "\n",
    "We can now add the registration of the model to the pipeline. Notice how we add the Condition Step, which will call the Model Step if the condition passes."
   ]
  },
  {
   "cell_type": "markdown",
   "id": "04e98fb1-fdff-4ba4-aea3-0d9f271fb24c",
   "metadata": {},
   "source": [
    "Submit the pipeline definition to the SageMaker Pipelines service to create a pipeline if it doesn't exist or update it if it does."
   ]
  },
  {
   "cell_type": "code",
   "execution_count": 42,
   "id": "4864ab08-7acc-4719-970e-fcce66c5fef5",
   "metadata": {
    "tags": []
   },
   "outputs": [
    {
     "name": "stdout",
     "output_type": "stream",
     "text": [
      "Using provided s3_resource\n",
      "Using provided s3_resource\n"
     ]
    }
   ],
   "source": [
    "session3_pipeline.upsert(role_arn=role)\n",
    "execution = session3_pipeline.start()"
   ]
  },
  {
   "cell_type": "markdown",
   "id": "565cf77e-7fc7-406e-a2e2-40c553f459f7",
   "metadata": {
    "tags": []
   },
   "source": [
    "# Session 4 - Model Deployment\n",
    "\n",
    "This session extends the [SageMaker Pipeline](https://docs.aws.amazon.com/sagemaker/latest/dg/pipelines-sdk.html) with a step to deploy the model to an endpoint. We'll use a [Lambda Step](https://docs.aws.amazon.com/sagemaker/latest/dg/build-and-manage-steps.html#step-type-lambda) to create an endpoint and deploy the model. To control the endpoint's inputs and outputs, we'll modify the model's assets to include code that customizes the processing of a request. \n",
    "\n",
    "At the end of this session, our Pipeline will look like this:\n",
    "\n",
    "<img src='penguins/images/session4-pipeline.png' alt='Session 4 Pipeline' width=\"600\">\n"
   ]
  },
  {
   "cell_type": "code",
   "execution_count": 34,
   "id": "8d585140-7940-4543-9954-b74352e8ff3e",
   "metadata": {
    "tags": []
   },
   "outputs": [],
   "source": [
    "from sagemaker.tensorflow.model import TensorFlowModel\n",
    "from sagemaker.tensorflow.model import TensorFlowPredictor\n",
    "from sagemaker.workflow.lambda_step import LambdaStep, LambdaOutput, LambdaOutputTypeEnum\n",
    "from sagemaker.workflow.parameters import ParameterBoolean\n",
    "from sagemaker.lambda_helper import Lambda\n",
    "from sagemaker.serializers import JSONSerializer\n",
    "from sagemaker.deserializers import JSONDeserializer\n",
    "from sagemaker.s3 import S3Downloader"
   ]
  },
  {
   "cell_type": "markdown",
   "id": "eca780cf-d2f2-4de7-91c5-ce0dcc829ee9",
   "metadata": {},
   "source": [
    "## Step 1 - Deploy Latest Model From Registry\n",
    "\n",
    "Let's get the latest approved model from the Model Registry and deploy it to an endpoint.\n",
    "\n",
    "We can use `boto3` to query the list of approved models and get the latest one. Check the [boto3 SageMaker Client API](https://boto3.amazonaws.com/v1/documentation/api/latest/reference/services/sagemaker.html) for a list of every available method."
   ]
  },
  {
   "cell_type": "code",
   "execution_count": 35,
   "id": "7804ee05-c2de-48ac-96b5-dbb2ebe9836f",
   "metadata": {
    "tags": []
   },
   "outputs": [
    {
     "data": {
      "text/plain": [
       "{'ModelPackageGroupName': 'penguins',\n",
       " 'ModelPackageVersion': 50,\n",
       " 'ModelPackageArn': 'arn:aws:sagemaker:us-west-2:333878796254:model-package/penguins/50',\n",
       " 'CreationTime': datetime.datetime(2023, 7, 4, 5, 6, 8, 860000, tzinfo=tzlocal()),\n",
       " 'ModelPackageStatus': 'Completed',\n",
       " 'ModelApprovalStatus': 'Approved'}"
      ]
     },
     "execution_count": 35,
     "metadata": {},
     "output_type": "execute_result"
    }
   ],
   "source": [
    "response = sagemaker_client.list_model_packages(\n",
    "    ModelPackageGroupName=model_package_group_name,\n",
    "    ModelApprovalStatus=\"Approved\",\n",
    "    SortBy=\"CreationTime\",\n",
    "    MaxResults=1,\n",
    ")\n",
    "\n",
    "package = response[\"ModelPackageSummaryList\"][0]\n",
    "package"
   ]
  },
  {
   "cell_type": "markdown",
   "id": "02b4ff58-235f-4c86-8134-4cfacc45e459",
   "metadata": {},
   "source": [
    "Let's define the name of the endpoint where we'll deploy the model."
   ]
  },
  {
   "cell_type": "code",
   "execution_count": 36,
   "id": "3149cb25-20cb-4561-a29a-cf04f655cf41",
   "metadata": {
    "tags": []
   },
   "outputs": [],
   "source": [
    "endpoint_name = \"penguins-endpoint\""
   ]
  },
  {
   "cell_type": "markdown",
   "id": "119c2a8f-b164-4fd3-8e3d-a084cd3219b7",
   "metadata": {},
   "source": [
    "Using the ARN of the model package from the Model Registry, we can deploy the model by creating a [ModelPackage](https://sagemaker.readthedocs.io/en/stable/api/inference/model.html#sagemaker.model.ModelPackage) instance and calling its `deploy()` function. The model information lives in the Model Registry, so we don't need to specify anything else."
   ]
  },
  {
   "cell_type": "code",
   "execution_count": 49,
   "id": "bdf25ea5-6c5b-4455-9198-9f0aad06ad51",
   "metadata": {
    "tags": []
   },
   "outputs": [
    {
     "name": "stdout",
     "output_type": "stream",
     "text": [
      "---!"
     ]
    }
   ],
   "source": [
    "model_package = ModelPackage(\n",
    "    model_package_arn=package[\"ModelPackageArn\"],\n",
    "    sagemaker_session=sagemaker_session,\n",
    "    role=role,\n",
    ")\n",
    "\n",
    "model_package.deploy(\n",
    "    endpoint_name=endpoint_name,\n",
    "    initial_instance_count=1,\n",
    "    instance_type=\"ml.m5.large\",\n",
    ")"
   ]
  },
  {
   "cell_type": "markdown",
   "id": "76f29a26-4016-435c-8ec3-7639cb90399b",
   "metadata": {},
   "source": [
    "Using a [Predictor](https://sagemaker.readthedocs.io/en/stable/api/inference/predictors.html#sagemaker.predictor.Predictor) from the endpoint name, we can test our model.\n",
    "\n",
    "The payload we need to provide the model is in CSV format. Notice how the model expects data that's already transformed. We can't provide the original data from our dataset because the model will not work with it."
   ]
  },
  {
   "cell_type": "code",
   "execution_count": 50,
   "id": "1cc7e84c-7b19-4442-a2b8-a7c00a504603",
   "metadata": {
    "tags": []
   },
   "outputs": [],
   "source": [
    "model_package.model_data"
   ]
  },
  {
   "cell_type": "code",
   "execution_count": 52,
   "id": "0a291dee-14d3-4c5d-b952-429de0756d39",
   "metadata": {},
   "outputs": [
    {
     "name": "stdout",
     "output_type": "stream",
     "text": [
      "{\n",
      "  \"predictions\": [\n",
      "    [\n",
      "      0.00139828282,\n",
      "      0.00843707658,\n",
      "      0.990164697\n",
      "    ],\n",
      "    [\n",
      "      0.845616,\n",
      "      0.137219205,\n",
      "      0.0171648115\n",
      "    ],\n",
      "    [\n",
      "      0.965408444,\n",
      "      0.0307039786,\n",
      "      0.00388754136\n",
      "    ]\n",
      "  ]\n",
      "}\n",
      "\n",
      "Species: [2 0 0]\n"
     ]
    }
   ],
   "source": [
    "predictor = Predictor(endpoint_name=endpoint_name)\n",
    "\n",
    "payload = \"\"\"\n",
    "0.6569590202313976, -1.0813829646495108, 1.2097102831892812, 0.9226343641317372, 1.0, 0.0, 0.0\n",
    "-0.7751048801481084, 0.8822689351285553,  -1.2168066120762704, 0.9226343641317372, 0.0, 1.0, 0.0\n",
    "-0.837387834894918, 0.3386660813829646, -0.26237731892812, -1.92351941317372, 0.0, 0.0, 1.0\n",
    "\"\"\"\n",
    "\n",
    "response = predictor.predict(payload, initial_args={\"ContentType\": \"text/csv\"})\n",
    "response = json.loads(response.decode(\"utf-8\"))\n",
    "\n",
    "print(json.dumps(response, indent=2))\n",
    "print(f\"\\nSpecies: {np.argmax(response['predictions'], axis=1)}\")"
   ]
  },
  {
   "cell_type": "markdown",
   "id": "75271c1c-b661-4569-aeb6-93f2c6621bdb",
   "metadata": {},
   "source": [
    "Let's now delete the endpoint.predictor.delete_endpoint()"
   ]
  },
  {
   "cell_type": "code",
   "execution_count": 48,
   "id": "283ce0a7-ca8f-46c0-bcdf-2347b0d2f1fc",
   "metadata": {
    "tags": []
   },
   "outputs": [],
   "source": [
    "predictor.delete_endpoint()"
   ]
  },
  {
   "cell_type": "markdown",
   "id": "07fc27c6-31d4-454d-ae5b-1aeba25f0ac0",
   "metadata": {},
   "source": [
    "## Step 2 - Preparing the Inference Code\n",
    "\n",
    "Deploying the model we trained directly to an endpoint doesn't lets us control the data that goes in and comes out of the endpoint. Fortunately, SageMaker allows us to include an `inference.py` file with the model assets from where we can control how the endpoint works. You can see more information about how this works by checking the [SageMaker TensorFlow Serving Container](https://github.com/aws/sagemaker-tensorflow-serving-container) documentation.\n",
    "\n",
    "We want our endpoint to handle unprocessed data in JSON format. Here is an example of the payload we want the endpoint to support:\n",
    "\n",
    "```\n",
    "{\n",
    "    \"island\": \"Biscoe\",\n",
    "    \"culmen_length_mm\": 48.6,\n",
    "    \"culmen_depth_mm\": 16.0,\n",
    "    \"flipper_length_mm\": 230.0,\n",
    "    \"body_mass_g\": 5800.0,\n",
    "}\n",
    "```\n",
    "\n",
    "\n",
    "Let's start by setting up a local folder where we will create the `inference.py` script."
   ]
  },
  {
   "cell_type": "code",
   "execution_count": 37,
   "id": "ac9cec59-c812-4ca9-9f71-d6725de03c3a",
   "metadata": {
    "tags": []
   },
   "outputs": [],
   "source": [
    "CODE_FOLDER = PENGUINS_FOLDER / \"code\"\n",
    "# Create the directory if it does not exist\n",
    "if not os.path.exists(CODE_FOLDER):\n",
    "    os.makedirs(CODE_FOLDER)"
   ]
  },
  {
   "cell_type": "markdown",
   "id": "0a34c1c1-66af-4cf2-b103-8612bd60ce0e",
   "metadata": {},
   "source": [
    "We will include the inference code as part of the model assets to control the inference process on the SageMaker endpoint. SageMaker will automatically call the `handler()` function for every request to the endpoint."
   ]
  },
  {
   "cell_type": "code",
   "execution_count": 38,
   "id": "57e7ad9e-598b-4e28-9a20-a93ad2bb5f7d",
   "metadata": {
    "tags": []
   },
   "outputs": [
    {
     "name": "stdout",
     "output_type": "stream",
     "text": [
      "Overwriting penguins/code/inference.py\n"
     ]
    }
   ],
   "source": [
    "%%writefile $CODE_FOLDER/inference.py\n",
    "\n",
    "import os\n",
    "import json\n",
    "import boto3\n",
    "import requests\n",
    "import numpy as np\n",
    "import pandas as pd\n",
    "\n",
    "from pickle import load\n",
    "from pathlib import Path\n",
    "\n",
    "\n",
    "PIPELINE_FILE = Path(\"/tmp\") / \"pipeline.pkl\"\n",
    "CLASSES_FILE = Path(\"/tmp\") / \"classes.csv\"\n",
    "\n",
    "s3 = boto3.resource(\"s3\")\n",
    "\n",
    "\n",
    "def handler(data, context):\n",
    "    \"\"\"\n",
    "    This is the entrypoint that will be called by SageMaker when the endpoint\n",
    "    receives a request. You can see more information at \n",
    "    https://github.com/aws/sagemaker-tensorflow-serving-container.\n",
    "    \"\"\"\n",
    "    print(\"Handling endpoint request\")\n",
    "    \n",
    "    instance = _process_input(data, context)\n",
    "    output = _predict(instance, context)\n",
    "    return _process_output(output, context)\n",
    "\n",
    "\n",
    "def _process_input(data, context):\n",
    "    print(\"Processing input data...\")\n",
    "    \n",
    "    if context is None:\n",
    "        # The context will be None when we are testing the code\n",
    "        # directly from a notebook. In that case, we can use the\n",
    "        # data directly.\n",
    "        endpoint_input = data\n",
    "    elif context.request_content_type in (\"application/json\", \"application/octet-stream\"):\n",
    "        # When the endpoint is running, we will receive a context\n",
    "        # object. We need to parse the input and turn it into \n",
    "        # JSON in that case.\n",
    "        endpoint_input = json.loads(data.read().decode(\"utf-8\"))\n",
    "\n",
    "        if endpoint_input is None:\n",
    "            raise ValueError(\"There was an error parsing the input request.\")\n",
    "    else:\n",
    "        raise ValueError(f\"Unsupported content type: {context.request_content_type or 'unknown'}\")\n",
    "        \n",
    "    return _transform(endpoint_input)\n",
    "\n",
    "\n",
    "def _predict(instance, context):\n",
    "    print(\"Sending input data to model to make a prediction...\")\n",
    "    \n",
    "    model_input = json.dumps({\"instances\": [instance]})\n",
    "    \n",
    "    if context is None:\n",
    "        # The context will be None when we are testing the code\n",
    "        # directly from a notebook. In that case, we want to return\n",
    "        # a fake prediction back.\n",
    "        result = {\n",
    "            \"predictions\": [\n",
    "                [0.2, 0.5, 0.3]\n",
    "            ]\n",
    "        }\n",
    "    else:\n",
    "        # When the endpoint is running, we will receive a context\n",
    "        # object. In that case we need to send the instance to the\n",
    "        # model to get a prediction back.\n",
    "        response = requests.post(context.rest_uri, data=model_input)\n",
    "        \n",
    "        if response.status_code != 200:\n",
    "            raise ValueError(response.content.decode('utf-8'))\n",
    "            \n",
    "        result = json.loads(response.content)\n",
    "    \n",
    "    print(f\"Response: {result}\")\n",
    "    return result\n",
    "\n",
    "\n",
    "def _process_output(output, context):\n",
    "    print(\"Processing prediction received from the model...\")\n",
    "    \n",
    "    response_content_type = \"application/json\" if context is None else context.accept_header\n",
    "    \n",
    "    prediction = np.argmax(output[\"predictions\"][0])\n",
    "    confidence = output[\"predictions\"][0][prediction]\n",
    "    \n",
    "    print(f\"Prediction: {prediction}. Confidence: {confidence}\")\n",
    "    \n",
    "    result = json.dumps({\n",
    "        \"species\": _get_class(prediction),\n",
    "        \"prediction\": int(prediction),\n",
    "        \"confidence\": confidence\n",
    "    }), response_content_type\n",
    "    \n",
    "    return result\n",
    "\n",
    "\n",
    "def _get_pipeline():\n",
    "    \"\"\"\n",
    "    This function will download the Scikit-Learn pipeline from S3 if it doesn't\n",
    "    already exist. The function will use the `S3_LOCATION` environment\n",
    "    variable to determine the location of the pipeline.\n",
    "    \"\"\"\n",
    "    \n",
    "    if not PIPELINE_FILE.exists():\n",
    "        s3_uri = os.environ.get(\"S3_LOCATION\", None)\n",
    "        \n",
    "        s3_parts = s3_uri.split('/', 3)\n",
    "        bucket = s3_parts[2]\n",
    "        key = s3_parts[3]\n",
    "\n",
    "        s3.Bucket(bucket).download_file(f\"{key}/pipeline.pkl\", str(PIPELINE_FILE))\n",
    "        \n",
    "    return load(open(PIPELINE_FILE, 'rb'))\n",
    "\n",
    "\n",
    "def _get_class(prediction):\n",
    "    \"\"\"\n",
    "    This function returns the class name of a given prediction. \n",
    "    \n",
    "    The function downloads the file with the list of classes from S3 if it doesn't\n",
    "    already exist. The function will use the `S3_LOCATION` environment\n",
    "    variable to determine the location of the file.\n",
    "    \"\"\"\n",
    "    \n",
    "    if not CLASSES_FILE.exists():\n",
    "        s3_uri = os.environ.get(\"S3_LOCATION\", None)\n",
    "        \n",
    "        s3_parts = s3_uri.split('/', 3)\n",
    "        bucket = s3_parts[2]\n",
    "        key = s3_parts[3]\n",
    "\n",
    "        s3.Bucket(bucket).download_file(f\"{key}/classes.csv\", str(CLASSES_FILE))\n",
    "            \n",
    "    with open(CLASSES_FILE) as f:\n",
    "        file = f.readlines()\n",
    "        \n",
    "    classes = list(map(lambda x: x.replace(\"'\", \"\"), file[0].split(',')))\n",
    "    return classes[prediction]\n",
    "\n",
    "\n",
    "def _transform(payload):\n",
    "    \"\"\"\n",
    "    This function transforms the payload in the request using the\n",
    "    Scikit-Learn pipeline that we created during the preprocessing step.\n",
    "    \"\"\"\n",
    "    \n",
    "    print(\"Transforming input data...\")\n",
    "\n",
    "    island = payload.get(\"island\", \"\")\n",
    "    culmen_length_mm = payload.get(\"culmen_length_mm\", 0)\n",
    "    culmen_depth_mm = payload.get(\"culmen_depth_mm\", 0)\n",
    "    flipper_length_mm = payload.get(\"flipper_length_mm\", 0)\n",
    "    body_mass_g = payload.get(\"body_mass_g\", 0)\n",
    "    \n",
    "    data = pd.DataFrame(\n",
    "        columns=[\"island\", \"culmen_length_mm\", \"culmen_depth_mm\", \"flipper_length_mm\", \"body_mass_g\"], \n",
    "        data=[[\n",
    "            island, \n",
    "            culmen_length_mm, \n",
    "            culmen_depth_mm, \n",
    "            flipper_length_mm, \n",
    "            body_mass_g\n",
    "        ]]\n",
    "    )\n",
    "    \n",
    "    result = _get_pipeline().transform(data)\n",
    "    return result[0].tolist()\n"
   ]
  },
  {
   "cell_type": "markdown",
   "id": "a27e2c6d-977e-43ec-98d4-ec66781af582",
   "metadata": {},
   "source": [
    "SageMaker's default TensorFlow inference container doesn't come with Scikit-Learn installed, so we need to provide a `requirements.txt` file with the libraries we want SageMaker to install in our endpoint."
   ]
  },
  {
   "cell_type": "code",
   "execution_count": 39,
   "id": "ed40d098-d553-4d56-b2eb-f80cec420ca5",
   "metadata": {
    "tags": []
   },
   "outputs": [
    {
     "name": "stdout",
     "output_type": "stream",
     "text": [
      "Overwriting penguins/code/requirements.txt\n"
     ]
    }
   ],
   "source": [
    "%%writefile $CODE_FOLDER/requirements.txt\n",
    "\n",
    "numpy==1.19.5\n",
    "pandas==1.2.5\n",
    "scikit-learn==0.23.2"
   ]
  },
  {
   "cell_type": "markdown",
   "id": "656e7e63-39a8-4859-af1e-3e7b1573f9a2",
   "metadata": {},
   "source": [
    "## Step 3 - Testing the Inference Code\n",
    "\n",
    "Let's test the inference code locally to ensure it works before deploying it. The `handler()` function is the entry point that will be called by SageMaker whenever the endpoint receives a request.\n",
    "\n",
    "When testing the inference code, we want to set the `context` to `None` so the function recognizes we are calling it locally. We also want to set the `S3_LOCATION` environment variable to the S3 location of the Scikit-Learn pipeline and the list of supported classes."
   ]
  },
  {
   "cell_type": "code",
   "execution_count": 40,
   "id": "2f56ac31-f733-4a6c-b636-72b20e2d1d76",
   "metadata": {
    "tags": []
   },
   "outputs": [
    {
     "name": "stdout",
     "output_type": "stream",
     "text": [
      "env: S3_LOCATION=s3://julianj-mlschool/penguins/preprocessing\n"
     ]
    }
   ],
   "source": [
    "%env S3_LOCATION=$preprocessor_destination.default_value"
   ]
  },
  {
   "cell_type": "code",
   "execution_count": 41,
   "id": "a7aca49b-2080-4068-80e6-8b3f10e54177",
   "metadata": {
    "tags": []
   },
   "outputs": [
    {
     "name": "stdout",
     "output_type": "stream",
     "text": [
      "Handling endpoint request\n",
      "Processing input data...\n",
      "Transforming input data...\n",
      "Sending input data to model to make a prediction...\n",
      "Response: {'predictions': [[0.2, 0.5, 0.3]]}\n",
      "Processing prediction received from the model...\n",
      "Prediction: 1. Confidence: 0.5\n"
     ]
    },
    {
     "name": "stderr",
     "output_type": "stream",
     "text": [
      "/usr/local/lib/python3.8/site-packages/sklearn/base.py:310: UserWarning: Trying to unpickle estimator SimpleImputer from version 0.23.2 when using version 0.24.2. This might lead to breaking code or invalid results. Use at your own risk.\n",
      "  warnings.warn(\n",
      "/usr/local/lib/python3.8/site-packages/sklearn/base.py:310: UserWarning: Trying to unpickle estimator StandardScaler from version 0.23.2 when using version 0.24.2. This might lead to breaking code or invalid results. Use at your own risk.\n",
      "  warnings.warn(\n",
      "/usr/local/lib/python3.8/site-packages/sklearn/base.py:310: UserWarning: Trying to unpickle estimator Pipeline from version 0.23.2 when using version 0.24.2. This might lead to breaking code or invalid results. Use at your own risk.\n",
      "  warnings.warn(\n",
      "/usr/local/lib/python3.8/site-packages/sklearn/base.py:310: UserWarning: Trying to unpickle estimator OneHotEncoder from version 0.23.2 when using version 0.24.2. This might lead to breaking code or invalid results. Use at your own risk.\n",
      "  warnings.warn(\n",
      "/usr/local/lib/python3.8/site-packages/sklearn/base.py:310: UserWarning: Trying to unpickle estimator ColumnTransformer from version 0.23.2 when using version 0.24.2. This might lead to breaking code or invalid results. Use at your own risk.\n",
      "  warnings.warn(\n"
     ]
    },
    {
     "data": {
      "text/plain": [
       "('{\"species\": \"Chinstrap\", \"prediction\": 1, \"confidence\": 0.5}',\n",
       " 'application/json')"
      ]
     },
     "execution_count": 41,
     "metadata": {},
     "output_type": "execute_result"
    }
   ],
   "source": [
    "from penguins.code.inference import handler\n",
    "\n",
    "handler(\n",
    "    data={\n",
    "        \"island\": \"Biscoe\",\n",
    "        \"culmen_length_mm\": 48.6,\n",
    "        \"culmen_depth_mm\": 16.0,\n",
    "        \"flipper_length_mm\": 230.0,\n",
    "        \"body_mass_g\": 5800.0,\n",
    "    },\n",
    "    context=None\n",
    ")"
   ]
  },
  {
   "cell_type": "markdown",
   "id": "ed63f158-06f3-438b-b489-bb0496f2eddd",
   "metadata": {},
   "source": [
    "## Step 4 - Registering the Model\n",
    "\n",
    "We can now register a new [TensorFlowModel](https://sagemaker.readthedocs.io/en/stable/frameworks/tensorflow/sagemaker.tensorflow.html#tensorflow-serving-model). We must also ensure SageMaker repackages the model assets to include the `inference.py` file.\n",
    "\n",
    "SageMaker triggers a repack whenever we specify the `source_dir` attribute. We want that attribute to point to the local folder containing the `inference.py` file. SageMaker will automatically modify the original `model.tar.gz` package to include a `/code` folder containing the file. Since we need access to Scikit-Learn in our script, we can include a `requirements.txt` file in the same `/code` folder, and SageMaker will install everything in it. To repack the model assets, SageMaker will automatically include a new step in the pipeline right before registering the model.\n",
    "\n",
    "Here is what the new `model.tar.gz` package will look like:\n",
    "\n",
    "```\n",
    "model/\n",
    "    |--[model_version_number]\n",
    "        |--assets/\n",
    "        |--variables/\n",
    "        |--saved_model.pb\n",
    "code/\n",
    "    |--inference.py\n",
    "    |--requirements.txt\n",
    "```\n",
    "\n",
    "Let's use a [ModelStep](https://sagemaker.readthedocs.io/en/stable/workflows/pipelines/sagemaker.workflow.pipelines.html#sagemaker.workflow.model_step.ModelStep) to register the model. Notice the following:\n",
    "\n",
    "* `model_data`: We use the model assets we generated during the Training or Tuning Step. We determined which assets to use back in Session 4 and stored them in the `model_data` variable.\n",
    "* `source_dir`: This points to the local folder containing the `inference.py` file. SageMaker will trigger a repack to include the `/code` folder in the model assets.\n",
    "* `env`: Our custom inference code expects an environment variable `S3_LOCATION` to point to the location of the Scikit-Learn pipeline."
   ]
  },
  {
   "cell_type": "code",
   "execution_count": 42,
   "id": "07513884-c7bd-4710-9730-f8ca7fe904a5",
   "metadata": {
    "tags": []
   },
   "outputs": [
    {
     "name": "stderr",
     "output_type": "stream",
     "text": [
      "/usr/local/lib/python3.8/site-packages/sagemaker/workflow/pipeline_context.py:286: UserWarning: Running within a PipelineSession, there will be No Wait, No Logs, and No Job being started.\n",
      "  warnings.warn(\n"
     ]
    }
   ],
   "source": [
    "model = TensorFlowModel(\n",
    "    model_data=tune_model_step.get_top_model_s3_uri(top_k=0, s3_bucket=sagemaker_session.default_bucket()),\n",
    "    entry_point=\"inference.py\",\n",
    "    source_dir=str(CODE_FOLDER),\n",
    "    env={\n",
    "        \"S3_LOCATION\": preprocessor_destination,\n",
    "    },\n",
    "    framework_version=\"2.6\",\n",
    "    sagemaker_session=PipelineSession(),\n",
    "    role=role,\n",
    ")\n",
    "\n",
    "register_model_step = ModelStep(\n",
    "    name=\"register-model\",\n",
    "    step_args=model.register(\n",
    "        model_package_group_name=model_package_group_name,\n",
    "        model_metrics=model_metrics,\n",
    "        approval_status=\"Approved\",\n",
    "\n",
    "        content_types=[\"application/json\"],\n",
    "        response_types=[\"application/json\"],\n",
    "        inference_instances=[\"ml.m5.large\"],\n",
    "        domain=\"MACHINE_LEARNING\",\n",
    "        task=\"CLASSIFICATION\",\n",
    "        framework=\"TENSORFLOW\",\n",
    "        framework_version=\"2.6\",\n",
    "    )\n",
    ")"
   ]
  },
  {
   "cell_type": "markdown",
   "id": "436b60d5-6be3-428f-9979-4fe9eebfc5eb",
   "metadata": {},
   "source": [
    "## Step 5 - Deploying the Model\n",
    "\n",
    "Let's use a [Lambda Step](https://docs.aws.amazon.com/sagemaker/latest/dg/build-and-manage-steps.html#step-type-lambda) to deploy the model automatically.\n",
    "\n",
    "Let's start by writing the Lambda function to take the model information and create a new hosting endpoint."
   ]
  },
  {
   "cell_type": "code",
   "execution_count": 43,
   "id": "28c75afd-d0d0-47f4-b7b6-9d590c5b600e",
   "metadata": {
    "tags": []
   },
   "outputs": [
    {
     "name": "stdout",
     "output_type": "stream",
     "text": [
      "Overwriting penguins/lambda.py\n"
     ]
    }
   ],
   "source": [
    "%%writefile $PENGUINS_FOLDER/lambda.py\n",
    "\n",
    "import os\n",
    "import json\n",
    "import boto3\n",
    "import time\n",
    "\n",
    "sagemaker = boto3.client(\"sagemaker\")\n",
    "\n",
    "def lambda_handler(event, context):\n",
    "    model_package_arn = event[\"model_package_arn\"]\n",
    "    endpoint_name = event[\"endpoint_name\"]\n",
    "    \n",
    "    data_capture_percentage = event[\"data_capture_percentage\"]\n",
    "    data_capture_destination = event[\"data_capture_destination\"]\n",
    "    \n",
    "    role = event[\"role\"]\n",
    "    \n",
    "    timestamp = time.strftime(\"%m%d%H%M%S\", time.localtime())\n",
    "    model_name = f\"penguins-model-{timestamp}\"\n",
    "    endpoint_config_name = f\"penguins-endpoint-config-{timestamp}\"\n",
    "\n",
    "    sagemaker.create_model(\n",
    "        ModelName=model_name, \n",
    "        ExecutionRoleArn=role, \n",
    "        Containers=[{\n",
    "            \"ModelPackageName\": model_package_arn\n",
    "        }] \n",
    "    )\n",
    "\n",
    "    sagemaker.create_endpoint_config(\n",
    "        EndpointConfigName=endpoint_config_name,\n",
    "        ProductionVariants=[\n",
    "            {\n",
    "                \"ModelName\": model_name,\n",
    "                \"InstanceType\": \"ml.m5.large\",\n",
    "                \"InitialVariantWeight\": 1,\n",
    "                \"InitialInstanceCount\": 1,\n",
    "                \"VariantName\": \"AllTraffic\",\n",
    "            }\n",
    "        ],\n",
    "        DataCaptureConfig={\n",
    "            \"EnableCapture\": True,\n",
    "            \"InitialSamplingPercentage\": data_capture_percentage,\n",
    "            \"DestinationS3Uri\": data_capture_destination,\n",
    "            \"CaptureOptions\": [\n",
    "                {\n",
    "                    'CaptureMode': \"Input\"\n",
    "                },\n",
    "                {\n",
    "                    'CaptureMode': \"Output\"\n",
    "                },\n",
    "            ],\n",
    "            \"CaptureContentTypeHeader\": {\n",
    "                \"JsonContentTypes\": [\n",
    "                    \"application/json\",\n",
    "                    \"application/octect-stream\"\n",
    "                ]\n",
    "            }\n",
    "        },\n",
    "    )\n",
    "\n",
    "    sagemaker.create_endpoint(\n",
    "        EndpointName=endpoint_name, \n",
    "        EndpointConfigName=endpoint_config_name,\n",
    "    )\n",
    "    \n",
    "    return {\n",
    "        \"statusCode\": 200,\n",
    "        \"body\": json.dumps(\"Endpoint deployed successfully\")\n",
    "    }"
   ]
  },
  {
   "cell_type": "markdown",
   "id": "c66a4446-6db4-4515-bb1d-88ee21013bb2",
   "metadata": {},
   "source": [
    "We need to ensure our Lambda function has permission to interact with SageMaker, so let's create a new role to run the function."
   ]
  },
  {
   "cell_type": "code",
   "execution_count": 44,
   "id": "f9941979-c085-4ef9-8c66-908378d89a91",
   "metadata": {
    "tags": []
   },
   "outputs": [],
   "source": [
    "def create_lambda_role(role_name):\n",
    "    try:\n",
    "        response = iam_client.create_role(\n",
    "            RoleName=role_name,\n",
    "            AssumeRolePolicyDocument=json.dumps({\n",
    "                \"Version\": \"2012-10-17\",\n",
    "                \"Statement\": [\n",
    "                    {\n",
    "                        \"Effect\": \"Allow\",\n",
    "                        \"Principal\": {\n",
    "                            \"Service\": \"lambda.amazonaws.com\"\n",
    "                        },\n",
    "                        \"Action\": \"sts:AssumeRole\"\n",
    "                    }\n",
    "                ]\n",
    "            }),\n",
    "            Description=\"Lambda Pipeline Role\"\n",
    "        )\n",
    "\n",
    "        role_arn = response['Role']['Arn']\n",
    "\n",
    "        iam_client.attach_role_policy(\n",
    "            RoleName=role_name,\n",
    "            PolicyArn='arn:aws:iam::aws:policy/service-role/AWSLambdaBasicExecutionRole'\n",
    "        )\n",
    "\n",
    "        iam_client.attach_role_policy(\n",
    "            PolicyArn='arn:aws:iam::aws:policy/AmazonSageMakerFullAccess',\n",
    "            RoleName=role_name\n",
    "        )\n",
    "\n",
    "        return role_arn\n",
    "\n",
    "    except iam_client.exceptions.EntityAlreadyExistsException:\n",
    "        response = iam_client.get_role(RoleName=role_name)\n",
    "        return response['Role']['Arn']\n",
    "\n",
    "\n",
    "lambda_role = create_lambda_role(\"lambda-pipeline-role\")"
   ]
  },
  {
   "cell_type": "markdown",
   "id": "ad4dcc96-2890-43ff-a6cd-f2a9969adc52",
   "metadata": {},
   "source": [
    "## Step 6 - Setting up the Lambda Step\n",
    "\n",
    "Let's define the [LambdaStep](https://sagemaker.readthedocs.io/en/stable/workflows/pipelines/sagemaker.workflow.pipelines.html#sagemaker.workflow.lambda_step.LambdaStep) that will run the function to deploy the model.\n",
    "\n",
    "We can use [Data Capture](https://docs.aws.amazon.com/sagemaker/latest/dg/model-monitor-data-capture.html) to record the inputs and outputs of the endpoint to use them later for monitoring the model. We'll enable Data Capture using the following settings:\n",
    "\n",
    "* `data_capture_percentage`: Represents the percentage of information that flows through the endpoint that we want to capture. For this example, we'll set that to 100%.\n",
    "* `data_capture_destination`: Specifies the S3 location where we want to store the captured data.\n"
   ]
  },
  {
   "cell_type": "code",
   "execution_count": 45,
   "id": "7c6eda89-70f3-49b4-8983-90f4db72fd02",
   "metadata": {
    "tags": []
   },
   "outputs": [],
   "source": [
    "data_capture_percentage = ParameterInteger(\n",
    "    name=\"data_capture_percentage\",\n",
    "    default_value=100,\n",
    ")\n",
    "\n",
    "data_capture_destination = ParameterString(\n",
    "    name=\"data_capture_destination\",\n",
    "    default_value=f\"{S3_FILEPATH}/monitoring/data-capture\",\n",
    ")\n",
    "\n",
    "deploy_fn = Lambda(\n",
    "    function_name=\"deploy_fn\",\n",
    "    execution_role_arn=lambda_role,\n",
    "    script=str(PENGUINS_FOLDER / \"lambda.py\"),\n",
    "    handler=\"lambda.lambda_handler\",\n",
    "    timeout=600\n",
    ")\n",
    "\n",
    "deploy_fn.upsert()\n",
    "\n",
    "deploy_step = LambdaStep(\n",
    "    name=\"deploy\",\n",
    "    lambda_func=deploy_fn,\n",
    "    inputs={\n",
    "        # We use the ARN of the model we registered to\n",
    "        # deploy it to the endpoint.\n",
    "        \"model_package_arn\": register_model_step.properties.ModelPackageArn,\n",
    "\n",
    "        \"endpoint_name\": endpoint_name,\n",
    "\n",
    "        \"data_capture_percentage\": data_capture_percentage,\n",
    "        \"data_capture_destination\": data_capture_destination,\n",
    "\n",
    "        \"role\": role,\n",
    "    }\n",
    ")"
   ]
  },
  {
   "cell_type": "markdown",
   "id": "6cfe2299-be2a-46a7-809e-6174d44abddb",
   "metadata": {},
   "source": [
    "## Step 7 - Modifying the Condition Step\n",
    "\n",
    "We need to modify the [Condition Step](https://docs.aws.amazon.com/sagemaker/latest/dg/build-and-manage-steps.html#step-type-condition) to include the new Deploy Step we just created. If the condition succeeds, we will register and deploy the custom model."
   ]
  },
  {
   "cell_type": "code",
   "execution_count": 46,
   "id": "caacdde0-a65f-4225-8303-2b0106da1ed8",
   "metadata": {
    "tags": []
   },
   "outputs": [],
   "source": [
    "condition_step = ConditionStep(\n",
    "    name=\"check-model-accuracy\",\n",
    "    conditions=[condition_gte],\n",
    "    if_steps=[\n",
    "        register_model_step, deploy_step\n",
    "    ],\n",
    "    else_steps=[fail_step],\n",
    ")"
   ]
  },
  {
   "cell_type": "markdown",
   "id": "ade6d67c-6906-434d-9c41-17a4efeb38d2",
   "metadata": {},
   "source": [
    "## Step 8 - Running the Pipeline\n",
    "\n",
    "We can now run the pipeline. If the pipeline succeeds, there will be a new running endpoint."
   ]
  },
  {
   "cell_type": "code",
   "execution_count": 47,
   "id": "d1969a5e-2ebf-474f-a275-ae0946c2fab8",
   "metadata": {
    "tags": []
   },
   "outputs": [],
   "source": [
    "session4_pipeline = Pipeline(\n",
    "    name=\"penguins-session4-pipeline\",\n",
    "    parameters=[\n",
    "        dataset_location,\n",
    "        preprocessor_destination,\n",
    "        train_dataset_baseline_destination,\n",
    "        test_dataset_baseline_destination,\n",
    "        accuracy_threshold,\n",
    "        data_capture_percentage,\n",
    "        data_capture_destination,\n",
    "    ],\n",
    "    steps=[\n",
    "        preprocess_data_step,\n",
    "        tune_model_step,\n",
    "        evaluate_model_step,\n",
    "        condition_step\n",
    "    ],\n",
    ")"
   ]
  },
  {
   "cell_type": "markdown",
   "id": "5de309b9-6011-40fe-b03d-ff991700c517",
   "metadata": {},
   "source": [
    "Submit the pipeline definition to the SageMaker Pipelines service to create a pipeline if it doesn't exist or update it if it does."
   ]
  },
  {
   "cell_type": "code",
   "execution_count": 69,
   "id": "9e01390f-31a5-44b0-a9ea-2c4697a57aa1",
   "metadata": {
    "tags": []
   },
   "outputs": [
    {
     "name": "stdout",
     "output_type": "stream",
     "text": [
      "Using provided s3_resource\n",
      "Using provided s3_resource\n",
      "Using provided s3_resource\n",
      "Using provided s3_resource\n"
     ]
    }
   ],
   "source": [
    "session4_pipeline.upsert(role_arn=role)\n",
    "execution = session4_pipeline.start()"
   ]
  },
  {
   "cell_type": "markdown",
   "id": "536ca1b1-fdc6-4260-b6f7-ee3c6aab4e76",
   "metadata": {},
   "source": [
    "## Step 9 - Testing the Endpoint\n",
    "\n",
    "We can now create a [Predictor](https://sagemaker.readthedocs.io/en/stable/api/inference/predictors.html) to test the endpoint with a few examples."
   ]
  },
  {
   "cell_type": "markdown",
   "id": "96e32865-705d-4a2e-a7df-7df198aa8c96",
   "metadata": {},
   "source": [
    "First, let's wait for the endpoint to be ready to service traffic."
   ]
  },
  {
   "cell_type": "code",
   "execution_count": 70,
   "id": "17098e7e-fc61-4027-b98f-7f192ffdf9fd",
   "metadata": {
    "tags": []
   },
   "outputs": [],
   "source": [
    "waiter = sagemaker_client.get_waiter(\"endpoint_in_service\")\n",
    "waiter.wait(\n",
    "    EndpointName=endpoint_name,\n",
    "    WaiterConfig={\n",
    "        \"Delay\": 10,\n",
    "        \"MaxAttempts\": 30\n",
    "    }\n",
    ")"
   ]
  },
  {
   "cell_type": "markdown",
   "id": "016bcfc1-32ba-4ec8-93f6-0c04b00cc4f8",
   "metadata": {},
   "source": [
    "Now that the endpoint is in service, we can create a [Predictor](https://sagemaker.readthedocs.io/en/stable/api/inference/predictors.html) using a JSON serializer and a deserializer to have it automatically serialize and deserialize the information to and from the endpoint. Check [Serializers](https://sagemaker.readthedocs.io/en/stable/api/inference/serializers.html) and [Deserializers](https://sagemaker.readthedocs.io/en/stable/api/inference/deserializers.html) for a list of supported serializers and deserializers."
   ]
  },
  {
   "cell_type": "code",
   "execution_count": 71,
   "id": "862118a0-c00b-4f5a-9374-68a94dbfbc0c",
   "metadata": {
    "tags": []
   },
   "outputs": [],
   "source": [
    "predictor = Predictor(\n",
    "    endpoint_name=endpoint_name,\n",
    "    serializer=JSONSerializer(),\n",
    "    deserializer=JSONDeserializer()\n",
    ")"
   ]
  },
  {
   "cell_type": "markdown",
   "id": "529b98a7-2f36-4e4e-a277-c5172e5fbe51",
   "metadata": {
    "tags": []
   },
   "source": [
    "Running one example through the endpoint."
   ]
  },
  {
   "cell_type": "code",
   "execution_count": 72,
   "id": "8148ef38-92ed-4f9a-8024-69e2d9d6b5d4",
   "metadata": {
    "tags": []
   },
   "outputs": [
    {
     "data": {
      "text/plain": [
       "{'species': 'Chinstrap', 'prediction': 1, 'confidence': 0.515617669}"
      ]
     },
     "execution_count": 72,
     "metadata": {},
     "output_type": "execute_result"
    }
   ],
   "source": [
    "predictor.predict({\n",
    "    \"island\": \"Dream\",\n",
    "    \"culmen_length_mm\": 46.4,\n",
    "    \"culmen_depth_mm\": 18.6,\n",
    "    \"flipper_length_mm\": 190.0,\n",
    "    \"body_mass_g\": 3450.0,\n",
    "})"
   ]
  },
  {
   "cell_type": "markdown",
   "id": "9075ef4c-36a8-4c5d-88ef-2a3e49abdd51",
   "metadata": {},
   "source": [
    "Running another example."
   ]
  },
  {
   "cell_type": "code",
   "execution_count": 73,
   "id": "2476337f-a39b-45d5-ab57-63567c3f0438",
   "metadata": {
    "tags": []
   },
   "outputs": [
    {
     "data": {
      "text/plain": [
       "{'species': 'Gentoo', 'prediction': 2, 'confidence': 0.974537253}"
      ]
     },
     "execution_count": 73,
     "metadata": {},
     "output_type": "execute_result"
    }
   ],
   "source": [
    "predictor.predict({\n",
    "    \"island\": \"Biscoe\",\n",
    "    \"culmen_length_mm\": 48.6,\n",
    "    \"culmen_depth_mm\": 16.0,\n",
    "    \"flipper_length_mm\": 230.0,\n",
    "    \"body_mass_g\": 5800.0,\n",
    "})"
   ]
  },
  {
   "cell_type": "code",
   "execution_count": 74,
   "id": "e393188b-5491-4f3e-9f64-e716ebd2174f",
   "metadata": {
    "tags": []
   },
   "outputs": [
    {
     "data": {
      "text/plain": [
       "{'species': 'Adelie', 'prediction': 0, 'confidence': 0.568358302}"
      ]
     },
     "execution_count": 74,
     "metadata": {},
     "output_type": "execute_result"
    }
   ],
   "source": [
    "predictor.predict({\n",
    "    \"island\": \"Torgersen\",\n",
    "    \"culmen_length_mm\": 39.2,\n",
    "    \"culmen_depth_mm\": 19.6,\n",
    "    \"flipper_length_mm\": 195,\n",
    "    \"body_mass_g\": 4675,\n",
    "})"
   ]
  },
  {
   "cell_type": "markdown",
   "id": "d34fcdcd-cc9e-4cf5-8da1-3dc73cb6b59a",
   "metadata": {},
   "source": [
    "## Step 10 - Cleaning up\n",
    "\n",
    "Before you finish, don't forget to clean up after yourself."
   ]
  },
  {
   "cell_type": "code",
   "execution_count": 75,
   "id": "0cf877e9-e1bc-40f0-acaa-64b6a5e6650f",
   "metadata": {
    "tags": []
   },
   "outputs": [],
   "source": [
    "predictor.delete_endpoint()"
   ]
  },
  {
   "cell_type": "markdown",
   "id": "e544ae36-00b3-4bde-b133-c3a59bb7f1d8",
   "metadata": {},
   "source": [
    "# Session 5 - Data Monitoring\n",
    "\n",
    "This session aims to set up a monitoring process to analyze the quality of the data our endpoint receives in production. For this, we will have SageMaker capture and evaluate the data observed by the endpoint.\n",
    "\n",
    "To enable this functionality, we need a couple of steps:\n",
    "\n",
    "1. Create a baseline to compare the real-time traffic.\n",
    "2. Set up a schedule to continuously evaluate and compare against the baseline.\n",
    "\n",
    "Notice that the Data Quality process uses the baseline dataset we generated during preprocessing. This baseline dataset is the same unprocessed train set in JSON format. We do this because we transformed the train data during the preprocessing step, but we need raw data because that's what the endpoint expects.\n",
    "\n",
    "Check [Amazon SageMaker Model Monitor](https://sagemaker.readthedocs.io/en/stable/amazon_sagemaker_model_monitoring.html) for a brief explanation of how to use SageMaker's Model Monitoring functionality. [Monitor models for data and model quality, bias, and explainability](https://docs.aws.amazon.com/sagemaker/latest/dg/model-monitor.html) is a much more extensive guide to monitoring in Amazon SageMaker.\n",
    "\n",
    "Here is what the Pipeline will look like at the end of this session:\n",
    "\n",
    "<img src='penguins/images/session5-pipeline.png' alt='Session 5 Pipeline' width=\"600\">\n"
   ]
  },
  {
   "cell_type": "code",
   "execution_count": 48,
   "id": "2c7e2f9d-cc75-46bc-8700-f7123292fac5",
   "metadata": {
    "tags": []
   },
   "outputs": [],
   "source": [
    "import random\n",
    "\n",
    "from time import sleep\n",
    "from datetime import datetime\n",
    "from threading import Thread, Event\n",
    "\n",
    "from IPython.display import JSON\n",
    "\n",
    "from sagemaker.workflow.check_job_config import CheckJobConfig\n",
    "from sagemaker.workflow.quality_check_step import DataQualityCheckConfig, QualityCheckStep\n",
    "from sagemaker.workflow.execution_variables import ExecutionVariables\n",
    "\n",
    "from sagemaker.drift_check_baselines import DriftCheckBaselines\n",
    "from sagemaker.workflow.parameters import ParameterBoolean\n",
    "from sagemaker.model import Model\n",
    "from sagemaker.model_monitor import (\n",
    "    CronExpressionGenerator, EndpointInput, DefaultModelMonitor, MonitoringExecution\n",
    ")\n",
    "from sagemaker.model_monitor.dataset_format import DatasetFormat\n",
    "from sagemaker.s3 import S3Uploader"
   ]
  },
  {
   "cell_type": "markdown",
   "id": "24c26ac4-5d30-41e9-8952-e4deb39de819",
   "metadata": {},
   "source": [
    "## Step 1 - Generating a Baseline\n",
    "\n",
    "Let's now configure the [Quality Check Step](https://docs.aws.amazon.com/sagemaker/latest/dg/build-and-manage-steps.html#step-type-quality-check) and feed it the train set we generated in the preprocessing step.\n",
    "\n",
    "We can configure the instance that will run the quality check using the [CheckJobConfig](https://sagemaker.readthedocs.io/en/v2.73.0/workflows/pipelines/sagemaker.workflow.pipelines.html#sagemaker.workflow.check_job_config.CheckJobConfig) class, and we can use the `DataQualityCheckConfig` class to configure the job."
   ]
  },
  {
   "cell_type": "code",
   "execution_count": 49,
   "id": "0b80bcab-d2c5-437c-a1c8-8eea208c0e29",
   "metadata": {
    "tags": []
   },
   "outputs": [],
   "source": [
    "data_quality_location = f\"{S3_FILEPATH}/monitoring/data-quality/\"\n",
    "\n",
    "data_quality_baseline_step = QualityCheckStep(\n",
    "    name=\"generate-data-quality-baseline\",\n",
    "\n",
    "    check_job_config=CheckJobConfig(\n",
    "        instance_type=\"ml.t3.xlarge\",\n",
    "        instance_count=1,\n",
    "        volume_size_in_gb=20,\n",
    "        sagemaker_session=sagemaker_session,\n",
    "        role=role,\n",
    "    ),\n",
    "\n",
    "    quality_check_config=DataQualityCheckConfig(\n",
    "        # We will use the train dataset we generated during the preprocessing\n",
    "        # step to generate the data quality baseline.\n",
    "        baseline_dataset=preprocess_data_step.properties.ProcessingOutputConfig.Outputs[\"train-baseline\"].S3Output.S3Uri,\n",
    "\n",
    "        dataset_format=DatasetFormat.json(lines=True),\n",
    "        # output_s3_uri=Join(on='/', values=[S3_FILEPATH, \"monitoring\", \"data-quality\"]),\n",
    "        output_s3_uri=data_quality_location\n",
    "    ),\n",
    "\n",
    "    skip_check=True,\n",
    "    register_new_baseline=True,\n",
    "    model_package_group_name=model_package_group_name,\n",
    "    cache_config=cache_config\n",
    ")"
   ]
  },
  {
   "cell_type": "markdown",
   "id": "08936035-1a36-4a0c-9529-76cc60b7850d",
   "metadata": {},
   "source": [
    "## Step 2 - Running the Pipeline\n",
    "\n",
    "We can now run the pipeline."
   ]
  },
  {
   "cell_type": "code",
   "execution_count": 50,
   "id": "8c926da4-043a-4237-ac71-90ef18cf806b",
   "metadata": {
    "tags": []
   },
   "outputs": [],
   "source": [
    "session5_pipeline = Pipeline(\n",
    "    name=\"penguins-session5-pipeline\",\n",
    "    parameters=[\n",
    "        dataset_location,\n",
    "        preprocessor_destination,\n",
    "        train_dataset_baseline_destination,\n",
    "        test_dataset_baseline_destination,\n",
    "        data_capture_percentage,\n",
    "        data_capture_destination,\n",
    "        accuracy_threshold,\n",
    "    ],\n",
    "    steps=[\n",
    "        preprocess_data_step,\n",
    "        data_quality_baseline_step,\n",
    "        tune_model_step,\n",
    "        evaluate_model_step,\n",
    "        condition_step\n",
    "    ],\n",
    ")"
   ]
  },
  {
   "cell_type": "markdown",
   "id": "34b9aeb7-1c63-470a-80dc-d5932715c088",
   "metadata": {},
   "source": [
    "Submit the pipeline definition to the SageMaker Pipelines service to create a pipeline if it doesn't exist or update it if it does."
   ]
  },
  {
   "cell_type": "code",
   "execution_count": 79,
   "id": "0eb61f6e-2e07-4b11-9c50-3df8ab2164bb",
   "metadata": {
    "tags": []
   },
   "outputs": [
    {
     "name": "stdout",
     "output_type": "stream",
     "text": [
      "Using provided s3_resource\n",
      "Using provided s3_resource\n",
      "Using provided s3_resource\n",
      "Using provided s3_resource\n"
     ]
    }
   ],
   "source": [
    "session5_pipeline.upsert(role_arn=role)\n",
    "execution = session5_pipeline.start()"
   ]
  },
  {
   "cell_type": "markdown",
   "id": "0e395ed4-4423-4188-bfef-1ee4a309928c",
   "metadata": {
    "tags": []
   },
   "source": [
    "## Step 3 - Statistics and Constraints\n",
    "\n",
    "Our pipeline generated baseline statistics and constraints using our train set. We can take a look at what these values look like by downloading them from S3."
   ]
  },
  {
   "cell_type": "code",
   "execution_count": 80,
   "id": "4c6670fa-8560-4c12-9400-235bf1b10a7a",
   "metadata": {
    "tags": []
   },
   "outputs": [
    {
     "data": {
      "application/json": {
       "dataset": {
        "item_count": 240
       },
       "features": [
        {
         "inferred_type": "Fractional",
         "name": "body_mass_g",
         "numerical_statistics": {
          "common": {
           "num_missing": 0,
           "num_present": 240
          },
          "distribution": {
           "kll": {
            "buckets": [
             {
              "count": 11,
              "lower_bound": 2700,
              "upper_bound": 3060
             },
             {
              "count": 29,
              "lower_bound": 3060,
              "upper_bound": 3420
             },
             {
              "count": 50,
              "lower_bound": 3420,
              "upper_bound": 3780
             },
             {
              "count": 36,
              "lower_bound": 3780,
              "upper_bound": 4140
             },
             {
              "count": 27,
              "lower_bound": 4140,
              "upper_bound": 4500
             },
             {
              "count": 31,
              "lower_bound": 4500,
              "upper_bound": 4860
             },
             {
              "count": 22,
              "lower_bound": 4860,
              "upper_bound": 5220
             },
             {
              "count": 17,
              "lower_bound": 5220,
              "upper_bound": 5580
             },
             {
              "count": 12,
              "lower_bound": 5580,
              "upper_bound": 5940
             },
             {
              "count": 5,
              "lower_bound": 5940,
              "upper_bound": 6300
             }
            ],
            "sketch": {
             "data": [
              [
               5000,
               3500,
               4900,
               5800,
               3675,
               3250,
               3750,
               5700,
               5350,
               3600,
               3500,
               3950,
               5700,
               4850,
               2900,
               3700,
               4100,
               3900,
               3800,
               5100,
               4400,
               5500,
               3725,
               4650,
               5000,
               4850,
               3300,
               4400,
               5550,
               4600,
               4750,
               3900,
               4300,
               3475,
               3900,
               3500,
               3450,
               3475,
               5850,
               4300,
               5200,
               3700,
               5200,
               4100,
               3550,
               4625,
               3500,
               3400,
               4200,
               3000,
               3700,
               4250,
               3300,
               3200,
               4100,
               3600,
               3250,
               3800,
               3450,
               4900,
               4300,
               3775,
               3200,
               3350,
               4925,
               3250,
               5200,
               3450,
               3950,
               3175,
               4350,
               3650,
               4050,
               3400,
               3475,
               3800,
               5400,
               3650,
               3150,
               3775,
               3325,
               3800,
               3075,
               4500,
               4700,
               3250,
               3800,
               5050,
               3950,
               3750,
               4300,
               4000,
               3700,
               3050,
               3950,
               5000,
               5850,
               4300,
               4600,
               3050,
               5000,
               5400,
               5500,
               4550,
               3700,
               3550,
               3900,
               4150,
               2900,
               3650,
               4700,
               3000,
               5700,
               5050,
               3975,
               4950,
               3600,
               3500,
               4000,
               5050,
               4875,
               5000,
               5550,
               4150,
               5500,
               3725,
               4700,
               5950,
               5850,
               3550,
               3500,
               3550,
               5550,
               6000,
               5250,
               4000,
               4650,
               4725,
               4200,
               5650,
               3875,
               3900,
               4450,
               5300,
               3200,
               5650,
               4075,
               4600,
               4050,
               3900,
               3500,
               4850,
               5550,
               3900,
               3400,
               3700,
               3275,
               4250,
               3350,
               3450,
               3600,
               3150,
               3950,
               3200,
               4200,
               4700,
               3700,
               4750,
               6000,
               3625,
               5350,
               4750,
               2850,
               3050,
               3700,
               3300,
               4600,
               3800,
               3575,
               6300,
               4800,
               2975,
               4700,
               4750,
               4250,
               4400,
               3800,
               4850,
               3700,
               3050,
               5250,
               4300,
               3325,
               3400,
               4800,
               4400,
               3250,
               4400,
               5300,
               5700,
               5950,
               4150,
               3175,
               5400,
               4450,
               4300,
               3550,
               5600,
               4950,
               2700,
               4650,
               3825,
               5200,
               3900,
               5150,
               5400,
               3950,
               5100,
               4500,
               4250,
               4625,
               3150,
               3525,
               3675,
               3725,
               4250,
               5100,
               3950,
               4200,
               3350,
               3450,
               5600,
               4700,
               3800,
               3700,
               4725,
               3450,
               3400,
               3950,
               4750
              ]
             ],
             "parameters": {
              "c": 0.64,
              "k": 2048
             }
            }
           }
          },
          "max": 6300,
          "mean": 4216.458333333333,
          "min": 2700,
          "std_dev": 812.1890163403398,
          "sum": 1011950
         }
        },
        {
         "inferred_type": "Fractional",
         "name": "culmen_depth_mm",
         "numerical_statistics": {
          "common": {
           "num_missing": 0,
           "num_present": 240
          },
          "distribution": {
           "kll": {
            "buckets": [
             {
              "count": 16,
              "lower_bound": 13.1,
              "upper_bound": 13.94
             },
             {
              "count": 26,
              "lower_bound": 13.94,
              "upper_bound": 14.78
             },
             {
              "count": 24,
              "lower_bound": 14.78,
              "upper_bound": 15.620000000000001
             },
             {
              "count": 23,
              "lower_bound": 15.620000000000001,
              "upper_bound": 16.46
             },
             {
              "count": 33,
              "lower_bound": 16.46,
              "upper_bound": 17.3
             },
             {
              "count": 41,
              "lower_bound": 17.3,
              "upper_bound": 18.14
             },
             {
              "count": 34,
              "lower_bound": 18.14,
              "upper_bound": 18.98
             },
             {
              "count": 25,
              "lower_bound": 18.98,
              "upper_bound": 19.82
             },
             {
              "count": 13,
              "lower_bound": 19.82,
              "upper_bound": 20.66
             },
             {
              "count": 5,
              "lower_bound": 20.66,
              "upper_bound": 21.5
             }
            ],
            "sketch": {
             "data": [
              [
               14.5,
               18.6,
               13.9,
               16.2,
               17.9,
               18,
               19.1,
               14.3,
               15.1,
               17.3,
               17,
               19.5,
               15.2,
               14.2,
               18.1,
               18.6,
               14.3,
               18.4,
               19.5,
               15.6,
               21.1,
               15,
               17,
               15.2,
               13.1,
               14.7,
               17.1,
               13.9,
               15.3,
               14.2,
               15,
               19.5,
               18.9,
               18.1,
               16.8,
               17.7,
               18.8,
               18.4,
               14.6,
               20.8,
               15.3,
               17.8,
               15.7,
               18.5,
               17.5,
               14.4,
               18.5,
               18.3,
               21.5,
               16.9,
               17.8,
               18.5,
               19.3,
               16.6,
               19.1,
               18.6,
               18.2,
               18.8,
               17.9,
               14.4,
               13.7,
               20.3,
               17.9,
               17.8,
               15.8,
               16.6,
               14.8,
               19.3,
               20,
               17.5,
               13.6,
               17.5,
               19.7,
               17.5,
               17.2,
               21.2,
               16.1,
               17,
               17.2,
               20.5,
               17.9,
               17.8,
               16,
               19.9,
               14.2,
               18.7,
               19,
               14.5,
               19.5,
               18.7,
               18.1,
               19.8,
               17.3,
               15.5,
               18.9,
               15,
               16,
               18.3,
               20.3,
               16.6,
               15,
               16.3,
               16.3,
               20,
               17.5,
               20.3,
               17.5,
               13.5,
               17,
               16.5,
               15,
               16.8,
               16,
               15.8,
               20.1,
               15,
               17,
               19.8,
               19.1,
               15.4,
               14.6,
               15.2,
               17,
               18.9,
               15.8,
               19.8,
               14.7,
               16.4,
               15.7,
               19.1,
               17.9,
               18.9,
               15.3,
               16.3,
               17.3,
               19,
               13.7,
               20,
               13.9,
               16.1,
               18.5,
               19.4,
               14.5,
               14.2,
               17.6,
               15.7,
               18.3,
               14.3,
               19.9,
               18.1,
               19.2,
               15,
               15.9,
               18.4,
               18.4,
               17.8,
               17.6,
               18.6,
               17,
               19,
               19,
               18.6,
               19,
               17.2,
               14.6,
               14.2,
               18.6,
               13.8,
               16.2,
               17.8,
               15.9,
               15,
               17.1,
               15.9,
               17.1,
               17.3,
               18.8,
               19.4,
               17.1,
               15.2,
               20.7,
               18.9,
               17.6,
               13.8,
               17.9,
               18.2,
               17.2,
               14.3,
               19.9,
               17.1,
               15.3,
               19.6,
               17,
               17.1,
               14.5,
               14.5,
               16.7,
               19.7,
               14.1,
               16.3,
               15.9,
               18.9,
               17,
               17.1,
               18.5,
               18.9,
               16.1,
               17.3,
               13.7,
               16.6,
               13.7,
               16.5,
               14.8,
               18.9,
               15.4,
               14.5,
               18.1,
               13.3,
               13.2,
               20,
               14.5,
               18,
               19.4,
               17.3,
               17.9,
               20.2,
               15.1,
               17.8,
               13.8,
               17.3,
               17.9,
               17,
               14.2,
               18.8,
               17.3,
               13.8,
               17,
               17.1,
               18,
               14.5
              ]
             ],
             "parameters": {
              "c": 0.64,
              "k": 2048
             }
            }
           }
          },
          "max": 21.5,
          "mean": 17.057083333333335,
          "min": 13.1,
          "std_dev": 1.9643997793360588,
          "sum": 4093.7000000000003
         }
        },
        {
         "inferred_type": "Fractional",
         "name": "culmen_length_mm",
         "numerical_statistics": {
          "common": {
           "num_missing": 0,
           "num_present": 240
          },
          "distribution": {
           "kll": {
            "buckets": [
             {
              "count": 7,
              "lower_bound": 32.1,
              "upper_bound": 34.69
             },
             {
              "count": 24,
              "lower_bound": 34.69,
              "upper_bound": 37.28
             },
             {
              "count": 36,
              "lower_bound": 37.28,
              "upper_bound": 39.87
             },
             {
              "count": 30,
              "lower_bound": 39.87,
              "upper_bound": 42.46
             },
             {
              "count": 21,
              "lower_bound": 42.46,
              "upper_bound": 45.05
             },
             {
              "count": 52,
              "lower_bound": 45.05,
              "upper_bound": 47.64
             },
             {
              "count": 37,
              "lower_bound": 47.64,
              "upper_bound": 50.230000000000004
             },
             {
              "count": 25,
              "lower_bound": 50.230000000000004,
              "upper_bound": 52.82
             },
             {
              "count": 5,
              "lower_bound": 52.82,
              "upper_bound": 55.41
             },
             {
              "count": 3,
              "lower_bound": 55.41,
              "upper_bound": 58
             }
            ],
            "sketch": {
             "data": [
              [
               45.1,
               36.9,
               43.6,
               49.5,
               50.9,
               40.3,
               37.6,
               50.2,
               48.7,
               45.7,
               45.5,
               49,
               50,
               46.6,
               34.5,
               38.1,
               44.5,
               40.8,
               36.3,
               48.2,
               34.6,
               49.1,
               40.7,
               43.5,
               42.9,
               44.5,
               37.8,
               45.7,
               50,
               47.5,
               49.6,
               50,
               40.1,
               34.1,
               47.5,
               39.6,
               52.2,
               36.6,
               48.4,
               54.2,
               46.7,
               36.6,
               50.8,
               43.2,
               39,
               48.4,
               36.8,
               37.8,
               46,
               37,
               58,
               42.8,
               37.6,
               40.9,
               41.1,
               49.7,
               46.1,
               50.2,
               35,
               46.5,
               45.3,
               51.7,
               40.5,
               37.3,
               49.4,
               45.2,
               45.2,
               36.7,
               38.8,
               35.6,
               44,
               46.2,
               50.7,
               48.5,
               40.6,
               38.6,
               49.9,
               45.7,
               36.2,
               37.3,
               38.5,
               46.6,
               37.7,
               53.5,
               42.8,
               51.5,
               49.5,
               45.1,
               51.9,
               39.1,
               41.1,
               55.8,
               47,
               32.1,
               40.5,
               50.1,
               55.1,
               41.5,
               45.6,
               35.9,
               45.5,
               48.4,
               51.5,
               52.8,
               35.5,
               41.3,
               41.1,
               42,
               38.6,
               46.8,
               46.4,
               37.3,
               49.6,
               46.3,
               40.2,
               47.5,
               37.6,
               37.7,
               42.1,
               45,
               46.9,
               50.5,
               52.1,
               45.8,
               53.4,
               52.7,
               41.7,
               45.2,
               49.3,
               50.9,
               46.5,
               39.7,
               50.4,
               51.1,
               44.4,
               40.6,
               40.9,
               41,
               45.5,
               49.5,
               41.4,
               37.2,
               43.2,
               51.3,
               41.1,
               54.3,
               42.7,
               48.2,
               49.3,
               37.2,
               43.1,
               48.5,
               50.5,
               39.7,
               50.5,
               46.4,
               38.8,
               39.2,
               35.7,
               38.7,
               33.5,
               37.9,
               51.4,
               34.6,
               45.8,
               43.5,
               41.4,
               44.9,
               48.8,
               38.9,
               50,
               47.7,
               36.4,
               35.2,
               36,
               36.2,
               39.6,
               50.6,
               45.9,
               49.2,
               52,
               37.5,
               42.9,
               45.2,
               39.7,
               49.2,
               38.8,
               46.8,
               51.3,
               39,
               47.3,
               49,
               36.4,
               34,
               46.2,
               46.5,
               39.5,
               44.1,
               48.5,
               50,
               49.8,
               46,
               38.1,
               52.2,
               50.8,
               40.8,
               36.2,
               50.8,
               42.6,
               46.9,
               45.5,
               38.1,
               46.5,
               40.9,
               46.8,
               47.6,
               38.2,
               44.9,
               46.1,
               37.8,
               49.1,
               36.5,
               45.6,
               49.8,
               35,
               42,
               46.1,
               45.2,
               45.3,
               42.5,
               36,
               55.9,
               45.8,
               40.6,
               37.8,
               47.3,
               40.2,
               40.2,
               41.6,
               45.5
              ]
             ],
             "parameters": {
              "c": 0.64,
              "k": 2048
             }
            }
           }
          },
          "max": 58,
          "mean": 44.08083333333331,
          "min": 32.1,
          "std_dev": 5.503465511737935,
          "sum": 10579.399999999994
         }
        },
        {
         "inferred_type": "Fractional",
         "name": "flipper_length_mm",
         "numerical_statistics": {
          "common": {
           "num_missing": 0,
           "num_present": 240
          },
          "distribution": {
           "kll": {
            "buckets": [
             {
              "count": 3,
              "lower_bound": 172,
              "upper_bound": 177.9
             },
             {
              "count": 15,
              "lower_bound": 177.9,
              "upper_bound": 183.8
             },
             {
              "count": 34,
              "lower_bound": 183.8,
              "upper_bound": 189.7
             },
             {
              "count": 58,
              "lower_bound": 189.7,
              "upper_bound": 195.6
             },
             {
              "count": 26,
              "lower_bound": 195.6,
              "upper_bound": 201.5
             },
             {
              "count": 12,
              "lower_bound": 201.5,
              "upper_bound": 207.4
             },
             {
              "count": 28,
              "lower_bound": 207.4,
              "upper_bound": 213.3
             },
             {
              "count": 32,
              "lower_bound": 213.3,
              "upper_bound": 219.2
             },
             {
              "count": 20,
              "lower_bound": 219.2,
              "upper_bound": 225.1
             },
             {
              "count": 12,
              "lower_bound": 225.1,
              "upper_bound": 231
             }
            ],
            "sketch": {
             "data": [
              [
               215,
               189,
               217,
               229,
               196,
               195,
               194,
               218,
               222,
               193,
               196,
               210,
               218,
               210,
               187,
               190,
               216,
               195,
               190,
               221,
               198,
               228,
               190,
               213,
               215,
               214,
               186,
               214,
               220,
               209,
               216,
               196,
               188,
               193,
               199,
               186,
               197,
               184,
               213,
               201,
               219,
               185,
               226,
               192,
               186,
               203,
               193,
               174,
               194,
               185,
               181,
               195,
               181,
               187,
               188,
               195,
               178,
               202,
               190,
               217,
               210,
               194,
               187,
               191,
               216,
               191,
               212,
               193,
               190,
               191,
               208,
               187,
               203,
               191,
               187,
               191,
               213,
               195,
               187,
               199,
               190,
               193,
               183,
               205,
               209,
               187,
               200,
               207,
               206,
               181,
               205,
               207,
               185,
               188,
               180,
               225,
               230,
               195,
               191,
               190,
               220,
               220,
               230,
               205,
               190,
               194,
               190,
               210,
               188,
               189,
               216,
               192,
               225,
               215,
               200,
               218,
               185,
               198,
               195,
               220,
               222,
               216,
               230,
               197,
               219,
               197,
               210,
               223,
               217,
               196,
               192,
               184,
               224,
               220,
               219,
               199,
               214,
               203,
               210,
               224,
               202,
               184,
               208,
               218,
               182,
               231,
               196,
               210,
               203,
               178,
               197,
               219,
               222,
               190,
               200,
               191,
               191,
               190,
               189,
               195,
               190,
               172,
               201,
               189,
               210,
               220,
               191,
               212,
               222,
               181,
               224,
               216,
               184,
               186,
               187,
               187,
               190,
               193,
               190,
               221,
               210,
               179,
               196,
               215,
               193,
               195,
               180,
               215,
               198,
               191,
               222,
               212,
               195,
               185,
               209,
               213,
               178,
               196,
               220,
               230,
               229,
               195,
               181,
               228,
               201,
               208,
               187,
               228,
               213,
               192,
               214,
               198,
               217,
               184,
               215,
               215,
               185,
               213,
               211,
               190,
               212,
               182,
               194,
               198,
               192,
               190,
               215,
               198,
               208,
               187,
               190,
               228,
               219,
               193,
               180,
               216,
               176,
               193,
               192,
               212
              ]
             ],
             "parameters": {
              "c": 0.64,
              "k": 2048
             }
            }
           }
          },
          "max": 231,
          "mean": 201.30833333333334,
          "min": 172,
          "std_dev": 14.370859307022053,
          "sum": 48314
         }
        },
        {
         "inferred_type": "Integral",
         "name": "groundtruth",
         "numerical_statistics": {
          "common": {
           "num_missing": 0,
           "num_present": 240
          },
          "distribution": {
           "kll": {
            "buckets": [
             {
              "count": 102,
              "lower_bound": 0,
              "upper_bound": 0.2
             },
             {
              "count": 0,
              "lower_bound": 0.2,
              "upper_bound": 0.4
             },
             {
              "count": 0,
              "lower_bound": 0.4,
              "upper_bound": 0.6
             },
             {
              "count": 0,
              "lower_bound": 0.6,
              "upper_bound": 0.8
             },
             {
              "count": 0,
              "lower_bound": 0.8,
              "upper_bound": 1
             },
             {
              "count": 48,
              "lower_bound": 1,
              "upper_bound": 1.2
             },
             {
              "count": 0,
              "lower_bound": 1.2,
              "upper_bound": 1.4
             },
             {
              "count": 0,
              "lower_bound": 1.4,
              "upper_bound": 1.6
             },
             {
              "count": 0,
              "lower_bound": 1.6,
              "upper_bound": 1.8
             },
             {
              "count": 90,
              "lower_bound": 1.8,
              "upper_bound": 2
             }
            ],
            "sketch": {
             "data": [
              [
               2,
               0,
               2,
               2,
               1,
               0,
               0,
               2,
               2,
               1,
               1,
               1,
               2,
               2,
               0,
               0,
               2,
               0,
               0,
               2,
               0,
               2,
               0,
               2,
               2,
               2,
               0,
               2,
               2,
               2,
               2,
               1,
               0,
               0,
               1,
               0,
               1,
               0,
               2,
               1,
               2,
               0,
               2,
               0,
               0,
               2,
               0,
               0,
               0,
               0,
               1,
               0,
               0,
               1,
               0,
               1,
               1,
               1,
               0,
               2,
               2,
               1,
               0,
               0,
               2,
               1,
               2,
               0,
               0,
               0,
               2,
               1,
               1,
               1,
               0,
               0,
               2,
               1,
               0,
               0,
               0,
               1,
               0,
               1,
               2,
               1,
               1,
               2,
               1,
               0,
               0,
               1,
               1,
               0,
               0,
               2,
               2,
               0,
               0,
               0,
               2,
               2,
               2,
               1,
               0,
               0,
               0,
               2,
               0,
               1,
               2,
               0,
               2,
               2,
               0,
               2,
               0,
               0,
               0,
               2,
               2,
               2,
               2,
               0,
               2,
               1,
               2,
               2,
               2,
               1,
               1,
               0,
               2,
               2,
               2,
               0,
               2,
               0,
               2,
               2,
               0,
               0,
               2,
               2,
               0,
               2,
               0,
               2,
               1,
               0,
               0,
               2,
               2,
               0,
               1,
               1,
               0,
               0,
               0,
               0,
               0,
               0,
               1,
               0,
               2,
               2,
               0,
               2,
               2,
               0,
               2,
               2,
               0,
               0,
               0,
               0,
               0,
               1,
               1,
               2,
               1,
               0,
               0,
               2,
               0,
               1,
               0,
               2,
               1,
               0,
               2,
               1,
               0,
               0,
               2,
               2,
               0,
               0,
               2,
               2,
               2,
               1,
               0,
               2,
               1,
               0,
               0,
               2,
               2,
               1,
               2,
               0,
               2,
               0,
               2,
               2,
               0,
               2,
               2,
               0,
               2,
               0,
               1,
               1,
               0,
               0,
               2,
               1,
               2,
               1,
               0,
               2,
               2,
               0,
               0,
               2,
               0,
               0,
               0,
               2
              ]
             ],
             "parameters": {
              "c": 0.64,
              "k": 2048
             }
            }
           }
          },
          "max": 2,
          "mean": 0.95,
          "min": 0,
          "std_dev": 0.8930285549745879,
          "sum": 228
         }
        },
        {
         "inferred_type": "String",
         "name": "island",
         "string_statistics": {
          "common": {
           "num_missing": 0,
           "num_present": 240
          },
          "distinct_count": 3,
          "distribution": {
           "categorical": {
            "buckets": [
             {
              "count": 117,
              "value": "Biscoe"
             },
             {
              "count": 39,
              "value": "Torgersen"
             },
             {
              "count": 84,
              "value": "Dream"
             }
            ]
           }
          }
         }
        }
       ],
       "version": 0
      },
      "text/plain": [
       "<IPython.core.display.JSON object>"
      ]
     },
     "execution_count": 80,
     "metadata": {
      "application/json": {
       "expanded": false,
       "root": "root"
      }
     },
     "output_type": "execute_result"
    }
   ],
   "source": [
    "statistics = f\"{data_quality_location}statistics.json\"\n",
    "JSON(json.loads(S3Downloader.read_file(statistics)))"
   ]
  },
  {
   "cell_type": "code",
   "execution_count": 81,
   "id": "c17076de-e3ba-4b0d-9472-d4d2dab542bd",
   "metadata": {
    "tags": []
   },
   "outputs": [
    {
     "data": {
      "application/json": {
       "features": [
        {
         "completeness": 1,
         "inferred_type": "Fractional",
         "name": "body_mass_g",
         "num_constraints": {
          "is_non_negative": true
         }
        },
        {
         "completeness": 1,
         "inferred_type": "Fractional",
         "name": "culmen_depth_mm",
         "num_constraints": {
          "is_non_negative": true
         }
        },
        {
         "completeness": 1,
         "inferred_type": "Fractional",
         "name": "culmen_length_mm",
         "num_constraints": {
          "is_non_negative": true
         }
        },
        {
         "completeness": 1,
         "inferred_type": "Fractional",
         "name": "flipper_length_mm",
         "num_constraints": {
          "is_non_negative": true
         }
        },
        {
         "completeness": 1,
         "inferred_type": "Integral",
         "name": "groundtruth",
         "num_constraints": {
          "is_non_negative": true
         }
        },
        {
         "completeness": 1,
         "inferred_type": "String",
         "name": "island",
         "string_constraints": {
          "domains": [
           "Biscoe",
           "Torgersen",
           "Dream"
          ]
         }
        }
       ],
       "monitoring_config": {
        "datatype_check_threshold": 1,
        "distribution_constraints": {
         "categorical_comparison_threshold": 0.1,
         "categorical_drift_method": "LInfinity",
         "comparison_method": "Robust",
         "comparison_threshold": 0.1,
         "perform_comparison": "Enabled"
        },
        "domain_content_threshold": 1,
        "emit_metrics": "Enabled",
        "evaluate_constraints": "Enabled"
       },
       "version": 0
      },
      "text/plain": [
       "<IPython.core.display.JSON object>"
      ]
     },
     "execution_count": 81,
     "metadata": {
      "application/json": {
       "expanded": false,
       "root": "root"
      }
     },
     "output_type": "execute_result"
    }
   ],
   "source": [
    "constraints = f\"{data_quality_location}constraints.json\"\n",
    "JSON(json.loads(S3Downloader.read_file(constraints)))"
   ]
  },
  {
   "cell_type": "markdown",
   "id": "16bc1535-7854-4901-b9f0-3c3250b8252a",
   "metadata": {},
   "source": [
    "## Step 4 - Generating Endpoint Traffic\n",
    "\n",
    "Let's generate some traffic for our endpoint so we can test the monitoring functionality. We will repeatedly send every sample from the dataset to the endpoint to simulate real prediction requests."
   ]
  },
  {
   "cell_type": "code",
   "execution_count": 82,
   "id": "480e5feb-915a-4e38-9b96-1f092fa09507",
   "metadata": {
    "tags": []
   },
   "outputs": [],
   "source": [
    "def generate_traffic():\n",
    "\n",
    "    def _predict(data, predictor, stop_traffic_thread):\n",
    "        for index in data.index:\n",
    "            payload = {\n",
    "                \"island\": data[\"island\"][index],\n",
    "                \"culmen_length_mm\": data[\"culmen_length_mm\"][index],\n",
    "                \"culmen_depth_mm\": data[\"culmen_depth_mm\"][index],\n",
    "                \"flipper_length_mm\": data[\"flipper_length_mm\"][index],\n",
    "                \"body_mass_g\": data[\"body_mass_g\"][index],\n",
    "            }\n",
    "\n",
    "            predictor.predict(payload, inference_id=str(index))\n",
    "            sleep(1)\n",
    "\n",
    "            if stop_traffic_thread.is_set():\n",
    "                break\n",
    "\n",
    "    def _generate_prediction_data(data, predictor, stop_traffic_thread):\n",
    "        while True:\n",
    "            print(f\"Generating {data.shape[0]} predictions...\")\n",
    "            _predict(data, predictor, stop_traffic_thread)\n",
    "\n",
    "            if stop_traffic_thread.is_set():\n",
    "                break\n",
    "\n",
    "    stop_traffic_thread = Event()\n",
    "    data = pd.read_csv(LOCAL_FILEPATH).dropna()\n",
    "\n",
    "    traffic_thread = Thread(\n",
    "        target=_generate_prediction_data,\n",
    "        args=(data, predictor, stop_traffic_thread,)\n",
    "    )\n",
    "\n",
    "    traffic_thread.start()\n",
    "\n",
    "    return stop_traffic_thread, traffic_thread"
   ]
  },
  {
   "cell_type": "markdown",
   "id": "0e3c5fb0-0580-4472-bb9e-e1b60aa01693",
   "metadata": {},
   "source": [
    "Let's start generating the traffic."
   ]
  },
  {
   "cell_type": "code",
   "execution_count": 83,
   "id": "fa8bb3ca-acdc-49cd-a77d-8894fec8e01e",
   "metadata": {
    "tags": []
   },
   "outputs": [
    {
     "name": "stdout",
     "output_type": "stream",
     "text": [
      "Generating 334 predictions...\n"
     ]
    }
   ],
   "source": [
    "waiter = sagemaker_client.get_waiter(\"endpoint_in_service\")\n",
    "waiter.wait(\n",
    "    EndpointName=endpoint_name,\n",
    "    WaiterConfig={\n",
    "        \"Delay\": 10,\n",
    "        \"MaxAttempts\": 30\n",
    "    }\n",
    ")\n",
    "\n",
    "predictor = Predictor(\n",
    "    endpoint_name=endpoint_name,\n",
    "    serializer=JSONSerializer(),\n",
    "    deserializer=JSONDeserializer()\n",
    ")\n",
    "\n",
    "stop_traffic_thread, traffic_thread = generate_traffic()"
   ]
  },
  {
   "cell_type": "markdown",
   "id": "184a24f8-9fac-47ef-b707-4919d2c14ecd",
   "metadata": {
    "tags": []
   },
   "source": [
    "## Step 5 - Checking the Captured Data\n",
    "\n",
    "Let's check the S3 location where the endpoint stores the requests and responses that it receives.\n",
    "\n",
    "Notice that it make take a few minutes for the first few files to show up in S3. Keep running the following line until you get some."
   ]
  },
  {
   "cell_type": "code",
   "execution_count": 84,
   "id": "3ba479ee-aefc-4480-9ebf-cd3e679edbe0",
   "metadata": {
    "tags": []
   },
   "outputs": [
    {
     "data": {
      "text/plain": [
       "['s3://julianj-mlschool/penguins/monitoring/data-capture/penguins-endpoint/AllTraffic/2023/06/30/09/40-48-802-d8eb6633-ef2b-4f9a-9ab6-979a1cdbacc6.jsonl',\n",
       " 's3://julianj-mlschool/penguins/monitoring/data-capture/penguins-endpoint/AllTraffic/2023/06/30/09/41-48-898-810daa17-f4b7-4be1-bc96-b4c4a900dfd2.jsonl',\n",
       " 's3://julianj-mlschool/penguins/monitoring/data-capture/penguins-endpoint/AllTraffic/2023/06/30/09/42-48-981-5f81502e-f700-45a6-9091-5183df766b14.jsonl',\n",
       " 's3://julianj-mlschool/penguins/monitoring/data-capture/penguins-endpoint/AllTraffic/2023/06/30/09/43-49-125-dba07c5a-f315-450d-8b9a-f1fd40d79b74.jsonl',\n",
       " 's3://julianj-mlschool/penguins/monitoring/data-capture/penguins-endpoint/AllTraffic/2023/06/30/09/44-49-798-f6a8daab-798a-4943-a0a4-689b6984ea92.jsonl',\n",
       " 's3://julianj-mlschool/penguins/monitoring/data-capture/penguins-endpoint/AllTraffic/2023/06/30/09/45-49-870-e9f0998b-b12b-4e88-9667-1d4fa208b970.jsonl',\n",
       " 's3://julianj-mlschool/penguins/monitoring/data-capture/penguins-endpoint/AllTraffic/2023/06/30/09/46-50-016-deb0e6d9-2090-48d7-9ee6-22bdf7f8781c.jsonl',\n",
       " 's3://julianj-mlschool/penguins/monitoring/data-capture/penguins-endpoint/AllTraffic/2023/06/30/09/47-50-127-47f0ab15-c02a-4ed1-832b-67d74cfa4bfd.jsonl',\n",
       " 's3://julianj-mlschool/penguins/monitoring/data-capture/penguins-endpoint/AllTraffic/2023/06/30/09/48-50-211-4e26dbcf-e4b9-48c4-a296-fc46f4c5f808.jsonl',\n",
       " 's3://julianj-mlschool/penguins/monitoring/data-capture/penguins-endpoint/AllTraffic/2023/06/30/09/49-50-987-2ed9fc08-8806-47d2-8297-a74cf12b7ff2.jsonl',\n",
       " 's3://julianj-mlschool/penguins/monitoring/data-capture/penguins-endpoint/AllTraffic/2023/06/30/09/50-51-957-91ad7b52-b363-46b7-94c3-3650233f49a0.jsonl',\n",
       " 's3://julianj-mlschool/penguins/monitoring/data-capture/penguins-endpoint/AllTraffic/2023/06/30/23/19-59-824-5ea7abbe-8c29-4ff5-8e30-c8733dd97cdf.jsonl',\n",
       " 's3://julianj-mlschool/penguins/monitoring/data-capture/penguins-endpoint/AllTraffic/2023/07/01/00/01-09-276-779c5677-9c33-4774-abe8-fd5d1e8c258d.jsonl',\n",
       " 's3://julianj-mlschool/penguins/monitoring/data-capture/penguins-endpoint/AllTraffic/2023/07/01/00/02-09-801-76a505c5-a8e6-41e4-b0ec-1a438ac21cc4.jsonl',\n",
       " 's3://julianj-mlschool/penguins/monitoring/data-capture/penguins-endpoint/AllTraffic/2023/07/04/03/31-08-783-6d934cd1-e4db-4523-a7f3-9c6b097a11cf.jsonl']"
      ]
     },
     "execution_count": 84,
     "metadata": {},
     "output_type": "execute_result"
    }
   ],
   "source": [
    "files = S3Downloader.list(data_capture_destination.default_value)[:]\n",
    "files[-15:]"
   ]
  },
  {
   "cell_type": "markdown",
   "id": "52455abe-3eea-46e5-a4b3-95a83ba5f926",
   "metadata": {},
   "source": [
    "These files contain the data captured by the endpoint in a SageMaker-specific JSON-line format. Each inference request is captured in a single line in the `jsonl` file. The line contains both the input and output merged together.\n",
    "\n",
    "Let's read the first line from the first file:"
   ]
  },
  {
   "cell_type": "code",
   "execution_count": 85,
   "id": "ea31c263-f941-4177-bdc7-842e4b6172b9",
   "metadata": {
    "tags": []
   },
   "outputs": [
    {
     "name": "stdout",
     "output_type": "stream",
     "text": [
      "{\n",
      "  \"captureData\": {\n",
      "    \"endpointInput\": {\n",
      "      \"observedContentType\": \"application/json\",\n",
      "      \"mode\": \"INPUT\",\n",
      "      \"data\": \"{\\\"island\\\": \\\"Dream\\\", \\\"culmen_length_mm\\\": 46.4, \\\"culmen_depth_mm\\\": 18.6, \\\"flipper_length_mm\\\": 190.0, \\\"body_mass_g\\\": 3450.0}\",\n",
      "      \"encoding\": \"JSON\"\n",
      "    },\n",
      "    \"endpointOutput\": {\n",
      "      \"observedContentType\": \"application/json\",\n",
      "      \"mode\": \"OUTPUT\",\n",
      "      \"data\": \"{\\\"species\\\": \\\"Chinstrap\\\", \\\"prediction\\\": 1, \\\"confidence\\\": 0.515617669}\",\n",
      "      \"encoding\": \"JSON\"\n",
      "    }\n",
      "  },\n",
      "  \"eventMetadata\": {\n",
      "    \"eventId\": \"ce5724ca-cb22-4de7-b064-89fd032cca25\",\n",
      "    \"inferenceTime\": \"2023-07-04T03:31:08Z\"\n",
      "  },\n",
      "  \"eventVersion\": \"0\"\n",
      "}\n"
     ]
    }
   ],
   "source": [
    "if len(files):\n",
    "    lines = S3Downloader.read_file(files[-1])\n",
    "    print(json.dumps(json.loads(lines.split(\"\\n\")[0]), indent=2))"
   ]
  },
  {
   "cell_type": "markdown",
   "id": "3c7a58ae-d3aa-4f69-bd52-66b05458bee7",
   "metadata": {
    "tags": []
   },
   "source": [
    "## Step 6 - Scheduling the Monitoring Job\n",
    "\n",
    "We can now set up a schedule to continuously monitor data going into the endpoint and compare it to the baseline we generated before. This monitoring job will use the baseline statistics and constraints we generated during the Data Quality Check Step. Check [Schedule Data Quality Monitoring Jobs](https://docs.aws.amazon.com/sagemaker/latest/dg/model-monitor-schedule-data-monitor.html) for more information.\n",
    "\n",
    "SageMaker looks for violations in the data captured by the endpoint. By default, they combine the input data with the endpoint output and compare the result with the previous baseline we generated. If we let SageMaker do this, we will get three violations:\n",
    "\n",
    "1. An \"extra column check\" violation because the field `confidence` doesn't exist in the baseline.\n",
    "2. An \"extra column check\" violation because the field `prediction` doesn't exist in the baseline.\n",
    "3. A \"missing column check\" violation because the field `groundtruth` doesn't appear in the data captured from the endpoint.\n",
    "\n",
    "We can fix these violations by creating a preprocessing script configuring the data we want the monitoring job to use. This script will create a `groundtruth` column, and exclude `confidence` and `prediction`. By doing this, we will not receive any of these three violations.\n"
   ]
  },
  {
   "cell_type": "code",
   "execution_count": 86,
   "id": "345efa6b-40bd-4084-83fd-654847bf22c3",
   "metadata": {
    "tags": []
   },
   "outputs": [],
   "source": [
    "DATA_QUALITY_PREPROCESSOR = \"data_quality_preprocessor.py\""
   ]
  },
  {
   "cell_type": "markdown",
   "id": "a22c83ca-9b2c-40cc-81f9-bf85c0f17b5e",
   "metadata": {},
   "source": [
    "Here is the preprocessing script for the Data Quality Monitoring Job. Check [Preprocessing and Postprocessing](https://docs.aws.amazon.com/sagemaker/latest/dg/model-monitor-pre-and-post-processing.html) for more information about how to configure these scripts."
   ]
  },
  {
   "cell_type": "code",
   "execution_count": 87,
   "id": "2efcc106-b86d-4998-8fae-095c52a2b56b",
   "metadata": {
    "tags": []
   },
   "outputs": [
    {
     "name": "stdout",
     "output_type": "stream",
     "text": [
      "Overwriting penguins/data_quality_preprocessor.py\n"
     ]
    }
   ],
   "source": [
    "%%writefile {PENGUINS_FOLDER}/{DATA_QUALITY_PREPROCESSOR}\n",
    "import json\n",
    "\n",
    "def preprocess_handler(inference_record):\n",
    "    input_data = inference_record.endpoint_input.data\n",
    "    output_data = json.loads(inference_record.endpoint_output.data)\n",
    "    \n",
    "    response = json.loads(input_data)\n",
    "    response[\"groundtruth\"] = output_data[\"prediction\"]\n",
    "    return response"
   ]
  },
  {
   "cell_type": "markdown",
   "id": "f4fa310b-2443-4a61-a09a-ea59df21f5c6",
   "metadata": {},
   "source": [
    "The monitoring schedule expects an S3 location pointing to the preprocessing script. Let's upload the script to the default bucket."
   ]
  },
  {
   "cell_type": "code",
   "execution_count": 88,
   "id": "f501b907-6844-412e-bb79-e04fce790e7c",
   "metadata": {
    "tags": []
   },
   "outputs": [
    {
     "data": {
      "text/plain": [
       "'s3://sagemaker-us-west-2-333878796254/penguins-monitoring/data_quality_preprocessor.py'"
      ]
     },
     "execution_count": 88,
     "metadata": {},
     "output_type": "execute_result"
    }
   ],
   "source": [
    "bucket = boto3.Session().resource(\"s3\").Bucket(sagemaker_session.default_bucket())\n",
    "prefix = \"penguins-monitoring\"\n",
    "bucket.Object(os.path.join(prefix, DATA_QUALITY_PREPROCESSOR)).upload_file(str(PENGUINS_FOLDER / DATA_QUALITY_PREPROCESSOR))\n",
    "data_quality_preprocessor = f\"s3://{os.path.join(bucket.name, prefix, DATA_QUALITY_PREPROCESSOR)}\"\n",
    "data_quality_preprocessor"
   ]
  },
  {
   "cell_type": "markdown",
   "id": "b59c8199-5c13-4284-9ca9-1b695e3ff122",
   "metadata": {},
   "source": [
    "We can now set up the Data Quality Monitoring Job using the [DefaultModelMonitor](https://sagemaker.readthedocs.io/en/stable/api/inference/model_monitor.html#sagemaker.model_monitor.model_monitoring.DefaultModelMonitor) class. Notice how we specify the `record_preprocessor_script` using the S3 location where we uploaded our script."
   ]
  },
  {
   "cell_type": "code",
   "execution_count": 89,
   "id": "5ded982d-d858-4ca6-b754-196917251a60",
   "metadata": {
    "tags": []
   },
   "outputs": [],
   "source": [
    "data_monitor = DefaultModelMonitor(\n",
    "    instance_type=\"ml.t3.xlarge\",\n",
    "    instance_count=1,\n",
    "    max_runtime_in_seconds=3600,\n",
    "    role=role,\n",
    ")\n",
    "\n",
    "data_monitor.create_monitoring_schedule(\n",
    "    monitor_schedule_name=\"penguins-data-monitoring-schedule\",\n",
    "    endpoint_input=predictor.endpoint_name,\n",
    "    record_preprocessor_script=data_quality_preprocessor,\n",
    "    statistics=f\"{data_quality_location}statistics.json\",\n",
    "    constraints=f\"{data_quality_location}constraints.json\",\n",
    "    schedule_cron_expression=CronExpressionGenerator.hourly(),\n",
    ")"
   ]
  },
  {
   "cell_type": "markdown",
   "id": "f3705ec7-e7fb-4eca-8290-53df06361e77",
   "metadata": {},
   "source": [
    "You can describe the schedule to see more information about the Data Quality Monitoring Job."
   ]
  },
  {
   "cell_type": "code",
   "execution_count": 90,
   "id": "2e6ce5ec-a4c4-4f79-a78b-d27f678f6db9",
   "metadata": {
    "tags": []
   },
   "outputs": [
    {
     "data": {
      "text/plain": [
       "{'MonitoringScheduleArn': 'arn:aws:sagemaker:us-west-2:333878796254:monitoring-schedule/penguins-data-monitoring-schedule',\n",
       " 'MonitoringScheduleName': 'penguins-data-monitoring-schedule',\n",
       " 'MonitoringScheduleStatus': 'Pending',\n",
       " 'MonitoringType': 'DataQuality',\n",
       " 'CreationTime': datetime.datetime(2023, 7, 4, 4, 0, 32, 611000, tzinfo=tzlocal()),\n",
       " 'LastModifiedTime': datetime.datetime(2023, 7, 4, 4, 0, 32, 699000, tzinfo=tzlocal()),\n",
       " 'MonitoringScheduleConfig': {'ScheduleConfig': {'ScheduleExpression': 'cron(0 * ? * * *)'},\n",
       "  'MonitoringJobDefinitionName': 'data-quality-job-definition-2023-07-04-04-00-31-753',\n",
       "  'MonitoringType': 'DataQuality'},\n",
       " 'EndpointName': 'penguins-endpoint',\n",
       " 'LastMonitoringExecutionSummary': {'MonitoringScheduleName': 'penguins-data-monitoring-schedule',\n",
       "  'ScheduledTime': datetime.datetime(2023, 6, 30, 22, 0, tzinfo=tzlocal()),\n",
       "  'CreationTime': datetime.datetime(2023, 6, 30, 22, 7, 22, 368000, tzinfo=tzlocal()),\n",
       "  'LastModifiedTime': datetime.datetime(2023, 6, 30, 22, 8, 24, 152000, tzinfo=tzlocal()),\n",
       "  'MonitoringExecutionStatus': 'Failed',\n",
       "  'EndpointName': 'penguins-endpoint',\n",
       "  'FailureReason': 'Job inputs had no data'},\n",
       " 'ResponseMetadata': {'RequestId': '5f92a33a-3a31-4ccb-adc2-785b44d39bfe',\n",
       "  'HTTPStatusCode': 200,\n",
       "  'HTTPHeaders': {'x-amzn-requestid': '5f92a33a-3a31-4ccb-adc2-785b44d39bfe',\n",
       "   'content-type': 'application/x-amz-json-1.1',\n",
       "   'content-length': '863',\n",
       "   'date': 'Tue, 04 Jul 2023 04:00:33 GMT'},\n",
       "  'RetryAttempts': 0}}"
      ]
     },
     "execution_count": 90,
     "metadata": {},
     "output_type": "execute_result"
    }
   ],
   "source": [
    "data_monitor.describe_schedule()"
   ]
  },
  {
   "cell_type": "markdown",
   "id": "a43cb2fa-0947-479a-b6be-969b0878cb6f",
   "metadata": {},
   "source": [
    "## Step 7 - Introducing a Violation\n",
    "\n",
    "Let's make a prediction for a penguin and include extra fields in the request. This should be flagged by the monitoring job."
   ]
  },
  {
   "cell_type": "code",
   "execution_count": 91,
   "id": "c4f88fd4-ceae-4b1f-9085-b7cf54bd899f",
   "metadata": {
    "tags": []
   },
   "outputs": [
    {
     "data": {
      "text/plain": [
       "{'species': 'Adelie', 'prediction': 0, 'confidence': 0.999991179}"
      ]
     },
     "execution_count": 91,
     "metadata": {},
     "output_type": "execute_result"
    }
   ],
   "source": [
    "predictor.predict({\n",
    "    \"island\": \"Dream\",\n",
    "    \"culmen_length_mm\": -46.4,\n",
    "    \"culmen_depth_mm\": 18.6,\n",
    "    \"flipper_length_mm\": 190.0,\n",
    "    \"body_mass_g\": 25608.0,\n",
    "\n",
    "    # These two columns are not in the baseline data,\n",
    "    # so they will be reported by the monitoring job\n",
    "    # as a violation.\n",
    "    \"name\": \"Julian el pinguino\",\n",
    "    \"height\": 28.0,\n",
    "    \"foo\": \"bar\"\n",
    "\n",
    "})"
   ]
  },
  {
   "cell_type": "markdown",
   "id": "f28a4152-9c81-4d8d-af21-5b2925c9c346",
   "metadata": {},
   "source": [
    "## Step 8 - Checking Monitoring Violations\n",
    "We can check the results of the monitoring job by looking at whether it generated any violations."
   ]
  },
  {
   "cell_type": "code",
   "execution_count": 92,
   "id": "614f1a10-d00f-4994-b6c0-12f0f2a2b228",
   "metadata": {
    "tags": []
   },
   "outputs": [
    {
     "data": {
      "text/plain": [
       "{'MonitoringScheduleArn': 'arn:aws:sagemaker:us-west-2:333878796254:monitoring-schedule/penguins-data-monitoring-schedule',\n",
       " 'MonitoringScheduleName': 'penguins-data-monitoring-schedule',\n",
       " 'MonitoringScheduleStatus': 'Scheduled',\n",
       " 'MonitoringType': 'DataQuality',\n",
       " 'CreationTime': datetime.datetime(2023, 7, 4, 4, 0, 32, 611000, tzinfo=tzlocal()),\n",
       " 'LastModifiedTime': datetime.datetime(2023, 7, 4, 4, 0, 38, 726000, tzinfo=tzlocal()),\n",
       " 'MonitoringScheduleConfig': {'ScheduleConfig': {'ScheduleExpression': 'cron(0 * ? * * *)'},\n",
       "  'MonitoringJobDefinitionName': 'data-quality-job-definition-2023-07-04-04-00-31-753',\n",
       "  'MonitoringType': 'DataQuality'},\n",
       " 'EndpointName': 'penguins-endpoint',\n",
       " 'LastMonitoringExecutionSummary': {'MonitoringScheduleName': 'penguins-data-monitoring-schedule',\n",
       "  'ScheduledTime': datetime.datetime(2023, 6, 30, 22, 0, tzinfo=tzlocal()),\n",
       "  'CreationTime': datetime.datetime(2023, 6, 30, 22, 7, 22, 368000, tzinfo=tzlocal()),\n",
       "  'LastModifiedTime': datetime.datetime(2023, 6, 30, 22, 8, 24, 152000, tzinfo=tzlocal()),\n",
       "  'MonitoringExecutionStatus': 'Failed',\n",
       "  'EndpointName': 'penguins-endpoint',\n",
       "  'FailureReason': 'Job inputs had no data'},\n",
       " 'ResponseMetadata': {'RequestId': '3f288575-68b7-433d-9766-ff827e886616',\n",
       "  'HTTPStatusCode': 200,\n",
       "  'HTTPHeaders': {'x-amzn-requestid': '3f288575-68b7-433d-9766-ff827e886616',\n",
       "   'content-type': 'application/x-amz-json-1.1',\n",
       "   'content-length': '865',\n",
       "   'date': 'Tue, 04 Jul 2023 04:00:39 GMT'},\n",
       "  'RetryAttempts': 0}}"
      ]
     },
     "execution_count": 92,
     "metadata": {},
     "output_type": "execute_result"
    }
   ],
   "source": [
    "description = data_monitor.describe_schedule()\n",
    "description"
   ]
  },
  {
   "cell_type": "code",
   "execution_count": 93,
   "id": "f9545ba4-9271-40b5-84be-5b749c36e78d",
   "metadata": {
    "tags": []
   },
   "outputs": [
    {
     "name": "stdout",
     "output_type": "stream",
     "text": [
      "Status: Failed\n"
     ]
    }
   ],
   "source": [
    "status = description[\"LastMonitoringExecutionSummary\"][\"MonitoringExecutionStatus\"]\n",
    "print(f\"Status: {status}\")\n",
    "\n",
    "if status == \"CompletedWithViolations\":\n",
    "    processing_job_arn = description[\"LastMonitoringExecutionSummary\"][\"ProcessingJobArn\"]\n",
    "    execution = MonitoringExecution.from_processing_arn(sagemaker_session=sagemaker_session, processing_job_arn=processing_job_arn)\n",
    "    execution_destination = execution.output.destination\n",
    "\n",
    "    violations_filepath = os.path.join(execution_destination, \"constraint_violations.json\")\n",
    "    violations = json.loads(S3Downloader.read_file(violations_filepath))[\"violations\"]\n",
    "\n",
    "    print(f\"Violations File Path={violations_filepath}\")\n",
    "\n",
    "    print(json.dumps(violations, indent=2))"
   ]
  },
  {
   "cell_type": "markdown",
   "id": "13d1f841-8962-436c-9766-0359a709747b",
   "metadata": {},
   "source": [
    "## Step 9 - Cleaning up\n",
    "\n",
    "Let's stop the monitoring jobs by deleting the monitoring schedule we created before. The following function waits for the job to finish before deleting it."
   ]
  },
  {
   "cell_type": "code",
   "execution_count": 94,
   "id": "4a85cf8e-0d56-483c-ae68-385cf79ac0ad",
   "metadata": {
    "tags": []
   },
   "outputs": [
    {
     "name": "stdout",
     "output_type": "stream",
     "text": [
      "\n",
      "Deleting Monitoring Schedule with name: penguins-data-monitoring-schedule\n",
      "Monitoring schedule deleted.\n"
     ]
    }
   ],
   "source": [
    "def delete_monitoring_schedule(schedule):\n",
    "    attempts = 30\n",
    "\n",
    "    try:\n",
    "        status = schedule.describe_schedule()[\"MonitoringScheduleStatus\"]\n",
    "    except Exception:\n",
    "        print(\"Monitoring schedule deleted.\")\n",
    "        return\n",
    "\n",
    "    while status in (\"Pending\", \"InProgress\") and attempts > 0:\n",
    "        attempts -= 1\n",
    "        print(f\"Monitoring schedule status: {status}. Waiting for it to finish.\")\n",
    "        time.sleep(30)\n",
    "        status = schedule.describe_schedule()[\"MonitoringScheduleStatus\"]\n",
    "\n",
    "    if status not in (\"Pending\", \"InProgress\"):\n",
    "        schedule.delete_monitoring_schedule()\n",
    "        print(\"Monitoring schedule deleted.\")\n",
    "    else:\n",
    "        print(\"Waiting for monitoring schedule timed out\")\n",
    "\n",
    "\n",
    "delete_monitoring_schedule(data_monitor)"
   ]
  },
  {
   "cell_type": "markdown",
   "id": "91729f95-4966-4741-aa74-2d90382710ea",
   "metadata": {},
   "source": [
    "Let's now stop the thread generating traffic."
   ]
  },
  {
   "cell_type": "code",
   "execution_count": 95,
   "id": "b9ec787f-4ee7-4620-ac2b-a77c977a2014",
   "metadata": {
    "tags": []
   },
   "outputs": [],
   "source": [
    "stop_traffic_thread.set()\n",
    "traffic_thread.join()"
   ]
  },
  {
   "cell_type": "markdown",
   "id": "1776d472-323f-4205-9e6d-076375323280",
   "metadata": {},
   "source": [
    "Finally, we can delete the endpoint."
   ]
  },
  {
   "cell_type": "code",
   "execution_count": 96,
   "id": "63614880-de4b-4cf9-bf1b-3f141d881559",
   "metadata": {
    "tags": []
   },
   "outputs": [],
   "source": [
    "predictor.delete_endpoint()"
   ]
  },
  {
   "cell_type": "markdown",
   "id": "917fe920-172d-4b07-bd7d-b2ecea536319",
   "metadata": {
    "tags": []
   },
   "source": [
    "# Session 6 - Model Monitoring\n",
    "\n",
    "This session aims to set up a monitoring process to analyze the quality of the model predictions. For this, we need to generate ground truth for the data captured by the endpoint and compare it with a baseline performance.\n",
    "\n",
    "Check [Amazon SageMaker Model Monitor](https://sagemaker.readthedocs.io/en/stable/amazon_sagemaker_model_monitoring.html) for a brief explanation of how to use SageMaker's Model Monitoring functionality. [Monitor models for data and model quality, bias, and explainability](https://docs.aws.amazon.com/sagemaker/latest/dg/model-monitor.html) is a much more extensive guide to Model Monitoring in Amazon SageMaker.\n",
    "\n",
    "Here is what the Pipeline will look like at the end of this session:\n",
    "\n",
    "<img src='penguins/images/session6-pipeline.png' alt='Session 6 Pipeline' width=\"600\">\n"
   ]
  },
  {
   "cell_type": "code",
   "execution_count": 51,
   "id": "748c47c5-71e6-4f76-9a8b-9a5f4716e806",
   "metadata": {
    "tags": []
   },
   "outputs": [],
   "source": [
    "from sagemaker.workflow.quality_check_step import ModelQualityCheckConfig\n",
    "\n",
    "from sagemaker.inputs import CreateModelInput, TransformInput\n",
    "from sagemaker.transformer import Transformer\n",
    "from sagemaker.workflow.steps import CreateModelStep, TransformStep\n",
    "from sagemaker.workflow.model_step import ModelStep\n",
    "from sagemaker.model_monitor import ModelQualityMonitor"
   ]
  },
  {
   "cell_type": "markdown",
   "id": "81430dfd-2524-43e4-bfe9-c6545316005d",
   "metadata": {},
   "source": [
    "## Step 1 - Creating Test Predictions\n",
    "\n",
    "To create a baseline to compare the model performance, we must create predictions for the test set and compare them with the predictions from the model. We can do this by running a Batch Transform Job to predict every sample from the test dataset. We can use a [Transform Step](https://docs.aws.amazon.com/sagemaker/latest/dg/build-and-manage-steps.html#step-type-transform) as part of the pipeline to run this job. You can check [Batch Transform](https://docs.aws.amazon.com/sagemaker/latest/dg/batch-transform.html) for more information about Batch Transform Jobs.\n",
    "\n",
    "The Transform Step requires a model to generate predictions, so we need a Model Step that creates a model.\n",
    "\n",
    "We also need to configure the [Batch Transform Job](https://docs.aws.amazon.com/sagemaker/latest/dg/batch-transform.html) using a [Transform Step](https://docs.aws.amazon.com/sagemaker/latest/dg/build-and-manage-steps.html#step-type-transform). This Batch Transform Job will run every sample from the training dataset through the model so we can compute the baseline metrics. We can use an instance of the [Transformer](https://sagemaker.readthedocs.io/en/stable/api/inference/transformer.html) class to configure the job."
   ]
  },
  {
   "cell_type": "code",
   "execution_count": 52,
   "id": "1987a788-de7a-4f60-ac8d-819d9ffcdf8e",
   "metadata": {
    "tags": []
   },
   "outputs": [],
   "source": [
    "create_model_step = ModelStep(\n",
    "    name=\"create-model\",\n",
    "    step_args=model.create(instance_type=\"ml.m5.large\"),\n",
    ")\n",
    "\n",
    "transformer = Transformer(\n",
    "    # The Batch Transform Job will use the model we created using the\n",
    "    # Model Step.\n",
    "    model_name=create_model_step.properties.ModelName,\n",
    "\n",
    "    instance_type=\"ml.m4.xlarge\",\n",
    "    instance_count=1,\n",
    "\n",
    "    # The baseline set that we generated in the preprocessing step\n",
    "    # is in JSON format, where every line is a JSON sample.\n",
    "    accept=\"application/json\",\n",
    "    strategy=\"SingleRecord\",\n",
    "    assemble_with=\"Line\",\n",
    "\n",
    "    output_path=f\"{S3_FILEPATH}/transform\",\n",
    ")\n",
    "\n",
    "generate_test_predictions_step = TransformStep(\n",
    "    name=\"generate-test-predictions\",\n",
    "    transformer=transformer,\n",
    "    inputs=TransformInput(\n",
    "\n",
    "        # We will use the test dataset we generated during the preprocessing \n",
    "        # step to run it through the model and generate predictions.\n",
    "        data=preprocess_data_step.properties.ProcessingOutputConfig.Outputs[\"test-baseline\"].S3Output.S3Uri,\n",
    "\n",
    "        join_source=\"Input\",\n",
    "        content_type=\"application/json\",\n",
    "        split_type=\"Line\",\n",
    "    ),\n",
    "    cache_config=cache_config\n",
    ")"
   ]
  },
  {
   "cell_type": "markdown",
   "id": "2fafc7c4-6fef-4832-8b99-8c45d078fdd2",
   "metadata": {},
   "source": [
    "## Step 2 - Generating a Baseline\n",
    "\n",
    "Let's now configure the [Quality Check Step](https://docs.aws.amazon.com/sagemaker/latest/dg/build-and-manage-steps.html#step-type-quality-check) and feed it the data we generated in the Transform Step."
   ]
  },
  {
   "cell_type": "code",
   "execution_count": 53,
   "id": "9aa3a284-8763-4000-a263-70314b530652",
   "metadata": {
    "tags": []
   },
   "outputs": [],
   "source": [
    "model_quality_location = f\"{S3_FILEPATH}/monitoring/model-quality/\"\n",
    "\n",
    "model_quality_baseline_step = QualityCheckStep(\n",
    "    name=\"generate-model-quality-baseline\",\n",
    "\n",
    "    check_job_config=CheckJobConfig(\n",
    "        instance_type=\"ml.t3.xlarge\",\n",
    "        instance_count=1,\n",
    "        volume_size_in_gb=20,\n",
    "        sagemaker_session=sagemaker_session,\n",
    "        role=role,\n",
    "    ),\n",
    "\n",
    "    quality_check_config=ModelQualityCheckConfig(\n",
    "        # We are going to use the output of the Transform Step to generate\n",
    "        # the model quality baseline.\n",
    "        baseline_dataset=generate_test_predictions_step.properties.TransformOutput.S3OutputPath,\n",
    "\n",
    "        dataset_format=DatasetFormat.json(lines=True),\n",
    "        output_s3_uri=model_quality_location,\n",
    "\n",
    "        # We need to specify the problem type and the fields where the prediction\n",
    "        # and groundtruth are so the process knows how to interpret the results.\n",
    "        problem_type=\"MulticlassClassification\",\n",
    "        inference_attribute=\"$.SageMakerOutput.prediction\",\n",
    "        ground_truth_attribute=\"groundtruth\",\n",
    "    ),\n",
    "\n",
    "    skip_check=True,\n",
    "    register_new_baseline=True,\n",
    "    model_package_group_name=model_package_group_name,\n",
    "    cache_config=cache_config\n",
    ")"
   ]
  },
  {
   "cell_type": "markdown",
   "id": "693535ba-fca7-4e89-a4cb-b4f333fa2d03",
   "metadata": {},
   "source": [
    "## Step 3 - Setting up Model Metrics\n",
    "\n",
    "We can configure a new set of [ModelMetrics](https://sagemaker.readthedocs.io/en/stable/api/inference/model_monitor.html#sagemaker.model_metrics.ModelMetrics) using the results of the Data and Model Quality Steps."
   ]
  },
  {
   "cell_type": "code",
   "execution_count": 54,
   "id": "a773f134-ac2f-4dba-976e-9b7f0b384b6e",
   "metadata": {
    "tags": []
   },
   "outputs": [],
   "source": [
    "model_metrics = ModelMetrics(\n",
    "    model_data_statistics=MetricsSource(\n",
    "        s3_uri=data_quality_baseline_step.properties.CalculatedBaselineStatistics,\n",
    "        content_type=\"application/json\",\n",
    "    ),\n",
    "    model_data_constraints=MetricsSource(\n",
    "        s3_uri=data_quality_baseline_step.properties.CalculatedBaselineConstraints,\n",
    "        content_type=\"application/json\",\n",
    "    ),\n",
    "    model_statistics=MetricsSource(\n",
    "        s3_uri=model_quality_baseline_step.properties.CalculatedBaselineStatistics,\n",
    "        content_type=\"application/json\",\n",
    "    ),\n",
    "\n",
    "    model_constraints=MetricsSource(\n",
    "        s3_uri=model_quality_baseline_step.properties.CalculatedBaselineConstraints,\n",
    "        content_type=\"application/json\",\n",
    "    ),\n",
    ")\n",
    "\n",
    "drift_check_baselines = DriftCheckBaselines(\n",
    "    model_data_statistics=MetricsSource(\n",
    "        s3_uri=data_quality_baseline_step.properties.BaselineUsedForDriftCheckStatistics,\n",
    "        content_type=\"application/json\",\n",
    "    ),\n",
    "    model_data_constraints=MetricsSource(\n",
    "        s3_uri=data_quality_baseline_step.properties.BaselineUsedForDriftCheckConstraints,\n",
    "        content_type=\"application/json\",\n",
    "    ),\n",
    "    model_statistics=MetricsSource(\n",
    "        s3_uri=model_quality_baseline_step.properties.BaselineUsedForDriftCheckStatistics,\n",
    "        content_type=\"application/json\",\n",
    "    ),\n",
    "    model_constraints=MetricsSource(\n",
    "        s3_uri=model_quality_baseline_step.properties.BaselineUsedForDriftCheckConstraints,\n",
    "        content_type=\"application/json\",\n",
    "    )\n",
    ")"
   ]
  },
  {
   "cell_type": "markdown",
   "id": "ba3487a0-05ad-4f3a-8f50-9884dc2aef64",
   "metadata": {},
   "source": [
    "## Step 4 - Registering the Model\n",
    "\n",
    "We need to redefine the Model Step to register the [TensorFlowModel](https://sagemaker.readthedocs.io/en/stable/frameworks/tensorflow/sagemaker.tensorflow.html#tensorflow-serving-model) so it takes into account the new metrics."
   ]
  },
  {
   "cell_type": "code",
   "execution_count": 55,
   "id": "7056a009-91c0-4955-90dd-b90ef8cab149",
   "metadata": {
    "tags": []
   },
   "outputs": [],
   "source": [
    "register_model_step = ModelStep(\n",
    "    name=\"register-model\",\n",
    "    step_args=model.register(\n",
    "        model_package_group_name=model_package_group_name,\n",
    "        model_metrics=model_metrics,\n",
    "        # drift_check_baselines=drift_check_baselines,\n",
    "        approval_status=\"Approved\",\n",
    "\n",
    "        content_types=[\"application/json\"],\n",
    "        response_types=[\"application/json\"],\n",
    "        inference_instances=[\"ml.m5.large\"],\n",
    "        domain=\"MACHINE_LEARNING\",\n",
    "        task=\"CLASSIFICATION\",\n",
    "        framework=\"TENSORFLOW\",\n",
    "        framework_version=\"2.6\",\n",
    "    )\n",
    ")"
   ]
  },
  {
   "cell_type": "markdown",
   "id": "0d00b5e6-9858-4acc-bbfe-a2ce24ec20e0",
   "metadata": {},
   "source": [
    "## Step 5 - Setting up the Condition Step\n",
    "\n",
    "We only want to compute the model quality baseline if the model's performance is above the predefined threshold. The [Condition Step](https://docs.aws.amazon.com/sagemaker/latest/dg/build-and-manage-steps.html#step-type-condition) will gate all necessary steps to compute the baseline. "
   ]
  },
  {
   "cell_type": "code",
   "execution_count": 56,
   "id": "bacaa9c6-22b0-48df-b138-95b6422fe834",
   "metadata": {
    "tags": []
   },
   "outputs": [],
   "source": [
    "condition_step = ConditionStep(\n",
    "    name=\"check-model-accuracy\",\n",
    "    conditions=[condition_gte],\n",
    "    if_steps=[\n",
    "        create_model_step, \n",
    "        generate_test_predictions_step, \n",
    "        model_quality_baseline_step, \n",
    "        register_model_step,\n",
    "        deploy_step\n",
    "    ],\n",
    "    else_steps=[fail_step], \n",
    ")"
   ]
  },
  {
   "cell_type": "markdown",
   "id": "c95a7905-2550-4979-b885-f2daabb5d45e",
   "metadata": {},
   "source": [
    "## Step 6 - Running the Pipeline\n",
    "\n",
    "We can now run the pipeline."
   ]
  },
  {
   "cell_type": "code",
   "execution_count": 57,
   "id": "4da5e453-acd8-47a0-a39f-264d05dd93d0",
   "metadata": {
    "tags": []
   },
   "outputs": [],
   "source": [
    "session6_pipeline = Pipeline(\n",
    "    name=\"penguins-session6-pipeline\",\n",
    "    parameters=[\n",
    "        dataset_location, \n",
    "        preprocessor_destination,\n",
    "        train_dataset_baseline_destination,\n",
    "        test_dataset_baseline_destination,\n",
    "        data_capture_percentage,\n",
    "        data_capture_destination,\n",
    "\n",
    "        accuracy_threshold,\n",
    "    ],\n",
    "    steps=[\n",
    "        preprocess_data_step, \n",
    "        data_quality_baseline_step,\n",
    "        tune_model_step,\n",
    "        evaluate_model_step,\n",
    "        condition_step\n",
    "    ],\n",
    ")"
   ]
  },
  {
   "cell_type": "markdown",
   "id": "24713751-b109-47be-8d6f-5f4c7511f6d4",
   "metadata": {},
   "source": [
    "Submit the pipeline definition to the SageMaker Pipelines service to create a pipeline if it doesn't exist or update it if it does."
   ]
  },
  {
   "cell_type": "code",
   "execution_count": 110,
   "id": "b54dbf6e-9b52-41a6-bec3-91c56536b3a2",
   "metadata": {
    "tags": []
   },
   "outputs": [
    {
     "name": "stdout",
     "output_type": "stream",
     "text": [
      "Using provided s3_resource\n",
      "Using provided s3_resource\n",
      "Using provided s3_resource\n",
      "Using provided s3_resource\n",
      "Using provided s3_resource\n",
      "Using provided s3_resource\n"
     ]
    }
   ],
   "source": [
    "session6_pipeline.upsert(role_arn=role)\n",
    "execution = session6_pipeline.start()"
   ]
  },
  {
   "cell_type": "markdown",
   "id": "bef99386-e0f3-411d-8715-8538d6d7bba9",
   "metadata": {},
   "source": [
    "## Step 7 - Setting Up a Predictor\n",
    "\n",
    "We can now create a [Predictor](https://sagemaker.readthedocs.io/en/stable/api/inference/predictors.html) from the endpoint."
   ]
  },
  {
   "cell_type": "code",
   "execution_count": 116,
   "id": "dfd679a8-7f4b-47ee-9bdc-ca9942aa59a6",
   "metadata": {
    "tags": []
   },
   "outputs": [],
   "source": [
    "waiter = sagemaker_client.get_waiter(\"endpoint_in_service\")\n",
    "waiter.wait(\n",
    "    EndpointName=endpoint_name,\n",
    "    WaiterConfig={\n",
    "        \"Delay\": 10,\n",
    "        \"MaxAttempts\": 30\n",
    "    }\n",
    ")\n",
    "\n",
    "predictor = Predictor(\n",
    "    endpoint_name=endpoint_name,\n",
    "    serializer=JSONSerializer(),\n",
    "    deserializer=JSONDeserializer()\n",
    ")"
   ]
  },
  {
   "cell_type": "markdown",
   "id": "1b479872-58e2-4c61-8ccf-68d35185b282",
   "metadata": {},
   "source": [
    "## Step 8 - Generating Ground Truth Data\n",
    "\n",
    "To monitor our model, we need to generate ground truth data for the samples captured by the endpoint. We can simulate this by generating a random ground truth for every sample. Check [Ingest Ground Truth Labels and Merge Them With Predictions](https://docs.aws.amazon.com/sagemaker/latest/dg/model-monitor-model-quality-merge.html) for more information about this."
   ]
  },
  {
   "cell_type": "code",
   "execution_count": 117,
   "id": "f4ee5d6f-af93-41e8-a544-3a12dac99d8b",
   "metadata": {
    "tags": []
   },
   "outputs": [],
   "source": [
    "ground_truth_path = f\"{S3_FILEPATH}/monitoring/groundtruth\" \n",
    "\n",
    "\n",
    "def generate_ground_truth_data(ground_truth_path):\n",
    "    def _generate_ground_truth_record(inference_id):\n",
    "        random.seed(inference_id)\n",
    "\n",
    "        return {\n",
    "            \"groundTruthData\": {\n",
    "                \"data\": str(random.choice([0, 1, 2])),\n",
    "                \"encoding\": \"CSV\",\n",
    "            },\n",
    "            \"eventMetadata\": {\n",
    "                \"eventId\": str(inference_id),\n",
    "            },\n",
    "            \"eventVersion\": \"0\",\n",
    "        }\n",
    "\n",
    "    def _upload_ground_truth(records, upload_time):\n",
    "        records = [json.dumps(r) for r in records]\n",
    "        data = \"\\n\".join(records)\n",
    "        uri = f\"{ground_truth_path}/{upload_time:%Y/%m/%d/%H/%M%S}.jsonl\"\n",
    "\n",
    "        print(f\"Uploading ground truth data to {uri}...\")\n",
    "\n",
    "        S3Uploader.upload_string_as_file_body(data, uri)    \n",
    "\n",
    "    def _generate_ground_truth_data(max_records, stop_ground_truth_thread):\n",
    "        while True:\n",
    "            records = [_generate_ground_truth_record(i) for i in range(max_records)]\n",
    "            _upload_ground_truth(records, datetime.utcnow())\n",
    "\n",
    "            if stop_ground_truth_thread.is_set():\n",
    "                break\n",
    "\n",
    "            sleep(30)\n",
    "\n",
    "    stop_ground_truth_thread = Event()\n",
    "    data = pd.read_csv(LOCAL_FILEPATH).dropna()\n",
    "\n",
    "    groundtruth_thread = Thread(\n",
    "        target=_generate_ground_truth_data,\n",
    "        args=(len(data), stop_ground_truth_thread,)\n",
    "    )\n",
    "\n",
    "    groundtruth_thread.start()\n",
    "\n",
    "    return stop_ground_truth_thread, traffic_thread"
   ]
  },
  {
   "cell_type": "markdown",
   "id": "2beba47c-75bf-49fd-80e9-146c3ff815f1",
   "metadata": {},
   "source": [
    "Let's start generating traffic to the endpoint and create random ground truth data."
   ]
  },
  {
   "cell_type": "code",
   "execution_count": 118,
   "id": "c9543c22-bfcc-427b-8c88-146a193e0009",
   "metadata": {
    "tags": []
   },
   "outputs": [
    {
     "name": "stdout",
     "output_type": "stream",
     "text": [
      "Generating 334 predictions...\n",
      "Uploading ground truth data to s3://julianj-mlschool/penguins/monitoring/groundtruth/2023/07/04/05/1303.jsonl...\n"
     ]
    }
   ],
   "source": [
    "stop_traffic_thread, traffic_thread = generate_traffic()\n",
    "stop_ground_truth_thread, groundtruth_thread = generate_ground_truth_data(ground_truth_path)"
   ]
  },
  {
   "cell_type": "markdown",
   "id": "75ecc695-535a-4556-89e6-082670746afa",
   "metadata": {},
   "source": [
    "## Step 9 - Scheduling the Monitoring Job\n",
    "\n",
    "Let's set up a schedule to continuously monitor the quality of the model and compare it to the baseline we generated before. This monitoring job will use the baseline constraints we generated during the Model Quality Check Step. Check [Schedule Model Quality Monitoring Jobs](https://docs.aws.amazon.com/sagemaker/latest/dg/model-monitor-model-quality-schedule.html) for more information.\n",
    "\n",
    "To set up a Model Quality Monitoring Job, we can use the [ModelQualityMonitor](https://sagemaker.readthedocs.io/en/stable/api/inference/model_monitor.html#sagemaker.model_monitor.model_monitoring.ModelQualityMonitor) class. The [EndpointInput](https://sagemaker.readthedocs.io/en/v2.24.2/api/inference/model_monitor.html#sagemaker.model_monitor.model_monitoring.EndpointInput) instance configures the attribute the monitoring job should use to determine the prediction from the model.\n",
    "\n",
    "Check [Amazon SageMaker Model Quality Monitor](https://sagemaker-examples.readthedocs.io/en/latest/sagemaker_model_monitor/model_quality/model_quality_churn_sdk.html) for a complete tutorial on how to run a Model Monitoring Job in SageMaker."
   ]
  },
  {
   "cell_type": "code",
   "execution_count": 120,
   "id": "6b1bfce1-e812-4c6e-bade-8419d6c7ae5d",
   "metadata": {
    "tags": []
   },
   "outputs": [
    {
     "name": "stdout",
     "output_type": "stream",
     "text": [
      "Generating 334 predictions...\n",
      "Uploading ground truth data to s3://julianj-mlschool/penguins/monitoring/groundtruth/2023/07/04/05/1434.jsonl...\n",
      "Uploading ground truth data to s3://julianj-mlschool/penguins/monitoring/groundtruth/2023/07/04/05/1439.jsonl...\n"
     ]
    }
   ],
   "source": [
    "model_monitor = ModelQualityMonitor(\n",
    "    instance_type=\"ml.m4.xlarge\",\n",
    "    instance_count=1,\n",
    "    max_runtime_in_seconds=1800,\n",
    "    role=role\n",
    ")\n",
    "\n",
    "endpoint_input = EndpointInput(\n",
    "    endpoint_name=predictor.endpoint_name,\n",
    "\n",
    "    # The endpoint returns an attribute `prediction` with the\n",
    "    # prediction from the model. That's the attribute we want to\n",
    "    # use to compare with the ground truth.\n",
    "    inference_attribute=\"prediction\",\n",
    "\n",
    "    destination=\"/opt/ml/processing/input_data\",\n",
    ")\n",
    "\n",
    "model_monitor.create_monitoring_schedule(\n",
    "    monitor_schedule_name=\"penguins-model-monitoring-schedule\",\n",
    "    endpoint_input=endpoint_input,\n",
    "    problem_type=\"MulticlassClassification\",\n",
    "\n",
    "    ground_truth_input=ground_truth_path,\n",
    "\n",
    "    constraints=f\"{model_quality_location}constraints.json\",\n",
    "\n",
    "    schedule_cron_expression=CronExpressionGenerator.hourly(),\n",
    "    output_s3_uri=f\"{S3_FILEPATH}/monitoring/model-quality\",\n",
    "    enable_cloudwatch_metrics=True,\n",
    ")"
   ]
  },
  {
   "cell_type": "markdown",
   "id": "d7b3e732-039b-471d-bfa9-8dd8b39950dc",
   "metadata": {
    "tags": []
   },
   "source": [
    "You can describe the schedule to see more information about the Model Quality Monitoring Job."
   ]
  },
  {
   "cell_type": "code",
   "execution_count": 121,
   "id": "126bfac0-09a2-44a8-a6e3-b43abe9d9983",
   "metadata": {
    "tags": []
   },
   "outputs": [
    {
     "data": {
      "text/plain": [
       "{'MonitoringScheduleArn': 'arn:aws:sagemaker:us-west-2:333878796254:monitoring-schedule/penguins-model-monitoring-schedule',\n",
       " 'MonitoringScheduleName': 'penguins-model-monitoring-schedule',\n",
       " 'MonitoringScheduleStatus': 'Scheduled',\n",
       " 'MonitoringType': 'ModelQuality',\n",
       " 'CreationTime': datetime.datetime(2023, 7, 4, 5, 14, 18, 831000, tzinfo=tzlocal()),\n",
       " 'LastModifiedTime': datetime.datetime(2023, 7, 4, 5, 14, 21, 727000, tzinfo=tzlocal()),\n",
       " 'MonitoringScheduleConfig': {'ScheduleConfig': {'ScheduleExpression': 'cron(0 * ? * * *)'},\n",
       "  'MonitoringJobDefinitionName': 'model-quality-job-definition-2023-07-04-05-14-18-246',\n",
       "  'MonitoringType': 'ModelQuality'},\n",
       " 'EndpointName': 'penguins-endpoint',\n",
       " 'ResponseMetadata': {'RequestId': '75f29ae8-d8e9-4f00-bbea-8fa0deb3f46d',\n",
       "  'HTTPStatusCode': 200,\n",
       "  'HTTPHeaders': {'x-amzn-requestid': '75f29ae8-d8e9-4f00-bbea-8fa0deb3f46d',\n",
       "   'content-type': 'application/x-amz-json-1.1',\n",
       "   'content-length': '565',\n",
       "   'date': 'Tue, 04 Jul 2023 05:14:40 GMT'},\n",
       "  'RetryAttempts': 0}}"
      ]
     },
     "execution_count": 121,
     "metadata": {},
     "output_type": "execute_result"
    },
    {
     "name": "stdout",
     "output_type": "stream",
     "text": [
      "Uploading ground truth data to s3://julianj-mlschool/penguins/monitoring/groundtruth/2023/07/04/05/1504.jsonl...\n",
      "Uploading ground truth data to s3://julianj-mlschool/penguins/monitoring/groundtruth/2023/07/04/05/1509.jsonl...\n",
      "Uploading ground truth data to s3://julianj-mlschool/penguins/monitoring/groundtruth/2023/07/04/05/1534.jsonl...\n",
      "Uploading ground truth data to s3://julianj-mlschool/penguins/monitoring/groundtruth/2023/07/04/05/1540.jsonl...\n",
      "Uploading ground truth data to s3://julianj-mlschool/penguins/monitoring/groundtruth/2023/07/04/05/1605.jsonl...\n",
      "Uploading ground truth data to s3://julianj-mlschool/penguins/monitoring/groundtruth/2023/07/04/05/1610.jsonl...\n",
      "Uploading ground truth data to s3://julianj-mlschool/penguins/monitoring/groundtruth/2023/07/04/05/1635.jsonl...\n",
      "Uploading ground truth data to s3://julianj-mlschool/penguins/monitoring/groundtruth/2023/07/04/05/1640.jsonl...\n",
      "Uploading ground truth data to s3://julianj-mlschool/penguins/monitoring/groundtruth/2023/07/04/05/1705.jsonl...\n",
      "Uploading ground truth data to s3://julianj-mlschool/penguins/monitoring/groundtruth/2023/07/04/05/1710.jsonl...\n",
      "Uploading ground truth data to s3://julianj-mlschool/penguins/monitoring/groundtruth/2023/07/04/05/1736.jsonl...\n",
      "Uploading ground truth data to s3://julianj-mlschool/penguins/monitoring/groundtruth/2023/07/04/05/1741.jsonl...\n",
      "Uploading ground truth data to s3://julianj-mlschool/penguins/monitoring/groundtruth/2023/07/04/05/1806.jsonl...\n",
      "Uploading ground truth data to s3://julianj-mlschool/penguins/monitoring/groundtruth/2023/07/04/05/1811.jsonl...\n",
      "Uploading ground truth data to s3://julianj-mlschool/penguins/monitoring/groundtruth/2023/07/04/05/1836.jsonl...\n",
      "Uploading ground truth data to s3://julianj-mlschool/penguins/monitoring/groundtruth/2023/07/04/05/1841.jsonl...\n",
      "Generating 334 predictions...\n",
      "Uploading ground truth data to s3://julianj-mlschool/penguins/monitoring/groundtruth/2023/07/04/05/1906.jsonl...\n",
      "Uploading ground truth data to s3://julianj-mlschool/penguins/monitoring/groundtruth/2023/07/04/05/1911.jsonl...\n",
      "Uploading ground truth data to s3://julianj-mlschool/penguins/monitoring/groundtruth/2023/07/04/05/1936.jsonl...\n",
      "Uploading ground truth data to s3://julianj-mlschool/penguins/monitoring/groundtruth/2023/07/04/05/1941.jsonl...\n",
      "Generating 334 predictions...\n",
      "Uploading ground truth data to s3://julianj-mlschool/penguins/monitoring/groundtruth/2023/07/04/05/2006.jsonl...\n",
      "Uploading ground truth data to s3://julianj-mlschool/penguins/monitoring/groundtruth/2023/07/04/05/2012.jsonl...\n",
      "Uploading ground truth data to s3://julianj-mlschool/penguins/monitoring/groundtruth/2023/07/04/05/2037.jsonl...\n",
      "Uploading ground truth data to s3://julianj-mlschool/penguins/monitoring/groundtruth/2023/07/04/05/2042.jsonl...\n",
      "Uploading ground truth data to s3://julianj-mlschool/penguins/monitoring/groundtruth/2023/07/04/05/2107.jsonl...\n",
      "Uploading ground truth data to s3://julianj-mlschool/penguins/monitoring/groundtruth/2023/07/04/05/2112.jsonl...\n",
      "Uploading ground truth data to s3://julianj-mlschool/penguins/monitoring/groundtruth/2023/07/04/05/2137.jsonl...\n",
      "Uploading ground truth data to s3://julianj-mlschool/penguins/monitoring/groundtruth/2023/07/04/05/2142.jsonl...\n",
      "Uploading ground truth data to s3://julianj-mlschool/penguins/monitoring/groundtruth/2023/07/04/05/2207.jsonl...\n",
      "Uploading ground truth data to s3://julianj-mlschool/penguins/monitoring/groundtruth/2023/07/04/05/2212.jsonl...\n",
      "Uploading ground truth data to s3://julianj-mlschool/penguins/monitoring/groundtruth/2023/07/04/05/2238.jsonl...\n",
      "Uploading ground truth data to s3://julianj-mlschool/penguins/monitoring/groundtruth/2023/07/04/05/2243.jsonl...\n",
      "Uploading ground truth data to s3://julianj-mlschool/penguins/monitoring/groundtruth/2023/07/04/05/2308.jsonl...\n",
      "Uploading ground truth data to s3://julianj-mlschool/penguins/monitoring/groundtruth/2023/07/04/05/2313.jsonl...\n",
      "Uploading ground truth data to s3://julianj-mlschool/penguins/monitoring/groundtruth/2023/07/04/05/2338.jsonl...\n",
      "Uploading ground truth data to s3://julianj-mlschool/penguins/monitoring/groundtruth/2023/07/04/05/2343.jsonl...\n",
      "Uploading ground truth data to s3://julianj-mlschool/penguins/monitoring/groundtruth/2023/07/04/05/2408.jsonl...\n",
      "Uploading ground truth data to s3://julianj-mlschool/penguins/monitoring/groundtruth/2023/07/04/05/2413.jsonl...\n",
      "Generating 334 predictions...\n",
      "Uploading ground truth data to s3://julianj-mlschool/penguins/monitoring/groundtruth/2023/07/04/05/2438.jsonl...\n",
      "Uploading ground truth data to s3://julianj-mlschool/penguins/monitoring/groundtruth/2023/07/04/05/2443.jsonl...\n",
      "Uploading ground truth data to s3://julianj-mlschool/penguins/monitoring/groundtruth/2023/07/04/05/2509.jsonl...\n",
      "Uploading ground truth data to s3://julianj-mlschool/penguins/monitoring/groundtruth/2023/07/04/05/2514.jsonl...\n",
      "Uploading ground truth data to s3://julianj-mlschool/penguins/monitoring/groundtruth/2023/07/04/05/2539.jsonl...\n",
      "Generating 334 predictions...\n",
      "Uploading ground truth data to s3://julianj-mlschool/penguins/monitoring/groundtruth/2023/07/04/05/2544.jsonl...\n",
      "Uploading ground truth data to s3://julianj-mlschool/penguins/monitoring/groundtruth/2023/07/04/05/2609.jsonl...\n",
      "Uploading ground truth data to s3://julianj-mlschool/penguins/monitoring/groundtruth/2023/07/04/05/2614.jsonl...\n",
      "Uploading ground truth data to s3://julianj-mlschool/penguins/monitoring/groundtruth/2023/07/04/05/2640.jsonl...\n",
      "Uploading ground truth data to s3://julianj-mlschool/penguins/monitoring/groundtruth/2023/07/04/05/2644.jsonl...\n",
      "Uploading ground truth data to s3://julianj-mlschool/penguins/monitoring/groundtruth/2023/07/04/05/2710.jsonl...\n",
      "Uploading ground truth data to s3://julianj-mlschool/penguins/monitoring/groundtruth/2023/07/04/05/2714.jsonl...\n",
      "Uploading ground truth data to s3://julianj-mlschool/penguins/monitoring/groundtruth/2023/07/04/05/2740.jsonl...\n",
      "Uploading ground truth data to s3://julianj-mlschool/penguins/monitoring/groundtruth/2023/07/04/05/2744.jsonl...\n",
      "Uploading ground truth data to s3://julianj-mlschool/penguins/monitoring/groundtruth/2023/07/04/05/2810.jsonl...\n",
      "Uploading ground truth data to s3://julianj-mlschool/penguins/monitoring/groundtruth/2023/07/04/05/2815.jsonl...\n",
      "Uploading ground truth data to s3://julianj-mlschool/penguins/monitoring/groundtruth/2023/07/04/05/2840.jsonl...\n",
      "Uploading ground truth data to s3://julianj-mlschool/penguins/monitoring/groundtruth/2023/07/04/05/2845.jsonl...\n",
      "Uploading ground truth data to s3://julianj-mlschool/penguins/monitoring/groundtruth/2023/07/04/05/2911.jsonl...\n",
      "Uploading ground truth data to s3://julianj-mlschool/penguins/monitoring/groundtruth/2023/07/04/05/2915.jsonl...\n",
      "Uploading ground truth data to s3://julianj-mlschool/penguins/monitoring/groundtruth/2023/07/04/05/2941.jsonl...\n",
      "Uploading ground truth data to s3://julianj-mlschool/penguins/monitoring/groundtruth/2023/07/04/05/2945.jsonl...\n",
      "Generating 334 predictions...\n",
      "Uploading ground truth data to s3://julianj-mlschool/penguins/monitoring/groundtruth/2023/07/04/05/3011.jsonl...\n",
      "Uploading ground truth data to s3://julianj-mlschool/penguins/monitoring/groundtruth/2023/07/04/05/3015.jsonl...\n",
      "Uploading ground truth data to s3://julianj-mlschool/penguins/monitoring/groundtruth/2023/07/04/05/3041.jsonl...\n",
      "Uploading ground truth data to s3://julianj-mlschool/penguins/monitoring/groundtruth/2023/07/04/05/3046.jsonl...\n",
      "Uploading ground truth data to s3://julianj-mlschool/penguins/monitoring/groundtruth/2023/07/04/05/3111.jsonl...\n",
      "Uploading ground truth data to s3://julianj-mlschool/penguins/monitoring/groundtruth/2023/07/04/05/3116.jsonl...\n",
      "Generating 334 predictions...\n",
      "Uploading ground truth data to s3://julianj-mlschool/penguins/monitoring/groundtruth/2023/07/04/05/3142.jsonl...\n",
      "Uploading ground truth data to s3://julianj-mlschool/penguins/monitoring/groundtruth/2023/07/04/05/3146.jsonl...\n",
      "Uploading ground truth data to s3://julianj-mlschool/penguins/monitoring/groundtruth/2023/07/04/05/3212.jsonl...\n",
      "Uploading ground truth data to s3://julianj-mlschool/penguins/monitoring/groundtruth/2023/07/04/05/3217.jsonl...\n",
      "Uploading ground truth data to s3://julianj-mlschool/penguins/monitoring/groundtruth/2023/07/04/05/3242.jsonl...\n",
      "Uploading ground truth data to s3://julianj-mlschool/penguins/monitoring/groundtruth/2023/07/04/05/3247.jsonl...\n",
      "Uploading ground truth data to s3://julianj-mlschool/penguins/monitoring/groundtruth/2023/07/04/05/3312.jsonl...\n",
      "Uploading ground truth data to s3://julianj-mlschool/penguins/monitoring/groundtruth/2023/07/04/05/3317.jsonl...\n",
      "Uploading ground truth data to s3://julianj-mlschool/penguins/monitoring/groundtruth/2023/07/04/05/3342.jsonl...\n",
      "Uploading ground truth data to s3://julianj-mlschool/penguins/monitoring/groundtruth/2023/07/04/05/3347.jsonl...\n",
      "Uploading ground truth data to s3://julianj-mlschool/penguins/monitoring/groundtruth/2023/07/04/05/3412.jsonl...\n",
      "Uploading ground truth data to s3://julianj-mlschool/penguins/monitoring/groundtruth/2023/07/04/05/3417.jsonl...\n",
      "Uploading ground truth data to s3://julianj-mlschool/penguins/monitoring/groundtruth/2023/07/04/05/3443.jsonl...\n",
      "Uploading ground truth data to s3://julianj-mlschool/penguins/monitoring/groundtruth/2023/07/04/05/3447.jsonl...\n",
      "Uploading ground truth data to s3://julianj-mlschool/penguins/monitoring/groundtruth/2023/07/04/05/3513.jsonl...\n",
      "Uploading ground truth data to s3://julianj-mlschool/penguins/monitoring/groundtruth/2023/07/04/05/3518.jsonl...\n",
      "Uploading ground truth data to s3://julianj-mlschool/penguins/monitoring/groundtruth/2023/07/04/05/3543.jsonl...\n",
      "Uploading ground truth data to s3://julianj-mlschool/penguins/monitoring/groundtruth/2023/07/04/05/3548.jsonl...\n",
      "Generating 334 predictions...\n",
      "Uploading ground truth data to s3://julianj-mlschool/penguins/monitoring/groundtruth/2023/07/04/05/3613.jsonl...\n",
      "Uploading ground truth data to s3://julianj-mlschool/penguins/monitoring/groundtruth/2023/07/04/05/3618.jsonl...\n",
      "Uploading ground truth data to s3://julianj-mlschool/penguins/monitoring/groundtruth/2023/07/04/05/3643.jsonl...\n",
      "Uploading ground truth data to s3://julianj-mlschool/penguins/monitoring/groundtruth/2023/07/04/05/3649.jsonl...\n",
      "Generating 334 predictions...\n",
      "Uploading ground truth data to s3://julianj-mlschool/penguins/monitoring/groundtruth/2023/07/04/05/3713.jsonl...\n",
      "Uploading ground truth data to s3://julianj-mlschool/penguins/monitoring/groundtruth/2023/07/04/05/3719.jsonl...\n",
      "Uploading ground truth data to s3://julianj-mlschool/penguins/monitoring/groundtruth/2023/07/04/05/3744.jsonl...\n",
      "Uploading ground truth data to s3://julianj-mlschool/penguins/monitoring/groundtruth/2023/07/04/05/3749.jsonl...\n",
      "Uploading ground truth data to s3://julianj-mlschool/penguins/monitoring/groundtruth/2023/07/04/05/3814.jsonl...\n",
      "Uploading ground truth data to s3://julianj-mlschool/penguins/monitoring/groundtruth/2023/07/04/05/3819.jsonl...\n",
      "Uploading ground truth data to s3://julianj-mlschool/penguins/monitoring/groundtruth/2023/07/04/05/3844.jsonl...\n",
      "Uploading ground truth data to s3://julianj-mlschool/penguins/monitoring/groundtruth/2023/07/04/05/3849.jsonl...\n",
      "Uploading ground truth data to s3://julianj-mlschool/penguins/monitoring/groundtruth/2023/07/04/05/3914.jsonl...\n",
      "Uploading ground truth data to s3://julianj-mlschool/penguins/monitoring/groundtruth/2023/07/04/05/3920.jsonl...\n",
      "Uploading ground truth data to s3://julianj-mlschool/penguins/monitoring/groundtruth/2023/07/04/05/3944.jsonl...\n",
      "Uploading ground truth data to s3://julianj-mlschool/penguins/monitoring/groundtruth/2023/07/04/05/3950.jsonl...\n",
      "Uploading ground truth data to s3://julianj-mlschool/penguins/monitoring/groundtruth/2023/07/04/05/4015.jsonl...\n",
      "Uploading ground truth data to s3://julianj-mlschool/penguins/monitoring/groundtruth/2023/07/04/05/4020.jsonl...\n",
      "Uploading ground truth data to s3://julianj-mlschool/penguins/monitoring/groundtruth/2023/07/04/05/4045.jsonl...\n",
      "Uploading ground truth data to s3://julianj-mlschool/penguins/monitoring/groundtruth/2023/07/04/05/4051.jsonl...\n",
      "Uploading ground truth data to s3://julianj-mlschool/penguins/monitoring/groundtruth/2023/07/04/05/4115.jsonl...\n",
      "Uploading ground truth data to s3://julianj-mlschool/penguins/monitoring/groundtruth/2023/07/04/05/4121.jsonl...\n",
      "Generating 334 predictions...\n",
      "Uploading ground truth data to s3://julianj-mlschool/penguins/monitoring/groundtruth/2023/07/04/05/4145.jsonl...\n",
      "Uploading ground truth data to s3://julianj-mlschool/penguins/monitoring/groundtruth/2023/07/04/05/4151.jsonl...\n",
      "Uploading ground truth data to s3://julianj-mlschool/penguins/monitoring/groundtruth/2023/07/04/05/4215.jsonl...\n",
      "Uploading ground truth data to s3://julianj-mlschool/penguins/monitoring/groundtruth/2023/07/04/05/4221.jsonl...\n",
      "Uploading ground truth data to s3://julianj-mlschool/penguins/monitoring/groundtruth/2023/07/04/05/4246.jsonl...\n",
      "Generating 334 predictions...\n",
      "Uploading ground truth data to s3://julianj-mlschool/penguins/monitoring/groundtruth/2023/07/04/05/4251.jsonl...\n",
      "Uploading ground truth data to s3://julianj-mlschool/penguins/monitoring/groundtruth/2023/07/04/05/4316.jsonl...\n",
      "Uploading ground truth data to s3://julianj-mlschool/penguins/monitoring/groundtruth/2023/07/04/05/4321.jsonl...\n",
      "Uploading ground truth data to s3://julianj-mlschool/penguins/monitoring/groundtruth/2023/07/04/05/4346.jsonl...\n",
      "Uploading ground truth data to s3://julianj-mlschool/penguins/monitoring/groundtruth/2023/07/04/05/4352.jsonl...\n",
      "Uploading ground truth data to s3://julianj-mlschool/penguins/monitoring/groundtruth/2023/07/04/05/4416.jsonl...\n",
      "Uploading ground truth data to s3://julianj-mlschool/penguins/monitoring/groundtruth/2023/07/04/05/4422.jsonl...\n",
      "Uploading ground truth data to s3://julianj-mlschool/penguins/monitoring/groundtruth/2023/07/04/05/4447.jsonl...\n",
      "Uploading ground truth data to s3://julianj-mlschool/penguins/monitoring/groundtruth/2023/07/04/05/4452.jsonl...\n",
      "Uploading ground truth data to s3://julianj-mlschool/penguins/monitoring/groundtruth/2023/07/04/05/4517.jsonl...\n",
      "Uploading ground truth data to s3://julianj-mlschool/penguins/monitoring/groundtruth/2023/07/04/05/4522.jsonl...\n",
      "Uploading ground truth data to s3://julianj-mlschool/penguins/monitoring/groundtruth/2023/07/04/05/4547.jsonl...\n",
      "Uploading ground truth data to s3://julianj-mlschool/penguins/monitoring/groundtruth/2023/07/04/05/4552.jsonl...\n",
      "Uploading ground truth data to s3://julianj-mlschool/penguins/monitoring/groundtruth/2023/07/04/05/4617.jsonl...\n",
      "Uploading ground truth data to s3://julianj-mlschool/penguins/monitoring/groundtruth/2023/07/04/05/4622.jsonl...\n",
      "Uploading ground truth data to s3://julianj-mlschool/penguins/monitoring/groundtruth/2023/07/04/05/4647.jsonl...\n",
      "Uploading ground truth data to s3://julianj-mlschool/penguins/monitoring/groundtruth/2023/07/04/05/4653.jsonl...\n",
      "Generating 334 predictions...\n",
      "Uploading ground truth data to s3://julianj-mlschool/penguins/monitoring/groundtruth/2023/07/04/05/4718.jsonl...\n",
      "Uploading ground truth data to s3://julianj-mlschool/penguins/monitoring/groundtruth/2023/07/04/05/4723.jsonl...\n",
      "Uploading ground truth data to s3://julianj-mlschool/penguins/monitoring/groundtruth/2023/07/04/05/4748.jsonl...\n",
      "Uploading ground truth data to s3://julianj-mlschool/penguins/monitoring/groundtruth/2023/07/04/05/4753.jsonl...\n",
      "Uploading ground truth data to s3://julianj-mlschool/penguins/monitoring/groundtruth/2023/07/04/05/4818.jsonl...\n",
      "Uploading ground truth data to s3://julianj-mlschool/penguins/monitoring/groundtruth/2023/07/04/05/4823.jsonl...\n",
      "Generating 334 predictions...\n",
      "Uploading ground truth data to s3://julianj-mlschool/penguins/monitoring/groundtruth/2023/07/04/05/4848.jsonl...\n",
      "Uploading ground truth data to s3://julianj-mlschool/penguins/monitoring/groundtruth/2023/07/04/05/4854.jsonl...\n",
      "Uploading ground truth data to s3://julianj-mlschool/penguins/monitoring/groundtruth/2023/07/04/05/4919.jsonl...\n",
      "Uploading ground truth data to s3://julianj-mlschool/penguins/monitoring/groundtruth/2023/07/04/05/4924.jsonl...\n",
      "Uploading ground truth data to s3://julianj-mlschool/penguins/monitoring/groundtruth/2023/07/04/05/4949.jsonl...\n",
      "Uploading ground truth data to s3://julianj-mlschool/penguins/monitoring/groundtruth/2023/07/04/05/4954.jsonl...\n",
      "Uploading ground truth data to s3://julianj-mlschool/penguins/monitoring/groundtruth/2023/07/04/05/5019.jsonl...\n",
      "Uploading ground truth data to s3://julianj-mlschool/penguins/monitoring/groundtruth/2023/07/04/05/5024.jsonl...\n",
      "Uploading ground truth data to s3://julianj-mlschool/penguins/monitoring/groundtruth/2023/07/04/05/5049.jsonl...\n",
      "Uploading ground truth data to s3://julianj-mlschool/penguins/monitoring/groundtruth/2023/07/04/05/5055.jsonl...\n",
      "Uploading ground truth data to s3://julianj-mlschool/penguins/monitoring/groundtruth/2023/07/04/05/5119.jsonl...\n",
      "Uploading ground truth data to s3://julianj-mlschool/penguins/monitoring/groundtruth/2023/07/04/05/5125.jsonl...\n",
      "Uploading ground truth data to s3://julianj-mlschool/penguins/monitoring/groundtruth/2023/07/04/05/5149.jsonl...\n",
      "Uploading ground truth data to s3://julianj-mlschool/penguins/monitoring/groundtruth/2023/07/04/05/5155.jsonl...\n",
      "Uploading ground truth data to s3://julianj-mlschool/penguins/monitoring/groundtruth/2023/07/04/05/5220.jsonl...\n",
      "Uploading ground truth data to s3://julianj-mlschool/penguins/monitoring/groundtruth/2023/07/04/05/5225.jsonl...\n",
      "Uploading ground truth data to s3://julianj-mlschool/penguins/monitoring/groundtruth/2023/07/04/05/5250.jsonl...\n",
      "Generating 334 predictions...\n",
      "Uploading ground truth data to s3://julianj-mlschool/penguins/monitoring/groundtruth/2023/07/04/05/5255.jsonl...\n",
      "Uploading ground truth data to s3://julianj-mlschool/penguins/monitoring/groundtruth/2023/07/04/05/5320.jsonl...\n",
      "Uploading ground truth data to s3://julianj-mlschool/penguins/monitoring/groundtruth/2023/07/04/05/5326.jsonl...\n",
      "Uploading ground truth data to s3://julianj-mlschool/penguins/monitoring/groundtruth/2023/07/04/05/5351.jsonl...\n",
      "Uploading ground truth data to s3://julianj-mlschool/penguins/monitoring/groundtruth/2023/07/04/05/5356.jsonl...\n",
      "Generating 334 predictions...\n",
      "Uploading ground truth data to s3://julianj-mlschool/penguins/monitoring/groundtruth/2023/07/04/05/5421.jsonl...\n",
      "Uploading ground truth data to s3://julianj-mlschool/penguins/monitoring/groundtruth/2023/07/04/05/5426.jsonl...\n",
      "Uploading ground truth data to s3://julianj-mlschool/penguins/monitoring/groundtruth/2023/07/04/05/5451.jsonl...\n",
      "Uploading ground truth data to s3://julianj-mlschool/penguins/monitoring/groundtruth/2023/07/04/05/5456.jsonl...\n",
      "Uploading ground truth data to s3://julianj-mlschool/penguins/monitoring/groundtruth/2023/07/04/05/5521.jsonl...\n",
      "Uploading ground truth data to s3://julianj-mlschool/penguins/monitoring/groundtruth/2023/07/04/05/5526.jsonl...\n",
      "Uploading ground truth data to s3://julianj-mlschool/penguins/monitoring/groundtruth/2023/07/04/05/5551.jsonl...\n",
      "Uploading ground truth data to s3://julianj-mlschool/penguins/monitoring/groundtruth/2023/07/04/05/5556.jsonl...\n",
      "Uploading ground truth data to s3://julianj-mlschool/penguins/monitoring/groundtruth/2023/07/04/05/5621.jsonl...\n",
      "Uploading ground truth data to s3://julianj-mlschool/penguins/monitoring/groundtruth/2023/07/04/05/5627.jsonl...\n",
      "Uploading ground truth data to s3://julianj-mlschool/penguins/monitoring/groundtruth/2023/07/04/05/5652.jsonl...\n",
      "Uploading ground truth data to s3://julianj-mlschool/penguins/monitoring/groundtruth/2023/07/04/05/5657.jsonl...\n",
      "Uploading ground truth data to s3://julianj-mlschool/penguins/monitoring/groundtruth/2023/07/04/05/5722.jsonl...\n",
      "Uploading ground truth data to s3://julianj-mlschool/penguins/monitoring/groundtruth/2023/07/04/05/5727.jsonl...\n",
      "Uploading ground truth data to s3://julianj-mlschool/penguins/monitoring/groundtruth/2023/07/04/05/5752.jsonl...\n",
      "Uploading ground truth data to s3://julianj-mlschool/penguins/monitoring/groundtruth/2023/07/04/05/5757.jsonl...\n",
      "Uploading ground truth data to s3://julianj-mlschool/penguins/monitoring/groundtruth/2023/07/04/05/5822.jsonl...\n",
      "Uploading ground truth data to s3://julianj-mlschool/penguins/monitoring/groundtruth/2023/07/04/05/5828.jsonl...\n",
      "Generating 334 predictions...\n",
      "Uploading ground truth data to s3://julianj-mlschool/penguins/monitoring/groundtruth/2023/07/04/05/5852.jsonl...\n",
      "Uploading ground truth data to s3://julianj-mlschool/penguins/monitoring/groundtruth/2023/07/04/05/5858.jsonl...\n",
      "Uploading ground truth data to s3://julianj-mlschool/penguins/monitoring/groundtruth/2023/07/04/05/5923.jsonl...\n",
      "Uploading ground truth data to s3://julianj-mlschool/penguins/monitoring/groundtruth/2023/07/04/05/5928.jsonl...\n",
      "Uploading ground truth data to s3://julianj-mlschool/penguins/monitoring/groundtruth/2023/07/04/05/5953.jsonl...\n",
      "Generating 334 predictions...\n",
      "Uploading ground truth data to s3://julianj-mlschool/penguins/monitoring/groundtruth/2023/07/04/05/5958.jsonl...\n",
      "Uploading ground truth data to s3://julianj-mlschool/penguins/monitoring/groundtruth/2023/07/04/06/0023.jsonl...\n",
      "Uploading ground truth data to s3://julianj-mlschool/penguins/monitoring/groundtruth/2023/07/04/06/0028.jsonl...\n",
      "Uploading ground truth data to s3://julianj-mlschool/penguins/monitoring/groundtruth/2023/07/04/06/0053.jsonl...\n",
      "Uploading ground truth data to s3://julianj-mlschool/penguins/monitoring/groundtruth/2023/07/04/06/0058.jsonl...\n",
      "Uploading ground truth data to s3://julianj-mlschool/penguins/monitoring/groundtruth/2023/07/04/06/0123.jsonl...\n",
      "Uploading ground truth data to s3://julianj-mlschool/penguins/monitoring/groundtruth/2023/07/04/06/0129.jsonl...\n",
      "Uploading ground truth data to s3://julianj-mlschool/penguins/monitoring/groundtruth/2023/07/04/06/0153.jsonl...\n",
      "Uploading ground truth data to s3://julianj-mlschool/penguins/monitoring/groundtruth/2023/07/04/06/0159.jsonl...\n",
      "Uploading ground truth data to s3://julianj-mlschool/penguins/monitoring/groundtruth/2023/07/04/06/0224.jsonl...\n",
      "Uploading ground truth data to s3://julianj-mlschool/penguins/monitoring/groundtruth/2023/07/04/06/0230.jsonl...\n",
      "Uploading ground truth data to s3://julianj-mlschool/penguins/monitoring/groundtruth/2023/07/04/06/0254.jsonl...\n",
      "Uploading ground truth data to s3://julianj-mlschool/penguins/monitoring/groundtruth/2023/07/04/06/0300.jsonl...\n",
      "Uploading ground truth data to s3://julianj-mlschool/penguins/monitoring/groundtruth/2023/07/04/06/0324.jsonl...\n",
      "Uploading ground truth data to s3://julianj-mlschool/penguins/monitoring/groundtruth/2023/07/04/06/0330.jsonl...\n",
      "Uploading ground truth data to s3://julianj-mlschool/penguins/monitoring/groundtruth/2023/07/04/06/0354.jsonl...\n",
      "Uploading ground truth data to s3://julianj-mlschool/penguins/monitoring/groundtruth/2023/07/04/06/0400.jsonl...\n",
      "Generating 334 predictions...\n",
      "Uploading ground truth data to s3://julianj-mlschool/penguins/monitoring/groundtruth/2023/07/04/06/0424.jsonl...\n",
      "Uploading ground truth data to s3://julianj-mlschool/penguins/monitoring/groundtruth/2023/07/04/06/0430.jsonl...\n",
      "Uploading ground truth data to s3://julianj-mlschool/penguins/monitoring/groundtruth/2023/07/04/06/0455.jsonl...\n",
      "Uploading ground truth data to s3://julianj-mlschool/penguins/monitoring/groundtruth/2023/07/04/06/0501.jsonl...\n",
      "Uploading ground truth data to s3://julianj-mlschool/penguins/monitoring/groundtruth/2023/07/04/06/0525.jsonl...\n",
      "Uploading ground truth data to s3://julianj-mlschool/penguins/monitoring/groundtruth/2023/07/04/06/0531.jsonl...\n",
      "Generating 334 predictions...\n",
      "Uploading ground truth data to s3://julianj-mlschool/penguins/monitoring/groundtruth/2023/07/04/06/0555.jsonl...\n",
      "Uploading ground truth data to s3://julianj-mlschool/penguins/monitoring/groundtruth/2023/07/04/06/0601.jsonl...\n",
      "Uploading ground truth data to s3://julianj-mlschool/penguins/monitoring/groundtruth/2023/07/04/06/0625.jsonl...\n",
      "Uploading ground truth data to s3://julianj-mlschool/penguins/monitoring/groundtruth/2023/07/04/06/0631.jsonl...\n",
      "Uploading ground truth data to s3://julianj-mlschool/penguins/monitoring/groundtruth/2023/07/04/06/0655.jsonl...\n",
      "Uploading ground truth data to s3://julianj-mlschool/penguins/monitoring/groundtruth/2023/07/04/06/0702.jsonl...\n",
      "Uploading ground truth data to s3://julianj-mlschool/penguins/monitoring/groundtruth/2023/07/04/06/0725.jsonl...\n",
      "Uploading ground truth data to s3://julianj-mlschool/penguins/monitoring/groundtruth/2023/07/04/06/0733.jsonl...\n",
      "Uploading ground truth data to s3://julianj-mlschool/penguins/monitoring/groundtruth/2023/07/04/06/0755.jsonl...\n",
      "Uploading ground truth data to s3://julianj-mlschool/penguins/monitoring/groundtruth/2023/07/04/06/0803.jsonl...\n",
      "Uploading ground truth data to s3://julianj-mlschool/penguins/monitoring/groundtruth/2023/07/04/06/0826.jsonl...\n",
      "Uploading ground truth data to s3://julianj-mlschool/penguins/monitoring/groundtruth/2023/07/04/06/0833.jsonl...\n",
      "Uploading ground truth data to s3://julianj-mlschool/penguins/monitoring/groundtruth/2023/07/04/06/0856.jsonl...\n",
      "Uploading ground truth data to s3://julianj-mlschool/penguins/monitoring/groundtruth/2023/07/04/06/0903.jsonl...\n",
      "Uploading ground truth data to s3://julianj-mlschool/penguins/monitoring/groundtruth/2023/07/04/06/0926.jsonl...\n",
      "Uploading ground truth data to s3://julianj-mlschool/penguins/monitoring/groundtruth/2023/07/04/06/0933.jsonl...\n",
      "Uploading ground truth data to s3://julianj-mlschool/penguins/monitoring/groundtruth/2023/07/04/06/0956.jsonl...\n",
      "Generating 334 predictions...\n",
      "Uploading ground truth data to s3://julianj-mlschool/penguins/monitoring/groundtruth/2023/07/04/06/1004.jsonl...\n",
      "Uploading ground truth data to s3://julianj-mlschool/penguins/monitoring/groundtruth/2023/07/04/06/1026.jsonl...\n",
      "Uploading ground truth data to s3://julianj-mlschool/penguins/monitoring/groundtruth/2023/07/04/06/1034.jsonl...\n",
      "Uploading ground truth data to s3://julianj-mlschool/penguins/monitoring/groundtruth/2023/07/04/06/1057.jsonl...\n",
      "Uploading ground truth data to s3://julianj-mlschool/penguins/monitoring/groundtruth/2023/07/04/06/1104.jsonl...\n",
      "Generating 334 predictions...\n",
      "Uploading ground truth data to s3://julianj-mlschool/penguins/monitoring/groundtruth/2023/07/04/06/1127.jsonl...\n",
      "Uploading ground truth data to s3://julianj-mlschool/penguins/monitoring/groundtruth/2023/07/04/06/1134.jsonl...\n",
      "Uploading ground truth data to s3://julianj-mlschool/penguins/monitoring/groundtruth/2023/07/04/06/1157.jsonl...\n",
      "Uploading ground truth data to s3://julianj-mlschool/penguins/monitoring/groundtruth/2023/07/04/06/1204.jsonl...\n",
      "Uploading ground truth data to s3://julianj-mlschool/penguins/monitoring/groundtruth/2023/07/04/06/1227.jsonl...\n",
      "Uploading ground truth data to s3://julianj-mlschool/penguins/monitoring/groundtruth/2023/07/04/06/1235.jsonl...\n",
      "Uploading ground truth data to s3://julianj-mlschool/penguins/monitoring/groundtruth/2023/07/04/06/1258.jsonl...\n",
      "Uploading ground truth data to s3://julianj-mlschool/penguins/monitoring/groundtruth/2023/07/04/06/1305.jsonl...\n",
      "Uploading ground truth data to s3://julianj-mlschool/penguins/monitoring/groundtruth/2023/07/04/06/1328.jsonl...\n",
      "Uploading ground truth data to s3://julianj-mlschool/penguins/monitoring/groundtruth/2023/07/04/06/1335.jsonl...\n",
      "Uploading ground truth data to s3://julianj-mlschool/penguins/monitoring/groundtruth/2023/07/04/06/1358.jsonl...\n",
      "Uploading ground truth data to s3://julianj-mlschool/penguins/monitoring/groundtruth/2023/07/04/06/1405.jsonl...\n",
      "Uploading ground truth data to s3://julianj-mlschool/penguins/monitoring/groundtruth/2023/07/04/06/1428.jsonl...\n",
      "Uploading ground truth data to s3://julianj-mlschool/penguins/monitoring/groundtruth/2023/07/04/06/1435.jsonl...\n",
      "Uploading ground truth data to s3://julianj-mlschool/penguins/monitoring/groundtruth/2023/07/04/06/1458.jsonl...\n",
      "Uploading ground truth data to s3://julianj-mlschool/penguins/monitoring/groundtruth/2023/07/04/06/1506.jsonl...\n",
      "Uploading ground truth data to s3://julianj-mlschool/penguins/monitoring/groundtruth/2023/07/04/06/1529.jsonl...\n",
      "Uploading ground truth data to s3://julianj-mlschool/penguins/monitoring/groundtruth/2023/07/04/06/1536.jsonl...\n",
      "Generating 334 predictions...\n",
      "Uploading ground truth data to s3://julianj-mlschool/penguins/monitoring/groundtruth/2023/07/04/06/1559.jsonl...\n",
      "Uploading ground truth data to s3://julianj-mlschool/penguins/monitoring/groundtruth/2023/07/04/06/1606.jsonl...\n",
      "Uploading ground truth data to s3://julianj-mlschool/penguins/monitoring/groundtruth/2023/07/04/06/1629.jsonl...\n",
      "Uploading ground truth data to s3://julianj-mlschool/penguins/monitoring/groundtruth/2023/07/04/06/1637.jsonl...\n",
      "Generating 334 predictions...\n",
      "Uploading ground truth data to s3://julianj-mlschool/penguins/monitoring/groundtruth/2023/07/04/06/1659.jsonl...\n",
      "Uploading ground truth data to s3://julianj-mlschool/penguins/monitoring/groundtruth/2023/07/04/06/1707.jsonl...\n",
      "Uploading ground truth data to s3://julianj-mlschool/penguins/monitoring/groundtruth/2023/07/04/06/1729.jsonl...\n",
      "Uploading ground truth data to s3://julianj-mlschool/penguins/monitoring/groundtruth/2023/07/04/06/1737.jsonl...\n",
      "Uploading ground truth data to s3://julianj-mlschool/penguins/monitoring/groundtruth/2023/07/04/06/1800.jsonl...\n",
      "Uploading ground truth data to s3://julianj-mlschool/penguins/monitoring/groundtruth/2023/07/04/06/1807.jsonl...\n",
      "Uploading ground truth data to s3://julianj-mlschool/penguins/monitoring/groundtruth/2023/07/04/06/1830.jsonl...\n",
      "Uploading ground truth data to s3://julianj-mlschool/penguins/monitoring/groundtruth/2023/07/04/06/1838.jsonl...\n",
      "Uploading ground truth data to s3://julianj-mlschool/penguins/monitoring/groundtruth/2023/07/04/06/1900.jsonl...\n",
      "Uploading ground truth data to s3://julianj-mlschool/penguins/monitoring/groundtruth/2023/07/04/06/1908.jsonl...\n",
      "Uploading ground truth data to s3://julianj-mlschool/penguins/monitoring/groundtruth/2023/07/04/06/1930.jsonl...\n",
      "Uploading ground truth data to s3://julianj-mlschool/penguins/monitoring/groundtruth/2023/07/04/06/1938.jsonl...\n",
      "Uploading ground truth data to s3://julianj-mlschool/penguins/monitoring/groundtruth/2023/07/04/06/2000.jsonl...\n",
      "Uploading ground truth data to s3://julianj-mlschool/penguins/monitoring/groundtruth/2023/07/04/06/2008.jsonl...\n",
      "Uploading ground truth data to s3://julianj-mlschool/penguins/monitoring/groundtruth/2023/07/04/06/2031.jsonl...\n",
      "Uploading ground truth data to s3://julianj-mlschool/penguins/monitoring/groundtruth/2023/07/04/06/2038.jsonl...\n",
      "Uploading ground truth data to s3://julianj-mlschool/penguins/monitoring/groundtruth/2023/07/04/06/2101.jsonl...\n",
      "Uploading ground truth data to s3://julianj-mlschool/penguins/monitoring/groundtruth/2023/07/04/06/2109.jsonl...\n",
      "Generating 334 predictions...\n",
      "Uploading ground truth data to s3://julianj-mlschool/penguins/monitoring/groundtruth/2023/07/04/06/2131.jsonl...\n",
      "Uploading ground truth data to s3://julianj-mlschool/penguins/monitoring/groundtruth/2023/07/04/06/2139.jsonl...\n",
      "Uploading ground truth data to s3://julianj-mlschool/penguins/monitoring/groundtruth/2023/07/04/06/2201.jsonl...\n",
      "Uploading ground truth data to s3://julianj-mlschool/penguins/monitoring/groundtruth/2023/07/04/06/2209.jsonl...\n",
      "Uploading ground truth data to s3://julianj-mlschool/penguins/monitoring/groundtruth/2023/07/04/06/2232.jsonl...\n",
      "Uploading ground truth data to s3://julianj-mlschool/penguins/monitoring/groundtruth/2023/07/04/06/2239.jsonl...\n",
      "Generating 334 predictions...\n",
      "Uploading ground truth data to s3://julianj-mlschool/penguins/monitoring/groundtruth/2023/07/04/06/2302.jsonl...\n",
      "Uploading ground truth data to s3://julianj-mlschool/penguins/monitoring/groundtruth/2023/07/04/06/2310.jsonl...\n",
      "Uploading ground truth data to s3://julianj-mlschool/penguins/monitoring/groundtruth/2023/07/04/06/2332.jsonl...\n",
      "Uploading ground truth data to s3://julianj-mlschool/penguins/monitoring/groundtruth/2023/07/04/06/2340.jsonl...\n",
      "Uploading ground truth data to s3://julianj-mlschool/penguins/monitoring/groundtruth/2023/07/04/06/2402.jsonl...\n",
      "Uploading ground truth data to s3://julianj-mlschool/penguins/monitoring/groundtruth/2023/07/04/06/2410.jsonl...\n",
      "Uploading ground truth data to s3://julianj-mlschool/penguins/monitoring/groundtruth/2023/07/04/06/2432.jsonl...\n",
      "Uploading ground truth data to s3://julianj-mlschool/penguins/monitoring/groundtruth/2023/07/04/06/2440.jsonl...\n",
      "Uploading ground truth data to s3://julianj-mlschool/penguins/monitoring/groundtruth/2023/07/04/06/2503.jsonl...\n",
      "Uploading ground truth data to s3://julianj-mlschool/penguins/monitoring/groundtruth/2023/07/04/06/2510.jsonl...\n",
      "Uploading ground truth data to s3://julianj-mlschool/penguins/monitoring/groundtruth/2023/07/04/06/2533.jsonl...\n",
      "Uploading ground truth data to s3://julianj-mlschool/penguins/monitoring/groundtruth/2023/07/04/06/2541.jsonl...\n",
      "Uploading ground truth data to s3://julianj-mlschool/penguins/monitoring/groundtruth/2023/07/04/06/2603.jsonl...\n",
      "Uploading ground truth data to s3://julianj-mlschool/penguins/monitoring/groundtruth/2023/07/04/06/2611.jsonl...\n",
      "Uploading ground truth data to s3://julianj-mlschool/penguins/monitoring/groundtruth/2023/07/04/06/2633.jsonl...\n",
      "Uploading ground truth data to s3://julianj-mlschool/penguins/monitoring/groundtruth/2023/07/04/06/2641.jsonl...\n",
      "Generating 334 predictions...\n",
      "Uploading ground truth data to s3://julianj-mlschool/penguins/monitoring/groundtruth/2023/07/04/06/2703.jsonl...\n",
      "Uploading ground truth data to s3://julianj-mlschool/penguins/monitoring/groundtruth/2023/07/04/06/2711.jsonl...\n",
      "Uploading ground truth data to s3://julianj-mlschool/penguins/monitoring/groundtruth/2023/07/04/06/2734.jsonl...\n",
      "Uploading ground truth data to s3://julianj-mlschool/penguins/monitoring/groundtruth/2023/07/04/06/2742.jsonl...\n",
      "Uploading ground truth data to s3://julianj-mlschool/penguins/monitoring/groundtruth/2023/07/04/06/2804.jsonl...\n",
      "Uploading ground truth data to s3://julianj-mlschool/penguins/monitoring/groundtruth/2023/07/04/06/2812.jsonl...\n",
      "Generating 334 predictions...\n",
      "Uploading ground truth data to s3://julianj-mlschool/penguins/monitoring/groundtruth/2023/07/04/06/2834.jsonl...\n",
      "Uploading ground truth data to s3://julianj-mlschool/penguins/monitoring/groundtruth/2023/07/04/06/2842.jsonl...\n",
      "Uploading ground truth data to s3://julianj-mlschool/penguins/monitoring/groundtruth/2023/07/04/06/2904.jsonl...\n",
      "Uploading ground truth data to s3://julianj-mlschool/penguins/monitoring/groundtruth/2023/07/04/06/2912.jsonl...\n",
      "Uploading ground truth data to s3://julianj-mlschool/penguins/monitoring/groundtruth/2023/07/04/06/2934.jsonl...\n",
      "Uploading ground truth data to s3://julianj-mlschool/penguins/monitoring/groundtruth/2023/07/04/06/2942.jsonl...\n",
      "Uploading ground truth data to s3://julianj-mlschool/penguins/monitoring/groundtruth/2023/07/04/06/3005.jsonl...\n",
      "Uploading ground truth data to s3://julianj-mlschool/penguins/monitoring/groundtruth/2023/07/04/06/3013.jsonl...\n",
      "Uploading ground truth data to s3://julianj-mlschool/penguins/monitoring/groundtruth/2023/07/04/06/3035.jsonl...\n",
      "Uploading ground truth data to s3://julianj-mlschool/penguins/monitoring/groundtruth/2023/07/04/06/3043.jsonl...\n",
      "Uploading ground truth data to s3://julianj-mlschool/penguins/monitoring/groundtruth/2023/07/04/06/3105.jsonl...\n",
      "Uploading ground truth data to s3://julianj-mlschool/penguins/monitoring/groundtruth/2023/07/04/06/3113.jsonl...\n",
      "Uploading ground truth data to s3://julianj-mlschool/penguins/monitoring/groundtruth/2023/07/04/06/3135.jsonl...\n",
      "Uploading ground truth data to s3://julianj-mlschool/penguins/monitoring/groundtruth/2023/07/04/06/3143.jsonl...\n",
      "Uploading ground truth data to s3://julianj-mlschool/penguins/monitoring/groundtruth/2023/07/04/06/3205.jsonl...\n",
      "Uploading ground truth data to s3://julianj-mlschool/penguins/monitoring/groundtruth/2023/07/04/06/3214.jsonl...\n",
      "Uploading ground truth data to s3://julianj-mlschool/penguins/monitoring/groundtruth/2023/07/04/06/3236.jsonl...\n",
      "Uploading ground truth data to s3://julianj-mlschool/penguins/monitoring/groundtruth/2023/07/04/06/3244.jsonl...\n",
      "Generating 334 predictions...\n",
      "Uploading ground truth data to s3://julianj-mlschool/penguins/monitoring/groundtruth/2023/07/04/06/3306.jsonl...\n",
      "Uploading ground truth data to s3://julianj-mlschool/penguins/monitoring/groundtruth/2023/07/04/06/3314.jsonl...\n",
      "Uploading ground truth data to s3://julianj-mlschool/penguins/monitoring/groundtruth/2023/07/04/06/3336.jsonl...\n",
      "Uploading ground truth data to s3://julianj-mlschool/penguins/monitoring/groundtruth/2023/07/04/06/3344.jsonl...\n",
      "Generating 334 predictions...\n",
      "Uploading ground truth data to s3://julianj-mlschool/penguins/monitoring/groundtruth/2023/07/04/06/3406.jsonl...\n",
      "Uploading ground truth data to s3://julianj-mlschool/penguins/monitoring/groundtruth/2023/07/04/06/3414.jsonl...\n",
      "Uploading ground truth data to s3://julianj-mlschool/penguins/monitoring/groundtruth/2023/07/04/06/3436.jsonl...\n",
      "Uploading ground truth data to s3://julianj-mlschool/penguins/monitoring/groundtruth/2023/07/04/06/3445.jsonl...\n",
      "Uploading ground truth data to s3://julianj-mlschool/penguins/monitoring/groundtruth/2023/07/04/06/3507.jsonl...\n",
      "Uploading ground truth data to s3://julianj-mlschool/penguins/monitoring/groundtruth/2023/07/04/06/3515.jsonl...\n",
      "Uploading ground truth data to s3://julianj-mlschool/penguins/monitoring/groundtruth/2023/07/04/06/3537.jsonl...\n",
      "Uploading ground truth data to s3://julianj-mlschool/penguins/monitoring/groundtruth/2023/07/04/06/3546.jsonl...\n",
      "Uploading ground truth data to s3://julianj-mlschool/penguins/monitoring/groundtruth/2023/07/04/06/3607.jsonl...\n",
      "Uploading ground truth data to s3://julianj-mlschool/penguins/monitoring/groundtruth/2023/07/04/06/3616.jsonl...\n",
      "Uploading ground truth data to s3://julianj-mlschool/penguins/monitoring/groundtruth/2023/07/04/06/3637.jsonl...\n",
      "Uploading ground truth data to s3://julianj-mlschool/penguins/monitoring/groundtruth/2023/07/04/06/3646.jsonl...\n",
      "Uploading ground truth data to s3://julianj-mlschool/penguins/monitoring/groundtruth/2023/07/04/06/3707.jsonl...\n",
      "Uploading ground truth data to s3://julianj-mlschool/penguins/monitoring/groundtruth/2023/07/04/06/3716.jsonl...\n",
      "Uploading ground truth data to s3://julianj-mlschool/penguins/monitoring/groundtruth/2023/07/04/06/3737.jsonl...\n",
      "Uploading ground truth data to s3://julianj-mlschool/penguins/monitoring/groundtruth/2023/07/04/06/3746.jsonl...\n",
      "Uploading ground truth data to s3://julianj-mlschool/penguins/monitoring/groundtruth/2023/07/04/06/3808.jsonl...\n",
      "Uploading ground truth data to s3://julianj-mlschool/penguins/monitoring/groundtruth/2023/07/04/06/3816.jsonl...\n",
      "Generating 334 predictions...\n",
      "Uploading ground truth data to s3://julianj-mlschool/penguins/monitoring/groundtruth/2023/07/04/06/3838.jsonl...\n",
      "Uploading ground truth data to s3://julianj-mlschool/penguins/monitoring/groundtruth/2023/07/04/06/3847.jsonl...\n",
      "Uploading ground truth data to s3://julianj-mlschool/penguins/monitoring/groundtruth/2023/07/04/06/3908.jsonl...\n",
      "Uploading ground truth data to s3://julianj-mlschool/penguins/monitoring/groundtruth/2023/07/04/06/3917.jsonl...\n",
      "Uploading ground truth data to s3://julianj-mlschool/penguins/monitoring/groundtruth/2023/07/04/06/3939.jsonl...\n",
      "Generating 334 predictions...\n",
      "Uploading ground truth data to s3://julianj-mlschool/penguins/monitoring/groundtruth/2023/07/04/06/3947.jsonl...\n",
      "Uploading ground truth data to s3://julianj-mlschool/penguins/monitoring/groundtruth/2023/07/04/06/4009.jsonl...\n",
      "Uploading ground truth data to s3://julianj-mlschool/penguins/monitoring/groundtruth/2023/07/04/06/4017.jsonl...\n",
      "Uploading ground truth data to s3://julianj-mlschool/penguins/monitoring/groundtruth/2023/07/04/06/4039.jsonl...\n",
      "Uploading ground truth data to s3://julianj-mlschool/penguins/monitoring/groundtruth/2023/07/04/06/4047.jsonl...\n",
      "Uploading ground truth data to s3://julianj-mlschool/penguins/monitoring/groundtruth/2023/07/04/06/4109.jsonl...\n",
      "Uploading ground truth data to s3://julianj-mlschool/penguins/monitoring/groundtruth/2023/07/04/06/4117.jsonl...\n",
      "Uploading ground truth data to s3://julianj-mlschool/penguins/monitoring/groundtruth/2023/07/04/06/4139.jsonl...\n",
      "Uploading ground truth data to s3://julianj-mlschool/penguins/monitoring/groundtruth/2023/07/04/06/4148.jsonl...\n",
      "Uploading ground truth data to s3://julianj-mlschool/penguins/monitoring/groundtruth/2023/07/04/06/4209.jsonl...\n",
      "Uploading ground truth data to s3://julianj-mlschool/penguins/monitoring/groundtruth/2023/07/04/06/4218.jsonl...\n",
      "Uploading ground truth data to s3://julianj-mlschool/penguins/monitoring/groundtruth/2023/07/04/06/4240.jsonl...\n",
      "Uploading ground truth data to s3://julianj-mlschool/penguins/monitoring/groundtruth/2023/07/04/06/4248.jsonl...\n",
      "Uploading ground truth data to s3://julianj-mlschool/penguins/monitoring/groundtruth/2023/07/04/06/4310.jsonl...\n",
      "Uploading ground truth data to s3://julianj-mlschool/penguins/monitoring/groundtruth/2023/07/04/06/4318.jsonl...\n",
      "Uploading ground truth data to s3://julianj-mlschool/penguins/monitoring/groundtruth/2023/07/04/06/4340.jsonl...\n",
      "Uploading ground truth data to s3://julianj-mlschool/penguins/monitoring/groundtruth/2023/07/04/06/4348.jsonl...\n",
      "Generating 334 predictions...\n",
      "Uploading ground truth data to s3://julianj-mlschool/penguins/monitoring/groundtruth/2023/07/04/06/4410.jsonl...\n",
      "Uploading ground truth data to s3://julianj-mlschool/penguins/monitoring/groundtruth/2023/07/04/06/4419.jsonl...\n",
      "Uploading ground truth data to s3://julianj-mlschool/penguins/monitoring/groundtruth/2023/07/04/06/4441.jsonl...\n",
      "Uploading ground truth data to s3://julianj-mlschool/penguins/monitoring/groundtruth/2023/07/04/06/4449.jsonl...\n",
      "Uploading ground truth data to s3://julianj-mlschool/penguins/monitoring/groundtruth/2023/07/04/06/4511.jsonl...\n",
      "Uploading ground truth data to s3://julianj-mlschool/penguins/monitoring/groundtruth/2023/07/04/06/4519.jsonl...\n",
      "Generating 334 predictions...\n",
      "Uploading ground truth data to s3://julianj-mlschool/penguins/monitoring/groundtruth/2023/07/04/06/4541.jsonl...\n",
      "Uploading ground truth data to s3://julianj-mlschool/penguins/monitoring/groundtruth/2023/07/04/06/4549.jsonl...\n",
      "Uploading ground truth data to s3://julianj-mlschool/penguins/monitoring/groundtruth/2023/07/04/06/4611.jsonl...\n",
      "Uploading ground truth data to s3://julianj-mlschool/penguins/monitoring/groundtruth/2023/07/04/06/4619.jsonl...\n",
      "Uploading ground truth data to s3://julianj-mlschool/penguins/monitoring/groundtruth/2023/07/04/06/4641.jsonl...\n",
      "Uploading ground truth data to s3://julianj-mlschool/penguins/monitoring/groundtruth/2023/07/04/06/4649.jsonl...\n",
      "Uploading ground truth data to s3://julianj-mlschool/penguins/monitoring/groundtruth/2023/07/04/06/4712.jsonl...\n",
      "Uploading ground truth data to s3://julianj-mlschool/penguins/monitoring/groundtruth/2023/07/04/06/4720.jsonl...\n",
      "Uploading ground truth data to s3://julianj-mlschool/penguins/monitoring/groundtruth/2023/07/04/06/4742.jsonl...\n",
      "Uploading ground truth data to s3://julianj-mlschool/penguins/monitoring/groundtruth/2023/07/04/06/4750.jsonl...\n",
      "Uploading ground truth data to s3://julianj-mlschool/penguins/monitoring/groundtruth/2023/07/04/06/4812.jsonl...\n",
      "Uploading ground truth data to s3://julianj-mlschool/penguins/monitoring/groundtruth/2023/07/04/06/4820.jsonl...\n",
      "Uploading ground truth data to s3://julianj-mlschool/penguins/monitoring/groundtruth/2023/07/04/06/4842.jsonl...\n",
      "Uploading ground truth data to s3://julianj-mlschool/penguins/monitoring/groundtruth/2023/07/04/06/4851.jsonl...\n",
      "Uploading ground truth data to s3://julianj-mlschool/penguins/monitoring/groundtruth/2023/07/04/06/4912.jsonl...\n",
      "Uploading ground truth data to s3://julianj-mlschool/penguins/monitoring/groundtruth/2023/07/04/06/4921.jsonl...\n",
      "Uploading ground truth data to s3://julianj-mlschool/penguins/monitoring/groundtruth/2023/07/04/06/4943.jsonl...\n",
      "Uploading ground truth data to s3://julianj-mlschool/penguins/monitoring/groundtruth/2023/07/04/06/4951.jsonl...\n",
      "Generating 334 predictions...\n",
      "Uploading ground truth data to s3://julianj-mlschool/penguins/monitoring/groundtruth/2023/07/04/06/5013.jsonl...\n",
      "Uploading ground truth data to s3://julianj-mlschool/penguins/monitoring/groundtruth/2023/07/04/06/5021.jsonl...\n",
      "Uploading ground truth data to s3://julianj-mlschool/penguins/monitoring/groundtruth/2023/07/04/06/5043.jsonl...\n",
      "Uploading ground truth data to s3://julianj-mlschool/penguins/monitoring/groundtruth/2023/07/04/06/5051.jsonl...\n"
     ]
    }
   ],
   "source": [
    "model_monitor.describe_schedule()"
   ]
  },
  {
   "cell_type": "markdown",
   "id": "41ad4f27-8ddb-44c8-b472-08fc69eab34e",
   "metadata": {},
   "source": [
    "## Step 10 - Cleaning up\n",
    "\n",
    "Let's stop the monitoring job by deleting the monitoring schedule we created before."
   ]
  },
  {
   "cell_type": "code",
   "execution_count": 122,
   "id": "7b1ada75-1606-4980-8fd5-620dfe9c6608",
   "metadata": {
    "tags": []
   },
   "outputs": [
    {
     "name": "stdout",
     "output_type": "stream",
     "text": [
      "\n",
      "Deleting Monitoring Schedule with name: penguins-model-monitoring-schedule\n",
      "Generating 334 predictions...\n",
      "Uploading ground truth data to s3://julianj-mlschool/penguins/monitoring/groundtruth/2023/07/04/06/5113.jsonl...\n",
      "Monitoring schedule deleted.\n"
     ]
    }
   ],
   "source": [
    "delete_monitoring_schedule(model_monitor)"
   ]
  },
  {
   "cell_type": "markdown",
   "id": "b87f0425-f0a4-4530-851b-7f665c55106b",
   "metadata": {},
   "source": [
    "We also need to stop the threads generating predictions and ground truth data."
   ]
  },
  {
   "cell_type": "code",
   "execution_count": 123,
   "id": "f265d3ab-384e-4e49-ab94-e7f87dea8f9e",
   "metadata": {
    "tags": []
   },
   "outputs": [
    {
     "name": "stdout",
     "output_type": "stream",
     "text": [
      "Uploading ground truth data to s3://julianj-mlschool/penguins/monitoring/groundtruth/2023/07/04/06/5122.jsonl...\n",
      "Uploading ground truth data to s3://julianj-mlschool/penguins/monitoring/groundtruth/2023/07/04/06/5143.jsonl...\n",
      "Uploading ground truth data to s3://julianj-mlschool/penguins/monitoring/groundtruth/2023/07/04/06/5152.jsonl...\n",
      "Uploading ground truth data to s3://julianj-mlschool/penguins/monitoring/groundtruth/2023/07/04/06/5222.jsonl...\n",
      "Uploading ground truth data to s3://julianj-mlschool/penguins/monitoring/groundtruth/2023/07/04/06/5253.jsonl...\n",
      "Uploading ground truth data to s3://julianj-mlschool/penguins/monitoring/groundtruth/2023/07/04/06/5323.jsonl...\n",
      "Uploading ground truth data to s3://julianj-mlschool/penguins/monitoring/groundtruth/2023/07/04/06/5353.jsonl...\n",
      "Uploading ground truth data to s3://julianj-mlschool/penguins/monitoring/groundtruth/2023/07/04/06/5423.jsonl...\n",
      "Uploading ground truth data to s3://julianj-mlschool/penguins/monitoring/groundtruth/2023/07/04/06/5453.jsonl...\n",
      "Uploading ground truth data to s3://julianj-mlschool/penguins/monitoring/groundtruth/2023/07/04/06/5523.jsonl...\n",
      "Uploading ground truth data to s3://julianj-mlschool/penguins/monitoring/groundtruth/2023/07/04/06/5554.jsonl...\n",
      "Uploading ground truth data to s3://julianj-mlschool/penguins/monitoring/groundtruth/2023/07/04/06/5624.jsonl...\n",
      "Generating 334 predictions...\n",
      "Uploading ground truth data to s3://julianj-mlschool/penguins/monitoring/groundtruth/2023/07/04/06/5654.jsonl...\n",
      "Uploading ground truth data to s3://julianj-mlschool/penguins/monitoring/groundtruth/2023/07/04/06/5724.jsonl...\n",
      "Uploading ground truth data to s3://julianj-mlschool/penguins/monitoring/groundtruth/2023/07/04/06/5754.jsonl...\n",
      "Uploading ground truth data to s3://julianj-mlschool/penguins/monitoring/groundtruth/2023/07/04/06/5825.jsonl...\n",
      "Uploading ground truth data to s3://julianj-mlschool/penguins/monitoring/groundtruth/2023/07/04/06/5855.jsonl...\n",
      "Uploading ground truth data to s3://julianj-mlschool/penguins/monitoring/groundtruth/2023/07/04/06/5925.jsonl...\n",
      "Uploading ground truth data to s3://julianj-mlschool/penguins/monitoring/groundtruth/2023/07/04/06/5955.jsonl...\n",
      "Uploading ground truth data to s3://julianj-mlschool/penguins/monitoring/groundtruth/2023/07/04/07/0025.jsonl...\n",
      "Uploading ground truth data to s3://julianj-mlschool/penguins/monitoring/groundtruth/2023/07/04/07/0056.jsonl...\n",
      "Uploading ground truth data to s3://julianj-mlschool/penguins/monitoring/groundtruth/2023/07/04/07/0126.jsonl...\n",
      "Uploading ground truth data to s3://julianj-mlschool/penguins/monitoring/groundtruth/2023/07/04/07/0156.jsonl...\n",
      "Uploading ground truth data to s3://julianj-mlschool/penguins/monitoring/groundtruth/2023/07/04/07/0227.jsonl...\n",
      "Generating 334 predictions...\n",
      "Uploading ground truth data to s3://julianj-mlschool/penguins/monitoring/groundtruth/2023/07/04/07/0257.jsonl...\n",
      "Uploading ground truth data to s3://julianj-mlschool/penguins/monitoring/groundtruth/2023/07/04/07/0327.jsonl...\n",
      "Uploading ground truth data to s3://julianj-mlschool/penguins/monitoring/groundtruth/2023/07/04/07/0357.jsonl...\n",
      "Uploading ground truth data to s3://julianj-mlschool/penguins/monitoring/groundtruth/2023/07/04/07/0427.jsonl...\n",
      "Uploading ground truth data to s3://julianj-mlschool/penguins/monitoring/groundtruth/2023/07/04/07/0457.jsonl...\n",
      "Uploading ground truth data to s3://julianj-mlschool/penguins/monitoring/groundtruth/2023/07/04/07/0528.jsonl...\n",
      "Uploading ground truth data to s3://julianj-mlschool/penguins/monitoring/groundtruth/2023/07/04/07/0558.jsonl...\n",
      "Uploading ground truth data to s3://julianj-mlschool/penguins/monitoring/groundtruth/2023/07/04/07/0628.jsonl...\n",
      "Uploading ground truth data to s3://julianj-mlschool/penguins/monitoring/groundtruth/2023/07/04/07/0658.jsonl...\n",
      "Uploading ground truth data to s3://julianj-mlschool/penguins/monitoring/groundtruth/2023/07/04/07/0728.jsonl...\n",
      "Uploading ground truth data to s3://julianj-mlschool/penguins/monitoring/groundtruth/2023/07/04/07/0759.jsonl...\n",
      "Generating 334 predictions...\n",
      "Uploading ground truth data to s3://julianj-mlschool/penguins/monitoring/groundtruth/2023/07/04/07/0829.jsonl...\n",
      "Uploading ground truth data to s3://julianj-mlschool/penguins/monitoring/groundtruth/2023/07/04/07/0859.jsonl...\n",
      "Uploading ground truth data to s3://julianj-mlschool/penguins/monitoring/groundtruth/2023/07/04/07/0929.jsonl...\n",
      "Uploading ground truth data to s3://julianj-mlschool/penguins/monitoring/groundtruth/2023/07/04/07/0959.jsonl...\n",
      "Uploading ground truth data to s3://julianj-mlschool/penguins/monitoring/groundtruth/2023/07/04/07/1030.jsonl...\n",
      "Uploading ground truth data to s3://julianj-mlschool/penguins/monitoring/groundtruth/2023/07/04/07/1100.jsonl...\n",
      "Uploading ground truth data to s3://julianj-mlschool/penguins/monitoring/groundtruth/2023/07/04/07/1130.jsonl...\n",
      "Uploading ground truth data to s3://julianj-mlschool/penguins/monitoring/groundtruth/2023/07/04/07/1201.jsonl...\n",
      "Uploading ground truth data to s3://julianj-mlschool/penguins/monitoring/groundtruth/2023/07/04/07/1231.jsonl...\n",
      "Uploading ground truth data to s3://julianj-mlschool/penguins/monitoring/groundtruth/2023/07/04/07/1301.jsonl...\n",
      "Uploading ground truth data to s3://julianj-mlschool/penguins/monitoring/groundtruth/2023/07/04/07/1331.jsonl...\n",
      "Generating 334 predictions...\n",
      "Uploading ground truth data to s3://julianj-mlschool/penguins/monitoring/groundtruth/2023/07/04/07/1402.jsonl...\n",
      "Uploading ground truth data to s3://julianj-mlschool/penguins/monitoring/groundtruth/2023/07/04/07/1432.jsonl...\n",
      "Uploading ground truth data to s3://julianj-mlschool/penguins/monitoring/groundtruth/2023/07/04/07/1502.jsonl...\n",
      "Uploading ground truth data to s3://julianj-mlschool/penguins/monitoring/groundtruth/2023/07/04/07/1532.jsonl...\n",
      "Uploading ground truth data to s3://julianj-mlschool/penguins/monitoring/groundtruth/2023/07/04/07/1602.jsonl...\n",
      "Uploading ground truth data to s3://julianj-mlschool/penguins/monitoring/groundtruth/2023/07/04/07/1633.jsonl...\n",
      "Uploading ground truth data to s3://julianj-mlschool/penguins/monitoring/groundtruth/2023/07/04/07/1703.jsonl...\n",
      "Uploading ground truth data to s3://julianj-mlschool/penguins/monitoring/groundtruth/2023/07/04/07/1733.jsonl...\n",
      "Uploading ground truth data to s3://julianj-mlschool/penguins/monitoring/groundtruth/2023/07/04/07/1803.jsonl...\n",
      "Uploading ground truth data to s3://julianj-mlschool/penguins/monitoring/groundtruth/2023/07/04/07/1834.jsonl...\n",
      "Uploading ground truth data to s3://julianj-mlschool/penguins/monitoring/groundtruth/2023/07/04/07/1904.jsonl...\n",
      "Generating 334 predictions...\n",
      "Uploading ground truth data to s3://julianj-mlschool/penguins/monitoring/groundtruth/2023/07/04/07/1934.jsonl...\n",
      "Uploading ground truth data to s3://julianj-mlschool/penguins/monitoring/groundtruth/2023/07/04/07/2005.jsonl...\n",
      "Uploading ground truth data to s3://julianj-mlschool/penguins/monitoring/groundtruth/2023/07/04/07/2035.jsonl...\n",
      "Uploading ground truth data to s3://julianj-mlschool/penguins/monitoring/groundtruth/2023/07/04/07/2105.jsonl...\n",
      "Uploading ground truth data to s3://julianj-mlschool/penguins/monitoring/groundtruth/2023/07/04/07/2136.jsonl...\n",
      "Uploading ground truth data to s3://julianj-mlschool/penguins/monitoring/groundtruth/2023/07/04/07/2206.jsonl...\n",
      "Uploading ground truth data to s3://julianj-mlschool/penguins/monitoring/groundtruth/2023/07/04/07/2236.jsonl...\n",
      "Uploading ground truth data to s3://julianj-mlschool/penguins/monitoring/groundtruth/2023/07/04/07/2306.jsonl...\n",
      "Uploading ground truth data to s3://julianj-mlschool/penguins/monitoring/groundtruth/2023/07/04/07/2336.jsonl...\n",
      "Uploading ground truth data to s3://julianj-mlschool/penguins/monitoring/groundtruth/2023/07/04/07/2407.jsonl...\n",
      "Uploading ground truth data to s3://julianj-mlschool/penguins/monitoring/groundtruth/2023/07/04/07/2437.jsonl...\n",
      "Uploading ground truth data to s3://julianj-mlschool/penguins/monitoring/groundtruth/2023/07/04/07/2507.jsonl...\n",
      "Generating 334 predictions...\n",
      "Uploading ground truth data to s3://julianj-mlschool/penguins/monitoring/groundtruth/2023/07/04/07/2538.jsonl...\n",
      "Uploading ground truth data to s3://julianj-mlschool/penguins/monitoring/groundtruth/2023/07/04/07/2608.jsonl...\n",
      "Uploading ground truth data to s3://julianj-mlschool/penguins/monitoring/groundtruth/2023/07/04/07/2638.jsonl...\n",
      "Uploading ground truth data to s3://julianj-mlschool/penguins/monitoring/groundtruth/2023/07/04/07/2708.jsonl...\n",
      "Uploading ground truth data to s3://julianj-mlschool/penguins/monitoring/groundtruth/2023/07/04/07/2738.jsonl...\n",
      "Uploading ground truth data to s3://julianj-mlschool/penguins/monitoring/groundtruth/2023/07/04/07/2809.jsonl...\n",
      "Uploading ground truth data to s3://julianj-mlschool/penguins/monitoring/groundtruth/2023/07/04/07/2839.jsonl...\n",
      "Uploading ground truth data to s3://julianj-mlschool/penguins/monitoring/groundtruth/2023/07/04/07/2909.jsonl...\n",
      "Uploading ground truth data to s3://julianj-mlschool/penguins/monitoring/groundtruth/2023/07/04/07/2940.jsonl...\n",
      "Uploading ground truth data to s3://julianj-mlschool/penguins/monitoring/groundtruth/2023/07/04/07/3010.jsonl...\n",
      "Uploading ground truth data to s3://julianj-mlschool/penguins/monitoring/groundtruth/2023/07/04/07/3040.jsonl...\n",
      "Generating 334 predictions...\n",
      "Uploading ground truth data to s3://julianj-mlschool/penguins/monitoring/groundtruth/2023/07/04/07/3110.jsonl...\n",
      "Uploading ground truth data to s3://julianj-mlschool/penguins/monitoring/groundtruth/2023/07/04/07/3140.jsonl...\n",
      "Uploading ground truth data to s3://julianj-mlschool/penguins/monitoring/groundtruth/2023/07/04/07/3210.jsonl...\n",
      "Uploading ground truth data to s3://julianj-mlschool/penguins/monitoring/groundtruth/2023/07/04/07/3241.jsonl...\n",
      "Uploading ground truth data to s3://julianj-mlschool/penguins/monitoring/groundtruth/2023/07/04/07/3311.jsonl...\n",
      "Uploading ground truth data to s3://julianj-mlschool/penguins/monitoring/groundtruth/2023/07/04/07/3341.jsonl...\n",
      "Uploading ground truth data to s3://julianj-mlschool/penguins/monitoring/groundtruth/2023/07/04/07/3411.jsonl...\n",
      "Uploading ground truth data to s3://julianj-mlschool/penguins/monitoring/groundtruth/2023/07/04/07/3441.jsonl...\n",
      "Uploading ground truth data to s3://julianj-mlschool/penguins/monitoring/groundtruth/2023/07/04/07/3512.jsonl...\n",
      "Uploading ground truth data to s3://julianj-mlschool/penguins/monitoring/groundtruth/2023/07/04/07/3542.jsonl...\n",
      "Uploading ground truth data to s3://julianj-mlschool/penguins/monitoring/groundtruth/2023/07/04/07/3612.jsonl...\n",
      "Generating 334 predictions...\n",
      "Uploading ground truth data to s3://julianj-mlschool/penguins/monitoring/groundtruth/2023/07/04/07/3642.jsonl...\n",
      "Uploading ground truth data to s3://julianj-mlschool/penguins/monitoring/groundtruth/2023/07/04/07/3712.jsonl...\n",
      "Uploading ground truth data to s3://julianj-mlschool/penguins/monitoring/groundtruth/2023/07/04/07/3743.jsonl...\n",
      "Uploading ground truth data to s3://julianj-mlschool/penguins/monitoring/groundtruth/2023/07/04/07/3813.jsonl...\n",
      "Uploading ground truth data to s3://julianj-mlschool/penguins/monitoring/groundtruth/2023/07/04/07/3843.jsonl...\n",
      "Uploading ground truth data to s3://julianj-mlschool/penguins/monitoring/groundtruth/2023/07/04/07/3914.jsonl...\n",
      "Uploading ground truth data to s3://julianj-mlschool/penguins/monitoring/groundtruth/2023/07/04/07/3944.jsonl...\n",
      "Uploading ground truth data to s3://julianj-mlschool/penguins/monitoring/groundtruth/2023/07/04/07/4014.jsonl...\n",
      "Uploading ground truth data to s3://julianj-mlschool/penguins/monitoring/groundtruth/2023/07/04/07/4044.jsonl...\n",
      "Uploading ground truth data to s3://julianj-mlschool/penguins/monitoring/groundtruth/2023/07/04/07/4114.jsonl...\n",
      "Uploading ground truth data to s3://julianj-mlschool/penguins/monitoring/groundtruth/2023/07/04/07/4144.jsonl...\n",
      "Generating 334 predictions...\n",
      "Uploading ground truth data to s3://julianj-mlschool/penguins/monitoring/groundtruth/2023/07/04/07/4215.jsonl...\n",
      "Uploading ground truth data to s3://julianj-mlschool/penguins/monitoring/groundtruth/2023/07/04/07/4245.jsonl...\n",
      "Uploading ground truth data to s3://julianj-mlschool/penguins/monitoring/groundtruth/2023/07/04/07/4315.jsonl...\n",
      "Uploading ground truth data to s3://julianj-mlschool/penguins/monitoring/groundtruth/2023/07/04/07/4345.jsonl...\n",
      "Uploading ground truth data to s3://julianj-mlschool/penguins/monitoring/groundtruth/2023/07/04/07/4416.jsonl...\n",
      "Uploading ground truth data to s3://julianj-mlschool/penguins/monitoring/groundtruth/2023/07/04/07/4446.jsonl...\n",
      "Uploading ground truth data to s3://julianj-mlschool/penguins/monitoring/groundtruth/2023/07/04/07/4516.jsonl...\n",
      "Uploading ground truth data to s3://julianj-mlschool/penguins/monitoring/groundtruth/2023/07/04/07/4546.jsonl...\n",
      "Uploading ground truth data to s3://julianj-mlschool/penguins/monitoring/groundtruth/2023/07/04/07/4616.jsonl...\n",
      "Uploading ground truth data to s3://julianj-mlschool/penguins/monitoring/groundtruth/2023/07/04/07/4647.jsonl...\n",
      "Uploading ground truth data to s3://julianj-mlschool/penguins/monitoring/groundtruth/2023/07/04/07/4717.jsonl...\n",
      "Uploading ground truth data to s3://julianj-mlschool/penguins/monitoring/groundtruth/2023/07/04/07/4747.jsonl...\n",
      "Generating 334 predictions...\n",
      "Uploading ground truth data to s3://julianj-mlschool/penguins/monitoring/groundtruth/2023/07/04/07/4817.jsonl...\n",
      "Uploading ground truth data to s3://julianj-mlschool/penguins/monitoring/groundtruth/2023/07/04/07/4848.jsonl...\n",
      "Uploading ground truth data to s3://julianj-mlschool/penguins/monitoring/groundtruth/2023/07/04/07/4918.jsonl...\n",
      "Uploading ground truth data to s3://julianj-mlschool/penguins/monitoring/groundtruth/2023/07/04/07/4948.jsonl...\n",
      "Uploading ground truth data to s3://julianj-mlschool/penguins/monitoring/groundtruth/2023/07/04/07/5018.jsonl...\n",
      "Uploading ground truth data to s3://julianj-mlschool/penguins/monitoring/groundtruth/2023/07/04/07/5048.jsonl...\n",
      "Uploading ground truth data to s3://julianj-mlschool/penguins/monitoring/groundtruth/2023/07/04/07/5118.jsonl...\n",
      "Uploading ground truth data to s3://julianj-mlschool/penguins/monitoring/groundtruth/2023/07/04/07/5149.jsonl...\n",
      "Uploading ground truth data to s3://julianj-mlschool/penguins/monitoring/groundtruth/2023/07/04/07/5219.jsonl...\n",
      "Uploading ground truth data to s3://julianj-mlschool/penguins/monitoring/groundtruth/2023/07/04/07/5249.jsonl...\n",
      "Uploading ground truth data to s3://julianj-mlschool/penguins/monitoring/groundtruth/2023/07/04/07/5319.jsonl...\n",
      "Generating 334 predictions...\n",
      "Uploading ground truth data to s3://julianj-mlschool/penguins/monitoring/groundtruth/2023/07/04/07/5349.jsonl...\n",
      "Uploading ground truth data to s3://julianj-mlschool/penguins/monitoring/groundtruth/2023/07/04/07/5419.jsonl...\n",
      "Uploading ground truth data to s3://julianj-mlschool/penguins/monitoring/groundtruth/2023/07/04/07/5450.jsonl...\n",
      "Uploading ground truth data to s3://julianj-mlschool/penguins/monitoring/groundtruth/2023/07/04/07/5520.jsonl...\n",
      "Uploading ground truth data to s3://julianj-mlschool/penguins/monitoring/groundtruth/2023/07/04/07/5550.jsonl...\n",
      "Uploading ground truth data to s3://julianj-mlschool/penguins/monitoring/groundtruth/2023/07/04/07/5620.jsonl...\n",
      "Uploading ground truth data to s3://julianj-mlschool/penguins/monitoring/groundtruth/2023/07/04/07/5651.jsonl...\n",
      "Uploading ground truth data to s3://julianj-mlschool/penguins/monitoring/groundtruth/2023/07/04/07/5721.jsonl...\n",
      "Uploading ground truth data to s3://julianj-mlschool/penguins/monitoring/groundtruth/2023/07/04/07/5752.jsonl...\n",
      "Uploading ground truth data to s3://julianj-mlschool/penguins/monitoring/groundtruth/2023/07/04/07/5822.jsonl...\n",
      "Uploading ground truth data to s3://julianj-mlschool/penguins/monitoring/groundtruth/2023/07/04/07/5852.jsonl...\n",
      "Generating 334 predictions...\n",
      "Uploading ground truth data to s3://julianj-mlschool/penguins/monitoring/groundtruth/2023/07/04/07/5922.jsonl...\n",
      "Uploading ground truth data to s3://julianj-mlschool/penguins/monitoring/groundtruth/2023/07/04/07/5952.jsonl...\n",
      "Uploading ground truth data to s3://julianj-mlschool/penguins/monitoring/groundtruth/2023/07/04/08/0023.jsonl...\n",
      "Uploading ground truth data to s3://julianj-mlschool/penguins/monitoring/groundtruth/2023/07/04/08/0053.jsonl...\n",
      "Uploading ground truth data to s3://julianj-mlschool/penguins/monitoring/groundtruth/2023/07/04/08/0123.jsonl...\n",
      "Uploading ground truth data to s3://julianj-mlschool/penguins/monitoring/groundtruth/2023/07/04/08/0153.jsonl...\n",
      "Uploading ground truth data to s3://julianj-mlschool/penguins/monitoring/groundtruth/2023/07/04/08/0223.jsonl...\n",
      "Uploading ground truth data to s3://julianj-mlschool/penguins/monitoring/groundtruth/2023/07/04/08/0253.jsonl...\n",
      "Uploading ground truth data to s3://julianj-mlschool/penguins/monitoring/groundtruth/2023/07/04/08/0324.jsonl...\n",
      "Uploading ground truth data to s3://julianj-mlschool/penguins/monitoring/groundtruth/2023/07/04/08/0354.jsonl...\n",
      "Uploading ground truth data to s3://julianj-mlschool/penguins/monitoring/groundtruth/2023/07/04/08/0424.jsonl...\n",
      "Generating 334 predictions...\n",
      "Uploading ground truth data to s3://julianj-mlschool/penguins/monitoring/groundtruth/2023/07/04/08/0454.jsonl...\n",
      "Uploading ground truth data to s3://julianj-mlschool/penguins/monitoring/groundtruth/2023/07/04/08/0524.jsonl...\n",
      "Uploading ground truth data to s3://julianj-mlschool/penguins/monitoring/groundtruth/2023/07/04/08/0555.jsonl...\n",
      "Uploading ground truth data to s3://julianj-mlschool/penguins/monitoring/groundtruth/2023/07/04/08/0625.jsonl...\n",
      "Uploading ground truth data to s3://julianj-mlschool/penguins/monitoring/groundtruth/2023/07/04/08/0655.jsonl...\n",
      "Uploading ground truth data to s3://julianj-mlschool/penguins/monitoring/groundtruth/2023/07/04/08/0725.jsonl...\n",
      "Uploading ground truth data to s3://julianj-mlschool/penguins/monitoring/groundtruth/2023/07/04/08/0756.jsonl...\n",
      "Uploading ground truth data to s3://julianj-mlschool/penguins/monitoring/groundtruth/2023/07/04/08/0826.jsonl...\n",
      "Uploading ground truth data to s3://julianj-mlschool/penguins/monitoring/groundtruth/2023/07/04/08/0856.jsonl...\n",
      "Uploading ground truth data to s3://julianj-mlschool/penguins/monitoring/groundtruth/2023/07/04/08/0926.jsonl...\n",
      "Uploading ground truth data to s3://julianj-mlschool/penguins/monitoring/groundtruth/2023/07/04/08/0956.jsonl...\n",
      "Uploading ground truth data to s3://julianj-mlschool/penguins/monitoring/groundtruth/2023/07/04/08/1027.jsonl...\n",
      "Generating 334 predictions...\n",
      "Uploading ground truth data to s3://julianj-mlschool/penguins/monitoring/groundtruth/2023/07/04/08/1057.jsonl...\n",
      "Uploading ground truth data to s3://julianj-mlschool/penguins/monitoring/groundtruth/2023/07/04/08/1127.jsonl...\n",
      "Uploading ground truth data to s3://julianj-mlschool/penguins/monitoring/groundtruth/2023/07/04/08/1157.jsonl...\n",
      "Uploading ground truth data to s3://julianj-mlschool/penguins/monitoring/groundtruth/2023/07/04/08/1227.jsonl...\n",
      "Uploading ground truth data to s3://julianj-mlschool/penguins/monitoring/groundtruth/2023/07/04/08/1258.jsonl...\n",
      "Uploading ground truth data to s3://julianj-mlschool/penguins/monitoring/groundtruth/2023/07/04/08/1328.jsonl...\n",
      "Uploading ground truth data to s3://julianj-mlschool/penguins/monitoring/groundtruth/2023/07/04/08/1358.jsonl...\n",
      "Uploading ground truth data to s3://julianj-mlschool/penguins/monitoring/groundtruth/2023/07/04/08/1428.jsonl...\n",
      "Uploading ground truth data to s3://julianj-mlschool/penguins/monitoring/groundtruth/2023/07/04/08/1458.jsonl...\n",
      "Uploading ground truth data to s3://julianj-mlschool/penguins/monitoring/groundtruth/2023/07/04/08/1529.jsonl...\n",
      "Uploading ground truth data to s3://julianj-mlschool/penguins/monitoring/groundtruth/2023/07/04/08/1559.jsonl...\n",
      "Generating 334 predictions...\n",
      "Uploading ground truth data to s3://julianj-mlschool/penguins/monitoring/groundtruth/2023/07/04/08/1629.jsonl...\n",
      "Uploading ground truth data to s3://julianj-mlschool/penguins/monitoring/groundtruth/2023/07/04/08/1700.jsonl...\n",
      "Uploading ground truth data to s3://julianj-mlschool/penguins/monitoring/groundtruth/2023/07/04/08/1730.jsonl...\n",
      "Uploading ground truth data to s3://julianj-mlschool/penguins/monitoring/groundtruth/2023/07/04/08/1800.jsonl...\n",
      "Uploading ground truth data to s3://julianj-mlschool/penguins/monitoring/groundtruth/2023/07/04/08/1830.jsonl...\n",
      "Uploading ground truth data to s3://julianj-mlschool/penguins/monitoring/groundtruth/2023/07/04/08/1901.jsonl...\n",
      "Uploading ground truth data to s3://julianj-mlschool/penguins/monitoring/groundtruth/2023/07/04/08/1931.jsonl...\n",
      "Uploading ground truth data to s3://julianj-mlschool/penguins/monitoring/groundtruth/2023/07/04/08/2001.jsonl...\n",
      "Uploading ground truth data to s3://julianj-mlschool/penguins/monitoring/groundtruth/2023/07/04/08/2031.jsonl...\n",
      "Uploading ground truth data to s3://julianj-mlschool/penguins/monitoring/groundtruth/2023/07/04/08/2101.jsonl...\n",
      "Uploading ground truth data to s3://julianj-mlschool/penguins/monitoring/groundtruth/2023/07/04/08/2132.jsonl...\n",
      "Generating 334 predictions...\n",
      "Uploading ground truth data to s3://julianj-mlschool/penguins/monitoring/groundtruth/2023/07/04/08/2202.jsonl...\n",
      "Uploading ground truth data to s3://julianj-mlschool/penguins/monitoring/groundtruth/2023/07/04/08/2232.jsonl...\n",
      "Uploading ground truth data to s3://julianj-mlschool/penguins/monitoring/groundtruth/2023/07/04/08/2302.jsonl...\n",
      "Uploading ground truth data to s3://julianj-mlschool/penguins/monitoring/groundtruth/2023/07/04/08/2333.jsonl...\n",
      "Uploading ground truth data to s3://julianj-mlschool/penguins/monitoring/groundtruth/2023/07/04/08/2403.jsonl...\n",
      "Uploading ground truth data to s3://julianj-mlschool/penguins/monitoring/groundtruth/2023/07/04/08/2434.jsonl...\n",
      "Uploading ground truth data to s3://julianj-mlschool/penguins/monitoring/groundtruth/2023/07/04/08/2504.jsonl...\n",
      "Uploading ground truth data to s3://julianj-mlschool/penguins/monitoring/groundtruth/2023/07/04/08/2534.jsonl...\n",
      "Uploading ground truth data to s3://julianj-mlschool/penguins/monitoring/groundtruth/2023/07/04/08/2604.jsonl...\n",
      "Uploading ground truth data to s3://julianj-mlschool/penguins/monitoring/groundtruth/2023/07/04/08/2635.jsonl...\n",
      "Uploading ground truth data to s3://julianj-mlschool/penguins/monitoring/groundtruth/2023/07/04/08/2705.jsonl...\n",
      "Generating 334 predictions...\n",
      "Uploading ground truth data to s3://julianj-mlschool/penguins/monitoring/groundtruth/2023/07/04/08/2735.jsonl...\n",
      "Uploading ground truth data to s3://julianj-mlschool/penguins/monitoring/groundtruth/2023/07/04/08/2805.jsonl...\n",
      "Uploading ground truth data to s3://julianj-mlschool/penguins/monitoring/groundtruth/2023/07/04/08/2835.jsonl...\n",
      "Uploading ground truth data to s3://julianj-mlschool/penguins/monitoring/groundtruth/2023/07/04/08/2906.jsonl...\n",
      "Uploading ground truth data to s3://julianj-mlschool/penguins/monitoring/groundtruth/2023/07/04/08/2936.jsonl...\n",
      "Uploading ground truth data to s3://julianj-mlschool/penguins/monitoring/groundtruth/2023/07/04/08/3006.jsonl...\n",
      "Uploading ground truth data to s3://julianj-mlschool/penguins/monitoring/groundtruth/2023/07/04/08/3036.jsonl...\n",
      "Uploading ground truth data to s3://julianj-mlschool/penguins/monitoring/groundtruth/2023/07/04/08/3106.jsonl...\n",
      "Uploading ground truth data to s3://julianj-mlschool/penguins/monitoring/groundtruth/2023/07/04/08/3136.jsonl...\n",
      "Uploading ground truth data to s3://julianj-mlschool/penguins/monitoring/groundtruth/2023/07/04/08/3207.jsonl...\n",
      "Uploading ground truth data to s3://julianj-mlschool/penguins/monitoring/groundtruth/2023/07/04/08/3237.jsonl...\n",
      "Uploading ground truth data to s3://julianj-mlschool/penguins/monitoring/groundtruth/2023/07/04/08/3307.jsonl...\n",
      "Generating 334 predictions...\n",
      "Uploading ground truth data to s3://julianj-mlschool/penguins/monitoring/groundtruth/2023/07/04/08/3337.jsonl...\n",
      "Uploading ground truth data to s3://julianj-mlschool/penguins/monitoring/groundtruth/2023/07/04/08/3408.jsonl...\n",
      "Uploading ground truth data to s3://julianj-mlschool/penguins/monitoring/groundtruth/2023/07/04/08/3438.jsonl...\n",
      "Uploading ground truth data to s3://julianj-mlschool/penguins/monitoring/groundtruth/2023/07/04/08/3508.jsonl...\n",
      "Uploading ground truth data to s3://julianj-mlschool/penguins/monitoring/groundtruth/2023/07/04/08/3538.jsonl...\n",
      "Uploading ground truth data to s3://julianj-mlschool/penguins/monitoring/groundtruth/2023/07/04/08/3608.jsonl...\n",
      "Uploading ground truth data to s3://julianj-mlschool/penguins/monitoring/groundtruth/2023/07/04/08/3638.jsonl...\n",
      "Uploading ground truth data to s3://julianj-mlschool/penguins/monitoring/groundtruth/2023/07/04/08/3709.jsonl...\n",
      "Uploading ground truth data to s3://julianj-mlschool/penguins/monitoring/groundtruth/2023/07/04/08/3739.jsonl...\n",
      "Uploading ground truth data to s3://julianj-mlschool/penguins/monitoring/groundtruth/2023/07/04/08/3809.jsonl...\n",
      "Uploading ground truth data to s3://julianj-mlschool/penguins/monitoring/groundtruth/2023/07/04/08/3839.jsonl...\n",
      "Generating 334 predictions...\n",
      "Uploading ground truth data to s3://julianj-mlschool/penguins/monitoring/groundtruth/2023/07/04/08/3909.jsonl...\n",
      "Uploading ground truth data to s3://julianj-mlschool/penguins/monitoring/groundtruth/2023/07/04/08/3940.jsonl...\n",
      "Uploading ground truth data to s3://julianj-mlschool/penguins/monitoring/groundtruth/2023/07/04/08/4010.jsonl...\n",
      "Uploading ground truth data to s3://julianj-mlschool/penguins/monitoring/groundtruth/2023/07/04/08/4040.jsonl...\n",
      "Uploading ground truth data to s3://julianj-mlschool/penguins/monitoring/groundtruth/2023/07/04/08/4110.jsonl...\n",
      "Uploading ground truth data to s3://julianj-mlschool/penguins/monitoring/groundtruth/2023/07/04/08/4140.jsonl...\n",
      "Uploading ground truth data to s3://julianj-mlschool/penguins/monitoring/groundtruth/2023/07/04/08/4211.jsonl...\n",
      "Uploading ground truth data to s3://julianj-mlschool/penguins/monitoring/groundtruth/2023/07/04/08/4241.jsonl...\n",
      "Uploading ground truth data to s3://julianj-mlschool/penguins/monitoring/groundtruth/2023/07/04/08/4312.jsonl...\n",
      "Uploading ground truth data to s3://julianj-mlschool/penguins/monitoring/groundtruth/2023/07/04/08/4342.jsonl...\n",
      "Uploading ground truth data to s3://julianj-mlschool/penguins/monitoring/groundtruth/2023/07/04/08/4412.jsonl...\n",
      "Generating 334 predictions...\n",
      "Uploading ground truth data to s3://julianj-mlschool/penguins/monitoring/groundtruth/2023/07/04/08/4442.jsonl...\n",
      "Uploading ground truth data to s3://julianj-mlschool/penguins/monitoring/groundtruth/2023/07/04/08/4512.jsonl...\n",
      "Uploading ground truth data to s3://julianj-mlschool/penguins/monitoring/groundtruth/2023/07/04/08/4543.jsonl...\n",
      "Uploading ground truth data to s3://julianj-mlschool/penguins/monitoring/groundtruth/2023/07/04/08/4613.jsonl...\n",
      "Uploading ground truth data to s3://julianj-mlschool/penguins/monitoring/groundtruth/2023/07/04/08/4643.jsonl...\n",
      "Uploading ground truth data to s3://julianj-mlschool/penguins/monitoring/groundtruth/2023/07/04/08/4713.jsonl...\n",
      "Uploading ground truth data to s3://julianj-mlschool/penguins/monitoring/groundtruth/2023/07/04/08/4743.jsonl...\n",
      "Uploading ground truth data to s3://julianj-mlschool/penguins/monitoring/groundtruth/2023/07/04/08/4814.jsonl...\n",
      "Uploading ground truth data to s3://julianj-mlschool/penguins/monitoring/groundtruth/2023/07/04/08/4844.jsonl...\n",
      "Uploading ground truth data to s3://julianj-mlschool/penguins/monitoring/groundtruth/2023/07/04/08/4914.jsonl...\n",
      "Uploading ground truth data to s3://julianj-mlschool/penguins/monitoring/groundtruth/2023/07/04/08/4944.jsonl...\n",
      "Uploading ground truth data to s3://julianj-mlschool/penguins/monitoring/groundtruth/2023/07/04/08/5014.jsonl...\n",
      "Generating 334 predictions...\n",
      "Uploading ground truth data to s3://julianj-mlschool/penguins/monitoring/groundtruth/2023/07/04/08/5045.jsonl...\n",
      "Uploading ground truth data to s3://julianj-mlschool/penguins/monitoring/groundtruth/2023/07/04/08/5115.jsonl...\n",
      "Uploading ground truth data to s3://julianj-mlschool/penguins/monitoring/groundtruth/2023/07/04/08/5145.jsonl...\n",
      "Uploading ground truth data to s3://julianj-mlschool/penguins/monitoring/groundtruth/2023/07/04/08/5215.jsonl...\n",
      "Uploading ground truth data to s3://julianj-mlschool/penguins/monitoring/groundtruth/2023/07/04/08/5246.jsonl...\n",
      "Uploading ground truth data to s3://julianj-mlschool/penguins/monitoring/groundtruth/2023/07/04/08/5316.jsonl...\n",
      "Uploading ground truth data to s3://julianj-mlschool/penguins/monitoring/groundtruth/2023/07/04/08/5346.jsonl...\n",
      "Uploading ground truth data to s3://julianj-mlschool/penguins/monitoring/groundtruth/2023/07/04/08/5416.jsonl...\n",
      "Uploading ground truth data to s3://julianj-mlschool/penguins/monitoring/groundtruth/2023/07/04/08/5446.jsonl...\n",
      "Uploading ground truth data to s3://julianj-mlschool/penguins/monitoring/groundtruth/2023/07/04/08/5517.jsonl...\n",
      "Uploading ground truth data to s3://julianj-mlschool/penguins/monitoring/groundtruth/2023/07/04/08/5547.jsonl...\n",
      "Generating 334 predictions...\n",
      "Uploading ground truth data to s3://julianj-mlschool/penguins/monitoring/groundtruth/2023/07/04/08/5617.jsonl...\n",
      "Uploading ground truth data to s3://julianj-mlschool/penguins/monitoring/groundtruth/2023/07/04/08/5647.jsonl...\n",
      "Uploading ground truth data to s3://julianj-mlschool/penguins/monitoring/groundtruth/2023/07/04/08/5717.jsonl...\n",
      "Uploading ground truth data to s3://julianj-mlschool/penguins/monitoring/groundtruth/2023/07/04/08/5748.jsonl...\n",
      "Uploading ground truth data to s3://julianj-mlschool/penguins/monitoring/groundtruth/2023/07/04/08/5818.jsonl...\n",
      "Uploading ground truth data to s3://julianj-mlschool/penguins/monitoring/groundtruth/2023/07/04/08/5848.jsonl...\n",
      "Uploading ground truth data to s3://julianj-mlschool/penguins/monitoring/groundtruth/2023/07/04/08/5918.jsonl...\n",
      "Uploading ground truth data to s3://julianj-mlschool/penguins/monitoring/groundtruth/2023/07/04/08/5948.jsonl...\n",
      "Uploading ground truth data to s3://julianj-mlschool/penguins/monitoring/groundtruth/2023/07/04/09/0019.jsonl...\n",
      "Uploading ground truth data to s3://julianj-mlschool/penguins/monitoring/groundtruth/2023/07/04/09/0049.jsonl...\n",
      "Uploading ground truth data to s3://julianj-mlschool/penguins/monitoring/groundtruth/2023/07/04/09/0119.jsonl...\n",
      "Generating 334 predictions...\n",
      "Uploading ground truth data to s3://julianj-mlschool/penguins/monitoring/groundtruth/2023/07/04/09/0150.jsonl...\n",
      "Uploading ground truth data to s3://julianj-mlschool/penguins/monitoring/groundtruth/2023/07/04/09/0220.jsonl...\n",
      "Uploading ground truth data to s3://julianj-mlschool/penguins/monitoring/groundtruth/2023/07/04/09/0250.jsonl...\n",
      "Uploading ground truth data to s3://julianj-mlschool/penguins/monitoring/groundtruth/2023/07/04/09/0320.jsonl...\n",
      "Uploading ground truth data to s3://julianj-mlschool/penguins/monitoring/groundtruth/2023/07/04/09/0350.jsonl...\n",
      "Uploading ground truth data to s3://julianj-mlschool/penguins/monitoring/groundtruth/2023/07/04/09/0420.jsonl...\n",
      "Uploading ground truth data to s3://julianj-mlschool/penguins/monitoring/groundtruth/2023/07/04/09/0451.jsonl...\n",
      "Uploading ground truth data to s3://julianj-mlschool/penguins/monitoring/groundtruth/2023/07/04/09/0521.jsonl...\n",
      "Uploading ground truth data to s3://julianj-mlschool/penguins/monitoring/groundtruth/2023/07/04/09/0551.jsonl...\n",
      "Uploading ground truth data to s3://julianj-mlschool/penguins/monitoring/groundtruth/2023/07/04/09/0621.jsonl...\n",
      "Uploading ground truth data to s3://julianj-mlschool/penguins/monitoring/groundtruth/2023/07/04/09/0651.jsonl...\n",
      "Generating 334 predictions...\n",
      "Uploading ground truth data to s3://julianj-mlschool/penguins/monitoring/groundtruth/2023/07/04/09/0722.jsonl...\n",
      "Uploading ground truth data to s3://julianj-mlschool/penguins/monitoring/groundtruth/2023/07/04/09/0752.jsonl...\n",
      "Uploading ground truth data to s3://julianj-mlschool/penguins/monitoring/groundtruth/2023/07/04/09/0822.jsonl...\n",
      "Uploading ground truth data to s3://julianj-mlschool/penguins/monitoring/groundtruth/2023/07/04/09/0852.jsonl...\n",
      "Uploading ground truth data to s3://julianj-mlschool/penguins/monitoring/groundtruth/2023/07/04/09/0922.jsonl...\n",
      "Uploading ground truth data to s3://julianj-mlschool/penguins/monitoring/groundtruth/2023/07/04/09/0952.jsonl...\n",
      "Uploading ground truth data to s3://julianj-mlschool/penguins/monitoring/groundtruth/2023/07/04/09/1023.jsonl...\n",
      "Uploading ground truth data to s3://julianj-mlschool/penguins/monitoring/groundtruth/2023/07/04/09/1053.jsonl...\n",
      "Uploading ground truth data to s3://julianj-mlschool/penguins/monitoring/groundtruth/2023/07/04/09/1124.jsonl...\n",
      "Uploading ground truth data to s3://julianj-mlschool/penguins/monitoring/groundtruth/2023/07/04/09/1154.jsonl...\n",
      "Uploading ground truth data to s3://julianj-mlschool/penguins/monitoring/groundtruth/2023/07/04/09/1224.jsonl...\n",
      "Uploading ground truth data to s3://julianj-mlschool/penguins/monitoring/groundtruth/2023/07/04/09/1254.jsonl...\n",
      "Generating 334 predictions...\n",
      "Uploading ground truth data to s3://julianj-mlschool/penguins/monitoring/groundtruth/2023/07/04/09/1324.jsonl...\n",
      "Uploading ground truth data to s3://julianj-mlschool/penguins/monitoring/groundtruth/2023/07/04/09/1354.jsonl...\n",
      "Uploading ground truth data to s3://julianj-mlschool/penguins/monitoring/groundtruth/2023/07/04/09/1425.jsonl...\n",
      "Uploading ground truth data to s3://julianj-mlschool/penguins/monitoring/groundtruth/2023/07/04/09/1455.jsonl...\n",
      "Uploading ground truth data to s3://julianj-mlschool/penguins/monitoring/groundtruth/2023/07/04/09/1525.jsonl...\n",
      "Uploading ground truth data to s3://julianj-mlschool/penguins/monitoring/groundtruth/2023/07/04/09/1555.jsonl...\n",
      "Uploading ground truth data to s3://julianj-mlschool/penguins/monitoring/groundtruth/2023/07/04/09/1625.jsonl...\n",
      "Uploading ground truth data to s3://julianj-mlschool/penguins/monitoring/groundtruth/2023/07/04/09/1656.jsonl...\n",
      "Uploading ground truth data to s3://julianj-mlschool/penguins/monitoring/groundtruth/2023/07/04/09/1726.jsonl...\n",
      "Uploading ground truth data to s3://julianj-mlschool/penguins/monitoring/groundtruth/2023/07/04/09/1756.jsonl...\n",
      "Uploading ground truth data to s3://julianj-mlschool/penguins/monitoring/groundtruth/2023/07/04/09/1826.jsonl...\n",
      "Generating 334 predictions...\n",
      "Uploading ground truth data to s3://julianj-mlschool/penguins/monitoring/groundtruth/2023/07/04/09/1856.jsonl...\n",
      "Uploading ground truth data to s3://julianj-mlschool/penguins/monitoring/groundtruth/2023/07/04/09/1927.jsonl...\n",
      "Uploading ground truth data to s3://julianj-mlschool/penguins/monitoring/groundtruth/2023/07/04/09/1957.jsonl...\n",
      "Uploading ground truth data to s3://julianj-mlschool/penguins/monitoring/groundtruth/2023/07/04/09/2027.jsonl...\n",
      "Uploading ground truth data to s3://julianj-mlschool/penguins/monitoring/groundtruth/2023/07/04/09/2058.jsonl...\n",
      "Uploading ground truth data to s3://julianj-mlschool/penguins/monitoring/groundtruth/2023/07/04/09/2128.jsonl...\n",
      "Uploading ground truth data to s3://julianj-mlschool/penguins/monitoring/groundtruth/2023/07/04/09/2158.jsonl...\n",
      "Uploading ground truth data to s3://julianj-mlschool/penguins/monitoring/groundtruth/2023/07/04/09/2228.jsonl...\n",
      "Uploading ground truth data to s3://julianj-mlschool/penguins/monitoring/groundtruth/2023/07/04/09/2258.jsonl...\n",
      "Uploading ground truth data to s3://julianj-mlschool/penguins/monitoring/groundtruth/2023/07/04/09/2328.jsonl...\n",
      "Uploading ground truth data to s3://julianj-mlschool/penguins/monitoring/groundtruth/2023/07/04/09/2359.jsonl...\n",
      "Generating 334 predictions...\n",
      "Uploading ground truth data to s3://julianj-mlschool/penguins/monitoring/groundtruth/2023/07/04/09/2429.jsonl...\n",
      "Uploading ground truth data to s3://julianj-mlschool/penguins/monitoring/groundtruth/2023/07/04/09/2459.jsonl...\n",
      "Uploading ground truth data to s3://julianj-mlschool/penguins/monitoring/groundtruth/2023/07/04/09/2529.jsonl...\n",
      "Uploading ground truth data to s3://julianj-mlschool/penguins/monitoring/groundtruth/2023/07/04/09/2559.jsonl...\n",
      "Uploading ground truth data to s3://julianj-mlschool/penguins/monitoring/groundtruth/2023/07/04/09/2630.jsonl...\n",
      "Uploading ground truth data to s3://julianj-mlschool/penguins/monitoring/groundtruth/2023/07/04/09/2700.jsonl...\n",
      "Uploading ground truth data to s3://julianj-mlschool/penguins/monitoring/groundtruth/2023/07/04/09/2730.jsonl...\n",
      "Uploading ground truth data to s3://julianj-mlschool/penguins/monitoring/groundtruth/2023/07/04/09/2800.jsonl...\n",
      "Uploading ground truth data to s3://julianj-mlschool/penguins/monitoring/groundtruth/2023/07/04/09/2830.jsonl...\n",
      "Uploading ground truth data to s3://julianj-mlschool/penguins/monitoring/groundtruth/2023/07/04/09/2901.jsonl...\n",
      "Uploading ground truth data to s3://julianj-mlschool/penguins/monitoring/groundtruth/2023/07/04/09/2931.jsonl...\n",
      "Generating 334 predictions...\n",
      "Uploading ground truth data to s3://julianj-mlschool/penguins/monitoring/groundtruth/2023/07/04/09/3002.jsonl...\n",
      "Uploading ground truth data to s3://julianj-mlschool/penguins/monitoring/groundtruth/2023/07/04/09/3032.jsonl...\n",
      "Uploading ground truth data to s3://julianj-mlschool/penguins/monitoring/groundtruth/2023/07/04/09/3102.jsonl...\n",
      "Uploading ground truth data to s3://julianj-mlschool/penguins/monitoring/groundtruth/2023/07/04/09/3132.jsonl...\n",
      "Uploading ground truth data to s3://julianj-mlschool/penguins/monitoring/groundtruth/2023/07/04/09/3202.jsonl...\n",
      "Uploading ground truth data to s3://julianj-mlschool/penguins/monitoring/groundtruth/2023/07/04/09/3233.jsonl...\n",
      "Uploading ground truth data to s3://julianj-mlschool/penguins/monitoring/groundtruth/2023/07/04/09/3303.jsonl...\n",
      "Uploading ground truth data to s3://julianj-mlschool/penguins/monitoring/groundtruth/2023/07/04/09/3333.jsonl...\n",
      "Uploading ground truth data to s3://julianj-mlschool/penguins/monitoring/groundtruth/2023/07/04/09/3403.jsonl...\n",
      "Uploading ground truth data to s3://julianj-mlschool/penguins/monitoring/groundtruth/2023/07/04/09/3433.jsonl...\n",
      "Uploading ground truth data to s3://julianj-mlschool/penguins/monitoring/groundtruth/2023/07/04/09/3503.jsonl...\n",
      "Uploading ground truth data to s3://julianj-mlschool/penguins/monitoring/groundtruth/2023/07/04/09/3534.jsonl...\n",
      "Generating 334 predictions...\n",
      "Uploading ground truth data to s3://julianj-mlschool/penguins/monitoring/groundtruth/2023/07/04/09/3604.jsonl...\n",
      "Uploading ground truth data to s3://julianj-mlschool/penguins/monitoring/groundtruth/2023/07/04/09/3634.jsonl...\n",
      "Uploading ground truth data to s3://julianj-mlschool/penguins/monitoring/groundtruth/2023/07/04/09/3704.jsonl...\n",
      "Uploading ground truth data to s3://julianj-mlschool/penguins/monitoring/groundtruth/2023/07/04/09/3734.jsonl...\n",
      "Uploading ground truth data to s3://julianj-mlschool/penguins/monitoring/groundtruth/2023/07/04/09/3805.jsonl...\n",
      "Uploading ground truth data to s3://julianj-mlschool/penguins/monitoring/groundtruth/2023/07/04/09/3835.jsonl...\n",
      "Uploading ground truth data to s3://julianj-mlschool/penguins/monitoring/groundtruth/2023/07/04/09/3905.jsonl...\n",
      "Uploading ground truth data to s3://julianj-mlschool/penguins/monitoring/groundtruth/2023/07/04/09/3936.jsonl...\n",
      "Uploading ground truth data to s3://julianj-mlschool/penguins/monitoring/groundtruth/2023/07/04/09/4006.jsonl...\n",
      "Uploading ground truth data to s3://julianj-mlschool/penguins/monitoring/groundtruth/2023/07/04/09/4036.jsonl...\n",
      "Uploading ground truth data to s3://julianj-mlschool/penguins/monitoring/groundtruth/2023/07/04/09/4106.jsonl...\n",
      "Generating 334 predictions...\n",
      "Uploading ground truth data to s3://julianj-mlschool/penguins/monitoring/groundtruth/2023/07/04/09/4136.jsonl...\n",
      "Uploading ground truth data to s3://julianj-mlschool/penguins/monitoring/groundtruth/2023/07/04/09/4207.jsonl...\n",
      "Uploading ground truth data to s3://julianj-mlschool/penguins/monitoring/groundtruth/2023/07/04/09/4237.jsonl...\n",
      "Uploading ground truth data to s3://julianj-mlschool/penguins/monitoring/groundtruth/2023/07/04/09/4307.jsonl...\n",
      "Uploading ground truth data to s3://julianj-mlschool/penguins/monitoring/groundtruth/2023/07/04/09/4337.jsonl...\n",
      "Uploading ground truth data to s3://julianj-mlschool/penguins/monitoring/groundtruth/2023/07/04/09/4407.jsonl...\n",
      "Uploading ground truth data to s3://julianj-mlschool/penguins/monitoring/groundtruth/2023/07/04/09/4438.jsonl...\n",
      "Uploading ground truth data to s3://julianj-mlschool/penguins/monitoring/groundtruth/2023/07/04/09/4508.jsonl...\n",
      "Uploading ground truth data to s3://julianj-mlschool/penguins/monitoring/groundtruth/2023/07/04/09/4538.jsonl...\n",
      "Uploading ground truth data to s3://julianj-mlschool/penguins/monitoring/groundtruth/2023/07/04/09/4608.jsonl...\n",
      "Uploading ground truth data to s3://julianj-mlschool/penguins/monitoring/groundtruth/2023/07/04/09/4638.jsonl...\n",
      "Generating 334 predictions...\n",
      "Uploading ground truth data to s3://julianj-mlschool/penguins/monitoring/groundtruth/2023/07/04/09/4709.jsonl...\n",
      "Uploading ground truth data to s3://julianj-mlschool/penguins/monitoring/groundtruth/2023/07/04/09/4739.jsonl...\n",
      "Uploading ground truth data to s3://julianj-mlschool/penguins/monitoring/groundtruth/2023/07/04/09/4809.jsonl...\n",
      "Uploading ground truth data to s3://julianj-mlschool/penguins/monitoring/groundtruth/2023/07/04/09/4839.jsonl...\n",
      "Uploading ground truth data to s3://julianj-mlschool/penguins/monitoring/groundtruth/2023/07/04/09/4910.jsonl...\n",
      "Uploading ground truth data to s3://julianj-mlschool/penguins/monitoring/groundtruth/2023/07/04/09/4940.jsonl...\n",
      "Uploading ground truth data to s3://julianj-mlschool/penguins/monitoring/groundtruth/2023/07/04/09/5010.jsonl...\n",
      "Uploading ground truth data to s3://julianj-mlschool/penguins/monitoring/groundtruth/2023/07/04/09/5040.jsonl...\n",
      "Uploading ground truth data to s3://julianj-mlschool/penguins/monitoring/groundtruth/2023/07/04/09/5110.jsonl...\n",
      "Uploading ground truth data to s3://julianj-mlschool/penguins/monitoring/groundtruth/2023/07/04/09/5140.jsonl...\n",
      "Uploading ground truth data to s3://julianj-mlschool/penguins/monitoring/groundtruth/2023/07/04/09/5211.jsonl...\n",
      "Generating 334 predictions...\n",
      "Uploading ground truth data to s3://julianj-mlschool/penguins/monitoring/groundtruth/2023/07/04/09/5241.jsonl...\n",
      "Uploading ground truth data to s3://julianj-mlschool/penguins/monitoring/groundtruth/2023/07/04/09/5311.jsonl...\n",
      "Uploading ground truth data to s3://julianj-mlschool/penguins/monitoring/groundtruth/2023/07/04/09/5341.jsonl...\n",
      "Uploading ground truth data to s3://julianj-mlschool/penguins/monitoring/groundtruth/2023/07/04/09/5411.jsonl...\n",
      "Uploading ground truth data to s3://julianj-mlschool/penguins/monitoring/groundtruth/2023/07/04/09/5441.jsonl...\n",
      "Uploading ground truth data to s3://julianj-mlschool/penguins/monitoring/groundtruth/2023/07/04/09/5512.jsonl...\n",
      "Uploading ground truth data to s3://julianj-mlschool/penguins/monitoring/groundtruth/2023/07/04/09/5542.jsonl...\n",
      "Uploading ground truth data to s3://julianj-mlschool/penguins/monitoring/groundtruth/2023/07/04/09/5612.jsonl...\n",
      "Uploading ground truth data to s3://julianj-mlschool/penguins/monitoring/groundtruth/2023/07/04/09/5642.jsonl...\n",
      "Uploading ground truth data to s3://julianj-mlschool/penguins/monitoring/groundtruth/2023/07/04/09/5713.jsonl...\n",
      "Uploading ground truth data to s3://julianj-mlschool/penguins/monitoring/groundtruth/2023/07/04/09/5743.jsonl...\n",
      "Uploading ground truth data to s3://julianj-mlschool/penguins/monitoring/groundtruth/2023/07/04/09/5813.jsonl...\n",
      "Generating 334 predictions...\n",
      "Uploading ground truth data to s3://julianj-mlschool/penguins/monitoring/groundtruth/2023/07/04/09/5843.jsonl...\n",
      "Uploading ground truth data to s3://julianj-mlschool/penguins/monitoring/groundtruth/2023/07/04/09/5913.jsonl...\n",
      "Uploading ground truth data to s3://julianj-mlschool/penguins/monitoring/groundtruth/2023/07/04/09/5943.jsonl...\n",
      "Uploading ground truth data to s3://julianj-mlschool/penguins/monitoring/groundtruth/2023/07/04/10/0014.jsonl...\n",
      "Uploading ground truth data to s3://julianj-mlschool/penguins/monitoring/groundtruth/2023/07/04/10/0044.jsonl...\n",
      "Uploading ground truth data to s3://julianj-mlschool/penguins/monitoring/groundtruth/2023/07/04/10/0114.jsonl...\n",
      "Uploading ground truth data to s3://julianj-mlschool/penguins/monitoring/groundtruth/2023/07/04/10/0144.jsonl...\n",
      "Uploading ground truth data to s3://julianj-mlschool/penguins/monitoring/groundtruth/2023/07/04/10/0214.jsonl...\n",
      "Uploading ground truth data to s3://julianj-mlschool/penguins/monitoring/groundtruth/2023/07/04/10/0245.jsonl...\n",
      "Uploading ground truth data to s3://julianj-mlschool/penguins/monitoring/groundtruth/2023/07/04/10/0315.jsonl...\n",
      "Uploading ground truth data to s3://julianj-mlschool/penguins/monitoring/groundtruth/2023/07/04/10/0345.jsonl...\n",
      "Generating 334 predictions...\n",
      "Uploading ground truth data to s3://julianj-mlschool/penguins/monitoring/groundtruth/2023/07/04/10/0415.jsonl...\n",
      "Uploading ground truth data to s3://julianj-mlschool/penguins/monitoring/groundtruth/2023/07/04/10/0445.jsonl...\n",
      "Uploading ground truth data to s3://julianj-mlschool/penguins/monitoring/groundtruth/2023/07/04/10/0516.jsonl...\n",
      "Uploading ground truth data to s3://julianj-mlschool/penguins/monitoring/groundtruth/2023/07/04/10/0546.jsonl...\n",
      "Uploading ground truth data to s3://julianj-mlschool/penguins/monitoring/groundtruth/2023/07/04/10/0617.jsonl...\n",
      "Uploading ground truth data to s3://julianj-mlschool/penguins/monitoring/groundtruth/2023/07/04/10/0647.jsonl...\n",
      "Uploading ground truth data to s3://julianj-mlschool/penguins/monitoring/groundtruth/2023/07/04/10/0717.jsonl...\n",
      "Uploading ground truth data to s3://julianj-mlschool/penguins/monitoring/groundtruth/2023/07/04/10/0747.jsonl...\n",
      "Uploading ground truth data to s3://julianj-mlschool/penguins/monitoring/groundtruth/2023/07/04/10/0817.jsonl...\n",
      "Uploading ground truth data to s3://julianj-mlschool/penguins/monitoring/groundtruth/2023/07/04/10/0848.jsonl...\n",
      "Uploading ground truth data to s3://julianj-mlschool/penguins/monitoring/groundtruth/2023/07/04/10/0918.jsonl...\n",
      "Generating 334 predictions...\n",
      "Uploading ground truth data to s3://julianj-mlschool/penguins/monitoring/groundtruth/2023/07/04/10/0948.jsonl...\n",
      "Uploading ground truth data to s3://julianj-mlschool/penguins/monitoring/groundtruth/2023/07/04/10/1018.jsonl...\n",
      "Uploading ground truth data to s3://julianj-mlschool/penguins/monitoring/groundtruth/2023/07/04/10/1048.jsonl...\n",
      "Uploading ground truth data to s3://julianj-mlschool/penguins/monitoring/groundtruth/2023/07/04/10/1118.jsonl...\n",
      "Uploading ground truth data to s3://julianj-mlschool/penguins/monitoring/groundtruth/2023/07/04/10/1149.jsonl...\n",
      "Uploading ground truth data to s3://julianj-mlschool/penguins/monitoring/groundtruth/2023/07/04/10/1219.jsonl...\n",
      "Uploading ground truth data to s3://julianj-mlschool/penguins/monitoring/groundtruth/2023/07/04/10/1249.jsonl...\n",
      "Uploading ground truth data to s3://julianj-mlschool/penguins/monitoring/groundtruth/2023/07/04/10/1319.jsonl...\n",
      "Uploading ground truth data to s3://julianj-mlschool/penguins/monitoring/groundtruth/2023/07/04/10/1349.jsonl...\n",
      "Uploading ground truth data to s3://julianj-mlschool/penguins/monitoring/groundtruth/2023/07/04/10/1419.jsonl...\n",
      "Uploading ground truth data to s3://julianj-mlschool/penguins/monitoring/groundtruth/2023/07/04/10/1450.jsonl...\n",
      "Uploading ground truth data to s3://julianj-mlschool/penguins/monitoring/groundtruth/2023/07/04/10/1520.jsonl...\n",
      "Generating 334 predictions...\n",
      "Uploading ground truth data to s3://julianj-mlschool/penguins/monitoring/groundtruth/2023/07/04/10/1550.jsonl...\n",
      "Uploading ground truth data to s3://julianj-mlschool/penguins/monitoring/groundtruth/2023/07/04/10/1621.jsonl...\n",
      "Uploading ground truth data to s3://julianj-mlschool/penguins/monitoring/groundtruth/2023/07/04/10/1651.jsonl...\n",
      "Uploading ground truth data to s3://julianj-mlschool/penguins/monitoring/groundtruth/2023/07/04/10/1721.jsonl...\n",
      "Uploading ground truth data to s3://julianj-mlschool/penguins/monitoring/groundtruth/2023/07/04/10/1751.jsonl...\n",
      "Uploading ground truth data to s3://julianj-mlschool/penguins/monitoring/groundtruth/2023/07/04/10/1821.jsonl...\n",
      "Uploading ground truth data to s3://julianj-mlschool/penguins/monitoring/groundtruth/2023/07/04/10/1852.jsonl...\n",
      "Uploading ground truth data to s3://julianj-mlschool/penguins/monitoring/groundtruth/2023/07/04/10/1922.jsonl...\n",
      "Uploading ground truth data to s3://julianj-mlschool/penguins/monitoring/groundtruth/2023/07/04/10/1952.jsonl...\n",
      "Uploading ground truth data to s3://julianj-mlschool/penguins/monitoring/groundtruth/2023/07/04/10/2022.jsonl...\n",
      "Uploading ground truth data to s3://julianj-mlschool/penguins/monitoring/groundtruth/2023/07/04/10/2052.jsonl...\n",
      "Generating 334 predictions...\n",
      "Uploading ground truth data to s3://julianj-mlschool/penguins/monitoring/groundtruth/2023/07/04/10/2123.jsonl...\n",
      "Uploading ground truth data to s3://julianj-mlschool/penguins/monitoring/groundtruth/2023/07/04/10/2153.jsonl...\n",
      "Uploading ground truth data to s3://julianj-mlschool/penguins/monitoring/groundtruth/2023/07/04/10/2223.jsonl...\n",
      "Uploading ground truth data to s3://julianj-mlschool/penguins/monitoring/groundtruth/2023/07/04/10/2253.jsonl...\n",
      "Uploading ground truth data to s3://julianj-mlschool/penguins/monitoring/groundtruth/2023/07/04/10/2323.jsonl...\n",
      "Uploading ground truth data to s3://julianj-mlschool/penguins/monitoring/groundtruth/2023/07/04/10/2354.jsonl...\n",
      "Uploading ground truth data to s3://julianj-mlschool/penguins/monitoring/groundtruth/2023/07/04/10/2424.jsonl...\n",
      "Uploading ground truth data to s3://julianj-mlschool/penguins/monitoring/groundtruth/2023/07/04/10/2455.jsonl...\n",
      "Uploading ground truth data to s3://julianj-mlschool/penguins/monitoring/groundtruth/2023/07/04/10/2525.jsonl...\n",
      "Uploading ground truth data to s3://julianj-mlschool/penguins/monitoring/groundtruth/2023/07/04/10/2555.jsonl...\n",
      "Uploading ground truth data to s3://julianj-mlschool/penguins/monitoring/groundtruth/2023/07/04/10/2625.jsonl...\n",
      "Generating 334 predictions...\n",
      "Uploading ground truth data to s3://julianj-mlschool/penguins/monitoring/groundtruth/2023/07/04/10/2655.jsonl...\n",
      "Uploading ground truth data to s3://julianj-mlschool/penguins/monitoring/groundtruth/2023/07/04/10/2726.jsonl...\n",
      "Uploading ground truth data to s3://julianj-mlschool/penguins/monitoring/groundtruth/2023/07/04/10/2756.jsonl...\n",
      "Uploading ground truth data to s3://julianj-mlschool/penguins/monitoring/groundtruth/2023/07/04/10/2826.jsonl...\n",
      "Uploading ground truth data to s3://julianj-mlschool/penguins/monitoring/groundtruth/2023/07/04/10/2856.jsonl...\n",
      "Uploading ground truth data to s3://julianj-mlschool/penguins/monitoring/groundtruth/2023/07/04/10/2926.jsonl...\n",
      "Uploading ground truth data to s3://julianj-mlschool/penguins/monitoring/groundtruth/2023/07/04/10/2956.jsonl...\n",
      "Uploading ground truth data to s3://julianj-mlschool/penguins/monitoring/groundtruth/2023/07/04/10/3027.jsonl...\n",
      "Uploading ground truth data to s3://julianj-mlschool/penguins/monitoring/groundtruth/2023/07/04/10/3057.jsonl...\n",
      "Uploading ground truth data to s3://julianj-mlschool/penguins/monitoring/groundtruth/2023/07/04/10/3127.jsonl...\n",
      "Uploading ground truth data to s3://julianj-mlschool/penguins/monitoring/groundtruth/2023/07/04/10/3157.jsonl...\n",
      "Generating 334 predictions...\n",
      "Uploading ground truth data to s3://julianj-mlschool/penguins/monitoring/groundtruth/2023/07/04/10/3228.jsonl...\n",
      "Uploading ground truth data to s3://julianj-mlschool/penguins/monitoring/groundtruth/2023/07/04/10/3258.jsonl...\n",
      "Uploading ground truth data to s3://julianj-mlschool/penguins/monitoring/groundtruth/2023/07/04/10/3328.jsonl...\n",
      "Uploading ground truth data to s3://julianj-mlschool/penguins/monitoring/groundtruth/2023/07/04/10/3358.jsonl...\n",
      "Uploading ground truth data to s3://julianj-mlschool/penguins/monitoring/groundtruth/2023/07/04/10/3429.jsonl...\n",
      "Uploading ground truth data to s3://julianj-mlschool/penguins/monitoring/groundtruth/2023/07/04/10/3459.jsonl...\n",
      "Uploading ground truth data to s3://julianj-mlschool/penguins/monitoring/groundtruth/2023/07/04/10/3529.jsonl...\n",
      "Uploading ground truth data to s3://julianj-mlschool/penguins/monitoring/groundtruth/2023/07/04/10/3559.jsonl...\n",
      "Uploading ground truth data to s3://julianj-mlschool/penguins/monitoring/groundtruth/2023/07/04/10/3629.jsonl...\n",
      "Uploading ground truth data to s3://julianj-mlschool/penguins/monitoring/groundtruth/2023/07/04/10/3659.jsonl...\n",
      "Uploading ground truth data to s3://julianj-mlschool/penguins/monitoring/groundtruth/2023/07/04/10/3730.jsonl...\n",
      "Uploading ground truth data to s3://julianj-mlschool/penguins/monitoring/groundtruth/2023/07/04/10/3800.jsonl...\n",
      "Generating 334 predictions...\n",
      "Uploading ground truth data to s3://julianj-mlschool/penguins/monitoring/groundtruth/2023/07/04/10/3830.jsonl...\n",
      "Uploading ground truth data to s3://julianj-mlschool/penguins/monitoring/groundtruth/2023/07/04/10/3900.jsonl...\n",
      "Uploading ground truth data to s3://julianj-mlschool/penguins/monitoring/groundtruth/2023/07/04/10/3931.jsonl...\n",
      "Uploading ground truth data to s3://julianj-mlschool/penguins/monitoring/groundtruth/2023/07/04/10/4001.jsonl...\n",
      "Uploading ground truth data to s3://julianj-mlschool/penguins/monitoring/groundtruth/2023/07/04/10/4031.jsonl...\n",
      "Uploading ground truth data to s3://julianj-mlschool/penguins/monitoring/groundtruth/2023/07/04/10/4101.jsonl...\n",
      "Uploading ground truth data to s3://julianj-mlschool/penguins/monitoring/groundtruth/2023/07/04/10/4131.jsonl...\n",
      "Uploading ground truth data to s3://julianj-mlschool/penguins/monitoring/groundtruth/2023/07/04/10/4202.jsonl...\n",
      "Uploading ground truth data to s3://julianj-mlschool/penguins/monitoring/groundtruth/2023/07/04/10/4232.jsonl...\n",
      "Uploading ground truth data to s3://julianj-mlschool/penguins/monitoring/groundtruth/2023/07/04/10/4302.jsonl...\n",
      "Uploading ground truth data to s3://julianj-mlschool/penguins/monitoring/groundtruth/2023/07/04/10/4332.jsonl...\n",
      "Generating 334 predictions...\n",
      "Uploading ground truth data to s3://julianj-mlschool/penguins/monitoring/groundtruth/2023/07/04/10/4403.jsonl...\n",
      "Uploading ground truth data to s3://julianj-mlschool/penguins/monitoring/groundtruth/2023/07/04/10/4433.jsonl...\n",
      "Uploading ground truth data to s3://julianj-mlschool/penguins/monitoring/groundtruth/2023/07/04/10/4503.jsonl...\n",
      "Uploading ground truth data to s3://julianj-mlschool/penguins/monitoring/groundtruth/2023/07/04/10/4533.jsonl...\n",
      "Uploading ground truth data to s3://julianj-mlschool/penguins/monitoring/groundtruth/2023/07/04/10/4604.jsonl...\n",
      "Uploading ground truth data to s3://julianj-mlschool/penguins/monitoring/groundtruth/2023/07/04/10/4634.jsonl...\n",
      "Uploading ground truth data to s3://julianj-mlschool/penguins/monitoring/groundtruth/2023/07/04/10/4704.jsonl...\n",
      "Uploading ground truth data to s3://julianj-mlschool/penguins/monitoring/groundtruth/2023/07/04/10/4734.jsonl...\n",
      "Uploading ground truth data to s3://julianj-mlschool/penguins/monitoring/groundtruth/2023/07/04/10/4805.jsonl...\n",
      "Uploading ground truth data to s3://julianj-mlschool/penguins/monitoring/groundtruth/2023/07/04/10/4835.jsonl...\n",
      "Uploading ground truth data to s3://julianj-mlschool/penguins/monitoring/groundtruth/2023/07/04/10/4905.jsonl...\n",
      "Generating 334 predictions...\n",
      "Uploading ground truth data to s3://julianj-mlschool/penguins/monitoring/groundtruth/2023/07/04/10/4935.jsonl...\n",
      "Uploading ground truth data to s3://julianj-mlschool/penguins/monitoring/groundtruth/2023/07/04/10/5005.jsonl...\n",
      "Uploading ground truth data to s3://julianj-mlschool/penguins/monitoring/groundtruth/2023/07/04/10/5035.jsonl...\n",
      "Uploading ground truth data to s3://julianj-mlschool/penguins/monitoring/groundtruth/2023/07/04/10/5106.jsonl...\n",
      "Uploading ground truth data to s3://julianj-mlschool/penguins/monitoring/groundtruth/2023/07/04/10/5136.jsonl...\n",
      "Uploading ground truth data to s3://julianj-mlschool/penguins/monitoring/groundtruth/2023/07/04/10/5206.jsonl...\n",
      "Uploading ground truth data to s3://julianj-mlschool/penguins/monitoring/groundtruth/2023/07/04/10/5237.jsonl...\n",
      "Uploading ground truth data to s3://julianj-mlschool/penguins/monitoring/groundtruth/2023/07/04/10/5307.jsonl...\n",
      "Uploading ground truth data to s3://julianj-mlschool/penguins/monitoring/groundtruth/2023/07/04/10/5337.jsonl...\n",
      "Uploading ground truth data to s3://julianj-mlschool/penguins/monitoring/groundtruth/2023/07/04/10/5407.jsonl...\n",
      "Uploading ground truth data to s3://julianj-mlschool/penguins/monitoring/groundtruth/2023/07/04/10/5437.jsonl...\n",
      "Generating 334 predictions...\n",
      "Uploading ground truth data to s3://julianj-mlschool/penguins/monitoring/groundtruth/2023/07/04/10/5508.jsonl...\n",
      "Uploading ground truth data to s3://julianj-mlschool/penguins/monitoring/groundtruth/2023/07/04/10/5538.jsonl...\n",
      "Uploading ground truth data to s3://julianj-mlschool/penguins/monitoring/groundtruth/2023/07/04/10/5608.jsonl...\n",
      "Uploading ground truth data to s3://julianj-mlschool/penguins/monitoring/groundtruth/2023/07/04/10/5638.jsonl...\n",
      "Uploading ground truth data to s3://julianj-mlschool/penguins/monitoring/groundtruth/2023/07/04/10/5708.jsonl...\n",
      "Uploading ground truth data to s3://julianj-mlschool/penguins/monitoring/groundtruth/2023/07/04/10/5738.jsonl...\n",
      "Uploading ground truth data to s3://julianj-mlschool/penguins/monitoring/groundtruth/2023/07/04/10/5809.jsonl...\n",
      "Uploading ground truth data to s3://julianj-mlschool/penguins/monitoring/groundtruth/2023/07/04/10/5839.jsonl...\n",
      "Uploading ground truth data to s3://julianj-mlschool/penguins/monitoring/groundtruth/2023/07/04/10/5909.jsonl...\n",
      "Uploading ground truth data to s3://julianj-mlschool/penguins/monitoring/groundtruth/2023/07/04/10/5939.jsonl...\n",
      "Uploading ground truth data to s3://julianj-mlschool/penguins/monitoring/groundtruth/2023/07/04/11/0009.jsonl...\n",
      "Uploading ground truth data to s3://julianj-mlschool/penguins/monitoring/groundtruth/2023/07/04/11/0039.jsonl...\n",
      "Generating 334 predictions...\n",
      "Uploading ground truth data to s3://julianj-mlschool/penguins/monitoring/groundtruth/2023/07/04/11/0110.jsonl...\n",
      "Uploading ground truth data to s3://julianj-mlschool/penguins/monitoring/groundtruth/2023/07/04/11/0140.jsonl...\n",
      "Uploading ground truth data to s3://julianj-mlschool/penguins/monitoring/groundtruth/2023/07/04/11/0210.jsonl...\n",
      "Uploading ground truth data to s3://julianj-mlschool/penguins/monitoring/groundtruth/2023/07/04/11/0241.jsonl...\n",
      "Uploading ground truth data to s3://julianj-mlschool/penguins/monitoring/groundtruth/2023/07/04/11/0311.jsonl...\n",
      "Uploading ground truth data to s3://julianj-mlschool/penguins/monitoring/groundtruth/2023/07/04/11/0341.jsonl...\n",
      "Uploading ground truth data to s3://julianj-mlschool/penguins/monitoring/groundtruth/2023/07/04/11/0411.jsonl...\n",
      "Uploading ground truth data to s3://julianj-mlschool/penguins/monitoring/groundtruth/2023/07/04/11/0441.jsonl...\n",
      "Uploading ground truth data to s3://julianj-mlschool/penguins/monitoring/groundtruth/2023/07/04/11/0512.jsonl...\n",
      "Uploading ground truth data to s3://julianj-mlschool/penguins/monitoring/groundtruth/2023/07/04/11/0542.jsonl...\n",
      "Uploading ground truth data to s3://julianj-mlschool/penguins/monitoring/groundtruth/2023/07/04/11/0612.jsonl...\n",
      "Generating 334 predictions...\n",
      "Uploading ground truth data to s3://julianj-mlschool/penguins/monitoring/groundtruth/2023/07/04/11/0642.jsonl...\n",
      "Uploading ground truth data to s3://julianj-mlschool/penguins/monitoring/groundtruth/2023/07/04/11/0712.jsonl...\n",
      "Uploading ground truth data to s3://julianj-mlschool/penguins/monitoring/groundtruth/2023/07/04/11/0743.jsonl...\n",
      "Uploading ground truth data to s3://julianj-mlschool/penguins/monitoring/groundtruth/2023/07/04/11/0813.jsonl...\n",
      "Uploading ground truth data to s3://julianj-mlschool/penguins/monitoring/groundtruth/2023/07/04/11/0843.jsonl...\n",
      "Uploading ground truth data to s3://julianj-mlschool/penguins/monitoring/groundtruth/2023/07/04/11/0913.jsonl...\n",
      "Uploading ground truth data to s3://julianj-mlschool/penguins/monitoring/groundtruth/2023/07/04/11/0943.jsonl...\n",
      "Uploading ground truth data to s3://julianj-mlschool/penguins/monitoring/groundtruth/2023/07/04/11/1014.jsonl...\n",
      "Uploading ground truth data to s3://julianj-mlschool/penguins/monitoring/groundtruth/2023/07/04/11/1044.jsonl...\n",
      "Uploading ground truth data to s3://julianj-mlschool/penguins/monitoring/groundtruth/2023/07/04/11/1114.jsonl...\n",
      "Uploading ground truth data to s3://julianj-mlschool/penguins/monitoring/groundtruth/2023/07/04/11/1145.jsonl...\n",
      "Generating 334 predictions...\n",
      "Uploading ground truth data to s3://julianj-mlschool/penguins/monitoring/groundtruth/2023/07/04/11/1215.jsonl...\n",
      "Uploading ground truth data to s3://julianj-mlschool/penguins/monitoring/groundtruth/2023/07/04/11/1245.jsonl...\n",
      "Uploading ground truth data to s3://julianj-mlschool/penguins/monitoring/groundtruth/2023/07/04/11/1315.jsonl...\n",
      "Uploading ground truth data to s3://julianj-mlschool/penguins/monitoring/groundtruth/2023/07/04/11/1346.jsonl...\n",
      "Uploading ground truth data to s3://julianj-mlschool/penguins/monitoring/groundtruth/2023/07/04/11/1416.jsonl...\n",
      "Uploading ground truth data to s3://julianj-mlschool/penguins/monitoring/groundtruth/2023/07/04/11/1446.jsonl...\n",
      "Uploading ground truth data to s3://julianj-mlschool/penguins/monitoring/groundtruth/2023/07/04/11/1516.jsonl...\n",
      "Uploading ground truth data to s3://julianj-mlschool/penguins/monitoring/groundtruth/2023/07/04/11/1546.jsonl...\n",
      "Uploading ground truth data to s3://julianj-mlschool/penguins/monitoring/groundtruth/2023/07/04/11/1617.jsonl...\n",
      "Uploading ground truth data to s3://julianj-mlschool/penguins/monitoring/groundtruth/2023/07/04/11/1647.jsonl...\n",
      "Uploading ground truth data to s3://julianj-mlschool/penguins/monitoring/groundtruth/2023/07/04/11/1717.jsonl...\n",
      "Generating 334 predictions...\n",
      "Uploading ground truth data to s3://julianj-mlschool/penguins/monitoring/groundtruth/2023/07/04/11/1747.jsonl...\n",
      "Uploading ground truth data to s3://julianj-mlschool/penguins/monitoring/groundtruth/2023/07/04/11/1817.jsonl...\n",
      "Uploading ground truth data to s3://julianj-mlschool/penguins/monitoring/groundtruth/2023/07/04/11/1848.jsonl...\n",
      "Uploading ground truth data to s3://julianj-mlschool/penguins/monitoring/groundtruth/2023/07/04/11/1918.jsonl...\n",
      "Uploading ground truth data to s3://julianj-mlschool/penguins/monitoring/groundtruth/2023/07/04/11/1948.jsonl...\n",
      "Uploading ground truth data to s3://julianj-mlschool/penguins/monitoring/groundtruth/2023/07/04/11/2018.jsonl...\n",
      "Uploading ground truth data to s3://julianj-mlschool/penguins/monitoring/groundtruth/2023/07/04/11/2049.jsonl...\n",
      "Uploading ground truth data to s3://julianj-mlschool/penguins/monitoring/groundtruth/2023/07/04/11/2119.jsonl...\n",
      "Uploading ground truth data to s3://julianj-mlschool/penguins/monitoring/groundtruth/2023/07/04/11/2149.jsonl...\n",
      "Uploading ground truth data to s3://julianj-mlschool/penguins/monitoring/groundtruth/2023/07/04/11/2219.jsonl...\n",
      "Uploading ground truth data to s3://julianj-mlschool/penguins/monitoring/groundtruth/2023/07/04/11/2249.jsonl...\n",
      "Uploading ground truth data to s3://julianj-mlschool/penguins/monitoring/groundtruth/2023/07/04/11/2320.jsonl...\n",
      "Generating 334 predictions...\n",
      "Uploading ground truth data to s3://julianj-mlschool/penguins/monitoring/groundtruth/2023/07/04/11/2350.jsonl...\n",
      "Uploading ground truth data to s3://julianj-mlschool/penguins/monitoring/groundtruth/2023/07/04/11/2420.jsonl...\n",
      "Uploading ground truth data to s3://julianj-mlschool/penguins/monitoring/groundtruth/2023/07/04/11/2450.jsonl...\n",
      "Uploading ground truth data to s3://julianj-mlschool/penguins/monitoring/groundtruth/2023/07/04/11/2520.jsonl...\n",
      "Uploading ground truth data to s3://julianj-mlschool/penguins/monitoring/groundtruth/2023/07/04/11/2550.jsonl...\n",
      "Uploading ground truth data to s3://julianj-mlschool/penguins/monitoring/groundtruth/2023/07/04/11/2621.jsonl...\n",
      "Uploading ground truth data to s3://julianj-mlschool/penguins/monitoring/groundtruth/2023/07/04/11/2651.jsonl...\n",
      "Uploading ground truth data to s3://julianj-mlschool/penguins/monitoring/groundtruth/2023/07/04/11/2721.jsonl...\n",
      "Uploading ground truth data to s3://julianj-mlschool/penguins/monitoring/groundtruth/2023/07/04/11/2751.jsonl...\n",
      "Uploading ground truth data to s3://julianj-mlschool/penguins/monitoring/groundtruth/2023/07/04/11/2821.jsonl...\n",
      "Uploading ground truth data to s3://julianj-mlschool/penguins/monitoring/groundtruth/2023/07/04/11/2851.jsonl...\n",
      "Generating 334 predictions...\n",
      "Uploading ground truth data to s3://julianj-mlschool/penguins/monitoring/groundtruth/2023/07/04/11/2922.jsonl...\n",
      "Uploading ground truth data to s3://julianj-mlschool/penguins/monitoring/groundtruth/2023/07/04/11/2952.jsonl...\n",
      "Uploading ground truth data to s3://julianj-mlschool/penguins/monitoring/groundtruth/2023/07/04/11/3022.jsonl...\n",
      "Uploading ground truth data to s3://julianj-mlschool/penguins/monitoring/groundtruth/2023/07/04/11/3053.jsonl...\n",
      "Uploading ground truth data to s3://julianj-mlschool/penguins/monitoring/groundtruth/2023/07/04/11/3123.jsonl...\n",
      "Uploading ground truth data to s3://julianj-mlschool/penguins/monitoring/groundtruth/2023/07/04/11/3153.jsonl...\n",
      "Uploading ground truth data to s3://julianj-mlschool/penguins/monitoring/groundtruth/2023/07/04/11/3223.jsonl...\n",
      "Uploading ground truth data to s3://julianj-mlschool/penguins/monitoring/groundtruth/2023/07/04/11/3253.jsonl...\n",
      "Uploading ground truth data to s3://julianj-mlschool/penguins/monitoring/groundtruth/2023/07/04/11/3324.jsonl...\n",
      "Uploading ground truth data to s3://julianj-mlschool/penguins/monitoring/groundtruth/2023/07/04/11/3354.jsonl...\n",
      "Uploading ground truth data to s3://julianj-mlschool/penguins/monitoring/groundtruth/2023/07/04/11/3424.jsonl...\n",
      "Generating 334 predictions...\n",
      "Uploading ground truth data to s3://julianj-mlschool/penguins/monitoring/groundtruth/2023/07/04/11/3454.jsonl...\n",
      "Uploading ground truth data to s3://julianj-mlschool/penguins/monitoring/groundtruth/2023/07/04/11/3524.jsonl...\n",
      "Uploading ground truth data to s3://julianj-mlschool/penguins/monitoring/groundtruth/2023/07/04/11/3555.jsonl...\n",
      "Uploading ground truth data to s3://julianj-mlschool/penguins/monitoring/groundtruth/2023/07/04/11/3625.jsonl...\n",
      "Uploading ground truth data to s3://julianj-mlschool/penguins/monitoring/groundtruth/2023/07/04/11/3655.jsonl...\n",
      "Uploading ground truth data to s3://julianj-mlschool/penguins/monitoring/groundtruth/2023/07/04/11/3725.jsonl...\n",
      "Uploading ground truth data to s3://julianj-mlschool/penguins/monitoring/groundtruth/2023/07/04/11/3755.jsonl...\n",
      "Uploading ground truth data to s3://julianj-mlschool/penguins/monitoring/groundtruth/2023/07/04/11/3826.jsonl...\n",
      "Uploading ground truth data to s3://julianj-mlschool/penguins/monitoring/groundtruth/2023/07/04/11/3856.jsonl...\n",
      "Uploading ground truth data to s3://julianj-mlschool/penguins/monitoring/groundtruth/2023/07/04/11/3926.jsonl...\n",
      "Uploading ground truth data to s3://julianj-mlschool/penguins/monitoring/groundtruth/2023/07/04/11/3956.jsonl...\n",
      "Generating 334 predictions...\n",
      "Uploading ground truth data to s3://julianj-mlschool/penguins/monitoring/groundtruth/2023/07/04/11/4027.jsonl...\n",
      "Uploading ground truth data to s3://julianj-mlschool/penguins/monitoring/groundtruth/2023/07/04/11/4057.jsonl...\n",
      "Uploading ground truth data to s3://julianj-mlschool/penguins/monitoring/groundtruth/2023/07/04/11/4127.jsonl...\n",
      "Uploading ground truth data to s3://julianj-mlschool/penguins/monitoring/groundtruth/2023/07/04/11/4157.jsonl...\n",
      "Uploading ground truth data to s3://julianj-mlschool/penguins/monitoring/groundtruth/2023/07/04/11/4227.jsonl...\n",
      "Uploading ground truth data to s3://julianj-mlschool/penguins/monitoring/groundtruth/2023/07/04/11/4257.jsonl...\n",
      "Uploading ground truth data to s3://julianj-mlschool/penguins/monitoring/groundtruth/2023/07/04/11/4328.jsonl...\n",
      "Uploading ground truth data to s3://julianj-mlschool/penguins/monitoring/groundtruth/2023/07/04/11/4358.jsonl...\n",
      "Uploading ground truth data to s3://julianj-mlschool/penguins/monitoring/groundtruth/2023/07/04/11/4428.jsonl...\n",
      "Uploading ground truth data to s3://julianj-mlschool/penguins/monitoring/groundtruth/2023/07/04/11/4458.jsonl...\n",
      "Uploading ground truth data to s3://julianj-mlschool/penguins/monitoring/groundtruth/2023/07/04/11/4528.jsonl...\n",
      "Uploading ground truth data to s3://julianj-mlschool/penguins/monitoring/groundtruth/2023/07/04/11/4559.jsonl...\n",
      "Generating 334 predictions...\n",
      "Uploading ground truth data to s3://julianj-mlschool/penguins/monitoring/groundtruth/2023/07/04/11/4629.jsonl...\n",
      "Uploading ground truth data to s3://julianj-mlschool/penguins/monitoring/groundtruth/2023/07/04/11/4659.jsonl...\n",
      "Uploading ground truth data to s3://julianj-mlschool/penguins/monitoring/groundtruth/2023/07/04/11/4729.jsonl...\n",
      "Uploading ground truth data to s3://julianj-mlschool/penguins/monitoring/groundtruth/2023/07/04/11/4800.jsonl...\n",
      "Uploading ground truth data to s3://julianj-mlschool/penguins/monitoring/groundtruth/2023/07/04/11/4830.jsonl...\n",
      "Uploading ground truth data to s3://julianj-mlschool/penguins/monitoring/groundtruth/2023/07/04/11/4900.jsonl...\n",
      "Uploading ground truth data to s3://julianj-mlschool/penguins/monitoring/groundtruth/2023/07/04/11/4930.jsonl...\n",
      "Uploading ground truth data to s3://julianj-mlschool/penguins/monitoring/groundtruth/2023/07/04/11/5001.jsonl...\n",
      "Uploading ground truth data to s3://julianj-mlschool/penguins/monitoring/groundtruth/2023/07/04/11/5031.jsonl...\n",
      "Uploading ground truth data to s3://julianj-mlschool/penguins/monitoring/groundtruth/2023/07/04/11/5101.jsonl...\n",
      "Uploading ground truth data to s3://julianj-mlschool/penguins/monitoring/groundtruth/2023/07/04/11/5131.jsonl...\n",
      "Generating 334 predictions...\n",
      "Uploading ground truth data to s3://julianj-mlschool/penguins/monitoring/groundtruth/2023/07/04/11/5201.jsonl...\n",
      "Uploading ground truth data to s3://julianj-mlschool/penguins/monitoring/groundtruth/2023/07/04/11/5232.jsonl...\n",
      "Uploading ground truth data to s3://julianj-mlschool/penguins/monitoring/groundtruth/2023/07/04/11/5302.jsonl...\n",
      "Uploading ground truth data to s3://julianj-mlschool/penguins/monitoring/groundtruth/2023/07/04/11/5332.jsonl...\n",
      "Uploading ground truth data to s3://julianj-mlschool/penguins/monitoring/groundtruth/2023/07/04/11/5402.jsonl...\n",
      "Uploading ground truth data to s3://julianj-mlschool/penguins/monitoring/groundtruth/2023/07/04/11/5432.jsonl...\n",
      "Uploading ground truth data to s3://julianj-mlschool/penguins/monitoring/groundtruth/2023/07/04/11/5502.jsonl...\n",
      "Uploading ground truth data to s3://julianj-mlschool/penguins/monitoring/groundtruth/2023/07/04/11/5533.jsonl...\n",
      "Uploading ground truth data to s3://julianj-mlschool/penguins/monitoring/groundtruth/2023/07/04/11/5603.jsonl...\n",
      "Uploading ground truth data to s3://julianj-mlschool/penguins/monitoring/groundtruth/2023/07/04/11/5633.jsonl...\n",
      "Uploading ground truth data to s3://julianj-mlschool/penguins/monitoring/groundtruth/2023/07/04/11/5704.jsonl...\n",
      "Generating 334 predictions...\n",
      "Uploading ground truth data to s3://julianj-mlschool/penguins/monitoring/groundtruth/2023/07/04/11/5734.jsonl...\n",
      "Uploading ground truth data to s3://julianj-mlschool/penguins/monitoring/groundtruth/2023/07/04/11/5804.jsonl...\n",
      "Uploading ground truth data to s3://julianj-mlschool/penguins/monitoring/groundtruth/2023/07/04/11/5834.jsonl...\n",
      "Uploading ground truth data to s3://julianj-mlschool/penguins/monitoring/groundtruth/2023/07/04/11/5905.jsonl...\n",
      "Uploading ground truth data to s3://julianj-mlschool/penguins/monitoring/groundtruth/2023/07/04/11/5935.jsonl...\n",
      "Uploading ground truth data to s3://julianj-mlschool/penguins/monitoring/groundtruth/2023/07/04/12/0005.jsonl...\n",
      "Uploading ground truth data to s3://julianj-mlschool/penguins/monitoring/groundtruth/2023/07/04/12/0035.jsonl...\n",
      "Uploading ground truth data to s3://julianj-mlschool/penguins/monitoring/groundtruth/2023/07/04/12/0105.jsonl...\n",
      "Uploading ground truth data to s3://julianj-mlschool/penguins/monitoring/groundtruth/2023/07/04/12/0135.jsonl...\n",
      "Uploading ground truth data to s3://julianj-mlschool/penguins/monitoring/groundtruth/2023/07/04/12/0206.jsonl...\n",
      "Uploading ground truth data to s3://julianj-mlschool/penguins/monitoring/groundtruth/2023/07/04/12/0236.jsonl...\n",
      "Uploading ground truth data to s3://julianj-mlschool/penguins/monitoring/groundtruth/2023/07/04/12/0306.jsonl...\n",
      "Generating 334 predictions...\n",
      "Uploading ground truth data to s3://julianj-mlschool/penguins/monitoring/groundtruth/2023/07/04/12/0336.jsonl...\n",
      "Uploading ground truth data to s3://julianj-mlschool/penguins/monitoring/groundtruth/2023/07/04/12/0406.jsonl...\n",
      "Uploading ground truth data to s3://julianj-mlschool/penguins/monitoring/groundtruth/2023/07/04/12/0437.jsonl...\n",
      "Uploading ground truth data to s3://julianj-mlschool/penguins/monitoring/groundtruth/2023/07/04/12/0507.jsonl...\n",
      "Uploading ground truth data to s3://julianj-mlschool/penguins/monitoring/groundtruth/2023/07/04/12/0537.jsonl...\n",
      "Uploading ground truth data to s3://julianj-mlschool/penguins/monitoring/groundtruth/2023/07/04/12/0608.jsonl...\n",
      "Uploading ground truth data to s3://julianj-mlschool/penguins/monitoring/groundtruth/2023/07/04/12/0638.jsonl...\n",
      "Uploading ground truth data to s3://julianj-mlschool/penguins/monitoring/groundtruth/2023/07/04/12/0708.jsonl...\n",
      "Uploading ground truth data to s3://julianj-mlschool/penguins/monitoring/groundtruth/2023/07/04/12/0738.jsonl...\n",
      "Uploading ground truth data to s3://julianj-mlschool/penguins/monitoring/groundtruth/2023/07/04/12/0808.jsonl...\n",
      "Uploading ground truth data to s3://julianj-mlschool/penguins/monitoring/groundtruth/2023/07/04/12/0838.jsonl...\n",
      "Generating 334 predictions...\n",
      "Uploading ground truth data to s3://julianj-mlschool/penguins/monitoring/groundtruth/2023/07/04/12/0909.jsonl...\n",
      "Uploading ground truth data to s3://julianj-mlschool/penguins/monitoring/groundtruth/2023/07/04/12/0939.jsonl...\n",
      "Uploading ground truth data to s3://julianj-mlschool/penguins/monitoring/groundtruth/2023/07/04/12/1009.jsonl...\n",
      "Uploading ground truth data to s3://julianj-mlschool/penguins/monitoring/groundtruth/2023/07/04/12/1039.jsonl...\n",
      "Uploading ground truth data to s3://julianj-mlschool/penguins/monitoring/groundtruth/2023/07/04/12/1109.jsonl...\n",
      "Uploading ground truth data to s3://julianj-mlschool/penguins/monitoring/groundtruth/2023/07/04/12/1140.jsonl...\n",
      "Uploading ground truth data to s3://julianj-mlschool/penguins/monitoring/groundtruth/2023/07/04/12/1210.jsonl...\n",
      "Uploading ground truth data to s3://julianj-mlschool/penguins/monitoring/groundtruth/2023/07/04/12/1240.jsonl...\n",
      "Uploading ground truth data to s3://julianj-mlschool/penguins/monitoring/groundtruth/2023/07/04/12/1310.jsonl...\n",
      "Uploading ground truth data to s3://julianj-mlschool/penguins/monitoring/groundtruth/2023/07/04/12/1340.jsonl...\n",
      "Uploading ground truth data to s3://julianj-mlschool/penguins/monitoring/groundtruth/2023/07/04/12/1410.jsonl...\n",
      "Generating 334 predictions...\n",
      "Uploading ground truth data to s3://julianj-mlschool/penguins/monitoring/groundtruth/2023/07/04/12/1441.jsonl...\n",
      "Uploading ground truth data to s3://julianj-mlschool/penguins/monitoring/groundtruth/2023/07/04/12/1511.jsonl...\n",
      "Uploading ground truth data to s3://julianj-mlschool/penguins/monitoring/groundtruth/2023/07/04/12/1541.jsonl...\n",
      "Uploading ground truth data to s3://julianj-mlschool/penguins/monitoring/groundtruth/2023/07/04/12/1611.jsonl...\n",
      "Uploading ground truth data to s3://julianj-mlschool/penguins/monitoring/groundtruth/2023/07/04/12/1642.jsonl...\n",
      "Uploading ground truth data to s3://julianj-mlschool/penguins/monitoring/groundtruth/2023/07/04/12/1712.jsonl...\n",
      "Uploading ground truth data to s3://julianj-mlschool/penguins/monitoring/groundtruth/2023/07/04/12/1742.jsonl...\n",
      "Uploading ground truth data to s3://julianj-mlschool/penguins/monitoring/groundtruth/2023/07/04/12/1812.jsonl...\n",
      "Uploading ground truth data to s3://julianj-mlschool/penguins/monitoring/groundtruth/2023/07/04/12/1842.jsonl...\n",
      "Uploading ground truth data to s3://julianj-mlschool/penguins/monitoring/groundtruth/2023/07/04/12/1912.jsonl...\n",
      "Uploading ground truth data to s3://julianj-mlschool/penguins/monitoring/groundtruth/2023/07/04/12/1943.jsonl...\n",
      "Generating 334 predictions...\n",
      "Uploading ground truth data to s3://julianj-mlschool/penguins/monitoring/groundtruth/2023/07/04/12/2013.jsonl...\n",
      "Uploading ground truth data to s3://julianj-mlschool/penguins/monitoring/groundtruth/2023/07/04/12/2043.jsonl...\n",
      "Uploading ground truth data to s3://julianj-mlschool/penguins/monitoring/groundtruth/2023/07/04/12/2113.jsonl...\n",
      "Uploading ground truth data to s3://julianj-mlschool/penguins/monitoring/groundtruth/2023/07/04/12/2143.jsonl...\n",
      "Uploading ground truth data to s3://julianj-mlschool/penguins/monitoring/groundtruth/2023/07/04/12/2213.jsonl...\n",
      "Uploading ground truth data to s3://julianj-mlschool/penguins/monitoring/groundtruth/2023/07/04/12/2244.jsonl...\n",
      "Uploading ground truth data to s3://julianj-mlschool/penguins/monitoring/groundtruth/2023/07/04/12/2314.jsonl...\n",
      "Uploading ground truth data to s3://julianj-mlschool/penguins/monitoring/groundtruth/2023/07/04/12/2344.jsonl...\n",
      "Uploading ground truth data to s3://julianj-mlschool/penguins/monitoring/groundtruth/2023/07/04/12/2414.jsonl...\n",
      "Uploading ground truth data to s3://julianj-mlschool/penguins/monitoring/groundtruth/2023/07/04/12/2445.jsonl...\n",
      "Uploading ground truth data to s3://julianj-mlschool/penguins/monitoring/groundtruth/2023/07/04/12/2515.jsonl...\n",
      "Uploading ground truth data to s3://julianj-mlschool/penguins/monitoring/groundtruth/2023/07/04/12/2545.jsonl...\n",
      "Generating 334 predictions...\n",
      "Uploading ground truth data to s3://julianj-mlschool/penguins/monitoring/groundtruth/2023/07/04/12/2615.jsonl...\n",
      "Uploading ground truth data to s3://julianj-mlschool/penguins/monitoring/groundtruth/2023/07/04/12/2646.jsonl...\n",
      "Uploading ground truth data to s3://julianj-mlschool/penguins/monitoring/groundtruth/2023/07/04/12/2716.jsonl...\n",
      "Uploading ground truth data to s3://julianj-mlschool/penguins/monitoring/groundtruth/2023/07/04/12/2746.jsonl...\n",
      "Uploading ground truth data to s3://julianj-mlschool/penguins/monitoring/groundtruth/2023/07/04/12/2816.jsonl...\n",
      "Uploading ground truth data to s3://julianj-mlschool/penguins/monitoring/groundtruth/2023/07/04/12/2846.jsonl...\n",
      "Uploading ground truth data to s3://julianj-mlschool/penguins/monitoring/groundtruth/2023/07/04/12/2916.jsonl...\n",
      "Uploading ground truth data to s3://julianj-mlschool/penguins/monitoring/groundtruth/2023/07/04/12/2947.jsonl...\n",
      "Uploading ground truth data to s3://julianj-mlschool/penguins/monitoring/groundtruth/2023/07/04/12/3017.jsonl...\n",
      "Uploading ground truth data to s3://julianj-mlschool/penguins/monitoring/groundtruth/2023/07/04/12/3047.jsonl...\n",
      "Uploading ground truth data to s3://julianj-mlschool/penguins/monitoring/groundtruth/2023/07/04/12/3117.jsonl...\n",
      "Generating 334 predictions...\n",
      "Uploading ground truth data to s3://julianj-mlschool/penguins/monitoring/groundtruth/2023/07/04/12/3147.jsonl...\n",
      "Uploading ground truth data to s3://julianj-mlschool/penguins/monitoring/groundtruth/2023/07/04/12/3218.jsonl...\n",
      "Uploading ground truth data to s3://julianj-mlschool/penguins/monitoring/groundtruth/2023/07/04/12/3248.jsonl...\n",
      "Uploading ground truth data to s3://julianj-mlschool/penguins/monitoring/groundtruth/2023/07/04/12/3318.jsonl...\n",
      "Uploading ground truth data to s3://julianj-mlschool/penguins/monitoring/groundtruth/2023/07/04/12/3349.jsonl...\n",
      "Uploading ground truth data to s3://julianj-mlschool/penguins/monitoring/groundtruth/2023/07/04/12/3419.jsonl...\n",
      "Uploading ground truth data to s3://julianj-mlschool/penguins/monitoring/groundtruth/2023/07/04/12/3449.jsonl...\n",
      "Uploading ground truth data to s3://julianj-mlschool/penguins/monitoring/groundtruth/2023/07/04/12/3519.jsonl...\n",
      "Uploading ground truth data to s3://julianj-mlschool/penguins/monitoring/groundtruth/2023/07/04/12/3549.jsonl...\n",
      "Uploading ground truth data to s3://julianj-mlschool/penguins/monitoring/groundtruth/2023/07/04/12/3620.jsonl...\n",
      "Uploading ground truth data to s3://julianj-mlschool/penguins/monitoring/groundtruth/2023/07/04/12/3650.jsonl...\n",
      "Generating 334 predictions...\n",
      "Uploading ground truth data to s3://julianj-mlschool/penguins/monitoring/groundtruth/2023/07/04/12/3720.jsonl...\n",
      "Uploading ground truth data to s3://julianj-mlschool/penguins/monitoring/groundtruth/2023/07/04/12/3750.jsonl...\n",
      "Uploading ground truth data to s3://julianj-mlschool/penguins/monitoring/groundtruth/2023/07/04/12/3820.jsonl...\n",
      "Uploading ground truth data to s3://julianj-mlschool/penguins/monitoring/groundtruth/2023/07/04/12/3850.jsonl...\n",
      "Uploading ground truth data to s3://julianj-mlschool/penguins/monitoring/groundtruth/2023/07/04/12/3921.jsonl...\n",
      "Uploading ground truth data to s3://julianj-mlschool/penguins/monitoring/groundtruth/2023/07/04/12/3951.jsonl...\n",
      "Uploading ground truth data to s3://julianj-mlschool/penguins/monitoring/groundtruth/2023/07/04/12/4021.jsonl...\n",
      "Uploading ground truth data to s3://julianj-mlschool/penguins/monitoring/groundtruth/2023/07/04/12/4051.jsonl...\n",
      "Uploading ground truth data to s3://julianj-mlschool/penguins/monitoring/groundtruth/2023/07/04/12/4121.jsonl...\n",
      "Uploading ground truth data to s3://julianj-mlschool/penguins/monitoring/groundtruth/2023/07/04/12/4152.jsonl...\n",
      "Uploading ground truth data to s3://julianj-mlschool/penguins/monitoring/groundtruth/2023/07/04/12/4222.jsonl...\n",
      "Generating 334 predictions...\n",
      "Uploading ground truth data to s3://julianj-mlschool/penguins/monitoring/groundtruth/2023/07/04/12/4252.jsonl...\n",
      "Uploading ground truth data to s3://julianj-mlschool/penguins/monitoring/groundtruth/2023/07/04/12/4323.jsonl...\n",
      "Uploading ground truth data to s3://julianj-mlschool/penguins/monitoring/groundtruth/2023/07/04/12/4353.jsonl...\n",
      "Uploading ground truth data to s3://julianj-mlschool/penguins/monitoring/groundtruth/2023/07/04/12/4423.jsonl...\n",
      "Uploading ground truth data to s3://julianj-mlschool/penguins/monitoring/groundtruth/2023/07/04/12/4453.jsonl...\n",
      "Uploading ground truth data to s3://julianj-mlschool/penguins/monitoring/groundtruth/2023/07/04/12/4523.jsonl...\n",
      "Uploading ground truth data to s3://julianj-mlschool/penguins/monitoring/groundtruth/2023/07/04/12/4553.jsonl...\n",
      "Uploading ground truth data to s3://julianj-mlschool/penguins/monitoring/groundtruth/2023/07/04/12/4624.jsonl...\n",
      "Uploading ground truth data to s3://julianj-mlschool/penguins/monitoring/groundtruth/2023/07/04/12/4654.jsonl...\n",
      "Uploading ground truth data to s3://julianj-mlschool/penguins/monitoring/groundtruth/2023/07/04/12/4724.jsonl...\n",
      "Uploading ground truth data to s3://julianj-mlschool/penguins/monitoring/groundtruth/2023/07/04/12/4754.jsonl...\n",
      "Uploading ground truth data to s3://julianj-mlschool/penguins/monitoring/groundtruth/2023/07/04/12/4824.jsonl...\n",
      "Generating 334 predictions...\n",
      "Uploading ground truth data to s3://julianj-mlschool/penguins/monitoring/groundtruth/2023/07/04/12/4855.jsonl...\n",
      "Uploading ground truth data to s3://julianj-mlschool/penguins/monitoring/groundtruth/2023/07/04/12/4925.jsonl...\n",
      "Uploading ground truth data to s3://julianj-mlschool/penguins/monitoring/groundtruth/2023/07/04/12/4955.jsonl...\n",
      "Uploading ground truth data to s3://julianj-mlschool/penguins/monitoring/groundtruth/2023/07/04/12/5025.jsonl...\n",
      "Uploading ground truth data to s3://julianj-mlschool/penguins/monitoring/groundtruth/2023/07/04/12/5055.jsonl...\n",
      "Uploading ground truth data to s3://julianj-mlschool/penguins/monitoring/groundtruth/2023/07/04/12/5126.jsonl...\n",
      "Uploading ground truth data to s3://julianj-mlschool/penguins/monitoring/groundtruth/2023/07/04/12/5156.jsonl...\n",
      "Uploading ground truth data to s3://julianj-mlschool/penguins/monitoring/groundtruth/2023/07/04/12/5226.jsonl...\n",
      "Uploading ground truth data to s3://julianj-mlschool/penguins/monitoring/groundtruth/2023/07/04/12/5257.jsonl...\n",
      "Uploading ground truth data to s3://julianj-mlschool/penguins/monitoring/groundtruth/2023/07/04/12/5327.jsonl...\n",
      "Uploading ground truth data to s3://julianj-mlschool/penguins/monitoring/groundtruth/2023/07/04/12/5357.jsonl...\n",
      "Generating 334 predictions...\n",
      "Uploading ground truth data to s3://julianj-mlschool/penguins/monitoring/groundtruth/2023/07/04/12/5427.jsonl...\n",
      "Uploading ground truth data to s3://julianj-mlschool/penguins/monitoring/groundtruth/2023/07/04/12/5457.jsonl...\n",
      "Uploading ground truth data to s3://julianj-mlschool/penguins/monitoring/groundtruth/2023/07/04/12/5527.jsonl...\n",
      "Uploading ground truth data to s3://julianj-mlschool/penguins/monitoring/groundtruth/2023/07/04/12/5558.jsonl...\n",
      "Uploading ground truth data to s3://julianj-mlschool/penguins/monitoring/groundtruth/2023/07/04/12/5628.jsonl...\n",
      "Uploading ground truth data to s3://julianj-mlschool/penguins/monitoring/groundtruth/2023/07/04/12/5658.jsonl...\n",
      "Uploading ground truth data to s3://julianj-mlschool/penguins/monitoring/groundtruth/2023/07/04/12/5728.jsonl...\n",
      "Uploading ground truth data to s3://julianj-mlschool/penguins/monitoring/groundtruth/2023/07/04/12/5758.jsonl...\n",
      "Uploading ground truth data to s3://julianj-mlschool/penguins/monitoring/groundtruth/2023/07/04/12/5829.jsonl...\n",
      "Uploading ground truth data to s3://julianj-mlschool/penguins/monitoring/groundtruth/2023/07/04/12/5859.jsonl...\n",
      "Uploading ground truth data to s3://julianj-mlschool/penguins/monitoring/groundtruth/2023/07/04/12/5929.jsonl...\n",
      "Generating 334 predictions...\n",
      "Uploading ground truth data to s3://julianj-mlschool/penguins/monitoring/groundtruth/2023/07/04/12/5959.jsonl...\n",
      "Uploading ground truth data to s3://julianj-mlschool/penguins/monitoring/groundtruth/2023/07/04/13/0029.jsonl...\n",
      "Uploading ground truth data to s3://julianj-mlschool/penguins/monitoring/groundtruth/2023/07/04/13/0100.jsonl...\n",
      "Uploading ground truth data to s3://julianj-mlschool/penguins/monitoring/groundtruth/2023/07/04/13/0130.jsonl...\n",
      "Uploading ground truth data to s3://julianj-mlschool/penguins/monitoring/groundtruth/2023/07/04/13/0200.jsonl...\n",
      "Uploading ground truth data to s3://julianj-mlschool/penguins/monitoring/groundtruth/2023/07/04/13/0230.jsonl...\n",
      "Uploading ground truth data to s3://julianj-mlschool/penguins/monitoring/groundtruth/2023/07/04/13/0301.jsonl...\n",
      "Uploading ground truth data to s3://julianj-mlschool/penguins/monitoring/groundtruth/2023/07/04/13/0331.jsonl...\n",
      "Uploading ground truth data to s3://julianj-mlschool/penguins/monitoring/groundtruth/2023/07/04/13/0401.jsonl...\n",
      "Uploading ground truth data to s3://julianj-mlschool/penguins/monitoring/groundtruth/2023/07/04/13/0431.jsonl...\n",
      "Uploading ground truth data to s3://julianj-mlschool/penguins/monitoring/groundtruth/2023/07/04/13/0501.jsonl...\n",
      "Generating 334 predictions...\n",
      "Uploading ground truth data to s3://julianj-mlschool/penguins/monitoring/groundtruth/2023/07/04/13/0532.jsonl...\n",
      "Uploading ground truth data to s3://julianj-mlschool/penguins/monitoring/groundtruth/2023/07/04/13/0602.jsonl...\n",
      "Uploading ground truth data to s3://julianj-mlschool/penguins/monitoring/groundtruth/2023/07/04/13/0632.jsonl...\n",
      "Uploading ground truth data to s3://julianj-mlschool/penguins/monitoring/groundtruth/2023/07/04/13/0702.jsonl...\n",
      "Uploading ground truth data to s3://julianj-mlschool/penguins/monitoring/groundtruth/2023/07/04/13/0732.jsonl...\n",
      "Uploading ground truth data to s3://julianj-mlschool/penguins/monitoring/groundtruth/2023/07/04/13/0803.jsonl...\n",
      "Uploading ground truth data to s3://julianj-mlschool/penguins/monitoring/groundtruth/2023/07/04/13/0833.jsonl...\n",
      "Uploading ground truth data to s3://julianj-mlschool/penguins/monitoring/groundtruth/2023/07/04/13/0903.jsonl...\n",
      "Uploading ground truth data to s3://julianj-mlschool/penguins/monitoring/groundtruth/2023/07/04/13/0933.jsonl...\n",
      "Uploading ground truth data to s3://julianj-mlschool/penguins/monitoring/groundtruth/2023/07/04/13/1003.jsonl...\n",
      "Uploading ground truth data to s3://julianj-mlschool/penguins/monitoring/groundtruth/2023/07/04/13/1034.jsonl...\n",
      "Uploading ground truth data to s3://julianj-mlschool/penguins/monitoring/groundtruth/2023/07/04/13/1104.jsonl...\n",
      "Generating 334 predictions...\n",
      "Uploading ground truth data to s3://julianj-mlschool/penguins/monitoring/groundtruth/2023/07/04/13/1134.jsonl...\n",
      "Uploading ground truth data to s3://julianj-mlschool/penguins/monitoring/groundtruth/2023/07/04/13/1204.jsonl...\n",
      "Uploading ground truth data to s3://julianj-mlschool/penguins/monitoring/groundtruth/2023/07/04/13/1235.jsonl...\n",
      "Uploading ground truth data to s3://julianj-mlschool/penguins/monitoring/groundtruth/2023/07/04/13/1305.jsonl...\n",
      "Uploading ground truth data to s3://julianj-mlschool/penguins/monitoring/groundtruth/2023/07/04/13/1335.jsonl...\n",
      "Uploading ground truth data to s3://julianj-mlschool/penguins/monitoring/groundtruth/2023/07/04/13/1405.jsonl...\n",
      "Uploading ground truth data to s3://julianj-mlschool/penguins/monitoring/groundtruth/2023/07/04/13/1436.jsonl...\n",
      "Uploading ground truth data to s3://julianj-mlschool/penguins/monitoring/groundtruth/2023/07/04/13/1506.jsonl...\n",
      "Uploading ground truth data to s3://julianj-mlschool/penguins/monitoring/groundtruth/2023/07/04/13/1536.jsonl...\n",
      "Uploading ground truth data to s3://julianj-mlschool/penguins/monitoring/groundtruth/2023/07/04/13/1606.jsonl...\n",
      "Uploading ground truth data to s3://julianj-mlschool/penguins/monitoring/groundtruth/2023/07/04/13/1636.jsonl...\n",
      "Generating 334 predictions...\n",
      "Uploading ground truth data to s3://julianj-mlschool/penguins/monitoring/groundtruth/2023/07/04/13/1707.jsonl...\n",
      "Uploading ground truth data to s3://julianj-mlschool/penguins/monitoring/groundtruth/2023/07/04/13/1737.jsonl...\n",
      "Uploading ground truth data to s3://julianj-mlschool/penguins/monitoring/groundtruth/2023/07/04/13/1807.jsonl...\n",
      "Uploading ground truth data to s3://julianj-mlschool/penguins/monitoring/groundtruth/2023/07/04/13/1837.jsonl...\n",
      "Uploading ground truth data to s3://julianj-mlschool/penguins/monitoring/groundtruth/2023/07/04/13/1907.jsonl...\n",
      "Uploading ground truth data to s3://julianj-mlschool/penguins/monitoring/groundtruth/2023/07/04/13/1938.jsonl...\n",
      "Uploading ground truth data to s3://julianj-mlschool/penguins/monitoring/groundtruth/2023/07/04/13/2008.jsonl...\n",
      "Uploading ground truth data to s3://julianj-mlschool/penguins/monitoring/groundtruth/2023/07/04/13/2038.jsonl...\n",
      "Uploading ground truth data to s3://julianj-mlschool/penguins/monitoring/groundtruth/2023/07/04/13/2108.jsonl...\n",
      "Uploading ground truth data to s3://julianj-mlschool/penguins/monitoring/groundtruth/2023/07/04/13/2139.jsonl...\n",
      "Uploading ground truth data to s3://julianj-mlschool/penguins/monitoring/groundtruth/2023/07/04/13/2209.jsonl...\n",
      "Generating 334 predictions...\n",
      "Uploading ground truth data to s3://julianj-mlschool/penguins/monitoring/groundtruth/2023/07/04/13/2239.jsonl...\n",
      "Uploading ground truth data to s3://julianj-mlschool/penguins/monitoring/groundtruth/2023/07/04/13/2309.jsonl...\n",
      "Uploading ground truth data to s3://julianj-mlschool/penguins/monitoring/groundtruth/2023/07/04/13/2340.jsonl...\n"
     ]
    }
   ],
   "source": [
    "stop_traffic_thread.set()\n",
    "stop_ground_truth_thread.set()\n",
    "\n",
    "traffic_thread.join()\n",
    "groundtruth_thread.join()"
   ]
  },
  {
   "cell_type": "markdown",
   "id": "563fb066-a0a8-47dd-bbff-ca47d5ee967c",
   "metadata": {},
   "source": [
    "Finally, let's delete the endpoint."
   ]
  },
  {
   "cell_type": "code",
   "execution_count": 2,
   "id": "12ec02ec-6de1-4973-b9a0-525c81a5a56e",
   "metadata": {
    "tags": []
   },
   "outputs": [
    {
     "ename": "NameError",
     "evalue": "name 'predictor' is not defined",
     "output_type": "error",
     "traceback": [
      "\u001b[0;31m---------------------------------------------------------------------------\u001b[0m",
      "\u001b[0;31mNameError\u001b[0m                                 Traceback (most recent call last)",
      "\u001b[0;32m<ipython-input-2-9dbbcf45efe1>\u001b[0m in \u001b[0;36m<module>\u001b[0;34m\u001b[0m\n\u001b[0;32m----> 1\u001b[0;31m \u001b[0mpredictor\u001b[0m\u001b[0;34m.\u001b[0m\u001b[0mdelete_endpoint\u001b[0m\u001b[0;34m(\u001b[0m\u001b[0;34m)\u001b[0m\u001b[0;34m\u001b[0m\u001b[0;34m\u001b[0m\u001b[0m\n\u001b[0m",
      "\u001b[0;31mNameError\u001b[0m: name 'predictor' is not defined"
     ]
    }
   ],
   "source": [
    "predictor.delete_endpoint()"
   ]
  },
  {
   "cell_type": "markdown",
   "id": "5a0335ed-643d-4755-a1b2-ce129a8d7730",
   "metadata": {},
   "source": [
    "# Final Clean Up\n",
    "\n",
    "Here we can do a more deep clean up."
   ]
  },
  {
   "cell_type": "code",
   "execution_count": 58,
   "id": "4cda93bb-29f8-47ad-a25f-f7b21df90325",
   "metadata": {
    "tags": []
   },
   "outputs": [],
   "source": [
    "def delete_pipeline(pipeline):\n",
    "    if pipeline:\n",
    "        pipeline.delete()"
   ]
  },
  {
   "cell_type": "code",
   "execution_count": 59,
   "id": "b278e6f6-4001-4865-9ddb-6535c5dff961",
   "metadata": {},
   "outputs": [],
   "source": [
    "delete_pipeline(session1_pipeline)\n",
    "delete_pipeline(session2_pipeline)\n",
    "delete_pipeline(session3_pipeline)\n",
    "delete_pipeline(session4_pipeline)\n",
    "delete_pipeline(session5_pipeline)\n",
    "delete_pipeline(session6_pipeline)"
   ]
  },
  {
   "cell_type": "code",
   "execution_count": 60,
   "id": "a8704c94-7a42-45f9-b006-74832f07cbc9",
   "metadata": {
    "tags": []
   },
   "outputs": [
    {
     "name": "stdout",
     "output_type": "stream",
     "text": [
      "Deleting arn:aws:sagemaker:us-west-2:333878796254:model-package/penguins/50\n",
      "Deleting arn:aws:sagemaker:us-west-2:333878796254:model-package/penguins/49\n",
      "Deleting arn:aws:sagemaker:us-west-2:333878796254:model-package/penguins/48\n",
      "Deleting arn:aws:sagemaker:us-west-2:333878796254:model-package/penguins/47\n",
      "Deleting arn:aws:sagemaker:us-west-2:333878796254:model-package/penguins/46\n",
      "Deleting arn:aws:sagemaker:us-west-2:333878796254:model-package/penguins/45\n",
      "Deleting arn:aws:sagemaker:us-west-2:333878796254:model-package/penguins/44\n",
      "Deleting arn:aws:sagemaker:us-west-2:333878796254:model-package/penguins/43\n",
      "Deleting arn:aws:sagemaker:us-west-2:333878796254:model-package/penguins/42\n",
      "Deleting arn:aws:sagemaker:us-west-2:333878796254:model-package/penguins/41\n",
      "Deleting arn:aws:sagemaker:us-west-2:333878796254:model-package/penguins/40\n",
      "Deleting arn:aws:sagemaker:us-west-2:333878796254:model-package/penguins/39\n",
      "Deleting arn:aws:sagemaker:us-west-2:333878796254:model-package/penguins/38\n",
      "Deleting arn:aws:sagemaker:us-west-2:333878796254:model-package/penguins/37\n",
      "Deleting arn:aws:sagemaker:us-west-2:333878796254:model-package/penguins/36\n",
      "Deleting arn:aws:sagemaker:us-west-2:333878796254:model-package/penguins/35\n",
      "Deleting arn:aws:sagemaker:us-west-2:333878796254:model-package/penguins/34\n",
      "Deleting arn:aws:sagemaker:us-west-2:333878796254:model-package/penguins/33\n",
      "Deleting arn:aws:sagemaker:us-west-2:333878796254:model-package/penguins/32\n",
      "Deleting arn:aws:sagemaker:us-west-2:333878796254:model-package/penguins/31\n",
      "Deleting arn:aws:sagemaker:us-west-2:333878796254:model-package/penguins/30\n",
      "Deleting arn:aws:sagemaker:us-west-2:333878796254:model-package/penguins/29\n",
      "Deleting arn:aws:sagemaker:us-west-2:333878796254:model-package/penguins/28\n",
      "Deleting arn:aws:sagemaker:us-west-2:333878796254:model-package/penguins/27\n",
      "Deleting arn:aws:sagemaker:us-west-2:333878796254:model-package/penguins/26\n",
      "Deleting arn:aws:sagemaker:us-west-2:333878796254:model-package/penguins/25\n",
      "Deleting arn:aws:sagemaker:us-west-2:333878796254:model-package/penguins/24\n",
      "Deleting arn:aws:sagemaker:us-west-2:333878796254:model-package/penguins/23\n",
      "Deleting arn:aws:sagemaker:us-west-2:333878796254:model-package/penguins/22\n",
      "Deleting arn:aws:sagemaker:us-west-2:333878796254:model-package/penguins/21\n",
      "Deleting arn:aws:sagemaker:us-west-2:333878796254:model-package/penguins/20\n",
      "Deleting arn:aws:sagemaker:us-west-2:333878796254:model-package/penguins/19\n",
      "Deleting arn:aws:sagemaker:us-west-2:333878796254:model-package/penguins/18\n",
      "Deleting arn:aws:sagemaker:us-west-2:333878796254:model-package/penguins/17\n",
      "Deleting arn:aws:sagemaker:us-west-2:333878796254:model-package/penguins/16\n",
      "Deleting arn:aws:sagemaker:us-west-2:333878796254:model-package/penguins/15\n",
      "Deleting arn:aws:sagemaker:us-west-2:333878796254:model-package/penguins/14\n",
      "Deleting arn:aws:sagemaker:us-west-2:333878796254:model-package/penguins/13\n",
      "Deleting arn:aws:sagemaker:us-west-2:333878796254:model-package/penguins/12\n",
      "Deleting arn:aws:sagemaker:us-west-2:333878796254:model-package/penguins/11\n",
      "Deleting arn:aws:sagemaker:us-west-2:333878796254:model-package/penguins/10\n",
      "Deleting arn:aws:sagemaker:us-west-2:333878796254:model-package/penguins/9\n",
      "Deleting arn:aws:sagemaker:us-west-2:333878796254:model-package/penguins/8\n",
      "Deleting arn:aws:sagemaker:us-west-2:333878796254:model-package/penguins/7\n",
      "Deleting arn:aws:sagemaker:us-west-2:333878796254:model-package/penguins/6\n",
      "Deleting arn:aws:sagemaker:us-west-2:333878796254:model-package/penguins/5\n",
      "Deleting arn:aws:sagemaker:us-west-2:333878796254:model-package/penguins/4\n",
      "Deleting arn:aws:sagemaker:us-west-2:333878796254:model-package/penguins/3\n",
      "Deleting arn:aws:sagemaker:us-west-2:333878796254:model-package/penguins/2\n",
      "Deleting arn:aws:sagemaker:us-west-2:333878796254:model-package/penguins/1\n"
     ]
    },
    {
     "data": {
      "text/plain": [
       "{'ResponseMetadata': {'RequestId': '11d7d6f5-effe-4de8-b421-c37cf59bbe29',\n",
       "  'HTTPStatusCode': 200,\n",
       "  'HTTPHeaders': {'x-amzn-requestid': '11d7d6f5-effe-4de8-b421-c37cf59bbe29',\n",
       "   'content-type': 'application/x-amz-json-1.1',\n",
       "   'content-length': '0',\n",
       "   'date': 'Tue, 04 Jul 2023 22:04:58 GMT'},\n",
       "  'RetryAttempts': 0}}"
      ]
     },
     "execution_count": 60,
     "metadata": {},
     "output_type": "execute_result"
    }
   ],
   "source": [
    "# Let's delete every model we registered under our model package group\n",
    "for mp in sagemaker_client.list_model_packages(ModelPackageGroupName=model_package_group_name)[\"ModelPackageSummaryList\"]:\n",
    "    print(f\"Deleting {mp['ModelPackageArn']}\")\n",
    "    sagemaker_client.delete_model_package(ModelPackageName=mp[\"ModelPackageArn\"])\n",
    "\n",
    "# We can now delete the model package group.    \n",
    "sagemaker_client.delete_model_package_group(ModelPackageGroupName=model_package_group_name)"
   ]
  },
  {
   "cell_type": "code",
   "execution_count": null,
   "id": "119eb67b-cd5e-458e-845a-6a07e512cf67",
   "metadata": {},
   "outputs": [],
   "source": []
  }
 ],
 "metadata": {
  "availableInstances": [
   {
    "_defaultOrder": 0,
    "_isFastLaunch": true,
    "category": "General purpose",
    "gpuNum": 0,
    "hideHardwareSpecs": false,
    "memoryGiB": 4,
    "name": "ml.t3.medium",
    "vcpuNum": 2
   },
   {
    "_defaultOrder": 1,
    "_isFastLaunch": false,
    "category": "General purpose",
    "gpuNum": 0,
    "hideHardwareSpecs": false,
    "memoryGiB": 8,
    "name": "ml.t3.large",
    "vcpuNum": 2
   },
   {
    "_defaultOrder": 2,
    "_isFastLaunch": false,
    "category": "General purpose",
    "gpuNum": 0,
    "hideHardwareSpecs": false,
    "memoryGiB": 16,
    "name": "ml.t3.xlarge",
    "vcpuNum": 4
   },
   {
    "_defaultOrder": 3,
    "_isFastLaunch": false,
    "category": "General purpose",
    "gpuNum": 0,
    "hideHardwareSpecs": false,
    "memoryGiB": 32,
    "name": "ml.t3.2xlarge",
    "vcpuNum": 8
   },
   {
    "_defaultOrder": 4,
    "_isFastLaunch": true,
    "category": "General purpose",
    "gpuNum": 0,
    "hideHardwareSpecs": false,
    "memoryGiB": 8,
    "name": "ml.m5.large",
    "vcpuNum": 2
   },
   {
    "_defaultOrder": 5,
    "_isFastLaunch": false,
    "category": "General purpose",
    "gpuNum": 0,
    "hideHardwareSpecs": false,
    "memoryGiB": 16,
    "name": "ml.m5.xlarge",
    "vcpuNum": 4
   },
   {
    "_defaultOrder": 6,
    "_isFastLaunch": false,
    "category": "General purpose",
    "gpuNum": 0,
    "hideHardwareSpecs": false,
    "memoryGiB": 32,
    "name": "ml.m5.2xlarge",
    "vcpuNum": 8
   },
   {
    "_defaultOrder": 7,
    "_isFastLaunch": false,
    "category": "General purpose",
    "gpuNum": 0,
    "hideHardwareSpecs": false,
    "memoryGiB": 64,
    "name": "ml.m5.4xlarge",
    "vcpuNum": 16
   },
   {
    "_defaultOrder": 8,
    "_isFastLaunch": false,
    "category": "General purpose",
    "gpuNum": 0,
    "hideHardwareSpecs": false,
    "memoryGiB": 128,
    "name": "ml.m5.8xlarge",
    "vcpuNum": 32
   },
   {
    "_defaultOrder": 9,
    "_isFastLaunch": false,
    "category": "General purpose",
    "gpuNum": 0,
    "hideHardwareSpecs": false,
    "memoryGiB": 192,
    "name": "ml.m5.12xlarge",
    "vcpuNum": 48
   },
   {
    "_defaultOrder": 10,
    "_isFastLaunch": false,
    "category": "General purpose",
    "gpuNum": 0,
    "hideHardwareSpecs": false,
    "memoryGiB": 256,
    "name": "ml.m5.16xlarge",
    "vcpuNum": 64
   },
   {
    "_defaultOrder": 11,
    "_isFastLaunch": false,
    "category": "General purpose",
    "gpuNum": 0,
    "hideHardwareSpecs": false,
    "memoryGiB": 384,
    "name": "ml.m5.24xlarge",
    "vcpuNum": 96
   },
   {
    "_defaultOrder": 12,
    "_isFastLaunch": false,
    "category": "General purpose",
    "gpuNum": 0,
    "hideHardwareSpecs": false,
    "memoryGiB": 8,
    "name": "ml.m5d.large",
    "vcpuNum": 2
   },
   {
    "_defaultOrder": 13,
    "_isFastLaunch": false,
    "category": "General purpose",
    "gpuNum": 0,
    "hideHardwareSpecs": false,
    "memoryGiB": 16,
    "name": "ml.m5d.xlarge",
    "vcpuNum": 4
   },
   {
    "_defaultOrder": 14,
    "_isFastLaunch": false,
    "category": "General purpose",
    "gpuNum": 0,
    "hideHardwareSpecs": false,
    "memoryGiB": 32,
    "name": "ml.m5d.2xlarge",
    "vcpuNum": 8
   },
   {
    "_defaultOrder": 15,
    "_isFastLaunch": false,
    "category": "General purpose",
    "gpuNum": 0,
    "hideHardwareSpecs": false,
    "memoryGiB": 64,
    "name": "ml.m5d.4xlarge",
    "vcpuNum": 16
   },
   {
    "_defaultOrder": 16,
    "_isFastLaunch": false,
    "category": "General purpose",
    "gpuNum": 0,
    "hideHardwareSpecs": false,
    "memoryGiB": 128,
    "name": "ml.m5d.8xlarge",
    "vcpuNum": 32
   },
   {
    "_defaultOrder": 17,
    "_isFastLaunch": false,
    "category": "General purpose",
    "gpuNum": 0,
    "hideHardwareSpecs": false,
    "memoryGiB": 192,
    "name": "ml.m5d.12xlarge",
    "vcpuNum": 48
   },
   {
    "_defaultOrder": 18,
    "_isFastLaunch": false,
    "category": "General purpose",
    "gpuNum": 0,
    "hideHardwareSpecs": false,
    "memoryGiB": 256,
    "name": "ml.m5d.16xlarge",
    "vcpuNum": 64
   },
   {
    "_defaultOrder": 19,
    "_isFastLaunch": false,
    "category": "General purpose",
    "gpuNum": 0,
    "hideHardwareSpecs": false,
    "memoryGiB": 384,
    "name": "ml.m5d.24xlarge",
    "vcpuNum": 96
   },
   {
    "_defaultOrder": 20,
    "_isFastLaunch": false,
    "category": "General purpose",
    "gpuNum": 0,
    "hideHardwareSpecs": true,
    "memoryGiB": 0,
    "name": "ml.geospatial.interactive",
    "supportedImageNames": [
     "sagemaker-geospatial-v1-0"
    ],
    "vcpuNum": 0
   },
   {
    "_defaultOrder": 21,
    "_isFastLaunch": true,
    "category": "Compute optimized",
    "gpuNum": 0,
    "hideHardwareSpecs": false,
    "memoryGiB": 4,
    "name": "ml.c5.large",
    "vcpuNum": 2
   },
   {
    "_defaultOrder": 22,
    "_isFastLaunch": false,
    "category": "Compute optimized",
    "gpuNum": 0,
    "hideHardwareSpecs": false,
    "memoryGiB": 8,
    "name": "ml.c5.xlarge",
    "vcpuNum": 4
   },
   {
    "_defaultOrder": 23,
    "_isFastLaunch": false,
    "category": "Compute optimized",
    "gpuNum": 0,
    "hideHardwareSpecs": false,
    "memoryGiB": 16,
    "name": "ml.c5.2xlarge",
    "vcpuNum": 8
   },
   {
    "_defaultOrder": 24,
    "_isFastLaunch": false,
    "category": "Compute optimized",
    "gpuNum": 0,
    "hideHardwareSpecs": false,
    "memoryGiB": 32,
    "name": "ml.c5.4xlarge",
    "vcpuNum": 16
   },
   {
    "_defaultOrder": 25,
    "_isFastLaunch": false,
    "category": "Compute optimized",
    "gpuNum": 0,
    "hideHardwareSpecs": false,
    "memoryGiB": 72,
    "name": "ml.c5.9xlarge",
    "vcpuNum": 36
   },
   {
    "_defaultOrder": 26,
    "_isFastLaunch": false,
    "category": "Compute optimized",
    "gpuNum": 0,
    "hideHardwareSpecs": false,
    "memoryGiB": 96,
    "name": "ml.c5.12xlarge",
    "vcpuNum": 48
   },
   {
    "_defaultOrder": 27,
    "_isFastLaunch": false,
    "category": "Compute optimized",
    "gpuNum": 0,
    "hideHardwareSpecs": false,
    "memoryGiB": 144,
    "name": "ml.c5.18xlarge",
    "vcpuNum": 72
   },
   {
    "_defaultOrder": 28,
    "_isFastLaunch": false,
    "category": "Compute optimized",
    "gpuNum": 0,
    "hideHardwareSpecs": false,
    "memoryGiB": 192,
    "name": "ml.c5.24xlarge",
    "vcpuNum": 96
   },
   {
    "_defaultOrder": 29,
    "_isFastLaunch": true,
    "category": "Accelerated computing",
    "gpuNum": 1,
    "hideHardwareSpecs": false,
    "memoryGiB": 16,
    "name": "ml.g4dn.xlarge",
    "vcpuNum": 4
   },
   {
    "_defaultOrder": 30,
    "_isFastLaunch": false,
    "category": "Accelerated computing",
    "gpuNum": 1,
    "hideHardwareSpecs": false,
    "memoryGiB": 32,
    "name": "ml.g4dn.2xlarge",
    "vcpuNum": 8
   },
   {
    "_defaultOrder": 31,
    "_isFastLaunch": false,
    "category": "Accelerated computing",
    "gpuNum": 1,
    "hideHardwareSpecs": false,
    "memoryGiB": 64,
    "name": "ml.g4dn.4xlarge",
    "vcpuNum": 16
   },
   {
    "_defaultOrder": 32,
    "_isFastLaunch": false,
    "category": "Accelerated computing",
    "gpuNum": 1,
    "hideHardwareSpecs": false,
    "memoryGiB": 128,
    "name": "ml.g4dn.8xlarge",
    "vcpuNum": 32
   },
   {
    "_defaultOrder": 33,
    "_isFastLaunch": false,
    "category": "Accelerated computing",
    "gpuNum": 4,
    "hideHardwareSpecs": false,
    "memoryGiB": 192,
    "name": "ml.g4dn.12xlarge",
    "vcpuNum": 48
   },
   {
    "_defaultOrder": 34,
    "_isFastLaunch": false,
    "category": "Accelerated computing",
    "gpuNum": 1,
    "hideHardwareSpecs": false,
    "memoryGiB": 256,
    "name": "ml.g4dn.16xlarge",
    "vcpuNum": 64
   },
   {
    "_defaultOrder": 35,
    "_isFastLaunch": false,
    "category": "Accelerated computing",
    "gpuNum": 1,
    "hideHardwareSpecs": false,
    "memoryGiB": 61,
    "name": "ml.p3.2xlarge",
    "vcpuNum": 8
   },
   {
    "_defaultOrder": 36,
    "_isFastLaunch": false,
    "category": "Accelerated computing",
    "gpuNum": 4,
    "hideHardwareSpecs": false,
    "memoryGiB": 244,
    "name": "ml.p3.8xlarge",
    "vcpuNum": 32
   },
   {
    "_defaultOrder": 37,
    "_isFastLaunch": false,
    "category": "Accelerated computing",
    "gpuNum": 8,
    "hideHardwareSpecs": false,
    "memoryGiB": 488,
    "name": "ml.p3.16xlarge",
    "vcpuNum": 64
   },
   {
    "_defaultOrder": 38,
    "_isFastLaunch": false,
    "category": "Accelerated computing",
    "gpuNum": 8,
    "hideHardwareSpecs": false,
    "memoryGiB": 768,
    "name": "ml.p3dn.24xlarge",
    "vcpuNum": 96
   },
   {
    "_defaultOrder": 39,
    "_isFastLaunch": false,
    "category": "Memory Optimized",
    "gpuNum": 0,
    "hideHardwareSpecs": false,
    "memoryGiB": 16,
    "name": "ml.r5.large",
    "vcpuNum": 2
   },
   {
    "_defaultOrder": 40,
    "_isFastLaunch": false,
    "category": "Memory Optimized",
    "gpuNum": 0,
    "hideHardwareSpecs": false,
    "memoryGiB": 32,
    "name": "ml.r5.xlarge",
    "vcpuNum": 4
   },
   {
    "_defaultOrder": 41,
    "_isFastLaunch": false,
    "category": "Memory Optimized",
    "gpuNum": 0,
    "hideHardwareSpecs": false,
    "memoryGiB": 64,
    "name": "ml.r5.2xlarge",
    "vcpuNum": 8
   },
   {
    "_defaultOrder": 42,
    "_isFastLaunch": false,
    "category": "Memory Optimized",
    "gpuNum": 0,
    "hideHardwareSpecs": false,
    "memoryGiB": 128,
    "name": "ml.r5.4xlarge",
    "vcpuNum": 16
   },
   {
    "_defaultOrder": 43,
    "_isFastLaunch": false,
    "category": "Memory Optimized",
    "gpuNum": 0,
    "hideHardwareSpecs": false,
    "memoryGiB": 256,
    "name": "ml.r5.8xlarge",
    "vcpuNum": 32
   },
   {
    "_defaultOrder": 44,
    "_isFastLaunch": false,
    "category": "Memory Optimized",
    "gpuNum": 0,
    "hideHardwareSpecs": false,
    "memoryGiB": 384,
    "name": "ml.r5.12xlarge",
    "vcpuNum": 48
   },
   {
    "_defaultOrder": 45,
    "_isFastLaunch": false,
    "category": "Memory Optimized",
    "gpuNum": 0,
    "hideHardwareSpecs": false,
    "memoryGiB": 512,
    "name": "ml.r5.16xlarge",
    "vcpuNum": 64
   },
   {
    "_defaultOrder": 46,
    "_isFastLaunch": false,
    "category": "Memory Optimized",
    "gpuNum": 0,
    "hideHardwareSpecs": false,
    "memoryGiB": 768,
    "name": "ml.r5.24xlarge",
    "vcpuNum": 96
   },
   {
    "_defaultOrder": 47,
    "_isFastLaunch": false,
    "category": "Accelerated computing",
    "gpuNum": 1,
    "hideHardwareSpecs": false,
    "memoryGiB": 16,
    "name": "ml.g5.xlarge",
    "vcpuNum": 4
   },
   {
    "_defaultOrder": 48,
    "_isFastLaunch": false,
    "category": "Accelerated computing",
    "gpuNum": 1,
    "hideHardwareSpecs": false,
    "memoryGiB": 32,
    "name": "ml.g5.2xlarge",
    "vcpuNum": 8
   },
   {
    "_defaultOrder": 49,
    "_isFastLaunch": false,
    "category": "Accelerated computing",
    "gpuNum": 1,
    "hideHardwareSpecs": false,
    "memoryGiB": 64,
    "name": "ml.g5.4xlarge",
    "vcpuNum": 16
   },
   {
    "_defaultOrder": 50,
    "_isFastLaunch": false,
    "category": "Accelerated computing",
    "gpuNum": 1,
    "hideHardwareSpecs": false,
    "memoryGiB": 128,
    "name": "ml.g5.8xlarge",
    "vcpuNum": 32
   },
   {
    "_defaultOrder": 51,
    "_isFastLaunch": false,
    "category": "Accelerated computing",
    "gpuNum": 1,
    "hideHardwareSpecs": false,
    "memoryGiB": 256,
    "name": "ml.g5.16xlarge",
    "vcpuNum": 64
   },
   {
    "_defaultOrder": 52,
    "_isFastLaunch": false,
    "category": "Accelerated computing",
    "gpuNum": 4,
    "hideHardwareSpecs": false,
    "memoryGiB": 192,
    "name": "ml.g5.12xlarge",
    "vcpuNum": 48
   },
   {
    "_defaultOrder": 53,
    "_isFastLaunch": false,
    "category": "Accelerated computing",
    "gpuNum": 4,
    "hideHardwareSpecs": false,
    "memoryGiB": 384,
    "name": "ml.g5.24xlarge",
    "vcpuNum": 96
   },
   {
    "_defaultOrder": 54,
    "_isFastLaunch": false,
    "category": "Accelerated computing",
    "gpuNum": 8,
    "hideHardwareSpecs": false,
    "memoryGiB": 768,
    "name": "ml.g5.48xlarge",
    "vcpuNum": 192
   },
   {
    "_defaultOrder": 55,
    "_isFastLaunch": false,
    "category": "Accelerated computing",
    "gpuNum": 8,
    "hideHardwareSpecs": false,
    "memoryGiB": 1152,
    "name": "ml.p4d.24xlarge",
    "vcpuNum": 96
   },
   {
    "_defaultOrder": 56,
    "_isFastLaunch": false,
    "category": "Accelerated computing",
    "gpuNum": 8,
    "hideHardwareSpecs": false,
    "memoryGiB": 1152,
    "name": "ml.p4de.24xlarge",
    "vcpuNum": 96
   }
  ],
  "instance_type": "ml.t3.medium",
  "kernelspec": {
   "display_name": "Python 3 (TensorFlow 2.6 Python 3.8 CPU Optimized)",
   "language": "python",
   "name": "python3__SAGEMAKER_INTERNAL__arn:aws:sagemaker:us-west-2:236514542706:image/tensorflow-2.6-cpu-py38-ubuntu20.04-v1"
  },
  "language_info": {
   "codemirror_mode": {
    "name": "ipython",
    "version": 3
   },
   "file_extension": ".py",
   "mimetype": "text/x-python",
   "name": "python",
   "nbconvert_exporter": "python",
   "pygments_lexer": "ipython3",
   "version": "3.8.2"
  },
  "toc-autonumbering": false,
  "toc-showcode": false,
  "toc-showmarkdowntxt": false
 },
 "nbformat": 4,
 "nbformat_minor": 5
}
